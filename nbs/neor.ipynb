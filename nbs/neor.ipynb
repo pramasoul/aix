{
 "cells": [
  {
   "cell_type": "markdown",
   "id": "divine-belarus",
   "metadata": {},
   "source": [
    "# neor - experiments in smart objects to front for neo4j"
   ]
  },
  {
   "cell_type": "markdown",
   "id": "complicated-telephone",
   "metadata": {},
   "source": [
    "* https://docs.python.org/3/howto/descriptor.html#id22"
   ]
  },
  {
   "cell_type": "code",
   "execution_count": 1,
   "id": "narrow-builder",
   "metadata": {},
   "outputs": [],
   "source": [
    "%load_ext autoreload\n",
    "%autoreload 2"
   ]
  },
  {
   "cell_type": "code",
   "execution_count": 2,
   "id": "civic-model",
   "metadata": {},
   "outputs": [
    {
     "name": "stderr",
     "output_type": "stream",
     "text": [
      "/home/jovyan/work/nbs/grex_tasks.py:11: ExperimentalWarning: The configuration may change in the future.\n",
      "  driver.verify_connectivity()\n"
     ]
    }
   ],
   "source": [
    "import neo4j\n",
    "import tools.neotools as nj\n",
    "import grexutils as gu\n",
    "from grex_tasks import add, run_epp_code_strings"
   ]
  },
  {
   "cell_type": "code",
   "execution_count": 3,
   "id": "changed-russian",
   "metadata": {},
   "outputs": [
    {
     "name": "stderr",
     "output_type": "stream",
     "text": [
      "<ipython-input-3-e75ba85668dd>:2: ExperimentalWarning: The configuration may change in the future.\n",
      "  driver.verify_connectivity()\n"
     ]
    },
    {
     "data": {
      "text/plain": [
       "{IPv4Address(('neo4j', 7687)): [{'ttl': 300,\n",
       "   'servers': [{'addresses': ['neo4j:7687'], 'role': 'WRITE'},\n",
       "    {'addresses': ['neo4j:7687'], 'role': 'READ'},\n",
       "    {'addresses': ['neo4j:7687'], 'role': 'ROUTE'}]}]}"
      ]
     },
     "execution_count": 3,
     "metadata": {},
     "output_type": "execute_result"
    }
   ],
   "source": [
    "driver = neo4j.GraphDatabase.driver(\"neo4j://neo4j:7687\", auth=(\"neo4j\", \"test\"))\n",
    "driver.verify_connectivity()"
   ]
  },
  {
   "cell_type": "code",
   "execution_count": 4,
   "id": "vital-marina",
   "metadata": {},
   "outputs": [
    {
     "data": {
      "text/plain": [
       "'7R42cwhPZvhpmEUd51W5xQ'"
      ]
     },
     "execution_count": 4,
     "metadata": {},
     "output_type": "execute_result"
    }
   ],
   "source": [
    "ex_key = gu.get_experiment_key_from_name(driver, name='t3')\n",
    "ex_key"
   ]
  },
  {
   "cell_type": "code",
   "execution_count": 5,
   "id": "blank-direction",
   "metadata": {},
   "outputs": [],
   "source": [
    "class UnikeyedObjectProperty:\n",
    "    def __set_name__(self, owner, attr_name):\n",
    "        #print(owner.__name__)\n",
    "        self.owner = owner\n",
    "        self.attr_name = attr_name\n",
    "        self.fetch_q =\"MATCH (n:%s {unikey: $unikey}) RETURN n.%s as %s\" % (owner.__name__, attr_name, attr_name)\n",
    "        self.store_q = \"\"\n",
    "        \n",
    "    def __get__(self, obj, objtype=None):\n",
    "        return nj.query_read_return_list(obj.driver, self.fetch_q, unikey=obj.unikey)[0][self.attr_name]\n",
    "    \n",
    "    def __set__(self, obj, value):\n",
    "        return"
   ]
  },
  {
   "cell_type": "code",
   "execution_count": 6,
   "id": "found-section",
   "metadata": {},
   "outputs": [],
   "source": [
    "class Experiment:\n",
    "    name = UnikeyedObjectProperty()\n",
    "    ts = UnikeyedObjectProperty()\n",
    "    \n",
    "    def __init__(self, driver, unikey):\n",
    "        self.driver = driver\n",
    "        self.unikey = unikey"
   ]
  },
  {
   "cell_type": "code",
   "execution_count": 7,
   "id": "professional-remains",
   "metadata": {},
   "outputs": [],
   "source": [
    "class Procedure:\n",
    "    name = UnikeyedObjectProperty()\n",
    "    ts = UnikeyedObjectProperty()\n",
    "    code_strings = UnikeyedObjectProperty()\n",
    "    \n",
    "    def __init__(self, driver, unikey):\n",
    "        self.driver = driver\n",
    "        self.unikey = unikey"
   ]
  },
  {
   "cell_type": "code",
   "execution_count": 29,
   "id": "established-stretch",
   "metadata": {},
   "outputs": [],
   "source": [
    "class Parameters:\n",
    "    name = UnikeyedObjectProperty()\n",
    "    ts = UnikeyedObjectProperty()\n",
    "    prepend_code_strings = UnikeyedObjectProperty()\n",
    "    append_code_strings = UnikeyedObjectProperty()\n",
    "    trial = UnikeyedObjectProperty()\n",
    "    \n",
    "    def __init__(self, driver, unikey):\n",
    "        self.driver = driver\n",
    "        self.unikey = unikey"
   ]
  },
  {
   "cell_type": "code",
   "execution_count": 53,
   "id": "hollywood-stanley",
   "metadata": {},
   "outputs": [],
   "source": [
    "class Net:\n",
    "    batches_from_start = UnikeyedObjectProperty()\n",
    "    head = UnikeyedObjectProperty()\n",
    "    ksv = UnikeyedObjectProperty()\n",
    "    loss = UnikeyedObjectProperty()\n",
    "    shorthand = UnikeyedObjectProperty()\n",
    "    ts = UnikeyedObjectProperty()\n",
    "    \n",
    "    def __init__(self, driver, unikey):\n",
    "        self.driver = driver\n",
    "        self.unikey = unikey"
   ]
  },
  {
   "cell_type": "code",
   "execution_count": 54,
   "id": "asian-amsterdam",
   "metadata": {},
   "outputs": [],
   "source": [
    "net_key = 'bkZSa4I-1wvU6xDlexzghQ'\n",
    "net = Net(driver, net_key)"
   ]
  },
  {
   "cell_type": "code",
   "execution_count": 55,
   "id": "amateur-caution",
   "metadata": {},
   "outputs": [
    {
     "data": {
      "text/plain": [
       "('46901af5cc1e8911', '1x8tx8tx3tx3t', 2.4346133939738834, 1615984725090, True)"
      ]
     },
     "execution_count": 55,
     "metadata": {},
     "output_type": "execute_result"
    }
   ],
   "source": [
    "net.ksv, net.shorthand, net.loss, net.ts, net.head"
   ]
  },
  {
   "cell_type": "code",
   "execution_count": 30,
   "id": "fiscal-workplace",
   "metadata": {},
   "outputs": [],
   "source": [
    "proc_key = 'RAVTYeYlXdjVx_1SUlrwHg'"
   ]
  },
  {
   "cell_type": "code",
   "execution_count": 31,
   "id": "hungry-grammar",
   "metadata": {},
   "outputs": [],
   "source": [
    "proc = Procedure(driver, proc_key)"
   ]
  },
  {
   "cell_type": "code",
   "execution_count": 32,
   "id": "veterinary-draft",
   "metadata": {},
   "outputs": [
    {
     "data": {
      "text/plain": [
       "('yet more Train ADCs', 1615861288364)"
      ]
     },
     "execution_count": 32,
     "metadata": {},
     "output_type": "execute_result"
    }
   ],
   "source": [
    "proc.name, proc.ts"
   ]
  },
  {
   "cell_type": "code",
   "execution_count": 33,
   "id": "confused-sphere",
   "metadata": {},
   "outputs": [],
   "source": [
    "ex = Experiment(driver, '7R42cwhPZvhpmEUd51W5xQ')"
   ]
  },
  {
   "cell_type": "code",
   "execution_count": 34,
   "id": "linear-peripheral",
   "metadata": {},
   "outputs": [
    {
     "data": {
      "text/plain": [
       "('t3', 1615778080564)"
      ]
     },
     "execution_count": 34,
     "metadata": {},
     "output_type": "execute_result"
    }
   ],
   "source": [
    "ex.name, ex.ts"
   ]
  },
  {
   "cell_type": "code",
   "execution_count": 35,
   "id": "attended-merit",
   "metadata": {},
   "outputs": [
    {
     "data": {
      "text/plain": [
       "'7R42cwhPZvhpmEUd51W5xQ'"
      ]
     },
     "execution_count": 35,
     "metadata": {},
     "output_type": "execute_result"
    }
   ],
   "source": [
    "ex.unikey"
   ]
  },
  {
   "cell_type": "code",
   "execution_count": 36,
   "id": "latest-agent",
   "metadata": {},
   "outputs": [
    {
     "data": {
      "text/plain": [
       "<neo4j.Neo4jDriver at 0x7f6dc2098430>"
      ]
     },
     "execution_count": 36,
     "metadata": {},
     "output_type": "execute_result"
    }
   ],
   "source": [
    "ex.driver"
   ]
  },
  {
   "cell_type": "code",
   "execution_count": 37,
   "id": "prerequisite-marble",
   "metadata": {},
   "outputs": [],
   "source": [
    "param_key = 'nHJKaTreNkRyE5L4HhUFUQ'"
   ]
  },
  {
   "cell_type": "code",
   "execution_count": 38,
   "id": "earlier-netscape",
   "metadata": {},
   "outputs": [],
   "source": [
    "param = Parameters(driver, param_key)"
   ]
  },
  {
   "cell_type": "code",
   "execution_count": 39,
   "id": "round-credits",
   "metadata": {},
   "outputs": [
    {
     "data": {
      "text/plain": [
       "('go crazy 2',\n",
       " 1615861288920,\n",
       " 2,\n",
       " ['random_seed = 1853412476',\n",
       "  \"trial_number = '2'\",\n",
       "  \"parameters_unikey = 'nHJKaTreNkRyE5L4HhUFUQ'\"],\n",
       " ['net.eps = 5.0'])"
      ]
     },
     "execution_count": 39,
     "metadata": {},
     "output_type": "execute_result"
    }
   ],
   "source": [
    "param.name, param.ts, param.trial, param.prepend_code_strings, param.append_code_strings"
   ]
  },
  {
   "cell_type": "code",
   "execution_count": 40,
   "id": "related-locator",
   "metadata": {},
   "outputs": [],
   "source": [
    "net_key = 'tSa4SW7CYxhFnwLu8_rchg'"
   ]
  },
  {
   "cell_type": "code",
   "execution_count": 43,
   "id": "stock-skiing",
   "metadata": {},
   "outputs": [
    {
     "data": {
      "text/plain": [
       "dict_keys(['loss', 'batches_from_start', 'unikey', 'shorthand', 'ts', 'ksv'])"
      ]
     },
     "execution_count": 43,
     "metadata": {},
     "output_type": "execute_result"
    }
   ],
   "source": [
    "node_type_str = 'net'\n",
    "name = ''\n",
    "q = \"\"\"\n",
    "MATCH (n:%s {unikey: $key})\n",
    "RETURN n\n",
    "\"\"\" % (node_type_str,)\n",
    "nj.query_read_return_list(driver, q, key=net_key)[0]['n'].keys()"
   ]
  },
  {
   "cell_type": "code",
   "execution_count": null,
   "id": "fuzzy-myanmar",
   "metadata": {},
   "outputs": [],
   "source": []
  }
 ],
 "metadata": {
  "kernelspec": {
   "display_name": "Python 3",
   "language": "python",
   "name": "python3"
  },
  "language_info": {
   "codemirror_mode": {
    "name": "ipython",
    "version": 3
   },
   "file_extension": ".py",
   "mimetype": "text/x-python",
   "name": "python",
   "nbconvert_exporter": "python",
   "pygments_lexer": "ipython3",
   "version": "3.8.6"
  }
 },
 "nbformat": 4,
 "nbformat_minor": 5
}
