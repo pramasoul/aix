{
 "cells": [
  {
   "cell_type": "markdown",
   "id": "nutritional-thousand",
   "metadata": {},
   "source": [
    "# neo4j graph fun"
   ]
  },
  {
   "cell_type": "markdown",
   "id": "color-hacker",
   "metadata": {},
   "source": [
    "# Preliminaries"
   ]
  },
  {
   "cell_type": "code",
   "execution_count": 1,
   "id": "structured-withdrawal",
   "metadata": {},
   "outputs": [],
   "source": [
    "%load_ext autoreload\n",
    "%autoreload 2"
   ]
  },
  {
   "cell_type": "code",
   "execution_count": 2,
   "id": "meaningful-familiar",
   "metadata": {},
   "outputs": [],
   "source": [
    "import numpy as np\n",
    "from pprint import pprint\n",
    "import neo4j"
   ]
  },
  {
   "cell_type": "code",
   "execution_count": 3,
   "id": "absent-start",
   "metadata": {},
   "outputs": [],
   "source": [
    "import hashlib\n",
    "from hashlib import sha256"
   ]
  },
  {
   "cell_type": "code",
   "execution_count": 4,
   "id": "sudden-liberal",
   "metadata": {},
   "outputs": [],
   "source": [
    "from functools import lru_cache as cache"
   ]
  },
  {
   "cell_type": "code",
   "execution_count": 5,
   "id": "adult-attitude",
   "metadata": {},
   "outputs": [],
   "source": [
    "import ipywidgets as widgets\n",
    "from nnvis import NetResponsePlot"
   ]
  },
  {
   "cell_type": "code",
   "execution_count": 6,
   "id": "mechanical-stream",
   "metadata": {},
   "outputs": [],
   "source": [
    "from graph_utils_neo4j import NumpyStore\n",
    "from nnbench import Thing"
   ]
  },
  {
   "cell_type": "markdown",
   "id": "chicken-marine",
   "metadata": {},
   "source": [
    "## Connecting"
   ]
  },
  {
   "cell_type": "markdown",
   "id": "coordinate-station",
   "metadata": {},
   "source": [
    "Need to get the `gpu-jupyter` and the `neo4j` docker containers connected. If run bare, something like:\n",
    "\n",
    "    docker network connect gpu-jupyter_default gpu-jupyter \n",
    "    docker network connect gpu-jupyter_default neo4j\n",
    "    docker network inspect gpu-jupyter_default \n",
    "    \n",
    "Docker has better ways than this."
   ]
  },
  {
   "cell_type": "code",
   "execution_count": 7,
   "id": "imperial-pound",
   "metadata": {},
   "outputs": [],
   "source": [
    "driver = neo4j.GraphDatabase.driver(\"neo4j://172.19.0.2:7687\", auth=(\"neo4j\", \"test\"))"
   ]
  },
  {
   "cell_type": "markdown",
   "id": "stone-cookie",
   "metadata": {},
   "source": [
    "### Alive?"
   ]
  },
  {
   "cell_type": "code",
   "execution_count": 8,
   "id": "apparent-proxy",
   "metadata": {},
   "outputs": [
    {
     "name": "stderr",
     "output_type": "stream",
     "text": [
      "<ipython-input-8-b734c674563a>:1: ExperimentalWarning: The configuration may change in the future.\n",
      "  driver.verify_connectivity()\n"
     ]
    },
    {
     "data": {
      "text/plain": [
       "{IPv4Address(('172.19.0.2', 7687)): [{'ttl': 300,\n",
       "   'servers': [{'addresses': ['172.19.0.2:7687'], 'role': 'WRITE'},\n",
       "    {'addresses': ['172.19.0.2:7687'], 'role': 'READ'},\n",
       "    {'addresses': ['172.19.0.2:7687'], 'role': 'ROUTE'}]}]}"
      ]
     },
     "execution_count": 8,
     "metadata": {},
     "output_type": "execute_result"
    }
   ],
   "source": [
    "driver.verify_connectivity()"
   ]
  },
  {
   "cell_type": "markdown",
   "id": "funky-manor",
   "metadata": {},
   "source": [
    "# The Model\n",
    "    Investigation -> Experiment -> multiple ResultDAGs\n",
    "`ResultDAG` is\n",
    "\n",
    "    (netState, params)-[mutation]->(netState, params)-[mutation ...\n",
    "                     +-[mutation]->(netstate, params) ...\n",
    "etc. `mutation` can be a learning trajectory, or an edit.\n",
    "\n",
    "Perhaps `mutation` can be expressed in python.\n",
    "\n",
    "Generally the results of experiments are preferred to be reproducible, but they won't always be, when they import entropy."
   ]
  },
  {
   "cell_type": "markdown",
   "id": "acquired-tucson",
   "metadata": {},
   "source": [
    "## Some neural nets"
   ]
  },
  {
   "cell_type": "code",
   "execution_count": 9,
   "id": "alone-obligation",
   "metadata": {},
   "outputs": [],
   "source": [
    "from nn import Network, Layer, IdentityLayer, AffineLayer, MapLayer\n",
    "from nnbench import NetMaker, NNMEG"
   ]
  },
  {
   "cell_type": "code",
   "execution_count": 10,
   "id": "freelance-touch",
   "metadata": {},
   "outputs": [],
   "source": [
    "mnm = NetMaker(NNMEG)\n",
    "xor_net = mnm('2x2tx1t')\n",
    "adc_net = mnm('1x8tx8tx3t')"
   ]
  },
  {
   "cell_type": "markdown",
   "id": "tutorial-boating",
   "metadata": {},
   "source": [
    "## ... and training data"
   ]
  },
  {
   "cell_type": "code",
   "execution_count": 11,
   "id": "official-favor",
   "metadata": {},
   "outputs": [],
   "source": [
    "xor_training_batch = (np.array([[-0.5, -0.5],\n",
    "                            [-0.5,  0.5],\n",
    "                            [ 0.5,  0.5],\n",
    "                            [ 0.5, -0.5]]),\n",
    "                  np.array([[-0.5],\n",
    "                            [ 0.5],\n",
    "                            [-0.5],\n",
    "                            [ 0.5]]))"
   ]
  },
  {
   "cell_type": "code",
   "execution_count": 12,
   "id": "elect-subscriber",
   "metadata": {},
   "outputs": [],
   "source": [
    "def adc(input):\n",
    "    m = max(0, min(7, int(8*input)))\n",
    "    return np.array([(m>>2)&1, (m>>1)&1, m&1]) * 2 - 1\n",
    "\n",
    "vadc = lambda v: np.array([adc(p) for p in v])\n",
    "#plot_ADC(vadc)"
   ]
  },
  {
   "cell_type": "code",
   "execution_count": 13,
   "id": "defensive-encoding",
   "metadata": {},
   "outputs": [],
   "source": [
    "x = np.arange(0, 1, 1.0/(8*1)).reshape(-1,1) # 1 point in each output region\n",
    "adc_training_batch = (x, vadc(x))"
   ]
  },
  {
   "cell_type": "code",
   "execution_count": 16,
   "id": "collected-upgrade",
   "metadata": {},
   "outputs": [],
   "source": [
    "def data_from_run():\n",
    "    def get_sequence(tx, rv):\n",
    "        for record in tx.run(\"MATCH p=(head:net)-[:LEARNED*]->(tail:net) \"\n",
    "                             \"WHERE NOT ()-[:LEARNED]->(head) \"\n",
    "                             \"AND NOT (tail)-[:LEARNED]->() \"\n",
    "                             \"RETURN \"\n",
    "                             \"head, \"\n",
    "                             \"[x IN nodes(p) | x.ksv] as ksvs, \"\n",
    "                             \"[x IN nodes(p) | x.loss] as losses \"\n",
    "                            ):\n",
    "            rv.head = record['head']\n",
    "            rv.ksvs = record['ksvs']\n",
    "            rv.losses = record['losses']\n",
    "\n",
    "    rv = Thing()\n",
    "    with driver.session() as session:\n",
    "        session.read_transaction(get_sequence, rv)\n",
    "    return rv"
   ]
  },
  {
   "cell_type": "code",
   "execution_count": 17,
   "id": "strategic-schema",
   "metadata": {},
   "outputs": [],
   "source": [
    "run_data = data_from_run()"
   ]
  },
  {
   "cell_type": "code",
   "execution_count": 18,
   "id": "pressed-induction",
   "metadata": {},
   "outputs": [],
   "source": [
    "nps = NumpyStore(driver)"
   ]
  },
  {
   "cell_type": "code",
   "execution_count": 19,
   "id": "finnish-armenia",
   "metadata": {},
   "outputs": [],
   "source": [
    "@cache\n",
    "def sv_from_ksv(ksv):\n",
    "    return nps[ksv]"
   ]
  },
  {
   "cell_type": "code",
   "execution_count": 20,
   "id": "wrapped-population",
   "metadata": {},
   "outputs": [],
   "source": [
    "net = mnm(run_data.head['shorthand'])"
   ]
  },
  {
   "cell_type": "code",
   "execution_count": 21,
   "id": "brown-tanzania",
   "metadata": {},
   "outputs": [
    {
     "data": {
      "application/vnd.jupyter.widget-view+json": {
       "model_id": "bf44469767684245953d7ed65193b0ea",
       "version_major": 2,
       "version_minor": 0
      },
      "text/plain": [
       "Figure(axes=[Axis(label='input', scale=LinearScale()), Axis(label='bits', orientation='vertical', scale=Linear…"
      ]
     },
     "metadata": {},
     "output_type": "display_data"
    }
   ],
   "source": [
    "nrp = NetResponsePlot(net, height='220px', margin=30, title=net.shorthand)\n",
    "nrp.fig"
   ]
  },
  {
   "cell_type": "code",
   "execution_count": null,
   "id": "neutral-reconstruction",
   "metadata": {},
   "outputs": [],
   "source": []
  },
  {
   "cell_type": "code",
   "execution_count": 23,
   "id": "familiar-booth",
   "metadata": {},
   "outputs": [
    {
     "data": {
      "application/vnd.jupyter.widget-view+json": {
       "model_id": "af4caf2bcb934421b0ef03c2c3a3090c",
       "version_major": 2,
       "version_minor": 0
      },
      "text/plain": [
       "interactive(children=(IntSlider(value=0, description='n', max=23), Output()), _dom_classes=('widget-interact',…"
      ]
     },
     "metadata": {},
     "output_type": "display_data"
    }
   ],
   "source": [
    "#svl = [tget(rdl[0]['n.ksv'])] + [tget(rd['nn.ksv']) for rd in rdl]\n",
    "#lossl = [rdl[0]['n.loss']] + [rd['nn.loss'] for rd in rdl]\n",
    "def show_adc_n(n):\n",
    "    nrp(sv_from_ksv(run_data.ksvs[n]))\n",
    "    return run_data.losses[n]\n",
    "#widgets.interact(show_adc_n, x=len(svl))\n",
    "widgets.interact(show_adc_n, n=widgets.IntSlider(min=0, max=len(run_data.ksvs)-1, step=1, value=0));"
   ]
  },
  {
   "cell_type": "markdown",
   "id": "grave-suffering",
   "metadata": {},
   "source": [
    "___"
   ]
  },
  {
   "cell_type": "markdown",
   "id": "incomplete-intelligence",
   "metadata": {},
   "source": [
    "# Scrapyard"
   ]
  },
  {
   "cell_type": "code",
   "execution_count": 24,
   "id": "contemporary-distance",
   "metadata": {},
   "outputs": [
    {
     "ename": "AssertionError",
     "evalue": "Scrapyard below",
     "output_type": "error",
     "traceback": [
      "\u001b[0;31m\u001b[0m",
      "\u001b[0;31mAssertionError\u001b[0mTraceback (most recent call last)",
      "\u001b[0;32m<ipython-input-24-b23fda8c16de>\u001b[0m in \u001b[0;36m<module>\u001b[0;34m\u001b[0m\n\u001b[0;32m----> 1\u001b[0;31m \u001b[0;32massert\u001b[0m \u001b[0;32mFalse\u001b[0m\u001b[0;34m,\u001b[0m \u001b[0;34m\"Scrapyard below\"\u001b[0m\u001b[0;34m\u001b[0m\u001b[0;34m\u001b[0m\u001b[0m\n\u001b[0m",
      "\u001b[0;31mAssertionError\u001b[0m: Scrapyard below"
     ]
    }
   ],
   "source": [
    "assert False, \"Scrapyard below\""
   ]
  },
  {
   "cell_type": "markdown",
   "id": "touched-stack",
   "metadata": {},
   "source": [
    "# Try Queries"
   ]
  },
  {
   "cell_type": "code",
   "execution_count": 14,
   "id": "demanding-folks",
   "metadata": {},
   "outputs": [
    {
     "name": "stdout",
     "output_type": "stream",
     "text": [
      "['1bdcf25bfffd2410', '966b55826105cd96', '8fa5dbeb0a2b71a1', 'd5495f6802b85342', '5e856706a1f52980', 'a527c6ed7e54d6c0', '357e79830534d7b3', 'af68e6458d007d13', 'a206ad679f12a646', '9d3fcbac469b3f46', 'da492f39da1afa6b', 'a4004dd380edcd91', '4717371f664840ce', 'c66a48c842e50787', 'dd388584a1d371c8', 'b4538cb909bf15be', 'dd81fa6c1a6e7bfd', '33cb3d9457a32665', '474e7d2f593623cf', 'b2e81e70d47d3d65', '0ff5746a24e68254', '5d195c1fd53cc8ee', '03404cdac4715bcd', '44a61817ca0c2a67']\n",
      "<class 'neo4j.graph.Path'>\n",
      "['1bdcf25bfffd2410', '966b55826105cd96', '8fa5dbeb0a2b71a1', 'd5495f6802b85342', '5e856706a1f52980', 'a527c6ed7e54d6c0', '357e79830534d7b3', 'af68e6458d007d13', 'a206ad679f12a646', '9d3fcbac469b3f46', 'da492f39da1afa6b', 'a4004dd380edcd91', '4717371f664840ce', 'c66a48c842e50787', 'dd388584a1d371c8', 'b4538cb909bf15be', 'dd81fa6c1a6e7bfd', '33cb3d9457a32665', '474e7d2f593623cf', 'b2e81e70d47d3d65', '0ff5746a24e68254', '5d195c1fd53cc8ee', '03404cdac4715bcd', '44a61817ca0c2a67']\n",
      "1bdcf25bfffd2410 1615314197.4589946 966b55826105cd96\n",
      "966b55826105cd96 1615314198.7318516 8fa5dbeb0a2b71a1\n",
      "8fa5dbeb0a2b71a1 1615314199.0145595 d5495f6802b85342\n",
      "d5495f6802b85342 1615314200.8165932 5e856706a1f52980\n",
      "5e856706a1f52980 1615314202.2923286 a527c6ed7e54d6c0\n",
      "a527c6ed7e54d6c0 1615314207.4000263 357e79830534d7b3\n",
      "357e79830534d7b3 1615314210.3316 af68e6458d007d13\n",
      "af68e6458d007d13 1615314212.650956 a206ad679f12a646\n",
      "a206ad679f12a646 1615314216.766942 9d3fcbac469b3f46\n",
      "9d3fcbac469b3f46 1615314223.6319098 da492f39da1afa6b\n",
      "da492f39da1afa6b 1615314225.9614124 a4004dd380edcd91\n",
      "a4004dd380edcd91 1615314226.0218925 4717371f664840ce\n",
      "4717371f664840ce 1615314228.496771 c66a48c842e50787\n",
      "c66a48c842e50787 1615314233.9649525 dd388584a1d371c8\n",
      "dd388584a1d371c8 1615314240.4652615 b4538cb909bf15be\n",
      "b4538cb909bf15be 1615314248.3377004 dd81fa6c1a6e7bfd\n",
      "dd81fa6c1a6e7bfd 1615314258.1263561 33cb3d9457a32665\n",
      "33cb3d9457a32665 1615314270.3377109 474e7d2f593623cf\n",
      "474e7d2f593623cf 1615314285.5359619 b2e81e70d47d3d65\n",
      "b2e81e70d47d3d65 1615314304.4998128 0ff5746a24e68254\n",
      "0ff5746a24e68254 1615314328.8704016 5d195c1fd53cc8ee\n",
      "5d195c1fd53cc8ee 1615314356.051562 03404cdac4715bcd\n",
      "03404cdac4715bcd 1615314383.7613842 44a61817ca0c2a67\n"
     ]
    }
   ],
   "source": [
    "def get_sequence(tx):\n",
    "    for record in tx.run(\"MATCH p=(head:net)-[:LEARNED*]->(tail:net)\"\n",
    "                         \"WHERE NOT ()-[:LEARNED]->(head)\"\n",
    "                         \"AND NOT (tail)-[:LEARNED]->()\"\n",
    "                         \"RETURN p, [x IN nodes(p) | x.ksv] as ksvs\"):\n",
    "        print(record['ksvs'])\n",
    "        p = record['p']\n",
    "        print(type(p))\n",
    "        print(record['ksvs'])\n",
    "        for r in p.relationships:\n",
    "            print(r.start_node['ksv'], r['ts'], r.end_node['ksv'])\n",
    "\n",
    "with driver.session() as session:\n",
    "    session.read_transaction(get_sequence)"
   ]
  },
  {
   "cell_type": "code",
   "execution_count": 15,
   "id": "under-analyst",
   "metadata": {},
   "outputs": [
    {
     "name": "stdout",
     "output_type": "stream",
     "text": [
      "['1bdcf25bfffd2410', '966b55826105cd96', '8fa5dbeb0a2b71a1', 'd5495f6802b85342', '5e856706a1f52980', 'a527c6ed7e54d6c0', '357e79830534d7b3', 'af68e6458d007d13', 'a206ad679f12a646', '9d3fcbac469b3f46', 'da492f39da1afa6b', 'a4004dd380edcd91', '4717371f664840ce', 'c66a48c842e50787', 'dd388584a1d371c8', 'b4538cb909bf15be', 'dd81fa6c1a6e7bfd', '33cb3d9457a32665', '474e7d2f593623cf', 'b2e81e70d47d3d65', '0ff5746a24e68254', '5d195c1fd53cc8ee', '03404cdac4715bcd', '44a61817ca0c2a67'] [2.717673804175651, 1.8115520632018827, 1.1893921346954908, 0.85914990942073, 0.6100447583247612, 0.4334701657255896, 0.30867629626642257, 0.21927921769064634, 0.16059330568520738, 0.11160215842902874, 0.07664367125731167, 0.051935034821327275, 0.03487607937193718, 0.02552633593010603, 0.018048718874042517, 0.012761088088650719, 0.00902343938129117, 0.00638051464983168, 0.004511650800785589, 0.0031901056789924898, 0.002255666837562358, 0.0015949794115263998, 0.0011761980536661811, 0.0009171033080397184]\n",
      "<Node id=215 labels=frozenset({'net'}) properties={'head': True, 'loss': 2.717673804175651, 'experiment': 'ADC', 'shorthand': '1x8tx8tx3t', 'ksv': '1bdcf25bfffd2410', 'ts': 1615314188.3003428}>\n"
     ]
    }
   ],
   "source": [
    "def get_sequence(tx):\n",
    "    for record in tx.run(\"MATCH p=(head:net)-[:LEARNED*]->(tail:net) \"\n",
    "                         \"WHERE NOT ()-[:LEARNED]->(head) \"\n",
    "                         \"AND NOT (tail)-[:LEARNED]->() \"\n",
    "                         \"RETURN \"\n",
    "                         \"head, \"\n",
    "                         \"[x IN nodes(p) | x.ksv] as ksvs, \"\n",
    "                         \"[x IN nodes(p) | x.loss] as losses \"\n",
    "                        ):\n",
    "        head = record['head']\n",
    "        ksvs = record['ksvs']\n",
    "        losses = record['losses']\n",
    "        print(ksvs, losses)\n",
    "        print(head)\n",
    "        \n",
    "with driver.session() as session:\n",
    "    session.read_transaction(get_sequence)"
   ]
  }
 ],
 "metadata": {
  "kernelspec": {
   "display_name": "Python 3",
   "language": "python",
   "name": "python3"
  },
  "language_info": {
   "codemirror_mode": {
    "name": "ipython",
    "version": 3
   },
   "file_extension": ".py",
   "mimetype": "text/x-python",
   "name": "python",
   "nbconvert_exporter": "python",
   "pygments_lexer": "ipython3",
   "version": "3.8.6"
  }
 },
 "nbformat": 4,
 "nbformat_minor": 5
}
