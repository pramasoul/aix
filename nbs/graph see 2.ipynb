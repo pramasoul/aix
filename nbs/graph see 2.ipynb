{
 "cells": [
  {
   "cell_type": "markdown",
   "id": "aware-atlantic",
   "metadata": {},
   "source": [
    "# neo4j graph fun"
   ]
  },
  {
   "cell_type": "markdown",
   "id": "final-observation",
   "metadata": {},
   "source": [
    "# Preliminaries"
   ]
  },
  {
   "cell_type": "code",
   "execution_count": 1,
   "id": "auburn-assignment",
   "metadata": {},
   "outputs": [],
   "source": [
    "%load_ext autoreload\n",
    "%autoreload 2"
   ]
  },
  {
   "cell_type": "code",
   "execution_count": 2,
   "id": "worse-temple",
   "metadata": {},
   "outputs": [],
   "source": [
    "import numpy as np\n",
    "from pprint import pprint\n",
    "import neo4j"
   ]
  },
  {
   "cell_type": "code",
   "execution_count": 3,
   "id": "romance-period",
   "metadata": {},
   "outputs": [],
   "source": [
    "import hashlib\n",
    "from hashlib import sha256"
   ]
  },
  {
   "cell_type": "code",
   "execution_count": 4,
   "id": "allied-speaking",
   "metadata": {},
   "outputs": [],
   "source": [
    "from functools import lru_cache as cache\n",
    "from collections import defaultdict"
   ]
  },
  {
   "cell_type": "code",
   "execution_count": 5,
   "id": "thrown-arcade",
   "metadata": {},
   "outputs": [],
   "source": [
    "import ipywidgets as widgets\n",
    "from sidecar import Sidecar\n",
    "from nnvis import NetResponsePlot"
   ]
  },
  {
   "cell_type": "code",
   "execution_count": 6,
   "id": "normal-poultry",
   "metadata": {},
   "outputs": [],
   "source": [
    "from graph_utils_neo4j import NumpyStore\n",
    "from nnbench import Thing"
   ]
  },
  {
   "cell_type": "markdown",
   "id": "ancient-target",
   "metadata": {},
   "source": [
    "## Connecting"
   ]
  },
  {
   "cell_type": "markdown",
   "id": "divine-skill",
   "metadata": {},
   "source": [
    "Need to get the `gpu-jupyter` and the `neo4j` docker containers connected. If run bare, something like:\n",
    "\n",
    "    docker network connect gpu-jupyter_default gpu-jupyter \n",
    "    docker network connect gpu-jupyter_default neo4j\n",
    "    docker network inspect gpu-jupyter_default \n",
    "    \n",
    "Docker has better ways than this."
   ]
  },
  {
   "cell_type": "code",
   "execution_count": 7,
   "id": "bigger-jewelry",
   "metadata": {},
   "outputs": [],
   "source": [
    "driver = neo4j.GraphDatabase.driver(\"neo4j://172.19.0.2:7687\", auth=(\"neo4j\", \"test\"))"
   ]
  },
  {
   "cell_type": "markdown",
   "id": "professional-cradle",
   "metadata": {},
   "source": [
    "### Alive?"
   ]
  },
  {
   "cell_type": "code",
   "execution_count": 8,
   "id": "mineral-yield",
   "metadata": {},
   "outputs": [
    {
     "name": "stderr",
     "output_type": "stream",
     "text": [
      "<ipython-input-8-b734c674563a>:1: ExperimentalWarning: The configuration may change in the future.\n",
      "  driver.verify_connectivity()\n"
     ]
    },
    {
     "data": {
      "text/plain": [
       "{IPv4Address(('172.19.0.2', 7687)): [{'ttl': 300,\n",
       "   'servers': [{'addresses': ['172.19.0.2:7687'], 'role': 'WRITE'},\n",
       "    {'addresses': ['172.19.0.2:7687'], 'role': 'READ'},\n",
       "    {'addresses': ['172.19.0.2:7687'], 'role': 'ROUTE'}]}]}"
      ]
     },
     "execution_count": 8,
     "metadata": {},
     "output_type": "execute_result"
    }
   ],
   "source": [
    "driver.verify_connectivity()"
   ]
  },
  {
   "cell_type": "markdown",
   "id": "charitable-elder",
   "metadata": {},
   "source": [
    "# The Model\n",
    "    Investigation -> Experiment -> multiple ResultDAGs\n",
    "`ResultDAG` is\n",
    "\n",
    "    (netState, params)-[mutation]->(netState, params)-[mutation ...\n",
    "                     +-[mutation]->(netstate, params) ...\n",
    "etc. `mutation` can be a learning trajectory, or an edit.\n",
    "\n",
    "Perhaps `mutation` can be expressed in python.\n",
    "\n",
    "Generally the results of experiments are preferred to be reproducible, but they won't always be, when they import entropy."
   ]
  },
  {
   "cell_type": "markdown",
   "id": "progressive-observation",
   "metadata": {},
   "source": [
    "## Some neural nets"
   ]
  },
  {
   "cell_type": "code",
   "execution_count": 9,
   "id": "cross-outreach",
   "metadata": {},
   "outputs": [],
   "source": [
    "from nn import Network, Layer, IdentityLayer, AffineLayer, MapLayer\n",
    "from nnbench import NetMaker, NNMEG"
   ]
  },
  {
   "cell_type": "code",
   "execution_count": 10,
   "id": "stupid-frame",
   "metadata": {},
   "outputs": [],
   "source": [
    "mnm = NetMaker(NNMEG)\n",
    "xor_net = mnm('2x2tx1t')\n",
    "adc_net = mnm('1x8tx8tx3t')"
   ]
  },
  {
   "cell_type": "markdown",
   "id": "satisfactory-catalyst",
   "metadata": {},
   "source": [
    "## ... and training data"
   ]
  },
  {
   "cell_type": "code",
   "execution_count": 11,
   "id": "requested-suffering",
   "metadata": {},
   "outputs": [],
   "source": [
    "xor_training_batch = (np.array([[-0.5, -0.5],\n",
    "                            [-0.5,  0.5],\n",
    "                            [ 0.5,  0.5],\n",
    "                            [ 0.5, -0.5]]),\n",
    "                  np.array([[-0.5],\n",
    "                            [ 0.5],\n",
    "                            [-0.5],\n",
    "                            [ 0.5]]))"
   ]
  },
  {
   "cell_type": "code",
   "execution_count": 12,
   "id": "magnetic-comfort",
   "metadata": {},
   "outputs": [],
   "source": [
    "def adc(input):\n",
    "    m = max(0, min(7, int(8*input)))\n",
    "    return np.array([(m>>2)&1, (m>>1)&1, m&1]) * 2 - 1\n",
    "\n",
    "vadc = lambda v: np.array([adc(p) for p in v])\n",
    "#plot_ADC(vadc)"
   ]
  },
  {
   "cell_type": "code",
   "execution_count": 13,
   "id": "confused-crown",
   "metadata": {},
   "outputs": [],
   "source": [
    "x = np.arange(0, 1, 1.0/(8*1)).reshape(-1,1) # 1 point in each output region\n",
    "adc_training_batch = (x, vadc(x))"
   ]
  },
  {
   "cell_type": "code",
   "execution_count": 14,
   "id": "descending-diagram",
   "metadata": {},
   "outputs": [],
   "source": [
    "def data_from_run():\n",
    "    def get_sequence(tx, rv):\n",
    "        for record in tx.run(\"MATCH p=(head:net)-[:LEARNED*]->(tail:net) \"\n",
    "                             \"WHERE NOT ()-[:LEARNED]->(head) \"\n",
    "                             \"AND NOT (tail)-[:LEARNED]->() \"\n",
    "                             \"RETURN \"\n",
    "                             \"head, \"\n",
    "                             \"[x IN nodes(p) | x.ksv] as ksvs, \"\n",
    "                             \"[x IN nodes(p) | x.loss] as losses \"\n",
    "                            ):\n",
    "            rv.head = record['head']\n",
    "            rv.ksvs = record['ksvs']\n",
    "            rv.losses = record['losses']\n",
    "\n",
    "    rv = Thing\n",
    "    with driver.session() as session:\n",
    "        session.read_transaction(get_sequence, rv)\n",
    "    return rv"
   ]
  },
  {
   "cell_type": "code",
   "execution_count": 15,
   "id": "brave-calcium",
   "metadata": {},
   "outputs": [],
   "source": [
    "def data_from_run():\n",
    "    def get_sequence(tx, rv):\n",
    "        for record in tx.run(\"MATCH p=(head:net)-[:LEARNED*]->(tail:net) \"\n",
    "                             \"WHERE NOT ()-[:LEARNED]->(head) \"\n",
    "                             \"AND NOT (tail)-[:LEARNED]->() \"\n",
    "                             \"RETURN \"\n",
    "                             \"head, \"\n",
    "                             \"[x IN nodes(p) | x.ksv] as ksvs, \"\n",
    "                             \"[x IN nodes(p) | x.loss] as losses \"\n",
    "                            ):\n",
    "            head_ksv = record['head']['ksv']\n",
    "            t = rv[head_ksv]\n",
    "            t.head = record['head']\n",
    "            t.ksvs = record['ksvs']\n",
    "            t.losses = record['losses']\n",
    "\n",
    "    rv = defaultdict(Thing)\n",
    "    with driver.session() as session:\n",
    "        session.read_transaction(get_sequence, rv)\n",
    "    return rv"
   ]
  },
  {
   "cell_type": "code",
   "execution_count": 16,
   "id": "freelance-billion",
   "metadata": {},
   "outputs": [],
   "source": [
    "nps = NumpyStore(driver)\n",
    "\n",
    "@cache\n",
    "def sv_from_ksv(ksv):\n",
    "    return nps[ksv]"
   ]
  },
  {
   "cell_type": "code",
   "execution_count": 38,
   "id": "stupid-ownership",
   "metadata": {},
   "outputs": [],
   "source": [
    "def show_adcs_n(n):\n",
    "    for nrp, thing in zip(nrps, things):\n",
    "        #nrp(sv_from_ksv(thing.ksvs[n]))\n",
    "        try:\n",
    "            ksv = thing.ksvs[n]\n",
    "        except IndexError:\n",
    "            ksv = thing.ksvs[-1]\n",
    "        nrp(sv_from_ksv(ksv))\n",
    "    return [thing.losses[n] for thing in things]"
   ]
  },
  {
   "cell_type": "code",
   "execution_count": 39,
   "id": "optimum-rainbow",
   "metadata": {},
   "outputs": [],
   "source": [
    "run_data = data_from_run()"
   ]
  },
  {
   "cell_type": "code",
   "execution_count": 40,
   "id": "ranging-coordinate",
   "metadata": {},
   "outputs": [],
   "source": [
    "hks, things = (v for v in zip(*run_data.items()))\n",
    "nets = [mnm(t.head['shorthand']) for t in things]\n",
    "nrps = [NetResponsePlot(net, height='220px', margin=30, title=net.shorthand) for net in nets]"
   ]
  },
  {
   "cell_type": "code",
   "execution_count": 41,
   "id": "understood-pointer",
   "metadata": {},
   "outputs": [
    {
     "data": {
      "application/vnd.jupyter.widget-view+json": {
       "model_id": "58e6becdec434f8dabd8ceeb0c776de1",
       "version_major": 2,
       "version_minor": 0
      },
      "text/plain": [
       "interactive(children=(IntSlider(value=0, description='n', max=68), Output()), _dom_classes=('widget-interact',…"
      ]
     },
     "metadata": {},
     "output_type": "display_data"
    },
    {
     "data": {
      "text/plain": [
       "<function __main__.show_adcs_n(n)>"
      ]
     },
     "execution_count": 41,
     "metadata": {},
     "output_type": "execute_result"
    }
   ],
   "source": [
    "grid = widgets.GridspecLayout(5, 2,\n",
    "                      grid_gap='10px',\n",
    "                      justify_content='center',\n",
    "                      align_items='top')\n",
    "\n",
    "nrps = [NetResponsePlot(net, height='220px', margin=30, title=net.shorthand) for net in nets]\n",
    "\n",
    "for i, nrp in enumerate(nrps):\n",
    "    column = i % grid.n_columns\n",
    "    row = i // grid.n_columns\n",
    "    grid[row, column] = nrp.fig\n",
    "\n",
    "frame_w = widgets.IntSlider(min=0,\n",
    "                            max=max(len(t.ksvs) for t in things)-1,\n",
    "                            step=1, value=0)\n",
    "\n",
    "grid[-1,-1] = widgets.VBox((frame_w,))\n",
    "\n",
    "# Skip the grid\n",
    "plots_box = widgets.Box(tuple(nrp.fig for nrp in nrps),\n",
    "                        layout=widgets.Layout(flex_flow='row wrap'))\n",
    "        \n",
    "with Sidecar(title='grid') as gside:\n",
    "    display(plots_box)\n",
    "    \n",
    "widgets.interact(show_adcs_n, n=frame_w)"
   ]
  },
  {
   "cell_type": "markdown",
   "id": "through-adjustment",
   "metadata": {},
   "source": [
    "___"
   ]
  },
  {
   "cell_type": "markdown",
   "id": "surrounded-orientation",
   "metadata": {},
   "source": [
    "# Scrapyard"
   ]
  },
  {
   "cell_type": "code",
   "execution_count": 21,
   "id": "excess-deputy",
   "metadata": {},
   "outputs": [
    {
     "ename": "AssertionError",
     "evalue": "Scrapyard below",
     "output_type": "error",
     "traceback": [
      "\u001b[0;31m\u001b[0m",
      "\u001b[0;31mAssertionError\u001b[0mTraceback (most recent call last)",
      "\u001b[0;32m<ipython-input-21-b23fda8c16de>\u001b[0m in \u001b[0;36m<module>\u001b[0;34m\u001b[0m\n\u001b[0;32m----> 1\u001b[0;31m \u001b[0;32massert\u001b[0m \u001b[0;32mFalse\u001b[0m\u001b[0;34m,\u001b[0m \u001b[0;34m\"Scrapyard below\"\u001b[0m\u001b[0;34m\u001b[0m\u001b[0;34m\u001b[0m\u001b[0m\n\u001b[0m",
      "\u001b[0;31mAssertionError\u001b[0m: Scrapyard below"
     ]
    }
   ],
   "source": [
    "assert False, \"Scrapyard below\""
   ]
  },
  {
   "cell_type": "markdown",
   "id": "inclusive-location",
   "metadata": {},
   "source": [
    "# Try Queries"
   ]
  },
  {
   "cell_type": "code",
   "execution_count": null,
   "id": "neutral-senator",
   "metadata": {},
   "outputs": [],
   "source": [
    "def get_sequence(tx):\n",
    "    for record in tx.run(\"MATCH p=(head:net)-[:LEARNED*]->(tail:net)\"\n",
    "                         \"WHERE NOT ()-[:LEARNED]->(head)\"\n",
    "                         \"AND NOT (tail)-[:LEARNED]->()\"\n",
    "                         \"RETURN p, [x IN nodes(p) | x.ksv] as ksvs\"):\n",
    "        print(record['ksvs'])\n",
    "        p = record['p']\n",
    "        print(type(p))\n",
    "        print(record['ksvs'])\n",
    "        for r in p.relationships:\n",
    "            print(r.start_node['ksv'], r['ts'], r.end_node['ksv'])\n",
    "\n",
    "with driver.session() as session:\n",
    "    session.read_transaction(get_sequence)"
   ]
  },
  {
   "cell_type": "code",
   "execution_count": null,
   "id": "hourly-surgery",
   "metadata": {},
   "outputs": [],
   "source": [
    "def get_sequence(tx):\n",
    "    for record in tx.run(\"MATCH p=(head:net)-[:LEARNED*]->(tail:net) \"\n",
    "                         \"WHERE NOT ()-[:LEARNED]->(head) \"\n",
    "                         \"AND NOT (tail)-[:LEARNED]->() \"\n",
    "                         \"RETURN \"\n",
    "                         \"head, \"\n",
    "                         \"[x IN nodes(p) | x.ksv] as ksvs, \"\n",
    "                         \"[x IN nodes(p) | x.loss] as losses \"\n",
    "                        ):\n",
    "        head = record['head']\n",
    "        ksvs = record['ksvs']\n",
    "        losses = record['losses']\n",
    "        print(ksvs, losses)\n",
    "        print(head)\n",
    "        \n",
    "with driver.session() as session:\n",
    "    session.read_transaction(get_sequence)"
   ]
  },
  {
   "cell_type": "code",
   "execution_count": null,
   "id": "otherwise-appointment",
   "metadata": {},
   "outputs": [],
   "source": [
    "d = defaultdict(Thing)"
   ]
  },
  {
   "cell_type": "code",
   "execution_count": null,
   "id": "angry-batman",
   "metadata": {},
   "outputs": [],
   "source": [
    "d['a'].foo = 3\n",
    "d['b'].bar = lambda x: x*x"
   ]
  },
  {
   "cell_type": "code",
   "execution_count": null,
   "id": "seventh-india",
   "metadata": {},
   "outputs": [],
   "source": [
    "d"
   ]
  },
  {
   "cell_type": "code",
   "execution_count": null,
   "id": "precise-observer",
   "metadata": {},
   "outputs": [],
   "source": [
    "d['b'].bar(3)"
   ]
  },
  {
   "cell_type": "code",
   "execution_count": null,
   "id": "dated-rebate",
   "metadata": {},
   "outputs": [],
   "source": []
  }
 ],
 "metadata": {
  "kernelspec": {
   "display_name": "Python 3",
   "language": "python",
   "name": "python3"
  },
  "language_info": {
   "codemirror_mode": {
    "name": "ipython",
    "version": 3
   },
   "file_extension": ".py",
   "mimetype": "text/x-python",
   "name": "python",
   "nbconvert_exporter": "python",
   "pygments_lexer": "ipython3",
   "version": "3.8.6"
  }
 },
 "nbformat": 4,
 "nbformat_minor": 5
}
