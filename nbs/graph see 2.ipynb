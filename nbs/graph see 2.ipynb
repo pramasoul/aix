{
 "cells": [
  {
   "cell_type": "markdown",
   "id": "endangered-mixture",
   "metadata": {},
   "source": [
    "# graph see 2"
   ]
  },
  {
   "cell_type": "markdown",
   "id": "binary-hypothetical",
   "metadata": {},
   "source": [
    "# Preliminaries"
   ]
  },
  {
   "cell_type": "code",
   "execution_count": 1,
   "id": "healthy-horse",
   "metadata": {},
   "outputs": [],
   "source": [
    "%load_ext autoreload\n",
    "%autoreload 2"
   ]
  },
  {
   "cell_type": "code",
   "execution_count": 2,
   "id": "noble-information",
   "metadata": {},
   "outputs": [],
   "source": [
    "from more_itertools import collapse, flatten, groupby_transform, unique_justseen\n",
    "import numpy as np\n",
    "from operator import itemgetter\n",
    "from pprint import pprint\n",
    "import neo4j\n",
    "import tools.neotools as nj"
   ]
  },
  {
   "cell_type": "code",
   "execution_count": 3,
   "id": "helpful-cherry",
   "metadata": {},
   "outputs": [],
   "source": [
    "import ipywidgets as widgets\n",
    "from sidecar import Sidecar\n",
    "from nnvis import ADCResponsePlot"
   ]
  },
  {
   "cell_type": "code",
   "execution_count": 4,
   "id": "precious-tuner",
   "metadata": {},
   "outputs": [],
   "source": [
    "from graph_utils_neo4j import NumpyStore\n",
    "import grexutils as gu\n",
    "from nnbench import Thing"
   ]
  },
  {
   "cell_type": "markdown",
   "id": "angry-gates",
   "metadata": {},
   "source": [
    "## Connecting"
   ]
  },
  {
   "cell_type": "code",
   "execution_count": 5,
   "id": "agreed-massage",
   "metadata": {},
   "outputs": [
    {
     "name": "stderr",
     "output_type": "stream",
     "text": [
      "<ipython-input-5-e75ba85668dd>:2: ExperimentalWarning: The configuration may change in the future.\n",
      "  driver.verify_connectivity()\n"
     ]
    },
    {
     "data": {
      "text/plain": [
       "{IPv4Address(('neo4j', 7687)): [{'ttl': 300,\n",
       "   'servers': [{'addresses': ['neo4j:7687'], 'role': 'WRITE'},\n",
       "    {'addresses': ['neo4j:7687'], 'role': 'READ'},\n",
       "    {'addresses': ['neo4j:7687'], 'role': 'ROUTE'}]}]}"
      ]
     },
     "execution_count": 5,
     "metadata": {},
     "output_type": "execute_result"
    }
   ],
   "source": [
    "driver = neo4j.GraphDatabase.driver(\"neo4j://neo4j:7687\", auth=(\"neo4j\", \"test\"))\n",
    "driver.verify_connectivity()"
   ]
  },
  {
   "cell_type": "markdown",
   "id": "undefined-newcastle",
   "metadata": {},
   "source": [
    "# The Model\n",
    "    Investigation -> Experiment -> multiple ResultDAGs\n",
    "`ResultDAG` is\n",
    "\n",
    "    (netState, params)-[mutation]->(netState, params)-[mutation ...\n",
    "                     +-[mutation]->(netstate, params) ...\n",
    "etc. `mutation` can be a learning trajectory, or an edit.\n",
    "\n",
    "Perhaps `mutation` can be expressed in python.\n",
    "\n",
    "Generally the results of experiments are preferred to be reproducible, but they won't always be, when they import entropy."
   ]
  },
  {
   "cell_type": "markdown",
   "id": "preliminary-acoustic",
   "metadata": {},
   "source": [
    "## Some neural nets"
   ]
  },
  {
   "cell_type": "code",
   "execution_count": 6,
   "id": "violent-monster",
   "metadata": {},
   "outputs": [],
   "source": [
    "from nn import Network, Layer, IdentityLayer, AffineLayer, MapLayer\n",
    "from nnbench import NetMaker, NNMEG"
   ]
  },
  {
   "cell_type": "code",
   "execution_count": 7,
   "id": "annual-gambling",
   "metadata": {},
   "outputs": [],
   "source": [
    "mnm = NetMaker(NNMEG)\n",
    "xor_net = mnm('2x2tx1t')\n",
    "adc_net = mnm('1x8tx8tx3t')"
   ]
  },
  {
   "cell_type": "markdown",
   "id": "experimental-astrology",
   "metadata": {},
   "source": [
    "## ... and training data"
   ]
  },
  {
   "cell_type": "code",
   "execution_count": 8,
   "id": "ecological-illinois",
   "metadata": {},
   "outputs": [],
   "source": [
    "xor_training_batch = (np.array([[-0.5, -0.5],\n",
    "                            [-0.5,  0.5],\n",
    "                            [ 0.5,  0.5],\n",
    "                            [ 0.5, -0.5]]),\n",
    "                  np.array([[-0.5],\n",
    "                            [ 0.5],\n",
    "                            [-0.5],\n",
    "                            [ 0.5]]))"
   ]
  },
  {
   "cell_type": "code",
   "execution_count": 9,
   "id": "electric-cathedral",
   "metadata": {},
   "outputs": [],
   "source": [
    "def adc(input):\n",
    "    m = max(0, min(7, int(8*input)))\n",
    "    return np.array([(m>>2)&1, (m>>1)&1, m&1]) * 2 - 1\n",
    "\n",
    "vadc = lambda v: np.array([adc(p) for p in v])\n",
    "#plot_ADC(vadc)"
   ]
  },
  {
   "cell_type": "code",
   "execution_count": 10,
   "id": "civil-brook",
   "metadata": {},
   "outputs": [],
   "source": [
    "x = np.arange(0, 1, 1.0/(8*1)).reshape(-1,1) # 1 point in each output region\n",
    "adc_training_batch = (x, vadc(x))"
   ]
  },
  {
   "cell_type": "markdown",
   "id": "controversial-private",
   "metadata": {},
   "source": [
    "# Navigate the data"
   ]
  },
  {
   "cell_type": "code",
   "execution_count": 11,
   "id": "stable-summary",
   "metadata": {},
   "outputs": [],
   "source": [
    "class SMChangeFilter():\n",
    "    def __init__(self, w):\n",
    "        self.w = w\n",
    "        self.val = w.value\n",
    "        #self.counter = 0\n",
    "        \n",
    "    def __call__(self, cb):\n",
    "        self.w.observe(self._on_change, names='value')\n",
    "        self.cb = cb\n",
    "        \n",
    "    def _on_change(self, d):\n",
    "        #self.counter += 1\n",
    "        #print(f\"SMChangeFilter count={self.counter}\")\n",
    "        new_val = d['new']\n",
    "        # De-noise\n",
    "        if len(set(new_val)) == len(new_val):\n",
    "            self.cb(new_val)"
   ]
  },
  {
   "cell_type": "code",
   "execution_count": 20,
   "id": "imported-sewing",
   "metadata": {},
   "outputs": [],
   "source": [
    "class ADCExperimentResultsSelector():\n",
    "    def __init__(self, driver):\n",
    "        self.driver = driver\n",
    "        \n",
    "        exp_w = widgets.Dropdown(\n",
    "            options=sorted(gu.get_experiment_names_keys(driver)),\n",
    "            description='Experiment:',\n",
    "        )\n",
    "\n",
    "        proc_w = widgets.Dropdown(\n",
    "            options = sorted(gu.get_procedure_names_keys_from_experiment_key(driver, exp_w.value)),\n",
    "            description='Procedure:',\n",
    "        )\n",
    "\n",
    "        params_w_starting_options = sorted(gu.parameter_names_keys_from_experiment_and_procedure_keys(driver, exp_w.value, proc_w.value))\n",
    "        params_w = widgets.SelectMultiple(\n",
    "            options=params_w_starting_options,\n",
    "            #value=params_w_starting_options[0], # FIXME: shouldn't this work?\n",
    "            rows=16,\n",
    "            description='Parameters',\n",
    "        )\n",
    "\n",
    "        def on_exp_w_change(d):\n",
    "            proc_w.options = gu.get_procedure_names_keys_from_experiment_key(driver, d['new'])\n",
    "\n",
    "        exp_w.observe(on_exp_w_change, names='value')\n",
    "\n",
    "        def on_proc_w_change(d):\n",
    "            self.params_w.options = \\\n",
    "                sorted(gu.started_parameter_names_keys_from_experiment_and_procedure_keys(driver, exp_w.value,  d['new']))\n",
    "\n",
    "        proc_w.observe(on_proc_w_change, names='value')\n",
    "        \n",
    "        #self.params_w.observe(on_params_w_change, names='value')\n",
    "        params_cf = SMChangeFilter(params_w)\n",
    "\n",
    "        self.params_cf = params_cf\n",
    "        self.exp_w, self.proc_w, self.params_w = exp_w, proc_w, params_w\n",
    "\n",
    "    def __call__(self, cb):\n",
    "        self.params_cf(cb)\n",
    "\n",
    "    def get_widgets(self):\n",
    "        return self.exp_w, self.proc_w, self.params_w\n",
    "\n",
    "    def _repr_html_(self):\n",
    "        # I don't know how to do this\n",
    "        # https://ipython.readthedocs.io/en/stable/api/generated/IPython.display.html\n",
    "        return display(self.get_widgets(), include=('text/html'))"
   ]
  },
  {
   "cell_type": "code",
   "execution_count": 13,
   "id": "confused-grade",
   "metadata": {},
   "outputs": [],
   "source": [
    "nps = NumpyStore(driver)"
   ]
  },
  {
   "cell_type": "code",
   "execution_count": 14,
   "id": "surprising-basement",
   "metadata": {},
   "outputs": [],
   "source": [
    "aers = ADCExperimentResultsSelector(driver)"
   ]
  },
  {
   "cell_type": "code",
   "execution_count": 15,
   "id": "manufactured-stuff",
   "metadata": {},
   "outputs": [],
   "source": [
    "class PrintEnumerated():\n",
    "    def __init__(self, out):\n",
    "        self.out = out\n",
    "        self.ctr = 0\n",
    "        \n",
    "    def __call__(self, v):\n",
    "        self.ctr += 1\n",
    "        with self.out:\n",
    "            print(f\"{self.ctr}: {v}\")"
   ]
  },
  {
   "cell_type": "code",
   "execution_count": 16,
   "id": "comfortable-salmon",
   "metadata": {},
   "outputs": [],
   "source": [
    "output2 = widgets.Output()\n",
    "aers(PrintEnumerated(output2))"
   ]
  },
  {
   "cell_type": "code",
   "execution_count": 17,
   "id": "signal-vulnerability",
   "metadata": {},
   "outputs": [
    {
     "data": {
      "application/vnd.jupyter.widget-view+json": {
       "model_id": "b7252e23a8aa45c79b8dea882a2f55b3",
       "version_major": 2,
       "version_minor": 0
      },
      "text/plain": [
       "Dropdown(description='Experiment:', options=(('t3', '7R42cwhPZvhpmEUd51W5xQ'), ('t4', 'jtsgosW1bfzg3SdgkYLqSw'…"
      ]
     },
     "metadata": {},
     "output_type": "display_data"
    },
    {
     "data": {
      "application/vnd.jupyter.widget-view+json": {
       "model_id": "2e444e74f979494c88a4b53d00331e33",
       "version_major": 2,
       "version_minor": 0
      },
      "text/plain": [
       "Dropdown(description='Procedure:', options=(('Train ADCs', 'j-xrJdlnO71OTXjar2Pe3w'), ('more Train ADCs', 'ryD…"
      ]
     },
     "metadata": {},
     "output_type": "display_data"
    },
    {
     "data": {
      "application/vnd.jupyter.widget-view+json": {
       "model_id": "2e9c26906f8744ca893854ab49433d47",
       "version_major": 2,
       "version_minor": 0
      },
      "text/plain": [
       "SelectMultiple(description='Parameters', options=(('go easy 0', '8iNtNDfhgJhYpF7o-Ied2w'), ('go easy 0', 'GPAC…"
      ]
     },
     "metadata": {},
     "output_type": "display_data"
    },
    {
     "data": {
      "application/vnd.jupyter.widget-view+json": {
       "model_id": "ef70935db4f34cdd986b93607b574ea6",
       "version_major": 2,
       "version_minor": 0
      },
      "text/plain": [
       "Output()"
      ]
     },
     "metadata": {},
     "output_type": "display_data"
    }
   ],
   "source": [
    "display(*aers.get_widgets(), output2)"
   ]
  },
  {
   "cell_type": "code",
   "execution_count": 21,
   "id": "noticed-resort",
   "metadata": {},
   "outputs": [],
   "source": [
    "aers.params_w.rows=16"
   ]
  },
  {
   "cell_type": "code",
   "execution_count": 25,
   "id": "afraid-browser",
   "metadata": {},
   "outputs": [],
   "source": [
    "exp_results = Thing()"
   ]
  },
  {
   "cell_type": "code",
   "execution_count": 26,
   "id": "accredited-momentum",
   "metadata": {},
   "outputs": [],
   "source": [
    "def update_exp_results(parameter_keys):\n",
    "    exp_results.params_keys = parameter_keys\n",
    "    exp_results.params = [gu.Parameters(driver, nps, key) for key in parameter_keys]"
   ]
  },
  {
   "cell_type": "code",
   "execution_count": 27,
   "id": "robust-silence",
   "metadata": {},
   "outputs": [],
   "source": [
    "aers(update_exp_results)"
   ]
  },
  {
   "cell_type": "code",
   "execution_count": 28,
   "id": "attempted-things",
   "metadata": {},
   "outputs": [],
   "source": [
    "def postprocess_trajectory(traj):\n",
    "    if max(traj.etas) > len(traj.etas):\n",
    "        # This one we assume is old and has change_batches swapped with etas. Swap to correct:\n",
    "        t = traj.eta_change_batches\n",
    "        traj.eta_change_batches = traj.etas\n",
    "        traj.etas = t\n",
    "    traj.batches_etas = list(unique_justseen(zip(traj.eta_change_batches, traj.etas), itemgetter(1)))\n",
    "    return traj"
   ]
  },
  {
   "cell_type": "code",
   "execution_count": 32,
   "id": "continuing-passing",
   "metadata": {},
   "outputs": [
    {
     "data": {
      "text/plain": [
       "('go easy 108', 'JJ4KYOVDd0JdaB1ckmweIQ')"
      ]
     },
     "execution_count": 32,
     "metadata": {},
     "output_type": "execute_result"
    }
   ],
   "source": [
    "exp_results.params[0].name, exp_results.params[0].unikey"
   ]
  },
  {
   "cell_type": "code",
   "execution_count": 33,
   "id": "married-concentration",
   "metadata": {},
   "outputs": [],
   "source": [
    "t = postprocess_trajectory(exp_results.params[0].trajectory)"
   ]
  },
  {
   "cell_type": "code",
   "execution_count": 34,
   "id": "successful-rendering",
   "metadata": {},
   "outputs": [
    {
     "data": {
      "text/plain": [
       "[(0, 0.1)]"
      ]
     },
     "execution_count": 34,
     "metadata": {},
     "output_type": "execute_result"
    }
   ],
   "source": [
    "t.batches_etas"
   ]
  },
  {
   "cell_type": "code",
   "execution_count": 35,
   "id": "negative-elephant",
   "metadata": {},
   "outputs": [],
   "source": [
    "from tools.stripchart import Losschart"
   ]
  },
  {
   "cell_type": "code",
   "execution_count": 36,
   "id": "roman-camping",
   "metadata": {},
   "outputs": [
    {
     "data": {
      "application/vnd.jupyter.widget-view+json": {
       "model_id": "b43976f6ac35483e8dd6f0827e4a765d",
       "version_major": 2,
       "version_minor": 0
      },
      "text/plain": [
       "Figure(axes=[Axis(label='batch', num_ticks=4, scale=LinearScale()), Axis(label='loss', num_ticks=4, orientatio…"
      ]
     },
     "metadata": {},
     "output_type": "display_data"
    }
   ],
   "source": [
    "loss_chart = Losschart(1000, height='220px')\n",
    "loss_chart.fig"
   ]
  },
  {
   "cell_type": "code",
   "execution_count": 37,
   "id": "dominant-natural",
   "metadata": {},
   "outputs": [],
   "source": [
    "loss_chart((t.batch_points, t.losses))"
   ]
  },
  {
   "cell_type": "code",
   "execution_count": 51,
   "id": "illegal-lobby",
   "metadata": {},
   "outputs": [],
   "source": [
    "nrps = [ADCResponsePlot(resolution=1/96, height='220px', margin=30, title=p.name)\n",
    "        for p in exp_results.params]"
   ]
  },
  {
   "cell_type": "code",
   "execution_count": 52,
   "id": "thousand-insulin",
   "metadata": {},
   "outputs": [],
   "source": [
    "loss_charts = [Losschart(1_000, height='220px', margin=30, title=p.name)\n",
    "        for p in exp_results.params]"
   ]
  },
  {
   "cell_type": "code",
   "execution_count": 53,
   "id": "threatened-stupid",
   "metadata": {},
   "outputs": [],
   "source": [
    "_ = [lc((p.trajectory.batch_points, p.trajectory.losses)) for lc, p in zip(loss_charts, exp_results.params)]"
   ]
  },
  {
   "cell_type": "code",
   "execution_count": 54,
   "id": "brief-biodiversity",
   "metadata": {},
   "outputs": [],
   "source": [
    "def show_adcs_n(n):\n",
    "    for nrp, par in zip(nrps, exp_results.params):\n",
    "        try:\n",
    "            res = par.results[n]\n",
    "        except IndexError:\n",
    "            res = par.results[-1]\n",
    "        nrp(res.nnet)\n",
    "        nrp.fig.title = f\"{par.name} {res.loss:.3f}\""
   ]
  },
  {
   "cell_type": "code",
   "execution_count": 55,
   "id": "injured-wales",
   "metadata": {},
   "outputs": [],
   "source": [
    "frame_w = widgets.IntSlider(min=0,\n",
    "                            max=max(len(p.results) for p in exp_results.params)-1,\n",
    "                            step=1, value=0)\n",
    "\n",
    "# Skip the grid\n",
    "plots_box = widgets.Box(tuple(flatten(zip((nrp.fig for nrp in nrps), (lc.fig for lc in loss_charts)))),\n",
    "                        layout=widgets.Layout(flex_flow='row wrap',\n",
    "                                             justify_content='space-around'))\n",
    "        \n",
    "with Sidecar(title='ADCs') as side:\n",
    "    display(plots_box)"
   ]
  },
  {
   "cell_type": "code",
   "execution_count": 49,
   "id": "caroline-alfred",
   "metadata": {},
   "outputs": [
    {
     "data": {
      "application/vnd.jupyter.widget-view+json": {
       "model_id": "fd7dc91640c84e72acf83f912fa16658",
       "version_major": 2,
       "version_minor": 0
      },
      "text/plain": [
       "interactive(children=(IntSlider(value=0, description='n', max=69), Output()), _dom_classes=('widget-interact',…"
      ]
     },
     "metadata": {},
     "output_type": "display_data"
    },
    {
     "data": {
      "text/plain": [
       "<function __main__.show_adcs_n(n)>"
      ]
     },
     "execution_count": 49,
     "metadata": {},
     "output_type": "execute_result"
    }
   ],
   "source": [
    "widgets.interact(show_adcs_n, n=frame_w)"
   ]
  },
  {
   "cell_type": "code",
   "execution_count": null,
   "id": "corporate-incident",
   "metadata": {},
   "outputs": [],
   "source": [
    "assert False, \"Pause here\""
   ]
  },
  {
   "cell_type": "markdown",
   "id": "packed-fossil",
   "metadata": {},
   "source": [
    "___"
   ]
  },
  {
   "cell_type": "markdown",
   "id": "verbal-classics",
   "metadata": {},
   "source": [
    "# Scrapyard"
   ]
  },
  {
   "cell_type": "code",
   "execution_count": null,
   "id": "solar-landing",
   "metadata": {},
   "outputs": [],
   "source": [
    "assert False, \"Scrapyard below\""
   ]
  },
  {
   "cell_type": "code",
   "execution_count": null,
   "id": "enhanced-cedar",
   "metadata": {},
   "outputs": [],
   "source": [
    "from functools import lru_cache as cache\n",
    "from collections import defaultdict"
   ]
  },
  {
   "cell_type": "code",
   "execution_count": null,
   "id": "opposite-remedy",
   "metadata": {},
   "outputs": [],
   "source": [
    "import re\n",
    "import time"
   ]
  },
  {
   "cell_type": "code",
   "execution_count": null,
   "id": "biblical-channels",
   "metadata": {},
   "outputs": [],
   "source": [
    "nrps[-1].fig.save_png('go easy 131.png')"
   ]
  },
  {
   "cell_type": "code",
   "execution_count": null,
   "id": "inside-genre",
   "metadata": {},
   "outputs": [],
   "source": [
    "nrps[-1].fig.save_svg('go easy 131.svg')"
   ]
  },
  {
   "cell_type": "code",
   "execution_count": null,
   "id": "sealed-turkish",
   "metadata": {},
   "outputs": [],
   "source": [
    "nps['341ffbe2800325e7']"
   ]
  },
  {
   "cell_type": "code",
   "execution_count": null,
   "id": "christian-lebanon",
   "metadata": {},
   "outputs": [],
   "source": [
    "time.gmtime(0)"
   ]
  },
  {
   "cell_type": "code",
   "execution_count": null,
   "id": "material-wales",
   "metadata": {},
   "outputs": [],
   "source": [
    "time.ctime(1615778080.564)"
   ]
  },
  {
   "cell_type": "code",
   "execution_count": null,
   "id": "agricultural-elizabeth",
   "metadata": {},
   "outputs": [],
   "source": [
    "time.time()"
   ]
  },
  {
   "cell_type": "code",
   "execution_count": null,
   "id": "informational-local",
   "metadata": {},
   "outputs": [],
   "source": [
    "exp_w.value"
   ]
  },
  {
   "cell_type": "code",
   "execution_count": null,
   "id": "dress-teacher",
   "metadata": {},
   "outputs": [],
   "source": [
    "proc_w.options = gu.get_procedure_names_keys_from_experiment_key(driver, exp_w.value)"
   ]
  },
  {
   "cell_type": "code",
   "execution_count": null,
   "id": "worldwide-advocacy",
   "metadata": {},
   "outputs": [],
   "source": [
    "proc_w.options"
   ]
  },
  {
   "cell_type": "code",
   "execution_count": null,
   "id": "helpful-massage",
   "metadata": {},
   "outputs": [],
   "source": [
    "params_w.options = sorted(gu.parameter_names_keys_from_experiment_and_procedure_keys(driver, exp_w.value, proc_w.value))"
   ]
  },
  {
   "cell_type": "code",
   "execution_count": null,
   "id": "growing-cross",
   "metadata": {},
   "outputs": [],
   "source": [
    "def sorted_parameter_names_keys_from_experiment_and_procedure_keys(*args):\n",
    "    import re\n",
    "    def atoi(text):\n",
    "        return int(text) if text.isdigit() else text\n",
    "    \n",
    "    def natural_keys(text):\n",
    "        return [ atoi(c) for c in re.split('(\\d+)',text) ]\n",
    "    \n",
    "    my_list =['Hello1', 'Hello12', 'Hello29', 'Hello2', 'Hello17', 'Hello25']\n",
    "    my_list =['Hello 1', 'Hello 12', 'Hello 29', 'Hello 2', 'Hello 17', 'Hello 25']\n",
    "    my_list.sort(key=natural_keys)\n",
    "    return my_list\n",
    "sorted_parameter_names_keys_from_experiment_and_procedure_keys()"
   ]
  },
  {
   "cell_type": "code",
   "execution_count": null,
   "id": "parliamentary-spank",
   "metadata": {},
   "outputs": [],
   "source": [
    "def sorted_parameter_names_keys_from_experiment_and_procedure_keys(*args):\n",
    "    vl = gu.parameter_names_keys_from_experiment_and_procedure_keys(*args)\n",
    "    vl = [v[0] for v in gu.parameter_names_keys_from_experiment_and_procedure_keys(*args)]\n",
    "    vl.sort(key=lambda t:[(lambda s: s.isdigit() and int(s) or s)(v) for v in re.split('(\\d+)', t[0])])\n",
    "    return vl\n",
    "sorted_parameter_names_keys_from_experiment_and_procedure_keys(driver, exp_w.value, proc_w.value)"
   ]
  },
  {
   "cell_type": "code",
   "execution_count": null,
   "id": "major-gothic",
   "metadata": {},
   "outputs": [],
   "source": [
    "%debug"
   ]
  },
  {
   "cell_type": "code",
   "execution_count": null,
   "id": "elect-grammar",
   "metadata": {},
   "outputs": [],
   "source": [
    "par = gu.Parameters(driver, nps, 'bZQGcrdr1-kqf1ADGZNQJw')"
   ]
  },
  {
   "cell_type": "code",
   "execution_count": null,
   "id": "invalid-spread",
   "metadata": {},
   "outputs": [],
   "source": [
    "par.results[:3]"
   ]
  },
  {
   "cell_type": "code",
   "execution_count": null,
   "id": "potential-discovery",
   "metadata": {},
   "outputs": [],
   "source": [
    "class PrintEnumerated():\n",
    "    def __init__(self, out):\n",
    "        self.out = out\n",
    "        self.ctr = 0\n",
    "        \n",
    "    def __call__(self, v):\n",
    "        self.ctr += 1\n",
    "        with self.out:\n",
    "            print(f\"{self.ctr}: {v}\")"
   ]
  },
  {
   "cell_type": "code",
   "execution_count": null,
   "id": "buried-scenario",
   "metadata": {},
   "outputs": [],
   "source": [
    "output2 = widgets.Output()\n",
    "aers(PrintEnumerated(output2))"
   ]
  },
  {
   "cell_type": "code",
   "execution_count": null,
   "id": "patent-conditioning",
   "metadata": {},
   "outputs": [],
   "source": [
    "exp_results.params_keys, exp_results.params"
   ]
  },
  {
   "cell_type": "code",
   "execution_count": null,
   "id": "discrete-attitude",
   "metadata": {},
   "outputs": [],
   "source": [
    "exp_results.params[0].results"
   ]
  },
  {
   "cell_type": "code",
   "execution_count": null,
   "id": "seasonal-modern",
   "metadata": {},
   "outputs": [],
   "source": [
    "par.name"
   ]
  },
  {
   "cell_type": "code",
   "execution_count": null,
   "id": "departmental-alberta",
   "metadata": {},
   "outputs": [],
   "source": [
    "net = par.results[0].nnet\n",
    "net(np.array([0.7]))"
   ]
  },
  {
   "cell_type": "code",
   "execution_count": null,
   "id": "democratic-teddy",
   "metadata": {},
   "outputs": [],
   "source": [
    "exp_results.params[0].results[0].nnet(np.array([0.7])) "
   ]
  },
  {
   "cell_type": "code",
   "execution_count": null,
   "id": "crude-renaissance",
   "metadata": {},
   "outputs": [],
   "source": [
    "#ADCResponsePlot(title=par.name)(net).fig"
   ]
  },
  {
   "cell_type": "code",
   "execution_count": null,
   "id": "comprehensive-jacksonville",
   "metadata": {},
   "outputs": [],
   "source": [
    "nets = [mnm(t.shorthand) for t in things]\n",
    "nrps = [NetResponsePlot(net, height='220px', margin=30, title=thing.name)\n",
    "        for net, thing in zip(nets, things)]\n",
    "\n",
    "frame_w = widgets.IntSlider(min=0,\n",
    "                            max=max(len(t.ksvs) for t in things)-1,\n",
    "                            step=1, value=0)\n",
    "\n",
    "# Skip the grid\n",
    "plots_box = widgets.Box(tuple(nrp.fig for nrp in nrps),\n",
    "                        layout=widgets.Layout(flex_flow='row wrap',\n",
    "                                             justify_content='space-around'))\n",
    "        \n",
    "with Sidecar(title='grid') as gside:\n",
    "    display(plots_box)\n",
    "    \n",
    "widgets.interact(show_adcs_n, n=frame_w)"
   ]
  },
  {
   "cell_type": "code",
   "execution_count": null,
   "id": "african-pledge",
   "metadata": {},
   "outputs": [],
   "source": []
  },
  {
   "cell_type": "code",
   "execution_count": null,
   "id": "comparative-boring",
   "metadata": {},
   "outputs": [],
   "source": [
    "param = gu.Parameters(driver, 'T33KUugDQrnou2fjKRFHFg')"
   ]
  },
  {
   "cell_type": "code",
   "execution_count": null,
   "id": "hungry-elephant",
   "metadata": {},
   "outputs": [],
   "source": [
    "param.name"
   ]
  },
  {
   "cell_type": "code",
   "execution_count": null,
   "id": "charming-rochester",
   "metadata": {},
   "outputs": [],
   "source": []
  },
  {
   "cell_type": "code",
   "execution_count": null,
   "id": "published-compound",
   "metadata": {},
   "outputs": [],
   "source": [
    "def was_data_from_run():\n",
    "    def get_sequence(tx, rv):\n",
    "        for record in tx.run(\"MATCH p=(head:Net)-[:LEARNED*]->(tail:Net) \"\n",
    "                             \"WHERE NOT ()-[:LEARNED]->(head) \"\n",
    "                             \"AND NOT (tail)-[:LEARNED]->() \"\n",
    "                             \"RETURN \"\n",
    "                             \"head, \"\n",
    "                             \"[x IN nodes(p) | x.ksv] as ksvs, \"\n",
    "                             \"[x IN nodes(p) | x.loss] as losses \"\n",
    "                            ):\n",
    "            rv.head = record['head']\n",
    "            rv.ksvs = record['ksvs']\n",
    "            rv.losses = record['losses']\n",
    "\n",
    "    rv = Thing\n",
    "    with driver.session() as session:\n",
    "        session.read_transaction(get_sequence, rv)\n",
    "    return rv"
   ]
  },
  {
   "cell_type": "code",
   "execution_count": null,
   "id": "postal-aging",
   "metadata": {},
   "outputs": [],
   "source": [
    "def was_parameter_names_keys_from_experiment_and_procedure_names(ex_name, proc_name):\n",
    "    q = \"\"\"\n",
    "MATCH (e:Experiment {name: $ex_name})\n",
    "-[:INCLUDES]->(proc:Procedure {name: $proc_name})\n",
    "-[:INCORPORATES]->(par:Parameters)\n",
    "RETURN par.name as name, par.unikey as key\n",
    "\"\"\"\n",
    "    return [(r['name'], r['key']) for r in \n",
    "            nj.query_read_yield(driver, q, ex_name=ex_name, proc_name=proc_name)]"
   ]
  },
  {
   "cell_type": "code",
   "execution_count": null,
   "id": "hawaiian-experiment",
   "metadata": {},
   "outputs": [],
   "source": [
    "def data_from_run(procedure_unikey):\n",
    "    q = \"\"\"\n",
    "MATCH (par:Parameters  {unikey: $key})-[:configures]->(head:Net)\n",
    "MATCH p=(head)-[:LEARNED*]->(tail:Net)\n",
    "WHERE NOT (tail)-[:LEARNED]->()\n",
    "RETURN \n",
    "    head.shorthand as shorthand,\n",
    "    [x IN nodes(p) | x.ksv] as ksvs,\n",
    "    [x IN nodes(p) | x.loss] as losses\n",
    "\"\"\"\n",
    "    r = nj.query_read_return_list(driver, q, key=procedure_unikey)\n",
    "    return dict(r[0])"
   ]
  },
  {
   "cell_type": "code",
   "execution_count": null,
   "id": "handy-george",
   "metadata": {},
   "outputs": [],
   "source": [
    "#data_from_run('MSBTDgD7m87O3xMIV3FIXA')"
   ]
  },
  {
   "cell_type": "code",
   "execution_count": null,
   "id": "together-proxy",
   "metadata": {},
   "outputs": [],
   "source": [
    "def data_from_experiment_and_procedure_names(ex_name, proc_name):\n",
    "    q = \"\"\"\n",
    "MATCH (e:Experiment {name: $ex_name})\n",
    "-[:INCLUDES]->(proc:Procedure {name: $proc_name})\n",
    "-[:INCORPORATES]->(par:Parameters)\n",
    "-[:CONFIGURES]->(head:Net)\n",
    "MATCH p=(head)-[:LEARNED*]->(tail:Net)\n",
    "WHERE NOT (tail)-[:LEARNED]->()\n",
    "RETURN \n",
    "    par.name as name,\n",
    "    head.shorthand as shorthand,\n",
    "    [x IN nodes(p) | x.ksv] as ksvs,\n",
    "    [x IN nodes(p) | x.loss] as losses\n",
    "ORDER BY name\n",
    "\"\"\"\n",
    "    return [Thing(**dict(r)) for r in nj.query_read_yield(driver, q, ex_name=ex_name, proc_name=proc_name)]"
   ]
  },
  {
   "cell_type": "code",
   "execution_count": null,
   "id": "specified-addition",
   "metadata": {},
   "outputs": [],
   "source": [
    "def data_from_parameter_keys(key_list):\n",
    "    q = \"\"\"\n",
    "MATCH (par:Parameters)\n",
    "-[:CONFIGURES]->(head:Net)\n",
    "WHERE par.unikey IN $key_list\n",
    "MATCH p=(head)-[:LEARNED*]->(tail:Net)\n",
    "WHERE NOT (tail)-[:LEARNED]->()\n",
    "RETURN \n",
    "    par.name as name,\n",
    "    head.shorthand as shorthand,\n",
    "    [x IN nodes(p) | x.ksv] as ksvs,\n",
    "    [x IN nodes(p) | x.loss] as losses\n",
    "ORDER BY name\n",
    "\"\"\"\n",
    "    return [Thing(**dict(r)) for r in nj.query_read_yield(driver, q, key_list=key_list)]"
   ]
  },
  {
   "cell_type": "code",
   "execution_count": null,
   "id": "thick-invalid",
   "metadata": {},
   "outputs": [],
   "source": [
    "data_from_parameter_keys(['C2dHgYX4OgdDzpauvNbnIA', 'CRaYV7K8fmyoCALM9n33VQ'])"
   ]
  },
  {
   "cell_type": "code",
   "execution_count": null,
   "id": "narrow-wrong",
   "metadata": {},
   "outputs": [],
   "source": [
    "def ix_or_default(seq, ix, default):\n",
    "    try:\n",
    "        return seq[ix]\n",
    "    except IndexError:\n",
    "        return default"
   ]
  },
  {
   "cell_type": "code",
   "execution_count": null,
   "id": "chronic-dealing",
   "metadata": {},
   "outputs": [],
   "source": [
    "def show_adcs_n(n):\n",
    "    for nrp, thing in zip(nrps, things):\n",
    "        nrp(sv_from_ksv(ix_or_default(thing.ksvs, n, thing.ksvs[-1])))\n",
    "    return [ix_or_default(thing.losses, n, 0) for thing in things]"
   ]
  },
  {
   "cell_type": "markdown",
   "id": "willing-ethics",
   "metadata": {},
   "source": [
    "## UI"
   ]
  },
  {
   "cell_type": "code",
   "execution_count": null,
   "id": "substantial-update",
   "metadata": {},
   "outputs": [],
   "source": [
    "exp_w = widgets.Dropdown(\n",
    "    #options=[('One', 1), ('Two', 2), ('Three', 3)],\n",
    "    options=sorted(gu.get_experiment_names_keys(driver)),\n",
    "    #value=2,\n",
    "    description='Experiment:',\n",
    "    disabled=False,\n",
    ")"
   ]
  },
  {
   "cell_type": "code",
   "execution_count": null,
   "id": "invalid-triangle",
   "metadata": {},
   "outputs": [],
   "source": [
    "proc_w = widgets.Dropdown(\n",
    "    options = sorted(gu.get_procedure_names_keys_from_experiment_key(driver, exp_w.value)),\n",
    "    description='Procedure:',\n",
    "    disabled=False,\n",
    ")"
   ]
  },
  {
   "cell_type": "code",
   "execution_count": null,
   "id": "coordinate-mathematics",
   "metadata": {},
   "outputs": [],
   "source": [
    "params_w = widgets.SelectMultiple(\n",
    "    #options=[('Apples', 1), ('Bananas', 2), ('Cherries', 3), ('Dates', 4)],\n",
    "    #value=(1, 3),\n",
    "    options=sorted(gu.parameter_names_keys_from_experiment_and_procedure_keys(driver, exp_w.value, proc_w.value)),\n",
    "    rows=8,\n",
    "    description='Parameters',\n",
    "    disabled=False\n",
    ")"
   ]
  },
  {
   "cell_type": "code",
   "execution_count": null,
   "id": "fantastic-complexity",
   "metadata": {},
   "outputs": [],
   "source": [
    "def update_things(v):\n",
    "    global things\n",
    "    things = data_from_parameter_keys(list(v))"
   ]
  },
  {
   "cell_type": "code",
   "execution_count": null,
   "id": "charitable-bachelor",
   "metadata": {},
   "outputs": [],
   "source": [
    "cf(update_things)"
   ]
  },
  {
   "cell_type": "code",
   "execution_count": null,
   "id": "adjusted-glenn",
   "metadata": {},
   "outputs": [],
   "source": [
    "%debug"
   ]
  },
  {
   "cell_type": "code",
   "execution_count": null,
   "id": "funky-stocks",
   "metadata": {},
   "outputs": [],
   "source": []
  }
 ],
 "metadata": {
  "kernelspec": {
   "display_name": "Python 3",
   "language": "python",
   "name": "python3"
  },
  "language_info": {
   "codemirror_mode": {
    "name": "ipython",
    "version": 3
   },
   "file_extension": ".py",
   "mimetype": "text/x-python",
   "name": "python",
   "nbconvert_exporter": "python",
   "pygments_lexer": "ipython3",
   "version": "3.8.6"
  }
 },
 "nbformat": 4,
 "nbformat_minor": 5
}
