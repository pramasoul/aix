{
 "cells": [
  {
   "cell_type": "markdown",
   "id": "enhanced-democracy",
   "metadata": {},
   "source": [
    "# graph see 2"
   ]
  },
  {
   "cell_type": "markdown",
   "id": "distant-species",
   "metadata": {},
   "source": [
    "# Preliminaries"
   ]
  },
  {
   "cell_type": "code",
   "execution_count": null,
   "id": "overhead-banking",
   "metadata": {},
   "outputs": [],
   "source": [
    "%load_ext autoreload\n",
    "%autoreload 2"
   ]
  },
  {
   "cell_type": "code",
   "execution_count": null,
   "id": "departmental-quick",
   "metadata": {},
   "outputs": [],
   "source": [
    "import numpy as np\n",
    "from pprint import pprint\n",
    "import neo4j\n",
    "import tools.neotools as nj"
   ]
  },
  {
   "cell_type": "code",
   "execution_count": null,
   "id": "according-physics",
   "metadata": {},
   "outputs": [],
   "source": [
    "import hashlib\n",
    "from hashlib import sha256"
   ]
  },
  {
   "cell_type": "code",
   "execution_count": null,
   "id": "acquired-graph",
   "metadata": {},
   "outputs": [],
   "source": [
    "from functools import lru_cache as cache\n",
    "from collections import defaultdict"
   ]
  },
  {
   "cell_type": "code",
   "execution_count": null,
   "id": "spatial-hybrid",
   "metadata": {},
   "outputs": [],
   "source": [
    "import ipywidgets as widgets\n",
    "from sidecar import Sidecar\n",
    "from nnvis import NetResponsePlot"
   ]
  },
  {
   "cell_type": "code",
   "execution_count": null,
   "id": "practical-appeal",
   "metadata": {},
   "outputs": [],
   "source": [
    "from graph_utils_neo4j import NumpyStore\n",
    "from nnbench import Thing"
   ]
  },
  {
   "cell_type": "markdown",
   "id": "czech-smile",
   "metadata": {},
   "source": [
    "## Connecting"
   ]
  },
  {
   "cell_type": "code",
   "execution_count": null,
   "id": "surprised-beginning",
   "metadata": {},
   "outputs": [],
   "source": [
    "driver = neo4j.GraphDatabase.driver(\"neo4j://neo4j:7687\", auth=(\"neo4j\", \"test\"))"
   ]
  },
  {
   "cell_type": "markdown",
   "id": "younger-check",
   "metadata": {},
   "source": [
    "### Alive?"
   ]
  },
  {
   "cell_type": "code",
   "execution_count": null,
   "id": "offshore-spectrum",
   "metadata": {},
   "outputs": [],
   "source": [
    "driver.verify_connectivity()"
   ]
  },
  {
   "cell_type": "markdown",
   "id": "ultimate-garlic",
   "metadata": {},
   "source": [
    "# The Model\n",
    "    Investigation -> Experiment -> multiple ResultDAGs\n",
    "`ResultDAG` is\n",
    "\n",
    "    (netState, params)-[mutation]->(netState, params)-[mutation ...\n",
    "                     +-[mutation]->(netstate, params) ...\n",
    "etc. `mutation` can be a learning trajectory, or an edit.\n",
    "\n",
    "Perhaps `mutation` can be expressed in python.\n",
    "\n",
    "Generally the results of experiments are preferred to be reproducible, but they won't always be, when they import entropy."
   ]
  },
  {
   "cell_type": "markdown",
   "id": "thousand-anthropology",
   "metadata": {},
   "source": [
    "## Some neural nets"
   ]
  },
  {
   "cell_type": "code",
   "execution_count": null,
   "id": "unusual-calvin",
   "metadata": {},
   "outputs": [],
   "source": [
    "from nn import Network, Layer, IdentityLayer, AffineLayer, MapLayer\n",
    "from nnbench import NetMaker, NNMEG"
   ]
  },
  {
   "cell_type": "code",
   "execution_count": null,
   "id": "inclusive-donna",
   "metadata": {},
   "outputs": [],
   "source": [
    "mnm = NetMaker(NNMEG)\n",
    "xor_net = mnm('2x2tx1t')\n",
    "adc_net = mnm('1x8tx8tx3t')"
   ]
  },
  {
   "cell_type": "markdown",
   "id": "honest-renewal",
   "metadata": {},
   "source": [
    "## ... and training data"
   ]
  },
  {
   "cell_type": "code",
   "execution_count": null,
   "id": "periodic-february",
   "metadata": {},
   "outputs": [],
   "source": [
    "xor_training_batch = (np.array([[-0.5, -0.5],\n",
    "                            [-0.5,  0.5],\n",
    "                            [ 0.5,  0.5],\n",
    "                            [ 0.5, -0.5]]),\n",
    "                  np.array([[-0.5],\n",
    "                            [ 0.5],\n",
    "                            [-0.5],\n",
    "                            [ 0.5]]))"
   ]
  },
  {
   "cell_type": "code",
   "execution_count": null,
   "id": "accomplished-petersburg",
   "metadata": {},
   "outputs": [],
   "source": [
    "def adc(input):\n",
    "    m = max(0, min(7, int(8*input)))\n",
    "    return np.array([(m>>2)&1, (m>>1)&1, m&1]) * 2 - 1\n",
    "\n",
    "vadc = lambda v: np.array([adc(p) for p in v])\n",
    "#plot_ADC(vadc)"
   ]
  },
  {
   "cell_type": "code",
   "execution_count": null,
   "id": "communist-intent",
   "metadata": {},
   "outputs": [],
   "source": [
    "x = np.arange(0, 1, 1.0/(8*1)).reshape(-1,1) # 1 point in each output region\n",
    "adc_training_batch = (x, vadc(x))"
   ]
  },
  {
   "cell_type": "code",
   "execution_count": null,
   "id": "major-formula",
   "metadata": {},
   "outputs": [],
   "source": [
    "def data_from_run():\n",
    "    def get_sequence(tx, rv):\n",
    "        for record in tx.run(\"MATCH p=(head:net)-[:LEARNED*]->(tail:net) \"\n",
    "                             \"WHERE NOT ()-[:LEARNED]->(head) \"\n",
    "                             \"AND NOT (tail)-[:LEARNED]->() \"\n",
    "                             \"RETURN \"\n",
    "                             \"head, \"\n",
    "                             \"[x IN nodes(p) | x.ksv] as ksvs, \"\n",
    "                             \"[x IN nodes(p) | x.loss] as losses \"\n",
    "                            ):\n",
    "            rv.head = record['head']\n",
    "            rv.ksvs = record['ksvs']\n",
    "            rv.losses = record['losses']\n",
    "\n",
    "    rv = Thing\n",
    "    with driver.session() as session:\n",
    "        session.read_transaction(get_sequence, rv)\n",
    "    return rv"
   ]
  },
  {
   "cell_type": "code",
   "execution_count": null,
   "id": "inside-stanford",
   "metadata": {},
   "outputs": [],
   "source": [
    "def parameter_names_keys_from_experiment_and_procedure_names(ex_name, proc_name):\n",
    "    q = \"\"\"\n",
    "MATCH (e:Experiment {name: $ex_name})\n",
    "-[:includes]->(proc:Procedure {name: $proc_name})\n",
    "-[:incorporates]->(par:Parameters)\n",
    "RETURN par.name as name, par.unikey as key\n",
    "\"\"\"\n",
    "    return [(r['name'], r['key']) for r in \n",
    "            nj.query_read_yield(driver, q, ex_name=ex_name, proc_name=proc_name)]"
   ]
  },
  {
   "cell_type": "code",
   "execution_count": null,
   "id": "unnecessary-restaurant",
   "metadata": {},
   "outputs": [],
   "source": [
    "parameter_names_keys_from_experiment_and_procedure_names('t2', 'Train ADCs')"
   ]
  },
  {
   "cell_type": "code",
   "execution_count": null,
   "id": "statewide-concentrate",
   "metadata": {},
   "outputs": [],
   "source": [
    "def data_from_run(procedure_unikey):\n",
    "    q = \"\"\"\n",
    "MATCH (par:Parameters  {unikey: $key})-[:configures]->(head:net)\n",
    "MATCH p=(head)-[:LEARNED*]->(tail:net)\n",
    "WHERE NOT (tail)-[:LEARNED]->()\n",
    "RETURN \n",
    "    head.shorthand as shorthand,\n",
    "    [x IN nodes(p) | x.ksv] as ksvs,\n",
    "    [x IN nodes(p) | x.loss] as losses\n",
    "\"\"\"\n",
    "    r = nj.query_read_return_list(driver, q, key=procedure_unikey)\n",
    "    return dict(r[0])"
   ]
  },
  {
   "cell_type": "code",
   "execution_count": null,
   "id": "baking-sense",
   "metadata": {},
   "outputs": [],
   "source": [
    "#data_from_run('MSBTDgD7m87O3xMIV3FIXA')"
   ]
  },
  {
   "cell_type": "code",
   "execution_count": null,
   "id": "developed-audit",
   "metadata": {},
   "outputs": [],
   "source": [
    "def data_from_experiment_and_procedure_names(ex_name, proc_name):\n",
    "    q = \"\"\"\n",
    "MATCH (e:Experiment {name: $ex_name})\n",
    "-[:includes]->(proc:Procedure {name: $proc_name})\n",
    "-[:incorporates]->(par:Parameters)\n",
    "-[:configures]->(head:net)\n",
    "MATCH p=(head)-[:LEARNED*]->(tail:net)\n",
    "WHERE NOT (tail)-[:LEARNED]->()\n",
    "RETURN \n",
    "    par.name as name,\n",
    "    head.shorthand as shorthand,\n",
    "    [x IN nodes(p) | x.ksv] as ksvs,\n",
    "    [x IN nodes(p) | x.loss] as losses\n",
    "ORDER BY name\n",
    "\"\"\"\n",
    "    return [Thing(**dict(r)) for r in nj.query_read_yield(driver, q, ex_name=ex_name, proc_name=proc_name)]"
   ]
  },
  {
   "cell_type": "code",
   "execution_count": null,
   "id": "waiting-savannah",
   "metadata": {},
   "outputs": [],
   "source": [
    "nps = NumpyStore(driver)\n",
    "\n",
    "@cache\n",
    "def sv_from_ksv(ksv):\n",
    "    return nps[ksv]"
   ]
  },
  {
   "cell_type": "code",
   "execution_count": null,
   "id": "macro-corruption",
   "metadata": {},
   "outputs": [],
   "source": [
    "def ix_or_default(seq, ix, default):\n",
    "    try:\n",
    "        return seq[ix]\n",
    "    except IndexError:\n",
    "        return default"
   ]
  },
  {
   "cell_type": "code",
   "execution_count": null,
   "id": "internal-cisco",
   "metadata": {},
   "outputs": [],
   "source": [
    "def show_adcs_n(n):\n",
    "    for nrp, thing in zip(nrps, things):\n",
    "        nrp(sv_from_ksv(ix_or_default(thing.ksvs, n, thing.ksvs[-1])))\n",
    "    return [ix_or_default(thing.losses, n, 0) for thing in things]"
   ]
  },
  {
   "cell_type": "code",
   "execution_count": null,
   "id": "aquatic-republic",
   "metadata": {},
   "outputs": [],
   "source": [
    "things = data_from_experiment_and_procedure_names('t2', 'Train ADCs')"
   ]
  },
  {
   "cell_type": "code",
   "execution_count": null,
   "id": "hollow-motor",
   "metadata": {},
   "outputs": [],
   "source": [
    "nets = [mnm(t.shorthand) for t in things]\n",
    "nrps = [NetResponsePlot(net, height='220px', margin=30, title=thing.name)\n",
    "        for net, thing in zip(nets, things)]\n",
    "\n",
    "frame_w = widgets.IntSlider(min=0,\n",
    "                            max=max(len(t.ksvs) for t in things)-1,\n",
    "                            step=1, value=0)\n",
    "\n",
    "# Skip the grid\n",
    "plots_box = widgets.Box(tuple(nrp.fig for nrp in nrps),\n",
    "                        layout=widgets.Layout(flex_flow='row wrap',\n",
    "                                             justify_content='space-around'))\n",
    "        \n",
    "with Sidecar(title='grid') as gside:\n",
    "    display(plots_box)\n",
    "    \n",
    "widgets.interact(show_adcs_n, n=frame_w)"
   ]
  },
  {
   "cell_type": "markdown",
   "id": "divided-validation",
   "metadata": {},
   "source": [
    "___"
   ]
  },
  {
   "cell_type": "markdown",
   "id": "sublime-wound",
   "metadata": {},
   "source": [
    "# Scrapyard"
   ]
  },
  {
   "cell_type": "code",
   "execution_count": null,
   "id": "graphic-provider",
   "metadata": {},
   "outputs": [],
   "source": [
    "assert False, \"Scrapyard below\""
   ]
  }
 ],
 "metadata": {
  "kernelspec": {
   "display_name": "Python 3",
   "language": "python",
   "name": "python3"
  },
  "language_info": {
   "codemirror_mode": {
    "name": "ipython",
    "version": 3
   },
   "file_extension": ".py",
   "mimetype": "text/x-python",
   "name": "python",
   "nbconvert_exporter": "python",
   "pygments_lexer": "ipython3",
   "version": "3.8.6"
  }
 },
 "nbformat": 4,
 "nbformat_minor": 5
}
