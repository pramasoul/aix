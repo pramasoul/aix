{
 "cells": [
  {
   "cell_type": "markdown",
   "id": "editorial-brick",
   "metadata": {},
   "source": [
    "# Image Processing\n",
    "Ways to do it in JupyterLab"
   ]
  },
  {
   "cell_type": "code",
   "execution_count": null,
   "id": "supported-camera",
   "metadata": {},
   "outputs": [],
   "source": [
    "import IPython.display"
   ]
  },
  {
   "cell_type": "code",
   "execution_count": null,
   "id": "aggressive-purpose",
   "metadata": {},
   "outputs": [],
   "source": [
    "?IPython.display.Image"
   ]
  },
  {
   "cell_type": "markdown",
   "id": "universal-adams",
   "metadata": {},
   "source": [
    "## display.Image can't take raw data"
   ]
  },
  {
   "cell_type": "code",
   "execution_count": null,
   "id": "approved-proceeding",
   "metadata": {},
   "outputs": [],
   "source": [
    "import numpy as np\n",
    "import IPython\n",
    "IPython.display.Image(np.arange(16*16))"
   ]
  },
  {
   "cell_type": "code",
   "execution_count": null,
   "id": "experimental-branch",
   "metadata": {},
   "outputs": [],
   "source": [
    "IPython.display.Image(np.arange(16*16, dtype='uint8').reshape(16,16))"
   ]
  },
  {
   "cell_type": "markdown",
   "id": "internal-given",
   "metadata": {},
   "source": [
    "Inspecting the HTML in the browser, we find\n",
    "`<img src=\"data:image/png;base64,AAECAwQFB` ... `f4+fr7/P3+/w==\n",
    "\">`\n",
    "\n",
    "It expects the data in the constructor to be `PNG` it seems"
   ]
  },
  {
   "cell_type": "markdown",
   "id": "cheap-zimbabwe",
   "metadata": {},
   "source": [
    "## Make a `PNG` image in-memory"
   ]
  },
  {
   "cell_type": "code",
   "execution_count": null,
   "id": "large-european",
   "metadata": {},
   "outputs": [],
   "source": [
    "import PIL"
   ]
  },
  {
   "cell_type": "code",
   "execution_count": null,
   "id": "emerging-slide",
   "metadata": {},
   "outputs": [],
   "source": [
    "PIL.__version__"
   ]
  },
  {
   "cell_type": "markdown",
   "id": "impaired-bedroom",
   "metadata": {},
   "source": [
    "### PIL does late loading of its `Image` class:"
   ]
  },
  {
   "cell_type": "code",
   "execution_count": null,
   "id": "brutal-favorite",
   "metadata": {},
   "outputs": [],
   "source": [
    "try:\n",
    "    PIL.Image\n",
    "except AttributeError as e:\n",
    "    print(e)"
   ]
  },
  {
   "cell_type": "markdown",
   "id": "declared-liberia",
   "metadata": {},
   "source": [
    "This makes it available:"
   ]
  },
  {
   "cell_type": "code",
   "execution_count": null,
   "id": "cutting-yesterday",
   "metadata": {},
   "outputs": [],
   "source": [
    "from PIL import Image as PILImage"
   ]
  },
  {
   "cell_type": "code",
   "execution_count": null,
   "id": "breathing-great",
   "metadata": {},
   "outputs": [],
   "source": [
    "PIL.Image"
   ]
  },
  {
   "cell_type": "markdown",
   "id": "silent-webmaster",
   "metadata": {},
   "source": [
    "### Make a PIL Image from `numpy` array"
   ]
  },
  {
   "cell_type": "code",
   "execution_count": null,
   "id": "likely-security",
   "metadata": {},
   "outputs": [],
   "source": [
    "img_1 = PIL.Image.fromarray(np.arange(16*16, dtype='uint8').reshape(16,16))"
   ]
  },
  {
   "cell_type": "markdown",
   "id": "intellectual-afternoon",
   "metadata": {},
   "source": [
    "PIL doesn't expose in-memory format conversion. but python can capture it:"
   ]
  },
  {
   "cell_type": "code",
   "execution_count": null,
   "id": "pharmaceutical-dutch",
   "metadata": {},
   "outputs": [],
   "source": [
    "from io import BytesIO\n",
    "t_png = BytesIO()\n",
    "img_1.save(t_png, format=\"png\")"
   ]
  },
  {
   "cell_type": "code",
   "execution_count": null,
   "id": "adjusted-colleague",
   "metadata": {},
   "outputs": [],
   "source": [
    "t_png.getbuffer()"
   ]
  },
  {
   "cell_type": "code",
   "execution_count": null,
   "id": "comfortable-filing",
   "metadata": {},
   "outputs": [],
   "source": [
    "t_di = IPython.display.Image(t_png.getbuffer())\n",
    "t_di"
   ]
  },
  {
   "cell_type": "code",
   "execution_count": null,
   "id": "necessary-south",
   "metadata": {},
   "outputs": [],
   "source": [
    "display(t_di)"
   ]
  },
  {
   "cell_type": "code",
   "execution_count": null,
   "id": "bibliographic-criminal",
   "metadata": {},
   "outputs": [],
   "source": [
    "t2_di = IPython.display.Image(t_png.getbuffer(), width=64, height=32)\n",
    "t2_di"
   ]
  },
  {
   "cell_type": "code",
   "execution_count": null,
   "id": "analyzed-sheep",
   "metadata": {},
   "outputs": [],
   "source": [
    "img_2 = PIL.Image.fromarray(np.arange(16*16*3, dtype='uint8').reshape(16,16,3))\n",
    "img_2.getbands()"
   ]
  },
  {
   "cell_type": "code",
   "execution_count": null,
   "id": "martial-simple",
   "metadata": {},
   "outputs": [],
   "source": [
    "t2_png = BytesIO()\n",
    "img_2.save(t2_png, format=\"png\")"
   ]
  },
  {
   "cell_type": "code",
   "execution_count": null,
   "id": "generous-brass",
   "metadata": {},
   "outputs": [],
   "source": [
    "t2_di = IPython.display.Image(t2_png.getbuffer(), width=64)"
   ]
  },
  {
   "cell_type": "code",
   "execution_count": null,
   "id": "muslim-sharp",
   "metadata": {},
   "outputs": [],
   "source": [
    "t2_di"
   ]
  },
  {
   "cell_type": "code",
   "execution_count": null,
   "id": "tutorial-transport",
   "metadata": {},
   "outputs": [],
   "source": [
    "np.arange(0,6,2, dtype='uint8') * 100"
   ]
  },
  {
   "cell_type": "code",
   "execution_count": null,
   "id": "chemical-render",
   "metadata": {},
   "outputs": [],
   "source": [
    "ramp = np.arange(12*16, dtype='uint8').reshape(12,-1)\n",
    "ramp.shape"
   ]
  },
  {
   "cell_type": "code",
   "execution_count": null,
   "id": "virgin-wrestling",
   "metadata": {},
   "outputs": [],
   "source": [
    "tcramp = np.array([ramp, 2*ramp, 3*ramp])\n",
    "tcramp.shape"
   ]
  },
  {
   "cell_type": "code",
   "execution_count": null,
   "id": "authentic-provincial",
   "metadata": {},
   "outputs": [],
   "source": [
    "rtcramp = np.moveaxis(tcramp, 0, -1)\n",
    "rtcramp.shape"
   ]
  },
  {
   "cell_type": "code",
   "execution_count": null,
   "id": "polish-controversy",
   "metadata": {},
   "outputs": [],
   "source": [
    "img_3 = PIL.Image.fromarray(rtcramp)\n",
    "img_3.getbands(), img_3.size"
   ]
  },
  {
   "cell_type": "code",
   "execution_count": null,
   "id": "seasonal-sweet",
   "metadata": {},
   "outputs": [],
   "source": [
    "t3_png = BytesIO()\n",
    "img_3.save(t3_png, format=\"png\")"
   ]
  },
  {
   "cell_type": "code",
   "execution_count": null,
   "id": "warming-portsmouth",
   "metadata": {},
   "outputs": [],
   "source": [
    "t3_di = IPython.display.Image(t3_png.getbuffer())"
   ]
  },
  {
   "cell_type": "code",
   "execution_count": null,
   "id": "assigned-biotechnology",
   "metadata": {},
   "outputs": [],
   "source": [
    "t3_di"
   ]
  },
  {
   "cell_type": "code",
   "execution_count": null,
   "id": "sweet-wichita",
   "metadata": {},
   "outputs": [],
   "source": [
    "rtcramp[0,5]"
   ]
  },
  {
   "cell_type": "code",
   "execution_count": null,
   "id": "durable-destiny",
   "metadata": {},
   "outputs": [],
   "source": [
    "def d_image_from_pil_image(pim, **kwargs):\n",
    "    b = BytesIO()\n",
    "    pim.save(b, format=\"png\")\n",
    "    return IPython.display.Image(b.getbuffer(), **kwargs)"
   ]
  },
  {
   "cell_type": "code",
   "execution_count": null,
   "id": "precise-former",
   "metadata": {},
   "outputs": [],
   "source": [
    "def dimage_from_array(a, **kwargs):\n",
    "    b = BytesIO()\n",
    "    PIL.Image.fromarray(a).save(b, format=\"png\")\n",
    "    return IPython.display.Image(b.getbuffer(), **kwargs)"
   ]
  },
  {
   "cell_type": "code",
   "execution_count": null,
   "id": "criminal-observation",
   "metadata": {},
   "outputs": [],
   "source": [
    "dimage_from_array(rtcramp)"
   ]
  },
  {
   "cell_type": "code",
   "execution_count": null,
   "id": "diverse-retrieval",
   "metadata": {},
   "outputs": [],
   "source": [
    "image = PIL.Image.fromarray(rtcramp)\n",
    "image = image.convert('P', palette=PIL.Image.ADAPTIVE, colors=256)\n",
    "d_image_from_pil_image(image, width=256)"
   ]
  },
  {
   "cell_type": "markdown",
   "id": "unlikely-milan",
   "metadata": {},
   "source": [
    "Some CSS modifiers for `img` tags:\n",
    "\n",
    "    img {\n",
    "      image-rendering: auto;\n",
    "      image-rendering: crisp-edges;\n",
    "      image-rendering: pixelated;\n",
    "    }"
   ]
  },
  {
   "cell_type": "markdown",
   "id": "different-ethernet",
   "metadata": {},
   "source": [
    "Can do it in the tag, e.g\n",
    "\n",
    "    <img\n",
    "         style=\"image-rendering: pixelated;\"\n",
    "         width=\"100\" height=\"100\"\n",
    "         src=\"data:image/png;base64,iVBORw0KGgoAAAA....Ik2kAAAAASUVORK5CYII=\">"
   ]
  },
  {
   "cell_type": "code",
   "execution_count": null,
   "id": "arranged-bronze",
   "metadata": {},
   "outputs": [],
   "source": [
    "d_image_from_pil_image(image, width=256, metadata={'style': 'image-rendering: pixelated'})"
   ]
  },
  {
   "cell_type": "code",
   "execution_count": null,
   "id": "excited-thanks",
   "metadata": {},
   "outputs": [],
   "source": [
    "from IPython.display import HTML"
   ]
  },
  {
   "cell_type": "code",
   "execution_count": null,
   "id": "purple-chile",
   "metadata": {},
   "outputs": [],
   "source": [
    "html = \"\"\"<img \n",
    "         style=\"image-rendering: pixelated;\"\n",
    "         width=\"200\" height=\"200\"\n",
    "         src=\"data:image/png;base64,iVBORw0KGgoAAAANSUhEUgAAABAAAAAMCAIAAADkharWAAAAJElEQVR4nGNkYGBgZGImAQkoGJCkgWW4asBnxFDxA6UaUBQAAOdQCN0ipdGmAAAAAElFTkSuQmCC\n",
    "\">\"\"\"\n",
    "\n",
    "HTML(html)"
   ]
  },
  {
   "cell_type": "code",
   "execution_count": null,
   "id": "ready-rainbow",
   "metadata": {},
   "outputs": [],
   "source": [
    "di = dimage_from_array(rtcramp)"
   ]
  },
  {
   "cell_type": "code",
   "execution_count": null,
   "id": "quick-police",
   "metadata": {},
   "outputs": [],
   "source": [
    "di._repr_png_()"
   ]
  },
  {
   "cell_type": "code",
   "execution_count": null,
   "id": "annual-archive",
   "metadata": {},
   "outputs": [],
   "source": [
    "img_tag_template = \\\n",
    "\"\"\"<img alt=\"{alt}\"\n",
    "        style=\"image-rendering: pixelated;\"\n",
    "        width=\"{width}\" height=\"{height}\"\n",
    "        src=\"data:image/png;base64,{rad64_png}\">\"\"\""
   ]
  },
  {
   "cell_type": "code",
   "execution_count": null,
   "id": "tough-belfast",
   "metadata": {},
   "outputs": [],
   "source": [
    "kwargs = {'alt': \"a test image\",\n",
    "          'unused': 0,\n",
    "          'width': 320,\n",
    "          'height': 240,\n",
    "          'rad64_png': di._repr_png_()}\n",
    "HTML(img_tag_template.format(**kwargs))"
   ]
  },
  {
   "cell_type": "markdown",
   "id": "instant-marriage",
   "metadata": {},
   "source": [
    "## Using matplotlib"
   ]
  },
  {
   "cell_type": "code",
   "execution_count": null,
   "id": "alpha-waterproof",
   "metadata": {},
   "outputs": [],
   "source": []
  },
  {
   "cell_type": "code",
   "execution_count": null,
   "id": "offensive-prototype",
   "metadata": {},
   "outputs": [],
   "source": [
    "import matplotlib.pyplot as plt\n",
    "plt.imshow(rtcramp)\n",
    "plt.show()"
   ]
  },
  {
   "cell_type": "code",
   "execution_count": null,
   "id": "tutorial-diamond",
   "metadata": {},
   "outputs": [],
   "source": [
    "plt.matshow(rtcramp, fignum=5)\n",
    "plt.show()"
   ]
  },
  {
   "cell_type": "code",
   "execution_count": null,
   "id": "professional-shelf",
   "metadata": {},
   "outputs": [],
   "source": [
    "plt.matshow(rtcramp*2, fignum=5)\n",
    "plt.show()"
   ]
  },
  {
   "cell_type": "markdown",
   "id": "hydraulic-bride",
   "metadata": {},
   "source": [
    "# Visualizing neural nets"
   ]
  },
  {
   "cell_type": "code",
   "execution_count": null,
   "id": "designed-iraqi",
   "metadata": {},
   "outputs": [],
   "source": [
    "from nn import Network, Layer, IdentityLayer, AffineLayer, MapLayer"
   ]
  },
  {
   "cell_type": "code",
   "execution_count": null,
   "id": "figured-compound",
   "metadata": {},
   "outputs": [],
   "source": [
    "net = Network()\n",
    "net.extend(AffineLayer(8,8))\n",
    "net.extend(MapLayer(np.tanh, lambda d: 1.0 - np.tanh(d)**2))\n",
    "net.extend(AffineLayer(8,3))\n",
    "net.extend(MapLayer(np.tanh, lambda d: 1.0 - np.tanh(d)**2))"
   ]
  },
  {
   "cell_type": "code",
   "execution_count": null,
   "id": "comprehensive-cologne",
   "metadata": {},
   "outputs": [],
   "source": [
    "net.state_vector()"
   ]
  },
  {
   "cell_type": "code",
   "execution_count": null,
   "id": "crucial-october",
   "metadata": {},
   "outputs": [],
   "source": [
    "net.layers"
   ]
  },
  {
   "cell_type": "code",
   "execution_count": null,
   "id": "involved-bookmark",
   "metadata": {},
   "outputs": [],
   "source": [
    "plt.matshow(net.layers[0].M)\n",
    "plt.show()"
   ]
  },
  {
   "cell_type": "code",
   "execution_count": null,
   "id": "brave-array",
   "metadata": {},
   "outputs": [],
   "source": [
    "import matplotlib\n",
    "#?matplotlib.axes.Axes.imshow"
   ]
  },
  {
   "cell_type": "code",
   "execution_count": null,
   "id": "every-nebraska",
   "metadata": {},
   "outputs": [],
   "source": [
    "[plt.matshow(np.concatenate((M, np.atleast_2d(b)), axis=0))\n",
    "        for M, b in ((l.M, l.b) for l in net.layers if hasattr(l, 'M'))]"
   ]
  },
  {
   "cell_type": "markdown",
   "id": "voluntary-lambda",
   "metadata": {},
   "source": [
    "# `bqplot.GridHeatMap` as framework"
   ]
  },
  {
   "cell_type": "code",
   "execution_count": null,
   "id": "black-prevention",
   "metadata": {},
   "outputs": [],
   "source": [
    "import numpy as np\n",
    "from IPython.display import display\n",
    "from bqplot import *\n",
    "\n",
    "np.random.seed(0)\n",
    "data = np.random.randn(5,5)\n",
    "col_sc = ColorScale()\n",
    "grid_map = GridHeatMap(color=data, scales={'color': col_sc}, \n",
    "                       interactions={'click': 'select'},\n",
    "                       selected_style={'stroke': 'blue', 'stroke-width': 3})\n",
    "figure=Figure(marks=[grid_map], padding_y=0.0, min_aspect_ratio=1, max_aspect_ratio=1)\n",
    "\n",
    "from ipywidgets import Output\n",
    "out = Output()\n",
    "@out.capture()\n",
    "def print_event(self, target):\n",
    "    print(target)\n",
    "    \n",
    "# test\n",
    "print_event(1, 'test output')\n",
    "grid_map.on_element_click(print_event)\n",
    "\n",
    "display(figure)\n",
    "display(out)"
   ]
  },
  {
   "cell_type": "code",
   "execution_count": null,
   "id": "prerequisite-vacation",
   "metadata": {},
   "outputs": [],
   "source": [
    "grid_map.color = np.random.randn(6,5)"
   ]
  },
  {
   "cell_type": "code",
   "execution_count": null,
   "id": "boolean-contest",
   "metadata": {},
   "outputs": [],
   "source": [
    "[plt.matshow(np.concatenate((M, np.atleast_2d(b)), axis=0))\n",
    "        for M, b in ((l.M, l.b) for l in net.layers if hasattr(l, 'M'))]"
   ]
  },
  {
   "cell_type": "markdown",
   "id": "tracked-riding",
   "metadata": {},
   "source": [
    "---"
   ]
  },
  {
   "cell_type": "markdown",
   "id": "useful-culture",
   "metadata": {},
   "source": [
    "# PXImage class\n",
    "From an array to a `display`-able object that accepts `width` and `height` and `alt` parameters in the constructor."
   ]
  },
  {
   "cell_type": "code",
   "execution_count": null,
   "id": "opposite-diving",
   "metadata": {},
   "outputs": [],
   "source": [
    "class PXImage():\n",
    "    def __init__(self, a, **kwargs):\n",
    "        self.a = a\n",
    "        self.kwargs = kwargs\n",
    "        self.defaults = {'alt': \"unblurred image\",\n",
    "                         'width': a.shape[1],\n",
    "                         'height': a.shape[0] }\n",
    "        self.img_tag_template = \"\"\"<img alt=\"{alt}\"\n",
    "        style=\"image-rendering: pixelated;\"\n",
    "        width=\"{width}\" height=\"{height}\"\n",
    "        src=\"data:image/png;base64,{rad64_png}\">\"\"\"\n",
    "    \n",
    "    def pil_image_from_array(self, a):\n",
    "        return PIL.Image.fromarray(a)\n",
    "    \n",
    "    @property\n",
    "    def pil_image(self):\n",
    "        if not hasattr(self, '_pil_image'):\n",
    "            self._pil_image = self.pil_image_from_array(self.a)\n",
    "        return self._pil_image\n",
    "        \n",
    "    def d_image_from_pil_image(self, pim, **kwargs):\n",
    "        b = BytesIO()\n",
    "        pim.save(b, format=\"png\")\n",
    "        return IPython.display.Image(b.getbuffer(), **kwargs)\n",
    "    \n",
    "    @property\n",
    "    def d_image(self):\n",
    "        if not hasattr(self, '_d_image'):\n",
    "            self._d_image = self.d_image_from_pil_image(self.pil_image)\n",
    "        return self._d_image\n",
    "        \n",
    "    \n",
    "    def _repr_png_(self):\n",
    "        return self.d_image._repr_png_()\n",
    "\n",
    "    def _repr_html_(self):\n",
    "        d = self.defaults.copy()\n",
    "        d['rad64_png'] = self._repr_png_()\n",
    "        d.update(self.kwargs)\n",
    "        return HTML(self.img_tag_template.format(**d))._repr_html_()"
   ]
  },
  {
   "cell_type": "code",
   "execution_count": null,
   "id": "perceived-audience",
   "metadata": {},
   "outputs": [],
   "source": [
    "pxi = PXImage(rtcramp, width=640)"
   ]
  },
  {
   "cell_type": "code",
   "execution_count": null,
   "id": "friendly-chorus",
   "metadata": {},
   "outputs": [],
   "source": [
    "display(pxi)"
   ]
  },
  {
   "cell_type": "code",
   "execution_count": null,
   "id": "vertical-redhead",
   "metadata": {},
   "outputs": [],
   "source": [
    "%debug"
   ]
  },
  {
   "cell_type": "code",
   "execution_count": null,
   "id": "warming-lawyer",
   "metadata": {},
   "outputs": [],
   "source": [
    "d = {'a': 1}\n",
    "d2 = d.copy()\n",
    "d['a'] = 0\n",
    "d, d2"
   ]
  },
  {
   "cell_type": "code",
   "execution_count": null,
   "id": "seventh-convert",
   "metadata": {},
   "outputs": [],
   "source": [
    "rtcramp.shape"
   ]
  },
  {
   "cell_type": "markdown",
   "id": "juvenile-configuration",
   "metadata": {},
   "source": [
    "___"
   ]
  }
 ],
 "metadata": {
  "kernelspec": {
   "display_name": "Python 3",
   "language": "python",
   "name": "python3"
  },
  "language_info": {
   "codemirror_mode": {
    "name": "ipython",
    "version": 3
   },
   "file_extension": ".py",
   "mimetype": "text/x-python",
   "name": "python",
   "nbconvert_exporter": "python",
   "pygments_lexer": "ipython3",
   "version": "3.8.6"
  }
 },
 "nbformat": 4,
 "nbformat_minor": 5
}
