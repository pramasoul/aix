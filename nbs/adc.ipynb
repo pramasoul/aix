{
 "cells": [
  {
   "cell_type": "markdown",
   "metadata": {},
   "source": [
    "# Mess Around with Nets"
   ]
  },
  {
   "cell_type": "markdown",
   "metadata": {},
   "source": [
    "Graphs that calculate. What can they do? How can we make them?"
   ]
  },
  {
   "cell_type": "code",
   "execution_count": null,
   "metadata": {},
   "outputs": [],
   "source": [
    "%matplotlib inline"
   ]
  },
  {
   "cell_type": "code",
   "execution_count": null,
   "metadata": {},
   "outputs": [],
   "source": [
    "import numpy as np\n",
    "import matplotlib.pyplot as plt"
   ]
  },
  {
   "cell_type": "markdown",
   "metadata": {},
   "source": [
    "## ADC\n",
    "From an analog input, produce a digital output"
   ]
  },
  {
   "cell_type": "markdown",
   "metadata": {},
   "source": [
    "## Reference implementation\n",
    "Here's what we want to accomplish, but by network means:"
   ]
  },
  {
   "cell_type": "code",
   "execution_count": null,
   "metadata": {},
   "outputs": [],
   "source": [
    "def adc(input:float) -> int:\n",
    "    return max(0, min(7,int(input)))"
   ]
  },
  {
   "cell_type": "code",
   "execution_count": null,
   "metadata": {},
   "outputs": [],
   "source": [
    "adc(3.14)"
   ]
  },
  {
   "cell_type": "code",
   "execution_count": null,
   "metadata": {},
   "outputs": [],
   "source": [
    "adc(-23.6)"
   ]
  },
  {
   "cell_type": "code",
   "execution_count": null,
   "metadata": {},
   "outputs": [],
   "source": [
    "adc(8)"
   ]
  },
  {
   "cell_type": "markdown",
   "metadata": {},
   "source": [
    "## Network implementations"
   ]
  },
  {
   "cell_type": "code",
   "execution_count": null,
   "metadata": {},
   "outputs": [],
   "source": [
    "class ADC:\n",
    "    def __init__(self):\n",
    "        self.randomize()\n",
    "        \n",
    "    def randomize(self):\n",
    "        self.m1 = np.random.randn(8)\n",
    "        self.m2 = np.random.randn(8,3)\n",
    "    \n",
    "    def make_perfect(self):\n",
    "        self.m1 = np.arange(0.0,8)/8.0\n",
    "    \n",
    "    def ideal(self, input:float) -> int:\n",
    "        return np.vectorize(lambda x: max(0, min(7,int(x))))(input)\n",
    "    \n",
    "    def netwise(self, input:float) -> int:\n",
    "        v = self.p1 = self.m1 * input\n",
    "        v = self.p2 = relu(v)\n",
    "        v = self.p3 = self.m1@self.m2\n",
    "        v = self.p4 = positive(v)\n",
    "        v = self.p5 = frombits(v)\n",
    "        return v\n",
    "\n",
    "    def __call__(self, input):\n",
    "        return np.vectorize(self.netwise)(input)\n"
   ]
  },
  {
   "cell_type": "code",
   "execution_count": null,
   "metadata": {},
   "outputs": [],
   "source": [
    "def relu(x):\n",
    "    #return (lambda v: max(0,v))(x)\n",
    "    return np.vectorize(lambda v: max(0.0,v))(x)\n",
    "\n",
    "[(v, relu(v)) for v in np.arange(-2, 2, 0.5)]"
   ]
  },
  {
   "cell_type": "code",
   "execution_count": null,
   "metadata": {},
   "outputs": [],
   "source": [
    "def positive(x):\n",
    "    return np.vectorize(lambda v: max(0, np.sign(v)))(x)\n",
    "\n",
    "[(v, positive(v)) for v in np.arange(-2, 2, 0.5)]"
   ]
  },
  {
   "cell_type": "code",
   "execution_count": null,
   "metadata": {},
   "outputs": [],
   "source": [
    "def frombits(v) -> int:\n",
    "    p = 1\n",
    "    s = 0\n",
    "    for bit in v:\n",
    "        s += p * bit\n",
    "        p <<= 1\n",
    "    return s"
   ]
  },
  {
   "cell_type": "code",
   "execution_count": null,
   "metadata": {},
   "outputs": [],
   "source": [
    "frombits([1,0,1,1])"
   ]
  },
  {
   "cell_type": "code",
   "execution_count": null,
   "metadata": {},
   "outputs": [],
   "source": [
    "nadc = ADC()\n",
    "nadc.m1, nadc.m2, nadc.m1@nadc.m2"
   ]
  },
  {
   "cell_type": "code",
   "execution_count": null,
   "metadata": {},
   "outputs": [],
   "source": [
    "nadc.ideal(3.14), nadc(3.14)"
   ]
  },
  {
   "cell_type": "code",
   "execution_count": null,
   "metadata": {},
   "outputs": [],
   "source": [
    "x = np.linspace(0, 8, 100)\n",
    "\n",
    "plt.plot(x, nadc.ideal(x), label='ideal')\n",
    "plt.plot(x, nadc(x), label='actual')\n",
    "plt.xlabel('x label')\n",
    "plt.ylabel('y label')\n",
    "plt.title(\"ADC by net\")\n",
    "plt.legend()\n",
    "plt.show()"
   ]
  },
  {
   "cell_type": "code",
   "execution_count": null,
   "metadata": {},
   "outputs": [],
   "source": [
    "nadc.m1, nadc.m2"
   ]
  },
  {
   "cell_type": "code",
   "execution_count": null,
   "metadata": {},
   "outputs": [],
   "source": [
    "nadc.randomize()\n",
    "nadc.make_perfect()"
   ]
  },
  {
   "cell_type": "code",
   "execution_count": null,
   "metadata": {},
   "outputs": [],
   "source": [
    "nadc(3.14)"
   ]
  },
  {
   "cell_type": "code",
   "execution_count": null,
   "metadata": {},
   "outputs": [],
   "source": [
    "nadc.p1, nadc.p2, nadc.p3, nadc.p4, nadc.p5"
   ]
  },
  {
   "cell_type": "code",
   "execution_count": null,
   "metadata": {},
   "outputs": [],
   "source": [
    "t = np.arange(-2.0, 2.0, 0.3)"
   ]
  },
  {
   "cell_type": "code",
   "execution_count": null,
   "metadata": {},
   "outputs": [],
   "source": [
    "relu(t)"
   ]
  },
  {
   "cell_type": "code",
   "execution_count": null,
   "metadata": {},
   "outputs": [],
   "source": []
  }
 ],
 "metadata": {
  "kernelspec": {
   "display_name": "Python 3",
   "language": "python",
   "name": "python3"
  },
  "language_info": {
   "codemirror_mode": {
    "name": "ipython",
    "version": 3
   },
   "file_extension": ".py",
   "mimetype": "text/x-python",
   "name": "python",
   "nbconvert_exporter": "python",
   "pygments_lexer": "ipython3",
   "version": "3.7.9"
  }
 },
 "nbformat": 4,
 "nbformat_minor": 4
}
