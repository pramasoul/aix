{
 "cells": [
  {
   "cell_type": "markdown",
   "id": "north-modeling",
   "metadata": {},
   "source": [
    "# Widgets in threads"
   ]
  },
  {
   "cell_type": "markdown",
   "id": "hindu-search",
   "metadata": {},
   "source": [
    "Widget interactions are blocked when something is running in the kernel. I have not succeeded in modifying the kernel event loop to overcome this. So try threads. "
   ]
  },
  {
   "cell_type": "markdown",
   "id": "impaired-setting",
   "metadata": {},
   "source": [
    "After https://ipywidgets.readthedocs.io/en/latest/examples/Widget%20Asynchronous.html#Updating-a-widget-in-the-background, with hacks:"
   ]
  },
  {
   "cell_type": "markdown",
   "id": "maritime-terminal",
   "metadata": {},
   "source": [
    "# Setup"
   ]
  },
  {
   "cell_type": "code",
   "execution_count": null,
   "id": "median-egyptian",
   "metadata": {},
   "outputs": [],
   "source": [
    "import trio\n",
    "import threading\n",
    "from IPython.display import display\n",
    "import ipywidgets as widgets\n",
    "import math\n",
    "import time"
   ]
  },
  {
   "cell_type": "markdown",
   "id": "devoted-ordinary",
   "metadata": {},
   "source": [
    "## A global state object"
   ]
  },
  {
   "cell_type": "code",
   "execution_count": null,
   "id": "defensive-satellite",
   "metadata": {},
   "outputs": [],
   "source": [
    "class Thing:\n",
    "    def __init__(self, **kwargs):\n",
    "        self.__dict__.update(kwargs)"
   ]
  },
  {
   "cell_type": "code",
   "execution_count": null,
   "id": "dense-delay",
   "metadata": {},
   "outputs": [],
   "source": [
    "g = Thing()"
   ]
  },
  {
   "cell_type": "markdown",
   "id": "cheap-battle",
   "metadata": {},
   "source": [
    "## A function that does work in a thread\n",
    "This will update a widget's value from a supplied function. It also runs a task at `g.threadwork`."
   ]
  },
  {
   "cell_type": "code",
   "execution_count": null,
   "id": "changing-wallet",
   "metadata": {},
   "outputs": [],
   "source": [
    "def work(w, valfun=lambda t:0.5):\n",
    "\n",
    "    async def track_value(w, valfun):\n",
    "        while not g.stop_requested:\n",
    "            w.value = valfun()\n",
    "            await trio.sleep(0.1) #DEBUG\n",
    "\n",
    "    async def worker():\n",
    "        while not g.stop_requested:\n",
    "            await trio.sleep(await g.threadwork())\n",
    "\n",
    "    \n",
    "    async def threadloop(w, valfun):\n",
    "        async with trio.open_nursery() as nursery:\n",
    "            nursery.start_soon(track_value, w, valfun)\n",
    "            nursery.start_soon(worker)\n",
    "        \n",
    "    trio.run(threadloop, w, valfun)"
   ]
  },
  {
   "cell_type": "markdown",
   "id": "checked-greenhouse",
   "metadata": {},
   "source": [
    "## The widgets"
   ]
  },
  {
   "cell_type": "code",
   "execution_count": null,
   "id": "private-growing",
   "metadata": {},
   "outputs": [],
   "source": [
    "progress = widgets.FloatProgress(value=0.0, min=0.0, max=1.0)\n",
    "s_w = widgets.FloatSlider(value=0.5, min=0.0, max=1.0, step=0.01)\n",
    "b_w = widgets.Button(\n",
    "    description='stop',\n",
    "    disabled=False,\n",
    "    button_style='', # 'success', 'info', 'warning', 'danger' or ''\n",
    "    tooltip='click to stop thread',\n",
    "    icon='stop' # (FontAwesome names without the `fa-` prefix)\n",
    ")\n",
    "out_w = widgets.Output()"
   ]
  },
  {
   "cell_type": "markdown",
   "id": "bearing-aside",
   "metadata": {},
   "source": [
    "### and their behavior"
   ]
  },
  {
   "cell_type": "code",
   "execution_count": null,
   "id": "timely-trinity",
   "metadata": {},
   "outputs": [],
   "source": [
    "g.stop_requested = False\n",
    "def request_stop(b):\n",
    "    g.stop_requested = True\n",
    "    #with out_w:\n",
    "    #    print(\"stop requested\")\n",
    "b_w.on_click(request_stop)\n",
    "\n",
    "display(progress, s_w, b_w, out_w)"
   ]
  },
  {
   "cell_type": "markdown",
   "id": "wicked-effectiveness",
   "metadata": {},
   "source": [
    "# Create the background thread"
   ]
  },
  {
   "cell_type": "code",
   "execution_count": null,
   "id": "unlikely-contact",
   "metadata": {},
   "outputs": [],
   "source": [
    "thread = threading.Thread(target=work, args=(progress, lambda: s_w.value))"
   ]
  },
  {
   "cell_type": "markdown",
   "id": "molecular-story",
   "metadata": {},
   "source": [
    "## Set up a pretend job and start the thread"
   ]
  },
  {
   "cell_type": "code",
   "execution_count": null,
   "id": "organized-pharmacology",
   "metadata": {},
   "outputs": [],
   "source": [
    "g.work_ctr = 0\n",
    "async def just_one():\n",
    "    g.work_ctr += 1\n",
    "    return 1\n",
    "g.threadwork = just_one\n",
    "g.stop_requested = False\n",
    "thread.start()"
   ]
  },
  {
   "cell_type": "markdown",
   "id": "absent-offer",
   "metadata": {},
   "source": [
    "## Testing\n",
    "* Move the slider and see the progress bar track\n",
    "* Examine g.work_ctr to see it growing\n",
    "* Hit the stop button and see the tracking and work stops"
   ]
  },
  {
   "cell_type": "markdown",
   "id": "aerial-elder",
   "metadata": {},
   "source": [
    "## Join up if it's done, and examine work results"
   ]
  },
  {
   "cell_type": "code",
   "execution_count": null,
   "id": "hairy-engine",
   "metadata": {},
   "outputs": [],
   "source": [
    "thread.is_alive() or thread.join()"
   ]
  },
  {
   "cell_type": "code",
   "execution_count": null,
   "id": "ordered-romania",
   "metadata": {},
   "outputs": [],
   "source": [
    "print(f\"{g.work_ctr}\")"
   ]
  },
  {
   "cell_type": "code",
   "execution_count": null,
   "id": "occupational-handling",
   "metadata": {},
   "outputs": [],
   "source": [
    "async def fastly():\n",
    "    g.work_ctr += 1\n",
    "    return .01\n",
    "g.threadwork = fastly"
   ]
  },
  {
   "cell_type": "code",
   "execution_count": null,
   "id": "forward-harbor",
   "metadata": {},
   "outputs": [],
   "source": [
    "g.work_ctr = 0"
   ]
  },
  {
   "cell_type": "code",
   "execution_count": null,
   "id": "resident-hacker",
   "metadata": {},
   "outputs": [],
   "source": [
    "import numpy as np\n",
    "a = np.random.randn(2048,3072)"
   ]
  },
  {
   "cell_type": "code",
   "execution_count": null,
   "id": "outside-national",
   "metadata": {},
   "outputs": [],
   "source": [
    "%timeit a@a.T"
   ]
  },
  {
   "cell_type": "markdown",
   "id": "embedded-mother",
   "metadata": {},
   "source": [
    "## Burn cycles with `numpy`"
   ]
  },
  {
   "cell_type": "code",
   "execution_count": null,
   "id": "lesser-trigger",
   "metadata": {},
   "outputs": [],
   "source": [
    "async def mmul():\n",
    "    p = a @ a.T\n",
    "    g.work_product = np.einsum('ij,ij', p, p)\n",
    "    g.work_ctr += 1\n",
    "    return 0\n",
    "g.threadwork = mmul"
   ]
  },
  {
   "cell_type": "code",
   "execution_count": null,
   "id": "literary-graphics",
   "metadata": {},
   "outputs": [],
   "source": [
    "g.work_ctr"
   ]
  },
  {
   "cell_type": "code",
   "execution_count": null,
   "id": "fossil-bangkok",
   "metadata": {},
   "outputs": [],
   "source": [
    "async def worked_enough(v):\n",
    "    if g.work_ctr >= v:\n",
    "        g.threadwork = lambda: 1\n",
    "    await trio.sleep(1)\n",
    "    \n",
    "trio.run(worked_enough, 100)"
   ]
  },
  {
   "cell_type": "code",
   "execution_count": null,
   "id": "western-orchestra",
   "metadata": {},
   "outputs": [],
   "source": [
    "g.threadwork"
   ]
  },
  {
   "cell_type": "code",
   "execution_count": null,
   "id": "narrative-circumstances",
   "metadata": {},
   "outputs": [],
   "source": [
    "threading.active_count()"
   ]
  }
 ],
 "metadata": {
  "kernelspec": {
   "display_name": "Python 3",
   "language": "python",
   "name": "python3"
  },
  "language_info": {
   "codemirror_mode": {
    "name": "ipython",
    "version": 3
   },
   "file_extension": ".py",
   "mimetype": "text/x-python",
   "name": "python",
   "nbconvert_exporter": "python",
   "pygments_lexer": "ipython3",
   "version": "3.8.6"
  }
 },
 "nbformat": 4,
 "nbformat_minor": 5
}
