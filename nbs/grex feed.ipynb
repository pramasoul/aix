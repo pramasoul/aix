{
 "cells": [
  {
   "cell_type": "markdown",
   "id": "municipal-manual",
   "metadata": {},
   "source": [
    "# grex feed\n",
    "Configure and run this to submit new work to the grex tasks Celery machinery"
   ]
  },
  {
   "cell_type": "code",
   "execution_count": 1,
   "id": "black-bernard",
   "metadata": {},
   "outputs": [],
   "source": [
    "%load_ext autoreload\n",
    "%autoreload 2"
   ]
  },
  {
   "cell_type": "code",
   "execution_count": 2,
   "id": "professional-blocking",
   "metadata": {},
   "outputs": [
    {
     "name": "stderr",
     "output_type": "stream",
     "text": [
      "/home/jovyan/work/nbs/grex_tasks.py:11: ExperimentalWarning: The configuration may change in the future.\n",
      "  driver.verify_connectivity()\n"
     ]
    }
   ],
   "source": [
    "import neo4j\n",
    "import grexutils as gu\n",
    "from grex_tasks import add, run_epp_code_strings\n",
    "import random"
   ]
  },
  {
   "cell_type": "code",
   "execution_count": 3,
   "id": "regulation-valley",
   "metadata": {},
   "outputs": [
    {
     "name": "stderr",
     "output_type": "stream",
     "text": [
      "<ipython-input-3-e75ba85668dd>:2: ExperimentalWarning: The configuration may change in the future.\n",
      "  driver.verify_connectivity()\n"
     ]
    },
    {
     "data": {
      "text/plain": [
       "{IPv4Address(('neo4j', 7687)): [{'ttl': 300,\n",
       "   'servers': [{'addresses': ['neo4j:7687'], 'role': 'WRITE'},\n",
       "    {'addresses': ['neo4j:7687'], 'role': 'READ'},\n",
       "    {'addresses': ['neo4j:7687'], 'role': 'ROUTE'}]}]}"
      ]
     },
     "execution_count": 3,
     "metadata": {},
     "output_type": "execute_result"
    }
   ],
   "source": [
    "driver = neo4j.GraphDatabase.driver(\"neo4j://neo4j:7687\", auth=(\"neo4j\", \"test\"))\n",
    "driver.verify_connectivity()"
   ]
  },
  {
   "cell_type": "code",
   "execution_count": 4,
   "id": "identical-figure",
   "metadata": {},
   "outputs": [
    {
     "data": {
      "text/plain": [
       "'jtsgosW1bfzg3SdgkYLqSw'"
      ]
     },
     "execution_count": 4,
     "metadata": {},
     "output_type": "execute_result"
    }
   ],
   "source": [
    "ex_key = gu.get_experiment_key_from_name(driver, name='t4')\n",
    "ex_key"
   ]
  },
  {
   "cell_type": "code",
   "execution_count": 5,
   "id": "wireless-privilege",
   "metadata": {},
   "outputs": [
    {
     "data": {
      "text/plain": [
       "{'Train Pauls ADCs': 'bhvWVUoZNgTbyhBUSNcAkg',\n",
       " 'even longer Train ADCs': 'pS8wyygG1oc5og7pMAlVGQ',\n",
       " 'even Train ADCs': 'fUPzmkqZjtdtFGiiIqGrGQ',\n",
       " 'Train ADCs': 'jFCVjYTVbUZGvAJhUE-mtw'}"
      ]
     },
     "execution_count": 5,
     "metadata": {},
     "output_type": "execute_result"
    }
   ],
   "source": [
    "procedures = dict(gu.get_procedure_names_keys_from_experiment_key(driver, key=ex_key))\n",
    "procedures"
   ]
  },
  {
   "cell_type": "code",
   "execution_count": 6,
   "id": "plain-provincial",
   "metadata": {},
   "outputs": [],
   "source": [
    "proc_key = procedures['Train Pauls ADCs']"
   ]
  },
  {
   "cell_type": "code",
   "execution_count": 7,
   "id": "behavioral-paris",
   "metadata": {},
   "outputs": [
    {
     "data": {
      "text/plain": [
       "'bhvWVUoZNgTbyhBUSNcAkg'"
      ]
     },
     "execution_count": 7,
     "metadata": {},
     "output_type": "execute_result"
    }
   ],
   "source": [
    "proc_key"
   ]
  },
  {
   "cell_type": "code",
   "execution_count": 8,
   "id": "impaired-circus",
   "metadata": {},
   "outputs": [
    {
     "data": {
      "text/plain": [
       "['IIkQO_igwkyXUrx7R31AUA', 'OIBCfT0UH_ODysEeTPiDeg', 'P0uZXOxBzpLg7w-VzOlJlQ']"
      ]
     },
     "execution_count": 8,
     "metadata": {},
     "output_type": "execute_result"
    }
   ],
   "source": [
    "param_keys = gu.get_unstarted_parameters_of_procedure(driver, procedure_unikey=proc_key)\n",
    "param_keys[:3]"
   ]
  },
  {
   "cell_type": "code",
   "execution_count": 9,
   "id": "verified-kingston",
   "metadata": {},
   "outputs": [],
   "source": [
    "random.shuffle(param_keys)"
   ]
  },
  {
   "cell_type": "code",
   "execution_count": 12,
   "id": "streaming-causing",
   "metadata": {},
   "outputs": [
    {
     "name": "stdout",
     "output_type": "stream",
     "text": [
      "100 jtsgosW1bfzg3SdgkYLqSw bhvWVUoZNgTbyhBUSNcAkg zZQMwqloCPaWyLAqGjeCmA\n",
      "200 jtsgosW1bfzg3SdgkYLqSw bhvWVUoZNgTbyhBUSNcAkg SoJKp2lokwMnfoDr93hHRA\n",
      "300 jtsgosW1bfzg3SdgkYLqSw bhvWVUoZNgTbyhBUSNcAkg AnwhWQXNJnWU8IH8DI_Zxw\n",
      "400 jtsgosW1bfzg3SdgkYLqSw bhvWVUoZNgTbyhBUSNcAkg Vo5dbAD4VDaV2XFldUl1OQ\n",
      "500 jtsgosW1bfzg3SdgkYLqSw bhvWVUoZNgTbyhBUSNcAkg auOHQtX1HvIsIDhzau2hAw\n",
      "600 jtsgosW1bfzg3SdgkYLqSw bhvWVUoZNgTbyhBUSNcAkg KCgLHK0SVaq0hPqEoWG8KQ\n",
      "700 jtsgosW1bfzg3SdgkYLqSw bhvWVUoZNgTbyhBUSNcAkg USejm1QQSgzmGxavv_CPdg\n",
      "800 jtsgosW1bfzg3SdgkYLqSw bhvWVUoZNgTbyhBUSNcAkg C-s69TwGmUEFOFxp-suAgQ\n",
      "900 jtsgosW1bfzg3SdgkYLqSw bhvWVUoZNgTbyhBUSNcAkg pYzblq0BKQNihr1vjPUKkA\n",
      "1000 jtsgosW1bfzg3SdgkYLqSw bhvWVUoZNgTbyhBUSNcAkg 9oQUdg8nT3Xd2-PbSINYMQ\n",
      "1100 jtsgosW1bfzg3SdgkYLqSw bhvWVUoZNgTbyhBUSNcAkg b0yoc-POhWPYfc7IPFJzpw\n",
      "1200 jtsgosW1bfzg3SdgkYLqSw bhvWVUoZNgTbyhBUSNcAkg JvtfFgD1yRT_bfGT2R8Wyw\n",
      "1300 jtsgosW1bfzg3SdgkYLqSw bhvWVUoZNgTbyhBUSNcAkg MxRcMBE1GeL3zKZAIELJCg\n",
      "1400 jtsgosW1bfzg3SdgkYLqSw bhvWVUoZNgTbyhBUSNcAkg Cc7tRFma00PoqwppMcJFtw\n",
      "1500 jtsgosW1bfzg3SdgkYLqSw bhvWVUoZNgTbyhBUSNcAkg EL6sbBNy7Yye-44hbqiNcA\n",
      "1600 jtsgosW1bfzg3SdgkYLqSw bhvWVUoZNgTbyhBUSNcAkg ReO_XLmA3yojQWh_V2wxcQ\n",
      "1700 jtsgosW1bfzg3SdgkYLqSw bhvWVUoZNgTbyhBUSNcAkg oNsZBHvdsd-YIaav_EU2IA\n",
      "1800 jtsgosW1bfzg3SdgkYLqSw bhvWVUoZNgTbyhBUSNcAkg ihc2G8oJxht8u2rXujP_pw\n",
      "1900 jtsgosW1bfzg3SdgkYLqSw bhvWVUoZNgTbyhBUSNcAkg zh0mrrDVibRY8crH9P3XsQ\n",
      "2000 jtsgosW1bfzg3SdgkYLqSw bhvWVUoZNgTbyhBUSNcAkg Tiqa_yDeHrSvWLzSI9VlGg\n",
      "2100 jtsgosW1bfzg3SdgkYLqSw bhvWVUoZNgTbyhBUSNcAkg fYb8G4aqAKxmowGJ6WtlBQ\n",
      "2200 jtsgosW1bfzg3SdgkYLqSw bhvWVUoZNgTbyhBUSNcAkg VpsjYx9NmM5cHBTWoYwfSg\n",
      "2300 jtsgosW1bfzg3SdgkYLqSw bhvWVUoZNgTbyhBUSNcAkg CrhhwTy8NejZs9ej8D82wA\n",
      "2400 jtsgosW1bfzg3SdgkYLqSw bhvWVUoZNgTbyhBUSNcAkg HCWnoesgl90RSBCF-GTAaA\n",
      "2500 jtsgosW1bfzg3SdgkYLqSw bhvWVUoZNgTbyhBUSNcAkg aelHmNpwm417DPH-skAnJw\n",
      "2600 jtsgosW1bfzg3SdgkYLqSw bhvWVUoZNgTbyhBUSNcAkg YD4hiHrsJrG4gym1Fe6PVA\n",
      "2700 jtsgosW1bfzg3SdgkYLqSw bhvWVUoZNgTbyhBUSNcAkg iKqf98WaHvoWLMWjyeskrw\n",
      "2800 jtsgosW1bfzg3SdgkYLqSw bhvWVUoZNgTbyhBUSNcAkg sSRVMaYTatT6Ue_7zyE2BA\n",
      "2900 jtsgosW1bfzg3SdgkYLqSw bhvWVUoZNgTbyhBUSNcAkg s076bHglbHOnKSqKkne97g\n",
      "3000 jtsgosW1bfzg3SdgkYLqSw bhvWVUoZNgTbyhBUSNcAkg rP-tzAd6gp9cD1SMO4toqg\n",
      "3100 jtsgosW1bfzg3SdgkYLqSw bhvWVUoZNgTbyhBUSNcAkg jtarRLKVPUcWB8Hm4oaWcg\n",
      "3200 jtsgosW1bfzg3SdgkYLqSw bhvWVUoZNgTbyhBUSNcAkg BM03YjoUNF9hn9pdCSt2DQ\n",
      "3300 jtsgosW1bfzg3SdgkYLqSw bhvWVUoZNgTbyhBUSNcAkg BK-0qXURw1slFBfDRnibwQ\n",
      "3400 jtsgosW1bfzg3SdgkYLqSw bhvWVUoZNgTbyhBUSNcAkg l2dpHvU2sVkhZdorfxJauw\n",
      "3500 jtsgosW1bfzg3SdgkYLqSw bhvWVUoZNgTbyhBUSNcAkg Ol6-wPVotYZMryjdzLlLtw\n",
      "3600 jtsgosW1bfzg3SdgkYLqSw bhvWVUoZNgTbyhBUSNcAkg 7DKGxyFt3ivRKiIjMYmvsQ\n",
      "3700 jtsgosW1bfzg3SdgkYLqSw bhvWVUoZNgTbyhBUSNcAkg oW_juRg9pxkuAXo5OAngVQ\n",
      "3800 jtsgosW1bfzg3SdgkYLqSw bhvWVUoZNgTbyhBUSNcAkg EjI41fMrxnIX2bhKp6-vFw\n",
      "3900 jtsgosW1bfzg3SdgkYLqSw bhvWVUoZNgTbyhBUSNcAkg KgoZ0a8c_y2Y3G1O_hCXRg\n",
      "4000 jtsgosW1bfzg3SdgkYLqSw bhvWVUoZNgTbyhBUSNcAkg wcw2gS1-U6E5KcRUalCbvA\n",
      "4100 jtsgosW1bfzg3SdgkYLqSw bhvWVUoZNgTbyhBUSNcAkg MCQS0dFxVWv4uzWUWsnQaw\n",
      "4200 jtsgosW1bfzg3SdgkYLqSw bhvWVUoZNgTbyhBUSNcAkg fD4VREIZidxu2AxHftC8ZQ\n",
      "4300 jtsgosW1bfzg3SdgkYLqSw bhvWVUoZNgTbyhBUSNcAkg UO9YFLoXiS8VCRI9WRurPw\n",
      "4400 jtsgosW1bfzg3SdgkYLqSw bhvWVUoZNgTbyhBUSNcAkg IAZQ1e5fMfV-0xgCpp_23g\n",
      "4500 jtsgosW1bfzg3SdgkYLqSw bhvWVUoZNgTbyhBUSNcAkg KPiWpD9RqwsL9dB3RPqjWg\n",
      "4600 jtsgosW1bfzg3SdgkYLqSw bhvWVUoZNgTbyhBUSNcAkg Rn5ZU4eM-d9krb5n_36koA\n",
      "4700 jtsgosW1bfzg3SdgkYLqSw bhvWVUoZNgTbyhBUSNcAkg --vlk9nnwJDH94q2CrRzZg\n",
      "4800 jtsgosW1bfzg3SdgkYLqSw bhvWVUoZNgTbyhBUSNcAkg PJMofuRKJUXfR9gk21yKjg\n",
      "4900 jtsgosW1bfzg3SdgkYLqSw bhvWVUoZNgTbyhBUSNcAkg og-Srfu_uK-PuTisq3H7qA\n",
      "5000 jtsgosW1bfzg3SdgkYLqSw bhvWVUoZNgTbyhBUSNcAkg PAfLFBIkNWdJIcaj3CzL5Q\n",
      "5100 jtsgosW1bfzg3SdgkYLqSw bhvWVUoZNgTbyhBUSNcAkg qY_JS0ZGPzJ5m50I9-tHFg\n"
     ]
    }
   ],
   "source": [
    "cnt = 0\n",
    "for param_key in param_keys:\n",
    "    #print(ex_key, proc_key, param_key)\n",
    "    run_epp_code_strings.delay(experiment_unikey=ex_key,\n",
    "                        procedure_unikey=proc_key,\n",
    "                        parameters_unikey=param_key)\n",
    "    cnt += 1\n",
    "    if cnt % 100 == 0:\n",
    "        print(cnt, ex_key, proc_key, param_key)"
   ]
  },
  {
   "cell_type": "code",
   "execution_count": 11,
   "id": "therapeutic-legend",
   "metadata": {},
   "outputs": [
    {
     "ename": "AssertionError",
     "evalue": "stop here",
     "output_type": "error",
     "traceback": [
      "\u001b[0;31m---------------------------------------------------------------------------\u001b[0m",
      "\u001b[0;31mAssertionError\u001b[0m                            Traceback (most recent call last)",
      "\u001b[0;32m<ipython-input-11-f68b657fa1b2>\u001b[0m in \u001b[0;36m<module>\u001b[0;34m\u001b[0m\n\u001b[0;32m----> 1\u001b[0;31m \u001b[0;32massert\u001b[0m \u001b[0;32mFalse\u001b[0m\u001b[0;34m,\u001b[0m \u001b[0;34m\"stop here\"\u001b[0m\u001b[0;34m\u001b[0m\u001b[0;34m\u001b[0m\u001b[0m\n\u001b[0m",
      "\u001b[0;31mAssertionError\u001b[0m: stop here"
     ]
    }
   ],
   "source": [
    "assert False, \"stop here\""
   ]
  },
  {
   "cell_type": "markdown",
   "id": "expired-stephen",
   "metadata": {},
   "source": [
    "---"
   ]
  },
  {
   "cell_type": "markdown",
   "id": "alleged-white",
   "metadata": {},
   "source": [
    "# Debugging scratch space"
   ]
  },
  {
   "cell_type": "code",
   "execution_count": null,
   "id": "activated-gossip",
   "metadata": {},
   "outputs": [],
   "source": [
    "gu.get_code_strings_of_experiment_procedure_parameters(driver,\n",
    "                                                       experiment_unikey='7R42cwhPZvhpmEUd51W5xQ',\n",
    "                                                       procedure_unikey='ryDcs8eBJWihUWOEXdEEfQ',\n",
    "                                                       parameters_unikey='vPVIVIYh_9GuMqG-DoaEPg')"
   ]
  },
  {
   "cell_type": "code",
   "execution_count": null,
   "id": "animated-alexander",
   "metadata": {},
   "outputs": [],
   "source": [
    "import tools.neotools as nj\n",
    "def get_code_strings_of_experiment_procedure_parameters(driver, **kwargs):\n",
    "    q = \"\"\"\n",
    "MATCH (e:Experiment {unikey: $experiment_unikey})\n",
    "-[:INCLUDES]->\n",
    "(proc:Procedure {unikey: $procedure_unikey})\n",
    "-[:INCORPORATES]->\n",
    "(par:Parameters {unikey: $parameters_unikey})\n",
    "RETURN par.prepend_code_strings, proc.code_strings, par.append_code_strings\n",
    "\"\"\"\n",
    "    records = nj.query_read_return_list(driver, q, **kwargs)\n",
    "    if len(records) < 1:\n",
    "        raise KeyError(f'No experiment,procedure,parameters found to match \"{kwargs}\"')\n",
    "    if len(records) > 1:\n",
    "        raise KeyError(f'Found {len(records)} experiment,procedure,parameters \"{kwargs}\"')\n",
    "    r = records[0]\n",
    "    #print(f\"r['proc.code_strings'] = {r['proc.code_strings']}\")\n",
    "    #print(f\"r['par.code_strings'] = {r['par.code_strings']}\")\n",
    "    return r['par.prepend_code_strings'] + \\\n",
    "            r['proc.code_strings'] + \\\n",
    "            r['par.append_code_strings']"
   ]
  },
  {
   "cell_type": "code",
   "execution_count": null,
   "id": "sexual-discovery",
   "metadata": {},
   "outputs": [],
   "source": [
    "import tools.neotools as nj\n",
    "def get_code_strings_of_experiment_procedure_parameters(driver, **kwargs):\n",
    "    q = \"\"\"\n",
    "MATCH (e:Experiment {unikey: $experiment_unikey})\n",
    "-->\n",
    "(proc:Procedure {unikey: $procedure_unikey})\n",
    "-->\n",
    "(par:Parameters {unikey: $parameters_unikey})\n",
    "RETURN par.prepend_code_strings, proc.code_strings, par.append_code_strings\n",
    "\"\"\"\n",
    "    records = nj.query_read_return_list(driver, q, **kwargs)\n",
    "    if len(records) < 1:\n",
    "        raise KeyError(f'No experiment,procedure,parameters found to match \"{kwargs}\"')\n",
    "    if len(records) > 1:\n",
    "        raise KeyError(f'Found {len(records)} experiment,procedure,parameters \"{kwargs}\"')\n",
    "    r = records[0]\n",
    "    #print(f\"r['proc.code_strings'] = {r['proc.code_strings']}\")\n",
    "    #print(f\"r['par.code_strings'] = {r['par.code_strings']}\")\n",
    "    return r['par.prepend_code_strings'] + \\\n",
    "            r['proc.code_strings'] + \\\n",
    "            r['par.append_code_strings']"
   ]
  },
  {
   "cell_type": "code",
   "execution_count": null,
   "id": "combined-iraqi",
   "metadata": {},
   "outputs": [],
   "source": [
    "import tools.neotools as nj\n",
    "def get_code_strings_of_experiment_procedure_parameters(driver, **kwargs):\n",
    "    q = \"\"\"\n",
    "MATCH (e:Experiment {unikey: $experiment_unikey})\n",
    "-->\n",
    "(proc:Procedure {unikey: $procedure_unikey})\n",
    "RETURN proc.code_strings\n",
    "\"\"\"\n",
    "    records = nj.query_read_return_list(driver, q, **kwargs)\n",
    "    if len(records) < 1:\n",
    "        raise KeyError(f'No experiment,procedure,parameters found to match \"{kwargs}\"')\n",
    "    if len(records) > 1:\n",
    "        raise KeyError(f'Found {len(records)} experiment,procedure,parameters \"{kwargs}\"')\n",
    "    r = records[0]\n",
    "    #print(f\"r['proc.code_strings'] = {r['proc.code_strings']}\")\n",
    "    #print(f\"r['par.code_strings'] = {r['par.code_strings']}\")\n",
    "    return r"
   ]
  },
  {
   "cell_type": "code",
   "execution_count": null,
   "id": "chubby-orbit",
   "metadata": {},
   "outputs": [],
   "source": [
    "import tools.neotools as nj\n",
    "def get_code_strings_of_experiment_procedure_parameters(driver, **kwargs):\n",
    "    q = \"\"\"\n",
    "MATCH (par:Parameters {unikey: $parameters_unikey})\n",
    "RETURN par.prepend_code_strings\n",
    "\"\"\"\n",
    "    records = nj.query_read_return_list(driver, q, **kwargs)\n",
    "    if len(records) < 1:\n",
    "        raise KeyError(f'No experiment,procedure,parameters found to match \"{kwargs}\"')\n",
    "    if len(records) > 1:\n",
    "        raise KeyError(f'Found {len(records)} experiment,procedure,parameters \"{kwargs}\"')\n",
    "    r = records[0]\n",
    "    #print(f\"r['proc.code_strings'] = {r['proc.code_strings']}\")\n",
    "    #print(f\"r['par.code_strings'] = {r['par.code_strings']}\")\n",
    "    return r"
   ]
  },
  {
   "cell_type": "code",
   "execution_count": null,
   "id": "auburn-boost",
   "metadata": {},
   "outputs": [],
   "source": [
    "get_code_strings_of_experiment_procedure_parameters(driver,\n",
    "                                                       experiment_unikey='7R42cwhPZvhpmEUd51W5xQ',\n",
    "                                                       procedure_unikey='ryDcs8eBJWihUWOEXdEEfQ',\n",
    "                                                       parameters_unikey='vPVIVIYh_9GuMqG-DoaEPg')"
   ]
  },
  {
   "cell_type": "code",
   "execution_count": null,
   "id": "compliant-repeat",
   "metadata": {},
   "outputs": [],
   "source": [
    "for i in range(10):\n",
    "    for j in range(10):\n",
    "        add.apply_async((i,j), countdown=3*j)"
   ]
  },
  {
   "cell_type": "code",
   "execution_count": null,
   "id": "verified-paste",
   "metadata": {},
   "outputs": [],
   "source": [
    "from tasks import div"
   ]
  },
  {
   "cell_type": "code",
   "execution_count": null,
   "id": "efficient-pricing",
   "metadata": {},
   "outputs": [],
   "source": [
    "div.delay(1, 7)"
   ]
  },
  {
   "cell_type": "code",
   "execution_count": null,
   "id": "social-somalia",
   "metadata": {},
   "outputs": [],
   "source": [
    "div.delay(22, 7)"
   ]
  },
  {
   "cell_type": "code",
   "execution_count": null,
   "id": "postal-programmer",
   "metadata": {},
   "outputs": [],
   "source": [
    "div.delay(1,0)"
   ]
  },
  {
   "cell_type": "code",
   "execution_count": null,
   "id": "independent-crawford",
   "metadata": {},
   "outputs": [],
   "source": []
  }
 ],
 "metadata": {
  "kernelspec": {
   "display_name": "Python 3",
   "language": "python",
   "name": "python3"
  },
  "language_info": {
   "codemirror_mode": {
    "name": "ipython",
    "version": 3
   },
   "file_extension": ".py",
   "mimetype": "text/x-python",
   "name": "python",
   "nbconvert_exporter": "python",
   "pygments_lexer": "ipython3",
   "version": "3.8.6"
  }
 },
 "nbformat": 4,
 "nbformat_minor": 5
}
