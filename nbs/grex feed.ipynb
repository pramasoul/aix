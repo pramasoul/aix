{
 "cells": [
  {
   "cell_type": "markdown",
   "id": "second-forest",
   "metadata": {},
   "source": [
    "# grex feed"
   ]
  },
  {
   "cell_type": "code",
   "execution_count": null,
   "id": "grave-constitutional",
   "metadata": {},
   "outputs": [],
   "source": [
    "%load_ext autoreload\n",
    "%autoreload 2"
   ]
  },
  {
   "cell_type": "code",
   "execution_count": null,
   "id": "worse-shift",
   "metadata": {},
   "outputs": [],
   "source": [
    "import neo4j\n",
    "import grexutils as gu\n",
    "from grex_tasks import add, run_epp_code_strings"
   ]
  },
  {
   "cell_type": "code",
   "execution_count": null,
   "id": "stock-advance",
   "metadata": {},
   "outputs": [],
   "source": [
    "driver = neo4j.GraphDatabase.driver(\"neo4j://neo4j:7687\", auth=(\"neo4j\", \"test\"))\n",
    "driver.verify_connectivity()"
   ]
  },
  {
   "cell_type": "code",
   "execution_count": null,
   "id": "guided-technology",
   "metadata": {},
   "outputs": [],
   "source": [
    "ex_key = gu.get_experiment_key_from_name(driver, name='t3')"
   ]
  },
  {
   "cell_type": "code",
   "execution_count": null,
   "id": "pleasant-statement",
   "metadata": {},
   "outputs": [],
   "source": [
    "procedures = dict(gu.get_procedure_names_keys_from_experiment_key(driver, key=ex_key))\n",
    "procedures.keys()"
   ]
  },
  {
   "cell_type": "code",
   "execution_count": null,
   "id": "streaming-lindsay",
   "metadata": {},
   "outputs": [],
   "source": [
    "param_keys = gu.get_unstarted_parameters_of_procedure(driver, procedure_unikey=procedures['Train ADCs'])\n",
    "param_keys"
   ]
  },
  {
   "cell_type": "code",
   "execution_count": null,
   "id": "eleven-flush",
   "metadata": {},
   "outputs": [],
   "source": [
    "proc_key = procedures['Train ADCs']\n",
    "for param_key in param_keys:\n",
    "    print(ex_key, proc_key, param_key)\n",
    "    #continue\n",
    "    run_epp_code_strings.delay(experiment_unikey=ex_key,\n",
    "                        procedure_unikey=proc_key,\n",
    "                        parameters_unikey=param_key)"
   ]
  },
  {
   "cell_type": "code",
   "execution_count": null,
   "id": "solved-discovery",
   "metadata": {},
   "outputs": [],
   "source": [
    "assert False, \"stop here\""
   ]
  },
  {
   "cell_type": "code",
   "execution_count": null,
   "id": "sixth-youth",
   "metadata": {},
   "outputs": [],
   "source": [
    "for i in range(10):\n",
    "    for j in range(10):\n",
    "        add.apply_async((i,j), countdown=3*j)"
   ]
  },
  {
   "cell_type": "code",
   "execution_count": null,
   "id": "going-citizenship",
   "metadata": {},
   "outputs": [],
   "source": [
    "from tasks import div"
   ]
  },
  {
   "cell_type": "code",
   "execution_count": null,
   "id": "bibliographic-consultation",
   "metadata": {},
   "outputs": [],
   "source": [
    "div.delay(1, 7)"
   ]
  },
  {
   "cell_type": "code",
   "execution_count": null,
   "id": "compressed-encoding",
   "metadata": {},
   "outputs": [],
   "source": [
    "div.delay(22, 7)"
   ]
  },
  {
   "cell_type": "code",
   "execution_count": null,
   "id": "pharmaceutical-lawrence",
   "metadata": {},
   "outputs": [],
   "source": [
    "div.delay(1,0)"
   ]
  },
  {
   "cell_type": "code",
   "execution_count": null,
   "id": "driven-venue",
   "metadata": {},
   "outputs": [],
   "source": []
  }
 ],
 "metadata": {
  "kernelspec": {
   "display_name": "Python 3",
   "language": "python",
   "name": "python3"
  },
  "language_info": {
   "codemirror_mode": {
    "name": "ipython",
    "version": 3
   },
   "file_extension": ".py",
   "mimetype": "text/x-python",
   "name": "python",
   "nbconvert_exporter": "python",
   "pygments_lexer": "ipython3",
   "version": "3.8.6"
  }
 },
 "nbformat": 4,
 "nbformat_minor": 5
}
