{
 "cells": [
  {
   "cell_type": "markdown",
   "id": "intellectual-somerset",
   "metadata": {},
   "source": [
    "# grex feed\n",
    "Configure and run this to submit new work to the grex tasks Celery machinery"
   ]
  },
  {
   "cell_type": "code",
   "execution_count": null,
   "id": "handmade-beast",
   "metadata": {},
   "outputs": [],
   "source": [
    "%load_ext autoreload\n",
    "%autoreload 2"
   ]
  },
  {
   "cell_type": "code",
   "execution_count": null,
   "id": "coordinated-tackle",
   "metadata": {},
   "outputs": [],
   "source": [
    "import neo4j\n",
    "import lib.grexutils as gu\n",
    "from grex_tasks import add, run_epp_code_strings\n",
    "import random"
   ]
  },
  {
   "cell_type": "code",
   "execution_count": null,
   "id": "legendary-theorem",
   "metadata": {},
   "outputs": [],
   "source": [
    "driver = neo4j.GraphDatabase.driver(\"neo4j://neo4j:7687\", auth=(\"neo4j\", \"test\"))\n",
    "driver.verify_connectivity()"
   ]
  },
  {
   "cell_type": "code",
   "execution_count": null,
   "id": "better-korean",
   "metadata": {},
   "outputs": [],
   "source": [
    "ex_key = gu.get_experiment_key_from_name(driver, name='t4')\n",
    "ex_key"
   ]
  },
  {
   "cell_type": "code",
   "execution_count": null,
   "id": "pointed-israeli",
   "metadata": {},
   "outputs": [],
   "source": [
    "procedures = dict(gu.get_procedure_names_keys_from_experiment_key(driver, key=ex_key))\n",
    "procedures"
   ]
  },
  {
   "cell_type": "code",
   "execution_count": null,
   "id": "bizarre-knife",
   "metadata": {},
   "outputs": [],
   "source": [
    "proc_key = procedures['Train Pauls ADCs']"
   ]
  },
  {
   "cell_type": "code",
   "execution_count": null,
   "id": "combined-cancer",
   "metadata": {},
   "outputs": [],
   "source": [
    "proc_key"
   ]
  },
  {
   "cell_type": "code",
   "execution_count": null,
   "id": "round-bacon",
   "metadata": {},
   "outputs": [],
   "source": [
    "param_keys = gu.get_unstarted_parameters_of_procedure(driver, procedure_unikey=proc_key)\n",
    "param_keys[:3]"
   ]
  },
  {
   "cell_type": "code",
   "execution_count": null,
   "id": "proof-committee",
   "metadata": {},
   "outputs": [],
   "source": [
    "random.shuffle(param_keys)"
   ]
  },
  {
   "cell_type": "code",
   "execution_count": null,
   "id": "marked-portland",
   "metadata": {},
   "outputs": [],
   "source": [
    "len(param_keys)"
   ]
  },
  {
   "cell_type": "code",
   "execution_count": null,
   "id": "fourth-relief",
   "metadata": {},
   "outputs": [],
   "source": [
    "cnt = 0\n",
    "for param_key in param_keys:\n",
    "    #print(ex_key, proc_key, param_key)\n",
    "    run_epp_code_strings.delay(experiment_unikey=ex_key,\n",
    "                        procedure_unikey=proc_key,\n",
    "                        parameters_unikey=param_key)\n",
    "    cnt += 1\n",
    "    if cnt % 100 == 0:\n",
    "        print(cnt, ex_key, proc_key, param_key)"
   ]
  },
  {
   "cell_type": "code",
   "execution_count": null,
   "id": "ranging-taiwan",
   "metadata": {},
   "outputs": [],
   "source": [
    "assert False, \"stop here\""
   ]
  },
  {
   "cell_type": "markdown",
   "id": "victorian-cleveland",
   "metadata": {},
   "source": [
    "---"
   ]
  },
  {
   "cell_type": "markdown",
   "id": "proper-dover",
   "metadata": {},
   "source": [
    "# Debugging scratch space"
   ]
  },
  {
   "cell_type": "code",
   "execution_count": null,
   "id": "sacred-comfort",
   "metadata": {},
   "outputs": [],
   "source": [
    "gu.get_code_strings_of_experiment_procedure_parameters(driver,\n",
    "                                                       experiment_unikey='7R42cwhPZvhpmEUd51W5xQ',\n",
    "                                                       procedure_unikey='ryDcs8eBJWihUWOEXdEEfQ',\n",
    "                                                       parameters_unikey='vPVIVIYh_9GuMqG-DoaEPg')"
   ]
  },
  {
   "cell_type": "code",
   "execution_count": null,
   "id": "premier-packaging",
   "metadata": {},
   "outputs": [],
   "source": [
    "import tools.neotools as nj\n",
    "def get_code_strings_of_experiment_procedure_parameters(driver, **kwargs):\n",
    "    q = \"\"\"\n",
    "MATCH (e:Experiment {unikey: $experiment_unikey})\n",
    "-[:INCLUDES]->\n",
    "(proc:Procedure {unikey: $procedure_unikey})\n",
    "-[:INCORPORATES]->\n",
    "(par:Parameters {unikey: $parameters_unikey})\n",
    "RETURN par.prepend_code_strings, proc.code_strings, par.append_code_strings\n",
    "\"\"\"\n",
    "    records = nj.query_read_return_list(driver, q, **kwargs)\n",
    "    if len(records) < 1:\n",
    "        raise KeyError(f'No experiment,procedure,parameters found to match \"{kwargs}\"')\n",
    "    if len(records) > 1:\n",
    "        raise KeyError(f'Found {len(records)} experiment,procedure,parameters \"{kwargs}\"')\n",
    "    r = records[0]\n",
    "    #print(f\"r['proc.code_strings'] = {r['proc.code_strings']}\")\n",
    "    #print(f\"r['par.code_strings'] = {r['par.code_strings']}\")\n",
    "    return r['par.prepend_code_strings'] + \\\n",
    "            r['proc.code_strings'] + \\\n",
    "            r['par.append_code_strings']"
   ]
  },
  {
   "cell_type": "code",
   "execution_count": null,
   "id": "victorian-structure",
   "metadata": {},
   "outputs": [],
   "source": [
    "import tools.neotools as nj\n",
    "def get_code_strings_of_experiment_procedure_parameters(driver, **kwargs):\n",
    "    q = \"\"\"\n",
    "MATCH (e:Experiment {unikey: $experiment_unikey})\n",
    "-->\n",
    "(proc:Procedure {unikey: $procedure_unikey})\n",
    "-->\n",
    "(par:Parameters {unikey: $parameters_unikey})\n",
    "RETURN par.prepend_code_strings, proc.code_strings, par.append_code_strings\n",
    "\"\"\"\n",
    "    records = nj.query_read_return_list(driver, q, **kwargs)\n",
    "    if len(records) < 1:\n",
    "        raise KeyError(f'No experiment,procedure,parameters found to match \"{kwargs}\"')\n",
    "    if len(records) > 1:\n",
    "        raise KeyError(f'Found {len(records)} experiment,procedure,parameters \"{kwargs}\"')\n",
    "    r = records[0]\n",
    "    #print(f\"r['proc.code_strings'] = {r['proc.code_strings']}\")\n",
    "    #print(f\"r['par.code_strings'] = {r['par.code_strings']}\")\n",
    "    return r['par.prepend_code_strings'] + \\\n",
    "            r['proc.code_strings'] + \\\n",
    "            r['par.append_code_strings']"
   ]
  },
  {
   "cell_type": "code",
   "execution_count": null,
   "id": "eleven-irrigation",
   "metadata": {},
   "outputs": [],
   "source": [
    "import tools.neotools as nj\n",
    "def get_code_strings_of_experiment_procedure_parameters(driver, **kwargs):\n",
    "    q = \"\"\"\n",
    "MATCH (e:Experiment {unikey: $experiment_unikey})\n",
    "-->\n",
    "(proc:Procedure {unikey: $procedure_unikey})\n",
    "RETURN proc.code_strings\n",
    "\"\"\"\n",
    "    records = nj.query_read_return_list(driver, q, **kwargs)\n",
    "    if len(records) < 1:\n",
    "        raise KeyError(f'No experiment,procedure,parameters found to match \"{kwargs}\"')\n",
    "    if len(records) > 1:\n",
    "        raise KeyError(f'Found {len(records)} experiment,procedure,parameters \"{kwargs}\"')\n",
    "    r = records[0]\n",
    "    #print(f\"r['proc.code_strings'] = {r['proc.code_strings']}\")\n",
    "    #print(f\"r['par.code_strings'] = {r['par.code_strings']}\")\n",
    "    return r"
   ]
  },
  {
   "cell_type": "code",
   "execution_count": null,
   "id": "expected-resource",
   "metadata": {},
   "outputs": [],
   "source": [
    "import tools.neotools as nj\n",
    "def get_code_strings_of_experiment_procedure_parameters(driver, **kwargs):\n",
    "    q = \"\"\"\n",
    "MATCH (par:Parameters {unikey: $parameters_unikey})\n",
    "RETURN par.prepend_code_strings\n",
    "\"\"\"\n",
    "    records = nj.query_read_return_list(driver, q, **kwargs)\n",
    "    if len(records) < 1:\n",
    "        raise KeyError(f'No experiment,procedure,parameters found to match \"{kwargs}\"')\n",
    "    if len(records) > 1:\n",
    "        raise KeyError(f'Found {len(records)} experiment,procedure,parameters \"{kwargs}\"')\n",
    "    r = records[0]\n",
    "    #print(f\"r['proc.code_strings'] = {r['proc.code_strings']}\")\n",
    "    #print(f\"r['par.code_strings'] = {r['par.code_strings']}\")\n",
    "    return r"
   ]
  },
  {
   "cell_type": "code",
   "execution_count": null,
   "id": "furnished-allen",
   "metadata": {},
   "outputs": [],
   "source": [
    "get_code_strings_of_experiment_procedure_parameters(driver,\n",
    "                                                       experiment_unikey='7R42cwhPZvhpmEUd51W5xQ',\n",
    "                                                       procedure_unikey='ryDcs8eBJWihUWOEXdEEfQ',\n",
    "                                                       parameters_unikey='vPVIVIYh_9GuMqG-DoaEPg')"
   ]
  },
  {
   "cell_type": "code",
   "execution_count": null,
   "id": "dirty-probe",
   "metadata": {},
   "outputs": [],
   "source": [
    "for i in range(10):\n",
    "    for j in range(10):\n",
    "        add.apply_async((i,j), countdown=3*j)"
   ]
  },
  {
   "cell_type": "code",
   "execution_count": null,
   "id": "inner-diversity",
   "metadata": {},
   "outputs": [],
   "source": [
    "from tasks import div"
   ]
  },
  {
   "cell_type": "code",
   "execution_count": null,
   "id": "speaking-continuity",
   "metadata": {},
   "outputs": [],
   "source": [
    "div.delay(1, 7)"
   ]
  },
  {
   "cell_type": "code",
   "execution_count": null,
   "id": "intended-christian",
   "metadata": {},
   "outputs": [],
   "source": [
    "div.delay(22, 7)"
   ]
  },
  {
   "cell_type": "code",
   "execution_count": null,
   "id": "hollywood-reader",
   "metadata": {},
   "outputs": [],
   "source": [
    "div.delay(1,0)"
   ]
  },
  {
   "cell_type": "code",
   "execution_count": null,
   "id": "polyphonic-dispute",
   "metadata": {},
   "outputs": [],
   "source": []
  }
 ],
 "metadata": {
  "kernelspec": {
   "display_name": "Python 3",
   "language": "python",
   "name": "python3"
  },
  "language_info": {
   "codemirror_mode": {
    "name": "ipython",
    "version": 3
   },
   "file_extension": ".py",
   "mimetype": "text/x-python",
   "name": "python",
   "nbconvert_exporter": "python",
   "pygments_lexer": "ipython3",
   "version": "3.8.6"
  }
 },
 "nbformat": 4,
 "nbformat_minor": 5
}
