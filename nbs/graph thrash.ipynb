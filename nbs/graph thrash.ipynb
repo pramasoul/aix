{
 "cells": [
  {
   "cell_type": "markdown",
   "id": "useful-lobby",
   "metadata": {},
   "source": [
    "# RedisGraph tests\n",
    "* https://oss.redislabs.com/redisai/\n",
    "* https://github.com/RedisAI/RedisAI\n",
    "* https://github.com/RedisAI/redisai-py"
   ]
  },
  {
   "cell_type": "markdown",
   "id": "premium-wilson",
   "metadata": {},
   "source": [
    "# Preliminaries"
   ]
  },
  {
   "cell_type": "code",
   "execution_count": 1,
   "id": "committed-coalition",
   "metadata": {},
   "outputs": [],
   "source": [
    "%load_ext autoreload\n",
    "%autoreload 2"
   ]
  },
  {
   "cell_type": "code",
   "execution_count": 2,
   "id": "efficient-coordinator",
   "metadata": {},
   "outputs": [],
   "source": [
    "import numpy as np\n",
    "from pprint import pprint\n",
    "from redisai import Client\n",
    "from redisgraph import Node, Edge, Graph, Path"
   ]
  },
  {
   "cell_type": "code",
   "execution_count": 3,
   "id": "delayed-cathedral",
   "metadata": {},
   "outputs": [],
   "source": [
    "import hashlib\n",
    "from hashlib import sha256"
   ]
  },
  {
   "cell_type": "markdown",
   "id": "functioning-style",
   "metadata": {},
   "source": [
    "## Connecting"
   ]
  },
  {
   "cell_type": "markdown",
   "id": "seasonal-proposal",
   "metadata": {},
   "source": [
    "Need to get the `gpu-jupyter` and the `redisai` docker containers connected. If run bare, something like:\n",
    "\n",
    "    soul@guppy:~$ docker network connect gpu-jupyter_default gpu-jupyter \n",
    "    soul@guppy:~$ docker network connect gpu-jupyter_default redis-aig\n",
    "    $ docker network inspect gpu-jupyter_default \n",
    "    \n",
    "Docker has better ways than this."
   ]
  },
  {
   "cell_type": "code",
   "execution_count": 4,
   "id": "packed-consultancy",
   "metadata": {},
   "outputs": [],
   "source": [
    "con = Client(host='172.19.0.2', port=6379)"
   ]
  },
  {
   "cell_type": "markdown",
   "id": "mental-yemen",
   "metadata": {},
   "source": [
    "### Alive?"
   ]
  },
  {
   "cell_type": "code",
   "execution_count": 5,
   "id": "earlier-technical",
   "metadata": {},
   "outputs": [
    {
     "data": {
      "text/plain": [
       "True"
      ]
     },
     "execution_count": 5,
     "metadata": {},
     "output_type": "execute_result"
    }
   ],
   "source": [
    "con.ping()"
   ]
  },
  {
   "cell_type": "markdown",
   "id": "embedded-wilson",
   "metadata": {},
   "source": [
    "# Utility functions"
   ]
  },
  {
   "cell_type": "code",
   "execution_count": 6,
   "id": "hungarian-egypt",
   "metadata": {},
   "outputs": [],
   "source": [
    "def tput(a):\n",
    "    k = sha256(a).hexdigest()[:16]\n",
    "    con.tensorset(k, a)\n",
    "    return k"
   ]
  },
  {
   "cell_type": "code",
   "execution_count": 7,
   "id": "settled-briefing",
   "metadata": {},
   "outputs": [],
   "source": [
    "def tget(k):\n",
    "    a = con.tensorget(k)\n",
    "    assert k == sha256(a).hexdigest()[:16]\n",
    "    return a"
   ]
  },
  {
   "cell_type": "markdown",
   "id": "painful-estimate",
   "metadata": {},
   "source": [
    "# RedisGraph"
   ]
  },
  {
   "cell_type": "code",
   "execution_count": 8,
   "id": "weird-python",
   "metadata": {},
   "outputs": [],
   "source": [
    "import redis\n",
    "from redisgraph import Node, Edge, Graph, Path"
   ]
  },
  {
   "cell_type": "markdown",
   "id": "assigned-montgomery",
   "metadata": {},
   "source": [
    "# The Model\n",
    "    Investigation -> Experiment -> multiple ResultDAGs\n",
    "`ResultDAG` is\n",
    "\n",
    "    (netState, params)-[mutation]->(netState, params)-[mutation ...\n",
    "                     +-[mutation]->(netstate, params) ...\n",
    "etc. `mutation` can be a learning trajectory, or an edit.\n",
    "\n",
    "Perhaps `mutation` can be expressed in python.\n",
    "\n",
    "Generally the results of experiments are preferred to be reproducible, but they won't always be, when they import entropy."
   ]
  },
  {
   "cell_type": "markdown",
   "id": "wooden-bookmark",
   "metadata": {},
   "source": [
    "## Some neural nets"
   ]
  },
  {
   "cell_type": "code",
   "execution_count": 9,
   "id": "extensive-front",
   "metadata": {},
   "outputs": [],
   "source": [
    "from nn import Network, Layer, IdentityLayer, AffineLayer, MapLayer\n",
    "from nnbench import NetMaker, NNMEG"
   ]
  },
  {
   "cell_type": "code",
   "execution_count": 10,
   "id": "reduced-links",
   "metadata": {},
   "outputs": [],
   "source": [
    "mnm = NetMaker(NNMEG)\n",
    "xor_net = mnm('2x2tx1t')\n",
    "adc_net = mnm('1x8tx8tx3t')"
   ]
  },
  {
   "cell_type": "markdown",
   "id": "correct-retail",
   "metadata": {},
   "source": [
    "## ... and training data"
   ]
  },
  {
   "cell_type": "code",
   "execution_count": 11,
   "id": "norwegian-portuguese",
   "metadata": {},
   "outputs": [],
   "source": [
    "xor_training_batch = (np.array([[-0.5, -0.5],\n",
    "                            [-0.5,  0.5],\n",
    "                            [ 0.5,  0.5],\n",
    "                            [ 0.5, -0.5]]),\n",
    "                  np.array([[-0.5],\n",
    "                            [ 0.5],\n",
    "                            [-0.5],\n",
    "                            [ 0.5]]))"
   ]
  },
  {
   "cell_type": "code",
   "execution_count": 12,
   "id": "subsequent-eagle",
   "metadata": {},
   "outputs": [],
   "source": [
    "def adc(input):\n",
    "    m = max(0, min(7, int(8*input)))\n",
    "    return np.array([(m>>2)&1, (m>>1)&1, m&1]) * 2 - 1\n",
    "\n",
    "vadc = lambda v: np.array([adc(p) for p in v])\n",
    "#plot_ADC(vadc)"
   ]
  },
  {
   "cell_type": "code",
   "execution_count": 13,
   "id": "monthly-vancouver",
   "metadata": {},
   "outputs": [],
   "source": [
    "x = np.arange(0, 1, 1.0/(8*1)).reshape(-1,1) # 1 point in each output region\n",
    "adc_training_batch = (x, vadc(x))"
   ]
  },
  {
   "cell_type": "markdown",
   "id": "agreed-muscle",
   "metadata": {},
   "source": [
    "# The graph database"
   ]
  },
  {
   "cell_type": "markdown",
   "id": "personal-ordinary",
   "metadata": {},
   "source": [
    "## utilities"
   ]
  },
  {
   "cell_type": "code",
   "execution_count": 14,
   "id": "organizational-mobility",
   "metadata": {},
   "outputs": [],
   "source": [
    "def as_dicts(result):\n",
    "    #h = list(v[1].decode().split('.',1)[1] for v in result.header)\n",
    "    h = list(v[1].decode() for v in result.header)\n",
    "    for v in result.result_set:\n",
    "        yield dict(zip(h, v))"
   ]
  },
  {
   "cell_type": "code",
   "execution_count": 15,
   "id": "adverse-enterprise",
   "metadata": {},
   "outputs": [],
   "source": [
    "def as_nets_from_dicts(dg):\n",
    "    for d in dg:\n",
    "        # FIXME: shorthand is prefixed, adapt\n",
    "        yield mnm(d['shorthand']).set_state_from_vector(tget(d['sv']))"
   ]
  },
  {
   "cell_type": "markdown",
   "id": "operational-spring",
   "metadata": {},
   "source": [
    "## An example experiment's DAG"
   ]
  },
  {
   "cell_type": "code",
   "execution_count": 16,
   "id": "binding-cowboy",
   "metadata": {},
   "outputs": [],
   "source": [
    "from redis import ResponseError"
   ]
  },
  {
   "cell_type": "code",
   "execution_count": 17,
   "id": "graphic-mercy",
   "metadata": {},
   "outputs": [],
   "source": [
    "#con.flushall() # Nuke the entire contents of redis"
   ]
  },
  {
   "cell_type": "code",
   "execution_count": 18,
   "id": "auburn-lawyer",
   "metadata": {},
   "outputs": [],
   "source": [
    "#con.memory_purge()\n",
    "#con.memory_stats()"
   ]
  },
  {
   "cell_type": "code",
   "execution_count": 19,
   "id": "viral-sample",
   "metadata": {},
   "outputs": [],
   "source": [
    "exp_dag = Graph('experiment', con)"
   ]
  },
  {
   "cell_type": "code",
   "execution_count": 20,
   "id": "pleasant-alcohol",
   "metadata": {},
   "outputs": [
    {
     "data": {
      "text/plain": [
       "b'Graph removed, internal execution time: 0.021363 milliseconds'"
      ]
     },
     "execution_count": 20,
     "metadata": {},
     "output_type": "execute_result"
    }
   ],
   "source": [
    "exp_dag.delete()"
   ]
  },
  {
   "cell_type": "code",
   "execution_count": 21,
   "id": "protected-priest",
   "metadata": {},
   "outputs": [],
   "source": [
    "#%%script echo skipping\n",
    "try:\n",
    "    exp_dag.delete()\n",
    "except (NameError, ResponseError):\n",
    "    pass"
   ]
  },
  {
   "cell_type": "markdown",
   "id": "quick-settlement",
   "metadata": {},
   "source": [
    "### We use `adc_net`"
   ]
  },
  {
   "cell_type": "code",
   "execution_count": 22,
   "id": "headed-harmony",
   "metadata": {},
   "outputs": [],
   "source": [
    "net = adc_net\n",
    "training_batch = adc_training_batch"
   ]
  },
  {
   "cell_type": "code",
   "execution_count": 23,
   "id": "acknowledged-procedure",
   "metadata": {},
   "outputs": [],
   "source": [
    "net_start_node = Node(label='net',\n",
    "                properties={'shorthand': net.shorthand,\n",
    "                            'ksv': tput(net.state_vector()),\n",
    "                            'loss': net.losses([training_batch])[0],\n",
    "                           })"
   ]
  },
  {
   "cell_type": "code",
   "execution_count": 24,
   "id": "changed-trail",
   "metadata": {},
   "outputs": [],
   "source": [
    "exp_dag.add_node(net_start_node)"
   ]
  },
  {
   "cell_type": "code",
   "execution_count": 25,
   "id": "recognized-smooth",
   "metadata": {},
   "outputs": [
    {
     "data": {
      "text/plain": [
       "<redisgraph.query_result.QueryResult at 0x7f6ad59d1970>"
      ]
     },
     "execution_count": 25,
     "metadata": {},
     "output_type": "execute_result"
    }
   ],
   "source": [
    "exp_dag.commit()"
   ]
  },
  {
   "cell_type": "code",
   "execution_count": 26,
   "id": "sealed-palestinian",
   "metadata": {},
   "outputs": [],
   "source": [
    "query = \"\"\"MATCH (n:net)\n",
    "           RETURN n.shorthand, n.ksv\"\"\""
   ]
  },
  {
   "cell_type": "code",
   "execution_count": 27,
   "id": "invalid-jumping",
   "metadata": {},
   "outputs": [],
   "source": [
    "result = exp_dag.query(query)"
   ]
  },
  {
   "cell_type": "code",
   "execution_count": 28,
   "id": "dutch-tracy",
   "metadata": {},
   "outputs": [
    {
     "name": "stdout",
     "output_type": "stream",
     "text": [
      "+----------------+------------------+\n",
      "| b'n.shorthand' |     b'n.ksv'     |\n",
      "+----------------+------------------+\n",
      "|   1x8tx8tx3t   | 4fbc1905f81cf791 |\n",
      "+----------------+------------------+\n",
      "\n",
      "Cached execution 0.0\n",
      "internal execution time 0.38686\n"
     ]
    }
   ],
   "source": [
    "result.pretty_print()"
   ]
  },
  {
   "cell_type": "code",
   "execution_count": 29,
   "id": "raising-corpus",
   "metadata": {},
   "outputs": [
    {
     "data": {
      "text/plain": [
       "[{'n.shorthand': '1x8tx8tx3t', 'n.ksv': '4fbc1905f81cf791'}]"
      ]
     },
     "execution_count": 29,
     "metadata": {},
     "output_type": "execute_result"
    }
   ],
   "source": [
    "list(as_dicts(result))"
   ]
  },
  {
   "cell_type": "code",
   "execution_count": 30,
   "id": "color-developer",
   "metadata": {},
   "outputs": [],
   "source": [
    "#list(as_nets_from_dicts(as_dicts(result)))"
   ]
  },
  {
   "cell_type": "markdown",
   "id": "rising-tablet",
   "metadata": {},
   "source": [
    "## Train, recording trajectory"
   ]
  },
  {
   "cell_type": "code",
   "execution_count": 31,
   "id": "altered-cooking",
   "metadata": {},
   "outputs": [
    {
     "name": "stdout",
     "output_type": "stream",
     "text": [
      "loss 1.217063265894283, batches cumulative 25, this segment 25, len(deltas) 25 add_node add_edge commit  \n",
      "loss 0.8588770681485749, batches cumulative 69, this segment 44, len(deltas) 44 add_node add_edge commit  \n",
      "loss 0.6067287496652942, batches cumulative 283, this segment 214, len(deltas) 34 add_node add_edge commit  \n",
      "loss 0.42893965748085416, batches cumulative 533, this segment 250, len(deltas) 4 add_node add_edge commit  \n",
      "loss 0.3017505935505457, batches cumulative 1029, this segment 496, len(deltas) 6 add_node add_edge commit  \n",
      "loss 0.2133409693600253, batches cumulative 1663, this segment 634, len(deltas) 7 add_node add_edge commit  \n",
      "loss 0.15083072343727855, batches cumulative 2405, this segment 742, len(deltas) 9 add_node add_edge commit  \n",
      "loss 0.10631921172280644, batches cumulative 2750, this segment 345, len(deltas) 4 add_node add_edge commit  \n",
      "loss 0.074808903787351, batches cumulative 2894, this segment 144, len(deltas) 2 add_node add_edge commit  \n",
      "loss 0.05287862334685057, batches cumulative 2972, this segment 78, len(deltas) 2 add_node add_edge commit  \n",
      "loss 0.03677131366777397, batches cumulative 3018, this segment 46, len(deltas) 2 add_node add_edge commit  \n",
      "loss 0.025956619045198102, batches cumulative 3101, this segment 83, len(deltas) 1 add_node add_edge commit  \n",
      "loss 0.018335861441864557, batches cumulative 3326, this segment 225, len(deltas) 3 add_node add_edge commit  \n",
      "loss 0.01295918038595549, batches cumulative 3656, this segment 330, len(deltas) 4 add_node add_edge commit  \n",
      "loss 0.009163304343530118, batches cumulative 4079, this segment 423, len(deltas) 5 add_node add_edge commit  \n",
      "loss 0.006477035500210995, batches cumulative 4604, this segment 525, len(deltas) 7 add_node add_edge commit  \n",
      "loss 0.004579467859944087, batches cumulative 5247, this segment 643, len(deltas) 7 add_node add_edge commit  \n",
      "loss 0.003237672837216249, batches cumulative 6036, this segment 789, len(deltas) 9 add_node add_edge commit  \n",
      "loss 0.0022889330518618698, batches cumulative 7015, this segment 979, len(deltas) 11 add_node add_edge commit  \n",
      "loss 0.0016183239158663043, batches cumulative 8252, this segment 1237, len(deltas) 13 add_node add_edge commit  \n",
      "loss 0.0011442378491850307, batches cumulative 9850, this segment 1598, len(deltas) 17 add_node add_edge commit  \n",
      "loss 0.0008090304483676877, batches cumulative 11960, this segment 2110, len(deltas) 22 add_node add_edge commit  \n",
      "loss 0.0005720397387085042, batches cumulative 14798, this segment 2838, len(deltas) 29 add_node add_edge commit  \n",
      "loss 0.0004044779856264966, batches cumulative 18671, this segment 3873, len(deltas) 40 add_node add_edge commit  \n",
      "loss 0.00028599432179986494, batches cumulative 24015, this segment 5344, len(deltas) 55 add_node add_edge commit  \n",
      "loss 0.000202219105277289, batches cumulative 31450, this segment 7435, len(deltas) 75 add_node add_edge commit  \n",
      "loss 0.0001429886948918811, batches cumulative 41861, this segment 10411, len(deltas) 105 add_node add_edge commit  \n",
      "loss 0.00010110551944344963, batches cumulative 56518, this segment 14657, len(deltas) 148 add_node add_edge commit  \n",
      "loss 7.149099208938381e-05, batches cumulative 77240, this segment 20722, len(deltas) 208 add_node add_edge commit  \n",
      "loss 5.0551050095081984e-05, batches cumulative 106639, this segment 29399, len(deltas) 295 add_node add_edge commit  \n",
      "loss 3.574446030482738e-05, batches cumulative 148464, this segment 41825, len(deltas) 419 add_node add_edge commit  \n",
      "loss 2.527488194182113e-05, batches cumulative 208087, this segment 59623, len(deltas) 597 add_node add_edge commit  \n",
      "loss 1.787185132580019e-05, batches cumulative 293198, this segment 85111, len(deltas) 852 add_node add_edge commit  \n",
      "loss 1.2637163102091885e-05, batches cumulative 414794, this segment 121596, len(deltas) 1217 add_node add_edge commit  \n",
      "loss 8.935730487150461e-06, batches cumulative 588603, this segment 173809, len(deltas) 1740 add_node add_edge commit  \n",
      "loss 6.318448123815651e-06, batches cumulative 837140, this segment 248537, len(deltas) 2486 add_node add_edge commit  \n",
      "loss 4.46777225355676e-06, batches cumulative 1192656, this segment 355516, len(deltas) 3556 add_node add_edge commit  \n",
      "loss 3.1591601547147953e-06, batches cumulative 1701362, this segment 508706, len(deltas) 5088 add_node add_edge commit  \n",
      "loss 2.233841791579235e-06, batches cumulative 2429445, this segment 728083, len(deltas) 7282 add_node add_edge commit  \n",
      "loss 1.5984152706272875e-06, batches cumulative 3429401, this segment 999956, len(deltas) 10000 add_node add_edge commit  \n",
      "loss 1.2471593158887993e-06, batches cumulative 4429401, this segment 1000000, len(deltas) 10000 add_node add_edge commit  \n",
      "loss 1.02386057082426e-06, batches cumulative 5429401, this segment 1000000, len(deltas) 10000 add_node add_edge commit  \n",
      "loss 8.691777845295028e-07, batches cumulative 6429401, this segment 1000000, len(deltas) 10000 add_node add_edge commit  \n",
      "loss 7.555953504101295e-07, batches cumulative 7429401, this segment 1000000, len(deltas) 10000 add_node add_edge commit  \n",
      "loss 6.685960992058249e-07, batches cumulative 8429401, this segment 1000000, len(deltas) 10000 add_node add_edge commit  \n",
      "loss 5.99790506771291e-07, batches cumulative 9429401, this segment 1000000, len(deltas) 10000 add_node add_edge commit  \n",
      "loss 5.439894075841116e-07, batches cumulative 10429401, this segment 1000000, len(deltas) 10000 add_node add_edge commit  \n",
      "loss 4.97809347198728e-07, batches cumulative 11429401, this segment 1000000, len(deltas) 10000 add_node add_edge commit  \n",
      "loss 4.589492022903358e-07, batches cumulative 12429401, this segment 1000000, len(deltas) 10000 add_node add_edge commit  \n",
      "loss 4.257889745505634e-07, batches cumulative 13429401, this segment 1000000, len(deltas) 10000 add_node add_edge commit  \n",
      "loss 3.97154853616406e-07, batches cumulative 14429401, this segment 1000000, len(deltas) 10000 add_node add_edge commit  \n",
      "loss 3.721753167314362e-07, batches cumulative 15429401, this segment 1000000, len(deltas) 10000 add_node add_edge commit  \n",
      "loss 3.501895866359888e-07, batches cumulative 16429401, this segment 1000000, len(deltas) 10000 add_node add_edge commit  \n",
      "loss 3.3068748162298233e-07, batches cumulative 17429401, this segment 1000000, len(deltas) 10000 add_node add_edge commit  \n",
      "loss 3.1326877082428e-07, batches cumulative 18429401, this segment 1000000, len(deltas) 10000 add_node add_edge commit  \n",
      "loss 2.9761502982378095e-07, batches cumulative 19429401, this segment 1000000, len(deltas) 10000 add_node add_edge commit  \n",
      "loss 2.8346972754560637e-07, batches cumulative 20429401, this segment 1000000, len(deltas) 10000 add_node add_edge commit  \n",
      "loss 2.706238647488602e-07, batches cumulative 21429401, this segment 1000000, len(deltas) 10000 add_node add_edge commit  \n",
      "loss 2.5890543754207377e-07, batches cumulative 22429401, this segment 1000000, len(deltas) 10000 add_node add_edge commit  \n",
      "loss 2.4817158717906633e-07, batches cumulative 23429401, this segment 1000000, len(deltas) 10000 add_node add_edge commit  \n",
      "loss 2.383026691995515e-07, batches cumulative 24429401, this segment 1000000, len(deltas) 10000 add_node add_edge commit  \n",
      "loss 2.2919771552565338e-07, batches cumulative 25429401, this segment 1000000, len(deltas) 10000 add_node add_edge commit  \n",
      "loss 2.207709219657897e-07, batches cumulative 26429401, this segment 1000000, len(deltas) 10000 add_node add_edge commit  \n",
      "loss 2.1294890044045337e-07, batches cumulative 27429401, this segment 1000000, len(deltas) 10000 add_node add_edge commit  \n",
      "loss 2.0566850836510273e-07, batches cumulative 28429401, this segment 1000000, len(deltas) 10000 add_node add_edge commit  \n",
      "loss 1.9887511844708725e-07, batches cumulative 29429401, this segment 1000000, len(deltas) 10000 add_node add_edge commit  \n"
     ]
    },
    {
     "ename": "KeyboardInterrupt",
     "evalue": "",
     "output_type": "error",
     "traceback": [
      "\u001b[0;31m\u001b[0m",
      "\u001b[0;31mKeyboardInterrupt\u001b[0mTraceback (most recent call last)",
      "\u001b[0;32m<ipython-input-31-5a35ee8a2793>\u001b[0m in \u001b[0;36m<module>\u001b[0;34m\u001b[0m\n\u001b[1;32m     12\u001b[0m         \u001b[0;32mif\u001b[0m \u001b[0;32mnot\u001b[0m \u001b[0metas\u001b[0m \u001b[0;32mor\u001b[0m \u001b[0mnet\u001b[0m\u001b[0;34m.\u001b[0m\u001b[0meta\u001b[0m \u001b[0;34m!=\u001b[0m \u001b[0metas\u001b[0m\u001b[0;34m[\u001b[0m\u001b[0;34m-\u001b[0m\u001b[0;36m1\u001b[0m\u001b[0;34m]\u001b[0m\u001b[0;34m[\u001b[0m\u001b[0;36m1\u001b[0m\u001b[0;34m]\u001b[0m\u001b[0;34m:\u001b[0m\u001b[0;34m\u001b[0m\u001b[0;34m\u001b[0m\u001b[0m\n\u001b[1;32m     13\u001b[0m             \u001b[0metas\u001b[0m\u001b[0;34m.\u001b[0m\u001b[0mappend\u001b[0m\u001b[0;34m(\u001b[0m\u001b[0;34m[\u001b[0m\u001b[0mbatch_ctr\u001b[0m\u001b[0;34m,\u001b[0m \u001b[0mnet\u001b[0m\u001b[0;34m.\u001b[0m\u001b[0meta\u001b[0m\u001b[0;34m]\u001b[0m\u001b[0;34m)\u001b[0m\u001b[0;34m\u001b[0m\u001b[0;34m\u001b[0m\u001b[0m\n\u001b[0;32m---> 14\u001b[0;31m         \u001b[0mloss\u001b[0m \u001b[0;34m=\u001b[0m \u001b[0mnet\u001b[0m\u001b[0;34m.\u001b[0m\u001b[0mlearn\u001b[0m\u001b[0;34m(\u001b[0m\u001b[0;34m[\u001b[0m\u001b[0mtraining_batch\u001b[0m\u001b[0;34m]\u001b[0m\u001b[0;34m)\u001b[0m\u001b[0;34m\u001b[0m\u001b[0;34m\u001b[0m\u001b[0m\n\u001b[0m\u001b[1;32m     15\u001b[0m         \u001b[0;32mif\u001b[0m \u001b[0mbatch_ctr\u001b[0m \u001b[0;34m<\u001b[0m \u001b[0;36m100\u001b[0m \u001b[0;32mor\u001b[0m \u001b[0mbatch_ctr\u001b[0m \u001b[0;34m%\u001b[0m \u001b[0;36m100\u001b[0m \u001b[0;34m==\u001b[0m \u001b[0;36m0\u001b[0m\u001b[0;34m:\u001b[0m\u001b[0;34m\u001b[0m\u001b[0;34m\u001b[0m\u001b[0m\n\u001b[1;32m     16\u001b[0m             \u001b[0mlosses\u001b[0m\u001b[0;34m.\u001b[0m\u001b[0mappend\u001b[0m\u001b[0;34m(\u001b[0m\u001b[0;34m[\u001b[0m\u001b[0mbatch_ctr\u001b[0m\u001b[0;34m,\u001b[0m \u001b[0mloss\u001b[0m\u001b[0;34m]\u001b[0m\u001b[0;34m)\u001b[0m\u001b[0;34m\u001b[0m\u001b[0;34m\u001b[0m\u001b[0m\n",
      "\u001b[0;32m~/work/nbs/nnbench.py\u001b[0m in \u001b[0;36mlearn\u001b[0;34m(self, facts, eta)\u001b[0m\n\u001b[1;32m    226\u001b[0m         \u001b[0mmeg\u001b[0m \u001b[0;34m=\u001b[0m \u001b[0mself\u001b[0m\u001b[0;34m.\u001b[0m\u001b[0m_meg\u001b[0m\u001b[0;34m\u001b[0m\u001b[0;34m\u001b[0m\u001b[0m\n\u001b[1;32m    227\u001b[0m         \u001b[0mmeg\u001b[0m\u001b[0;34m.\u001b[0m\u001b[0mstates\u001b[0m \u001b[0;32mor\u001b[0m \u001b[0mmeg\u001b[0m\u001b[0;34m.\u001b[0m\u001b[0mstates\u001b[0m\u001b[0;34m.\u001b[0m\u001b[0mappend\u001b[0m\u001b[0;34m(\u001b[0m\u001b[0mself\u001b[0m\u001b[0;34m.\u001b[0m\u001b[0mstate_vector\u001b[0m\u001b[0;34m(\u001b[0m\u001b[0;34m)\u001b[0m\u001b[0;34m)\u001b[0m \u001b[0;31m# Capture the initial state\u001b[0m\u001b[0;34m\u001b[0m\u001b[0;34m\u001b[0m\u001b[0m\n\u001b[0;32m--> 228\u001b[0;31m         \u001b[0mloss\u001b[0m \u001b[0;34m=\u001b[0m \u001b[0msuper\u001b[0m\u001b[0;34m(\u001b[0m\u001b[0;34m)\u001b[0m\u001b[0;34m.\u001b[0m\u001b[0mlearn\u001b[0m\u001b[0;34m(\u001b[0m\u001b[0mfacts\u001b[0m\u001b[0;34m,\u001b[0m \u001b[0meta\u001b[0m\u001b[0;34m)\u001b[0m\u001b[0;34m\u001b[0m\u001b[0;34m\u001b[0m\u001b[0m\n\u001b[0m\u001b[1;32m    229\u001b[0m         \u001b[0mmeg\u001b[0m\u001b[0;34m.\u001b[0m\u001b[0mstates\u001b[0m\u001b[0;34m.\u001b[0m\u001b[0mappend\u001b[0m\u001b[0;34m(\u001b[0m\u001b[0mself\u001b[0m\u001b[0;34m.\u001b[0m\u001b[0mstate_vector\u001b[0m\u001b[0;34m(\u001b[0m\u001b[0;34m)\u001b[0m\u001b[0;34m)\u001b[0m\u001b[0;34m\u001b[0m\u001b[0;34m\u001b[0m\u001b[0m\n\u001b[1;32m    230\u001b[0m         \u001b[0mmeg\u001b[0m\u001b[0;34m.\u001b[0m\u001b[0mlosses\u001b[0m\u001b[0;34m.\u001b[0m\u001b[0mappend\u001b[0m\u001b[0;34m(\u001b[0m\u001b[0mloss\u001b[0m\u001b[0;34m)\u001b[0m\u001b[0;34m\u001b[0m\u001b[0;34m\u001b[0m\u001b[0m\n",
      "\u001b[0;32m~/work/nbs/nn.py\u001b[0m in \u001b[0;36mlearn\u001b[0;34m(self, facts, eta)\u001b[0m\n\u001b[1;32m     77\u001b[0m             \u001b[0megrad\u001b[0m \u001b[0;34m=\u001b[0m \u001b[0me\u001b[0m \u001b[0;34m*\u001b[0m \u001b[0mself\u001b[0m\u001b[0;34m.\u001b[0m\u001b[0meta\u001b[0m \u001b[0;34m/\u001b[0m \u001b[0me\u001b[0m\u001b[0;34m.\u001b[0m\u001b[0mshape\u001b[0m\u001b[0;34m[\u001b[0m\u001b[0;36m0\u001b[0m\u001b[0;34m]\u001b[0m\u001b[0;34m\u001b[0m\u001b[0;34m\u001b[0m\u001b[0m\n\u001b[1;32m     78\u001b[0m             \u001b[0;32mfor\u001b[0m \u001b[0mnet\u001b[0m \u001b[0;32min\u001b[0m \u001b[0mreversed\u001b[0m\u001b[0;34m(\u001b[0m\u001b[0mself\u001b[0m\u001b[0;34m.\u001b[0m\u001b[0mlayers\u001b[0m\u001b[0;34m)\u001b[0m\u001b[0;34m:\u001b[0m\u001b[0;34m\u001b[0m\u001b[0;34m\u001b[0m\u001b[0m\n\u001b[0;32m---> 79\u001b[0;31m                 \u001b[0megrad\u001b[0m \u001b[0;34m=\u001b[0m \u001b[0mnet\u001b[0m\u001b[0;34m.\u001b[0m\u001b[0mbackprop\u001b[0m\u001b[0;34m(\u001b[0m\u001b[0megrad\u001b[0m\u001b[0;34m)\u001b[0m\u001b[0;34m\u001b[0m\u001b[0;34m\u001b[0m\u001b[0m\n\u001b[0m\u001b[1;32m     80\u001b[0m         \u001b[0;31m#loss = float(e.dot(e.T))/2.0\u001b[0m\u001b[0;34m\u001b[0m\u001b[0;34m\u001b[0m\u001b[0;34m\u001b[0m\u001b[0m\n\u001b[1;32m     81\u001b[0m         \u001b[0mloss\u001b[0m \u001b[0;34m=\u001b[0m \u001b[0mnp\u001b[0m\u001b[0;34m.\u001b[0m\u001b[0meinsum\u001b[0m\u001b[0;34m(\u001b[0m\u001b[0;34m'...ij,...ij'\u001b[0m\u001b[0;34m,\u001b[0m \u001b[0me\u001b[0m\u001b[0;34m,\u001b[0m \u001b[0me\u001b[0m\u001b[0;34m)\u001b[0m \u001b[0;34m/\u001b[0m \u001b[0;34m(\u001b[0m\u001b[0;36m2.0\u001b[0m \u001b[0;34m*\u001b[0m \u001b[0me\u001b[0m\u001b[0;34m.\u001b[0m\u001b[0mshape\u001b[0m\u001b[0;34m[\u001b[0m\u001b[0;36m0\u001b[0m\u001b[0;34m]\u001b[0m\u001b[0;34m)\u001b[0m\u001b[0;34m\u001b[0m\u001b[0;34m\u001b[0m\u001b[0m\n",
      "\u001b[0;32m~/work/nbs/nn.py\u001b[0m in \u001b[0;36mbackprop\u001b[0;34m(self, output_delE)\u001b[0m\n\u001b[1;32m    198\u001b[0m         \u001b[0mo_delE\u001b[0m \u001b[0;34m=\u001b[0m \u001b[0mnp\u001b[0m\u001b[0;34m.\u001b[0m\u001b[0matleast_2d\u001b[0m\u001b[0;34m(\u001b[0m\u001b[0moutput_delE\u001b[0m\u001b[0;34m)\u001b[0m\u001b[0;34m\u001b[0m\u001b[0;34m\u001b[0m\u001b[0m\n\u001b[1;32m    199\u001b[0m         \u001b[0mself\u001b[0m\u001b[0;34m.\u001b[0m\u001b[0mM\u001b[0m \u001b[0;34m-=\u001b[0m \u001b[0mnp\u001b[0m\u001b[0;34m.\u001b[0m\u001b[0meinsum\u001b[0m\u001b[0;34m(\u001b[0m\u001b[0;34m'...ki,...kj->...ji'\u001b[0m\u001b[0;34m,\u001b[0m \u001b[0mo_delE\u001b[0m\u001b[0;34m,\u001b[0m \u001b[0mnp\u001b[0m\u001b[0;34m.\u001b[0m\u001b[0matleast_2d\u001b[0m\u001b[0;34m(\u001b[0m\u001b[0mself\u001b[0m\u001b[0;34m.\u001b[0m\u001b[0minput\u001b[0m\u001b[0;34m)\u001b[0m\u001b[0;34m)\u001b[0m\u001b[0;34m\u001b[0m\u001b[0;34m\u001b[0m\u001b[0m\n\u001b[0;32m--> 200\u001b[0;31m         \u001b[0mself\u001b[0m\u001b[0;34m.\u001b[0m\u001b[0mb\u001b[0m \u001b[0;34m-=\u001b[0m \u001b[0mnp\u001b[0m\u001b[0;34m.\u001b[0m\u001b[0msum\u001b[0m\u001b[0;34m(\u001b[0m\u001b[0mo_delE\u001b[0m\u001b[0;34m,\u001b[0m \u001b[0;36m0\u001b[0m\u001b[0;34m)\u001b[0m\u001b[0;34m\u001b[0m\u001b[0;34m\u001b[0m\u001b[0m\n\u001b[0m\u001b[1;32m    201\u001b[0m         \u001b[0;32mreturn\u001b[0m \u001b[0minput_delE\u001b[0m\u001b[0;34m\u001b[0m\u001b[0;34m\u001b[0m\u001b[0m\n\u001b[1;32m    202\u001b[0m \u001b[0;34m\u001b[0m\u001b[0m\n",
      "\u001b[0;31mKeyboardInterrupt\u001b[0m: "
     ]
    }
   ],
   "source": [
    "net_node = net_start_node\n",
    "loss = net.losses([training_batch])[0]\n",
    "batch_ctr = 0\n",
    "while loss > 1e-25:\n",
    "    batch_ctr_at_seg_start = batch_ctr\n",
    "    losses = []\n",
    "    etas = []\n",
    "    deltas = []\n",
    "    prior_loss = loss\n",
    "    prior_net_node = net_node\n",
    "    while loss / prior_loss > 0.7071 and len(deltas) < 10_000:\n",
    "        if not etas or net.eta != etas[-1][1]:\n",
    "            etas.append([batch_ctr, net.eta])\n",
    "        loss = net.learn([training_batch])\n",
    "        if batch_ctr < 100 or batch_ctr % 100 == 0:\n",
    "            losses.append([batch_ctr, loss])\n",
    "            deltas.append([batch_ctr, net.deltas()])\n",
    "        batch_ctr += 1\n",
    "    #if losses[-1][0] < (batch_ctr-1):\n",
    "    #    losses.append([batch_ctr, loss])\n",
    "    if not deltas or deltas[-1][0] < (batch_ctr-1):\n",
    "        deltas.append((batch_ctr, net.deltas()))\n",
    "    net_node = Node(label='net',\n",
    "                    properties={'shorthand': net.shorthand,\n",
    "                                'ksv': tput(net.state_vector()),\n",
    "                                'loss': loss,\n",
    "                                })\n",
    "    properties = dict(zip(deltas[0][1]._fields, map(list, (zip(*(v[1] for v in deltas)))))) # RedisGraph has a tuple allergy\n",
    "    #properties = {}\n",
    "    properties['batch_points'] = [v[0] for v in deltas]\n",
    "    properties['etas'] = etas\n",
    "    properties['batches_this_segment'] = batch_ctr - batch_ctr_at_seg_start\n",
    "    #pprint(properties)\n",
    "    #continue\n",
    "    mutation = Edge(prior_net_node, 'trained', net_node, properties=properties)\n",
    "    print(f\"loss {loss}, batches cumulative {batch_ctr}, this segment {properties['batches_this_segment']}, len(deltas) {len(deltas)}\", end=' ')\n",
    "    print(\"add_node\", end=' ')\n",
    "    exp_dag.add_node(net_node)\n",
    "    print(\"add_edge\", end=' ')\n",
    "    exp_dag.add_edge(mutation)\n",
    "    print(\"commit \", end=' ')\n",
    "    exp_dag.commit()\n",
    "    print()"
   ]
  },
  {
   "cell_type": "code",
   "execution_count": null,
   "id": "adjusted-shoot",
   "metadata": {},
   "outputs": [],
   "source": [
    "%debug"
   ]
  },
  {
   "cell_type": "code",
   "execution_count": null,
   "id": "blessed-miami",
   "metadata": {},
   "outputs": [],
   "source": [
    "assert False, \"stop\""
   ]
  },
  {
   "cell_type": "code",
   "execution_count": null,
   "id": "abstract-wilson",
   "metadata": {},
   "outputs": [],
   "source": [
    "len(deltas), deltas[0]"
   ]
  },
  {
   "cell_type": "code",
   "execution_count": null,
   "id": "becoming-minute",
   "metadata": {},
   "outputs": [],
   "source": [
    "deltas"
   ]
  },
  {
   "cell_type": "code",
   "execution_count": null,
   "id": "super-walker",
   "metadata": {},
   "outputs": [],
   "source": [
    "deltas[0][1]._fields"
   ]
  },
  {
   "cell_type": "code",
   "execution_count": null,
   "id": "athletic-awareness",
   "metadata": {},
   "outputs": [],
   "source": [
    "list(zip(*(v[1] for v in deltas)))"
   ]
  },
  {
   "cell_type": "code",
   "execution_count": null,
   "id": "marine-adult",
   "metadata": {},
   "outputs": [],
   "source": [
    "dict(zip(deltas[0][1]._fields, zip(*(v[1] for v in deltas))))"
   ]
  },
  {
   "cell_type": "code",
   "execution_count": null,
   "id": "alpine-landing",
   "metadata": {},
   "outputs": [],
   "source": [
    "losses, loss_steps, traj_L2_sqs, traj_cos_sq_signeds = zip(*deltas)"
   ]
  },
  {
   "cell_type": "code",
   "execution_count": null,
   "id": "presidential-rugby",
   "metadata": {},
   "outputs": [],
   "source": [
    "dict(zip('losses loss_steps traj_L2_sqs traj_cos_sq_signeds'.split(), zip(*deltas)))"
   ]
  },
  {
   "cell_type": "code",
   "execution_count": null,
   "id": "virtual-mainland",
   "metadata": {},
   "outputs": [],
   "source": [
    "min(traj_cos_sq_signeds), max(traj_cos_sq_signeds)"
   ]
  },
  {
   "cell_type": "code",
   "execution_count": null,
   "id": "naked-dinner",
   "metadata": {},
   "outputs": [],
   "source": [
    "100<<10"
   ]
  },
  {
   "cell_type": "code",
   "execution_count": null,
   "id": "spanish-refrigerator",
   "metadata": {},
   "outputs": [],
   "source": [
    "len(deltas)"
   ]
  },
  {
   "cell_type": "code",
   "execution_count": null,
   "id": "involved-bunny",
   "metadata": {},
   "outputs": [],
   "source": [
    "deltas[0], deltas[-1]"
   ]
  },
  {
   "cell_type": "code",
   "execution_count": null,
   "id": "electronic-grocery",
   "metadata": {},
   "outputs": [],
   "source": [
    "loss"
   ]
  },
  {
   "cell_type": "code",
   "execution_count": null,
   "id": "connected-samoa",
   "metadata": {},
   "outputs": [],
   "source": [
    "2**0.5/2"
   ]
  },
  {
   "cell_type": "code",
   "execution_count": null,
   "id": "breeding-campus",
   "metadata": {},
   "outputs": [],
   "source": []
  },
  {
   "cell_type": "code",
   "execution_count": null,
   "id": "noticed-greene",
   "metadata": {},
   "outputs": [],
   "source": [
    "net.losses([training_batch])"
   ]
  },
  {
   "cell_type": "code",
   "execution_count": null,
   "id": "thick-vermont",
   "metadata": {},
   "outputs": [],
   "source": [
    "net.learn([training_batch])"
   ]
  },
  {
   "cell_type": "code",
   "execution_count": null,
   "id": "indoor-opinion",
   "metadata": {},
   "outputs": [],
   "source": [
    "net.deltas()"
   ]
  },
  {
   "cell_type": "code",
   "execution_count": null,
   "id": "applicable-space",
   "metadata": {},
   "outputs": [],
   "source": [
    "prior_node = net_start"
   ]
  },
  {
   "cell_type": "code",
   "execution_count": null,
   "id": "happy-insertion",
   "metadata": {},
   "outputs": [],
   "source": [
    "def train_some(net, training_batch_cluster, n):\n",
    "    return list((net.learn(training_batch_cluster), net.deltas())[1] for i in range(n))"
   ]
  },
  {
   "cell_type": "code",
   "execution_count": null,
   "id": "recognized-setup",
   "metadata": {},
   "outputs": [],
   "source": [
    "deltas = train_some(net, [training_batch], 3)"
   ]
  },
  {
   "cell_type": "code",
   "execution_count": null,
   "id": "downtown-wilson",
   "metadata": {},
   "outputs": [],
   "source": [
    "present_node = Node(label='net',\n",
    "                    properties={'shorthand': net.shorthand,\n",
    "                                'ksv': tput(net.state_vector()),\n",
    "                               })"
   ]
  },
  {
   "cell_type": "code",
   "execution_count": null,
   "id": "outside-surface",
   "metadata": {},
   "outputs": [],
   "source": [
    "exp_dag.add_node(present_node)"
   ]
  },
  {
   "cell_type": "code",
   "execution_count": null,
   "id": "amended-conviction",
   "metadata": {},
   "outputs": [],
   "source": [
    "mutation = Edge(prior_node, 'trained', present_node, \\\n",
    "               properties={'deltas': [list(v) for v in deltas]})"
   ]
  },
  {
   "cell_type": "code",
   "execution_count": null,
   "id": "toxic-basket",
   "metadata": {},
   "outputs": [],
   "source": [
    "exp_dag.add_edge(mutation)"
   ]
  },
  {
   "cell_type": "code",
   "execution_count": null,
   "id": "whole-bargain",
   "metadata": {},
   "outputs": [],
   "source": [
    "exp_dag.commit()"
   ]
  },
  {
   "cell_type": "code",
   "execution_count": null,
   "id": "addressed-delta",
   "metadata": {},
   "outputs": [],
   "source": [
    "query = \"\"\"MATCH (n:net)-[t:trained]->(nn:net)\n",
    "           RETURN n.shorthand, n.ksv, t.deltas, nn.ksv\"\"\""
   ]
  },
  {
   "cell_type": "code",
   "execution_count": null,
   "id": "refined-formation",
   "metadata": {},
   "outputs": [],
   "source": [
    "result = exp_dag.query(query)"
   ]
  },
  {
   "cell_type": "code",
   "execution_count": null,
   "id": "charming-asbestos",
   "metadata": {},
   "outputs": [],
   "source": [
    "list(as_dicts(result))"
   ]
  },
  {
   "cell_type": "code",
   "execution_count": null,
   "id": "basic-fancy",
   "metadata": {},
   "outputs": [],
   "source": []
  },
  {
   "cell_type": "code",
   "execution_count": null,
   "id": "banner-advocacy",
   "metadata": {},
   "outputs": [],
   "source": []
  },
  {
   "cell_type": "code",
   "execution_count": null,
   "id": "demographic-filing",
   "metadata": {},
   "outputs": [],
   "source": []
  },
  {
   "cell_type": "code",
   "execution_count": null,
   "id": "martial-treasurer",
   "metadata": {},
   "outputs": [],
   "source": []
  },
  {
   "cell_type": "code",
   "execution_count": null,
   "id": "alive-cutting",
   "metadata": {},
   "outputs": [],
   "source": [
    "assert False, \"stop here\""
   ]
  },
  {
   "cell_type": "code",
   "execution_count": null,
   "id": "previous-bargain",
   "metadata": {},
   "outputs": [],
   "source": [
    "result.header"
   ]
  },
  {
   "cell_type": "code",
   "execution_count": null,
   "id": "initial-investing",
   "metadata": {},
   "outputs": [],
   "source": [
    "result.result_set"
   ]
  },
  {
   "cell_type": "code",
   "execution_count": null,
   "id": "mechanical-vegetarian",
   "metadata": {},
   "outputs": [],
   "source": []
  },
  {
   "cell_type": "code",
   "execution_count": null,
   "id": "streaming-switzerland",
   "metadata": {},
   "outputs": [],
   "source": []
  },
  {
   "cell_type": "code",
   "execution_count": null,
   "id": "funded-disco",
   "metadata": {},
   "outputs": [],
   "source": [
    "xor_net(xor_training_batch[0])"
   ]
  },
  {
   "cell_type": "raw",
   "id": "retired-style",
   "metadata": {},
   "source": [
    "t = mnm('2x2tx1t')"
   ]
  },
  {
   "cell_type": "code",
   "execution_count": null,
   "id": "central-crazy",
   "metadata": {},
   "outputs": [],
   "source": [
    "sv = tget('3b8bb063e8eab703')\n",
    "sv"
   ]
  },
  {
   "cell_type": "code",
   "execution_count": null,
   "id": "equipped-latvia",
   "metadata": {},
   "outputs": [],
   "source": [
    "t.set_state_from_vector(sv)"
   ]
  },
  {
   "cell_type": "code",
   "execution_count": null,
   "id": "serious-asian",
   "metadata": {},
   "outputs": [],
   "source": [
    "t.layers[0].M"
   ]
  },
  {
   "cell_type": "code",
   "execution_count": null,
   "id": "brilliant-crawford",
   "metadata": {},
   "outputs": [],
   "source": [
    "t2 = to_net(result)\n",
    "t2"
   ]
  },
  {
   "cell_type": "code",
   "execution_count": null,
   "id": "graphic-inspector",
   "metadata": {},
   "outputs": [],
   "source": []
  },
  {
   "cell_type": "code",
   "execution_count": null,
   "id": "fifteen-sense",
   "metadata": {},
   "outputs": [],
   "source": []
  },
  {
   "cell_type": "code",
   "execution_count": null,
   "id": "dimensional-klein",
   "metadata": {},
   "outputs": [],
   "source": []
  },
  {
   "cell_type": "code",
   "execution_count": null,
   "id": "rotary-vegetation",
   "metadata": {},
   "outputs": [],
   "source": []
  },
  {
   "cell_type": "code",
   "execution_count": null,
   "id": "expired-theorem",
   "metadata": {},
   "outputs": [],
   "source": [
    "redis_graph = Graph('social', r)\n",
    "\n",
    "john = Node(label='person', properties={'name': 'John Doe', 'age': 33, 'gender': 'male', 'status': 'single'})\n",
    "redis_graph.add_node(john)\n",
    "\n",
    "japan = Node(label='country', properties={'name': 'Japan'})\n",
    "redis_graph.add_node(japan)\n",
    "\n",
    "edge = Edge(john, 'visited', japan, properties={'purpose': 'pleasure'})\n",
    "redis_graph.add_edge(edge)\n",
    "\n",
    "redis_graph.commit()"
   ]
  },
  {
   "cell_type": "code",
   "execution_count": null,
   "id": "flying-grenada",
   "metadata": {},
   "outputs": [],
   "source": [
    "query = \"\"\"MATCH (p:person)-[v:visited {purpose:\"pleasure\"}]->(c:country)\n",
    "\t\t   RETURN p.name, p.age, v.purpose, c.name\"\"\"\n",
    "\n",
    "result = redis_graph.query(query)\n",
    "\n",
    "# Print resultset\n",
    "result.pretty_print()"
   ]
  },
  {
   "cell_type": "code",
   "execution_count": null,
   "id": "instrumental-blanket",
   "metadata": {},
   "outputs": [],
   "source": [
    "# Use parameters\n",
    "params = {'purpose':\"pleasure\"}\n",
    "query = \"\"\"MATCH (p:person)-[v:visited {purpose:$purpose}]->(c:country)\n",
    "\t\t   RETURN p.name, p.age, v.purpose, c.name\"\"\"\n",
    "\n",
    "result = redis_graph.query(query, params)\n",
    "\n",
    "# Print resultset\n",
    "result.pretty_print()"
   ]
  },
  {
   "cell_type": "code",
   "execution_count": null,
   "id": "brown-federation",
   "metadata": {},
   "outputs": [],
   "source": [
    "# Use query timeout to raise an exception if the query takes over 10 milliseconds\n",
    "result = redis_graph.query(query, params, timeout=10)"
   ]
  },
  {
   "cell_type": "code",
   "execution_count": null,
   "id": "corrected-launch",
   "metadata": {},
   "outputs": [],
   "source": [
    "# Iterate through resultset\n",
    "for record in result.result_set:\n",
    "    person_name = record[0]\n",
    "    person_age = record[1]\n",
    "    visit_purpose = record[2]\n",
    "    country_name = record[3]\n",
    "    print(f\"{person_name}, age {person_age}, visited {country_name} for {visit_purpose}\")"
   ]
  },
  {
   "cell_type": "code",
   "execution_count": null,
   "id": "ultimate-annex",
   "metadata": {},
   "outputs": [],
   "source": [
    "query = \"\"\"MATCH p = (:person)-[:visited {purpose:\"pleasure\"}]->(:country) RETURN p\"\"\"\n",
    "\n",
    "result = redis_graph.query(query)"
   ]
  },
  {
   "cell_type": "code",
   "execution_count": null,
   "id": "hourly-vault",
   "metadata": {},
   "outputs": [],
   "source": [
    "# Iterate through resultset\n",
    "for record in result.result_set:\n",
    "    path = record[0]\n",
    "    print(path)"
   ]
  },
  {
   "cell_type": "code",
   "execution_count": null,
   "id": "superb-wedding",
   "metadata": {},
   "outputs": [],
   "source": [
    "# All done, remove graph.\n",
    "redis_graph.delete()"
   ]
  },
  {
   "cell_type": "markdown",
   "id": "historical-eligibility",
   "metadata": {},
   "source": [
    "___"
   ]
  },
  {
   "cell_type": "code",
   "execution_count": null,
   "id": "rolled-voice",
   "metadata": {},
   "outputs": [],
   "source": [
    "assert False, \"stop here\""
   ]
  },
  {
   "cell_type": "markdown",
   "id": "royal-mustang",
   "metadata": {},
   "source": [
    "# Messing around"
   ]
  },
  {
   "cell_type": "markdown",
   "id": "infrared-withdrawal",
   "metadata": {},
   "source": [
    "## Make some various 'tensors'"
   ]
  },
  {
   "cell_type": "code",
   "execution_count": null,
   "id": "british-questionnaire",
   "metadata": {},
   "outputs": [],
   "source": [
    "small = np.random.randn(3)"
   ]
  },
  {
   "cell_type": "code",
   "execution_count": null,
   "id": "bored-sucking",
   "metadata": {},
   "outputs": [],
   "source": [
    "med = np.random.randn(64*64).reshape(64,64)"
   ]
  },
  {
   "cell_type": "code",
   "execution_count": null,
   "id": "intensive-purchase",
   "metadata": {},
   "outputs": [],
   "source": [
    "large = np.random.randn(1024*1024).reshape(1024,1024)"
   ]
  },
  {
   "cell_type": "code",
   "execution_count": null,
   "id": "helpful-atmosphere",
   "metadata": {},
   "outputs": [],
   "source": [
    "huge = np.random.randn(1<<(12+12)).reshape(1<<12,1<<12)"
   ]
  },
  {
   "cell_type": "code",
   "execution_count": null,
   "id": "headed-treasure",
   "metadata": {},
   "outputs": [],
   "source": [
    "mv = memoryview(huge)\n",
    "mv.nbytes, mv.itemsize, mv.shape, mv.contiguous"
   ]
  },
  {
   "cell_type": "markdown",
   "id": "drawn-crowd",
   "metadata": {},
   "source": [
    "## Put'em and get'em"
   ]
  },
  {
   "cell_type": "code",
   "execution_count": null,
   "id": "valid-rochester",
   "metadata": {},
   "outputs": [],
   "source": [
    "huge_k = tput(huge)"
   ]
  },
  {
   "cell_type": "code",
   "execution_count": null,
   "id": "skilled-monaco",
   "metadata": {},
   "outputs": [],
   "source": [
    "np.equal(huge, tget(huge_k)).all()"
   ]
  },
  {
   "cell_type": "code",
   "execution_count": null,
   "id": "suitable-dispute",
   "metadata": {},
   "outputs": [],
   "source": [
    "%%time\n",
    "tget(huge_k)"
   ]
  },
  {
   "cell_type": "markdown",
   "id": "uniform-hollow",
   "metadata": {},
   "source": [
    "### "
   ]
  },
  {
   "cell_type": "code",
   "execution_count": null,
   "id": "challenging-possession",
   "metadata": {},
   "outputs": [],
   "source": [
    "%timeit tget(huge_k)"
   ]
  },
  {
   "cell_type": "code",
   "execution_count": null,
   "id": "australian-context",
   "metadata": {},
   "outputs": [],
   "source": [
    "%%time\n",
    "con.save()"
   ]
  },
  {
   "cell_type": "code",
   "execution_count": null,
   "id": "complete-emperor",
   "metadata": {},
   "outputs": [],
   "source": [
    "t = np.array([1, 2, np.array([3, 4, np.array([5, 6]), 7]), 8])"
   ]
  },
  {
   "cell_type": "code",
   "execution_count": null,
   "id": "adverse-pittsburgh",
   "metadata": {},
   "outputs": [],
   "source": [
    "k = tput(t)"
   ]
  },
  {
   "cell_type": "code",
   "execution_count": null,
   "id": "interested-jacob",
   "metadata": {},
   "outputs": [],
   "source": [
    "%debug"
   ]
  },
  {
   "cell_type": "code",
   "execution_count": null,
   "id": "aggregate-hormone",
   "metadata": {},
   "outputs": [],
   "source": [
    "con.shutdown()"
   ]
  },
  {
   "cell_type": "code",
   "execution_count": null,
   "id": "monthly-demand",
   "metadata": {},
   "outputs": [],
   "source": [
    "con.tensorset('small', small)"
   ]
  },
  {
   "cell_type": "code",
   "execution_count": null,
   "id": "confident-commissioner",
   "metadata": {},
   "outputs": [],
   "source": [
    "back = con.tensorget('small')"
   ]
  },
  {
   "cell_type": "code",
   "execution_count": null,
   "id": "frequent-responsibility",
   "metadata": {},
   "outputs": [],
   "source": [
    "np.equal(back, small).all()"
   ]
  },
  {
   "cell_type": "code",
   "execution_count": null,
   "id": "earlier-headquarters",
   "metadata": {},
   "outputs": [],
   "source": [
    "med_k = tput(med)"
   ]
  },
  {
   "cell_type": "code",
   "execution_count": null,
   "id": "dressed-colony",
   "metadata": {},
   "outputs": [],
   "source": [
    "med.shape, med.dtype"
   ]
  },
  {
   "cell_type": "code",
   "execution_count": null,
   "id": "removable-bikini",
   "metadata": {},
   "outputs": [],
   "source": [
    "con.tensorset('med', med)"
   ]
  },
  {
   "cell_type": "code",
   "execution_count": null,
   "id": "parallel-repair",
   "metadata": {},
   "outputs": [],
   "source": [
    "back = con.tensorget('med')"
   ]
  },
  {
   "cell_type": "code",
   "execution_count": null,
   "id": "colonial-swedish",
   "metadata": {},
   "outputs": [],
   "source": [
    "np.equal(back, med).all()"
   ]
  },
  {
   "cell_type": "code",
   "execution_count": null,
   "id": "processed-palace",
   "metadata": {},
   "outputs": [],
   "source": [
    "mv = memoryview(small)\n",
    "mv.nbytes, mv.itemsize, mv.shape, mv.contiguous"
   ]
  },
  {
   "cell_type": "code",
   "execution_count": null,
   "id": "activated-hampton",
   "metadata": {},
   "outputs": [],
   "source": [
    "memoryview(huge).nbytes"
   ]
  },
  {
   "cell_type": "code",
   "execution_count": null,
   "id": "handy-cartoon",
   "metadata": {},
   "outputs": [],
   "source": [
    "sha256(med).hexdigest()"
   ]
  },
  {
   "cell_type": "code",
   "execution_count": null,
   "id": "atlantic-contribution",
   "metadata": {},
   "outputs": [],
   "source": [
    "globals()['small']"
   ]
  },
  {
   "cell_type": "code",
   "execution_count": null,
   "id": "original-adapter",
   "metadata": {},
   "outputs": [],
   "source": [
    "np.equal(med, tget(med_k)).all()"
   ]
  },
  {
   "cell_type": "code",
   "execution_count": null,
   "id": "aging-exchange",
   "metadata": {},
   "outputs": [],
   "source": [
    "large_k = tput(large)"
   ]
  },
  {
   "cell_type": "code",
   "execution_count": null,
   "id": "infrared-latin",
   "metadata": {},
   "outputs": [],
   "source": [
    "np.equal(large, tget(large_k)).all()"
   ]
  },
  {
   "cell_type": "code",
   "execution_count": null,
   "id": "representative-aberdeen",
   "metadata": {},
   "outputs": [],
   "source": [
    "huge = np.random.randn(1<<(12+12)).reshape(1<<12,1<<12)"
   ]
  },
  {
   "cell_type": "code",
   "execution_count": null,
   "id": "divided-champion",
   "metadata": {},
   "outputs": [],
   "source": [
    "huge_k = tput(huge)"
   ]
  },
  {
   "cell_type": "code",
   "execution_count": null,
   "id": "liquid-guard",
   "metadata": {},
   "outputs": [],
   "source": [
    "np.equal(huge, tget(huge_k)).all()"
   ]
  },
  {
   "cell_type": "code",
   "execution_count": null,
   "id": "hollow-revelation",
   "metadata": {},
   "outputs": [],
   "source": [
    "del(huge)"
   ]
  },
  {
   "cell_type": "code",
   "execution_count": null,
   "id": "challenging-compensation",
   "metadata": {},
   "outputs": [],
   "source": [
    "import gc"
   ]
  },
  {
   "cell_type": "code",
   "execution_count": null,
   "id": "minus-charlotte",
   "metadata": {},
   "outputs": [],
   "source": [
    "dir(gc)"
   ]
  },
  {
   "cell_type": "code",
   "execution_count": null,
   "id": "exclusive-source",
   "metadata": {},
   "outputs": [],
   "source": [
    "gc.get_stats()"
   ]
  },
  {
   "cell_type": "code",
   "execution_count": null,
   "id": "commercial-liability",
   "metadata": {},
   "outputs": [],
   "source": [
    "len(gc.get_objects())"
   ]
  },
  {
   "cell_type": "code",
   "execution_count": null,
   "id": "assigned-landing",
   "metadata": {},
   "outputs": [],
   "source": [
    "gc.collect()"
   ]
  },
  {
   "cell_type": "code",
   "execution_count": null,
   "id": "imposed-semester",
   "metadata": {},
   "outputs": [],
   "source": [
    "del(large)"
   ]
  },
  {
   "cell_type": "code",
   "execution_count": null,
   "id": "nonprofit-genome",
   "metadata": {},
   "outputs": [],
   "source": [
    "small_k = tput(small)"
   ]
  },
  {
   "cell_type": "code",
   "execution_count": null,
   "id": "elementary-journal",
   "metadata": {},
   "outputs": [],
   "source": [
    "small_k, med_k, large_k, huge_k"
   ]
  },
  {
   "cell_type": "code",
   "execution_count": null,
   "id": "ultimate-galaxy",
   "metadata": {},
   "outputs": [],
   "source": [
    "small_k, med_k, large_k, huge_k = ('b7cd41aff50429d2',\n",
    " '10b6611fbced0d1b',\n",
    " 'a02eed90c24aa100',\n",
    " '9828680612e33abc')"
   ]
  },
  {
   "cell_type": "code",
   "execution_count": null,
   "id": "intermediate-chassis",
   "metadata": {},
   "outputs": [],
   "source": [
    "small = tget(small_k)"
   ]
  },
  {
   "cell_type": "code",
   "execution_count": null,
   "id": "finite-finding",
   "metadata": {},
   "outputs": [],
   "source": [
    "med = tget(med_k)"
   ]
  },
  {
   "cell_type": "code",
   "execution_count": null,
   "id": "still-speaking",
   "metadata": {},
   "outputs": [],
   "source": [
    "large = tget(large_k)"
   ]
  },
  {
   "cell_type": "code",
   "execution_count": null,
   "id": "convinced-laundry",
   "metadata": {},
   "outputs": [],
   "source": [
    "huge = tget(huge_k)"
   ]
  },
  {
   "cell_type": "code",
   "execution_count": null,
   "id": "severe-plenty",
   "metadata": {},
   "outputs": [],
   "source": [
    "huge.shape"
   ]
  },
  {
   "cell_type": "code",
   "execution_count": null,
   "id": "structural-upper",
   "metadata": {},
   "outputs": [],
   "source": [
    "dir(con)"
   ]
  },
  {
   "cell_type": "code",
   "execution_count": null,
   "id": "institutional-possible",
   "metadata": {},
   "outputs": [],
   "source": [
    "con.info()"
   ]
  },
  {
   "cell_type": "code",
   "execution_count": null,
   "id": "confirmed-repair",
   "metadata": {},
   "outputs": [],
   "source": [
    "con.config_get()"
   ]
  },
  {
   "cell_type": "code",
   "execution_count": null,
   "id": "delayed-bikini",
   "metadata": {},
   "outputs": [],
   "source": [
    "con.config_set()"
   ]
  },
  {
   "cell_type": "code",
   "execution_count": null,
   "id": "knowing-controversy",
   "metadata": {},
   "outputs": [],
   "source": [
    "con.config_rewrite()"
   ]
  },
  {
   "cell_type": "code",
   "execution_count": null,
   "id": "structural-scientist",
   "metadata": {},
   "outputs": [],
   "source": [
    "%timeit con.ping()"
   ]
  },
  {
   "cell_type": "code",
   "execution_count": null,
   "id": "geological-being",
   "metadata": {},
   "outputs": [],
   "source": [
    "con.ping()"
   ]
  },
  {
   "cell_type": "code",
   "execution_count": null,
   "id": "leading-parameter",
   "metadata": {},
   "outputs": [],
   "source": [
    "con."
   ]
  },
  {
   "cell_type": "code",
   "execution_count": null,
   "id": "meaningful-number",
   "metadata": {},
   "outputs": [],
   "source": [
    "con.shutdown?"
   ]
  },
  {
   "cell_type": "code",
   "execution_count": null,
   "id": "technical-education",
   "metadata": {},
   "outputs": [],
   "source": [
    "con.shutdown()"
   ]
  },
  {
   "cell_type": "code",
   "execution_count": null,
   "id": "neural-check",
   "metadata": {},
   "outputs": [],
   "source": [
    "con.loadbackend('TORCH', )"
   ]
  },
  {
   "cell_type": "code",
   "execution_count": null,
   "id": "mathematical-julian",
   "metadata": {},
   "outputs": [],
   "source": [
    "con.ping()"
   ]
  },
  {
   "cell_type": "code",
   "execution_count": null,
   "id": "premium-scanner",
   "metadata": {},
   "outputs": [],
   "source": [
    "con.shutdown()"
   ]
  },
  {
   "cell_type": "code",
   "execution_count": null,
   "id": "elder-cutting",
   "metadata": {},
   "outputs": [],
   "source": [
    "np.abs(np.arange(3)-1)"
   ]
  },
  {
   "cell_type": "code",
   "execution_count": null,
   "id": "ranking-humanitarian",
   "metadata": {},
   "outputs": [],
   "source": [
    "np.multiply?"
   ]
  },
  {
   "cell_type": "code",
   "execution_count": null,
   "id": "endless-present",
   "metadata": {},
   "outputs": [],
   "source": []
  }
 ],
 "metadata": {
  "kernelspec": {
   "display_name": "Python 3",
   "language": "python",
   "name": "python3"
  },
  "language_info": {
   "codemirror_mode": {
    "name": "ipython",
    "version": 3
   },
   "file_extension": ".py",
   "mimetype": "text/x-python",
   "name": "python",
   "nbconvert_exporter": "python",
   "pygments_lexer": "ipython3",
   "version": "3.8.6"
  }
 },
 "nbformat": 4,
 "nbformat_minor": 5
}
