{
 "cells": [
  {
   "cell_type": "markdown",
   "id": "honest-skiing",
   "metadata": {},
   "source": [
    "# Graph Utilities for `neo4j`"
   ]
  },
  {
   "cell_type": "markdown",
   "id": "handy-national",
   "metadata": {},
   "source": [
    "# Preliminaries"
   ]
  },
  {
   "cell_type": "code",
   "execution_count": 1,
   "id": "neural-bleeding",
   "metadata": {},
   "outputs": [],
   "source": [
    "import numpy as np\n",
    "from pprint import pprint\n",
    "import neo4j"
   ]
  },
  {
   "cell_type": "code",
   "execution_count": 2,
   "id": "narrative-darwin",
   "metadata": {},
   "outputs": [],
   "source": [
    "import hashlib\n",
    "from hashlib import sha256\n",
    "from pprint import pprint\n",
    "import time"
   ]
  },
  {
   "cell_type": "markdown",
   "id": "quantitative-technique",
   "metadata": {},
   "source": [
    "# Utility functions"
   ]
  },
  {
   "cell_type": "markdown",
   "id": "olive-emphasis",
   "metadata": {},
   "source": [
    "## `numpy` array store"
   ]
  },
  {
   "cell_type": "code",
   "execution_count": 3,
   "id": "oriented-cylinder",
   "metadata": {},
   "outputs": [],
   "source": [
    "#from collections.abc import MutableMapping\n",
    "\n",
    "class NumpyStore():\n",
    "    def __init__(self, driver):\n",
    "        self.driver = driver\n",
    "    \n",
    "    @staticmethod\n",
    "    def _np_to_key(a):\n",
    "        m = sha256(a)\n",
    "        m.update(a.dtype.name.encode('utf8'))\n",
    "        m.update(str(a.shape).encode('utf8'))\n",
    "        return m.hexdigest()[:16]\n",
    "    \n",
    "    @staticmethod\n",
    "    def _add_np(tx, a, k):\n",
    "        tx.run(\"MERGE (:ndarray {k: $k, dtype: $dtype, shape: $shape, bytes: $bytes})\",\n",
    "               k=k,\n",
    "               dtype=a.dtype.name,\n",
    "               shape=list(a.shape),\n",
    "               bytes=a.tobytes())\n",
    "        \n",
    "    @staticmethod\n",
    "    def _get_np(tx, k):\n",
    "        response = tx.run(\"MATCH (a:ndarray) WHERE a.k = $k \"\n",
    "                          \"RETURN a.dtype as dtype, a.shape as shape, a.bytes as bytes\",\n",
    "                          k=k)\n",
    "        n_matches = 0\n",
    "        for r in response:\n",
    "            n_matches += 1\n",
    "            a = np.frombuffer(r['bytes'], dtype=r['dtype']).reshape(r['shape'])\n",
    "        assert n_matches <= 1, f\"Found {n_matches} arrays of key {k}, when should only be one.\"\n",
    "        if n_matches < 1:\n",
    "            raise KeyError\n",
    "        else:\n",
    "            return a\n",
    "        \n",
    "    def _tput(self, a):\n",
    "        k = self._np_to_key(a)\n",
    "        with self.driver.session() as session:\n",
    "            session.write_transaction(self._add_np, a, k=k)\n",
    "        return k\n",
    "\n",
    "    def _tget(self, k):\n",
    "        with self.driver.session() as session:\n",
    "            a = session.read_transaction(self._get_np, k)\n",
    "        assert k == self._np_to_key(a)\n",
    "        return a\n",
    "\n",
    "    def store(self, a):\n",
    "        return self._tput(a)\n",
    "    \n",
    "    def retrieve(self, key):\n",
    "        return self._tget(k)\n",
    "    \n",
    "    def __getitem__(self, k):\n",
    "        return self._tget(k)\n",
    "\n",
    "    def __setitem__(self, k, v):\n",
    "        return self._tput(v)\n",
    "\n",
    "    def __delitem__(self):\n",
    "        raise NotImplementedError\n",
    "\n",
    "    def __iter__(self):\n",
    "        raise NotImplementedError\n",
    "\n",
    "    def __len__(self):\n",
    "        raise NotImplementedError"
   ]
  },
  {
   "cell_type": "markdown",
   "id": "brown-brass",
   "metadata": {},
   "source": [
    "---"
   ]
  },
  {
   "cell_type": "markdown",
   "id": "solid-valley",
   "metadata": {},
   "source": [
    "# Tests"
   ]
  },
  {
   "cell_type": "markdown",
   "id": "signed-market",
   "metadata": {},
   "source": [
    "## Connecting"
   ]
  },
  {
   "cell_type": "markdown",
   "id": "limiting-edition",
   "metadata": {},
   "source": [
    "Need to get the `gpu-jupyter` and the `neo4j` docker containers connected. If run bare, something like:\n",
    "\n",
    "    docker network connect gpu-jupyter_default gpu-jupyter \n",
    "    docker network connect gpu-jupyter_default neo4j\n",
    "    docker network inspect gpu-jupyter_default \n",
    "    \n",
    "Docker has better ways than this."
   ]
  },
  {
   "cell_type": "code",
   "execution_count": 6,
   "id": "understanding-agent",
   "metadata": {},
   "outputs": [
    {
     "name": "stderr",
     "output_type": "stream",
     "text": [
      "<ipython-input-6-4bcb514fffa1>:3: ExperimentalWarning: The configuration may change in the future.\n",
      "  driver.verify_connectivity()\n"
     ]
    },
    {
     "name": "stdout",
     "output_type": "stream",
     "text": [
      "Testing ..........Passed\n"
     ]
    }
   ],
   "source": [
    "if __name__ == '__main__':\n",
    "    driver = neo4j.GraphDatabase.driver(\"neo4j://172.19.0.2:7687\", auth=(\"neo4j\", \"test\"))\n",
    "    driver.verify_connectivity()\n",
    "\n",
    "    print(\"Testing \", end='')\n",
    "    nps = NumpyStore(driver)\n",
    "    test_arrays = []\n",
    "    test_array_keys = []\n",
    "    for i in range(10):\n",
    "        print('.', end='')\n",
    "        for j in range(100):\n",
    "            for k in range(3):\n",
    "                a = np.random.randn(i*j).reshape(i,j)\n",
    "                test_arrays.append(a)\n",
    "                k = nps.store(a)\n",
    "                test_array_keys.append(k)\n",
    "                assert np.equal(nps[k], a).all()\n",
    "    print(\"Passed\")"
   ]
  },
  {
   "cell_type": "markdown",
   "id": "chinese-investigation",
   "metadata": {},
   "source": [
    "---"
   ]
  },
  {
   "cell_type": "markdown",
   "id": "annual-clone",
   "metadata": {},
   "source": [
    "# Publishing"
   ]
  },
  {
   "cell_type": "markdown",
   "id": "adjacent-bristol",
   "metadata": {},
   "source": [
    "To produce an importable `graph_utils_neo4j.py`:\n",
    "1. Save this notebook\n",
    "1. Uncomment the `jupyter nbconvert` line below\n",
    "1. Execute it.\n",
    "1. Comment out the convert again\n",
    "1. Save the notebook again in that form"
   ]
  },
  {
   "cell_type": "code",
   "execution_count": 7,
   "id": "detailed-direction",
   "metadata": {},
   "outputs": [
    {
     "name": "stdout",
     "output_type": "stream",
     "text": [
      "[NbConvertApp] Converting notebook graph_utils_neo4j.ipynb to script\n",
      "[NbConvertApp] Writing 3571 bytes to graph_utils_neo4j.py\n"
     ]
    }
   ],
   "source": [
    "###!jupyter nbconvert --to script 'graph_utils_neo4j.ipynb'"
   ]
  },
  {
   "cell_type": "code",
   "execution_count": null,
   "id": "foreign-wallet",
   "metadata": {},
   "outputs": [],
   "source": []
  }
 ],
 "metadata": {
  "kernelspec": {
   "display_name": "Python 3",
   "language": "python",
   "name": "python3"
  },
  "language_info": {
   "codemirror_mode": {
    "name": "ipython",
    "version": 3
   },
   "file_extension": ".py",
   "mimetype": "text/x-python",
   "name": "python",
   "nbconvert_exporter": "python",
   "pygments_lexer": "ipython3",
   "version": "3.8.6"
  }
 },
 "nbformat": 4,
 "nbformat_minor": 5
}
