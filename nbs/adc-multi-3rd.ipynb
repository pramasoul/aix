{
 "cells": [
  {
   "cell_type": "markdown",
   "metadata": {},
   "source": [
    "# ADC multi 3rd\n",
    "From an analog input, produce a digital output. We explore multiple architectures."
   ]
  },
  {
   "cell_type": "markdown",
   "metadata": {},
   "source": [
    "# Preamble"
   ]
  },
  {
   "cell_type": "code",
   "execution_count": 1,
   "metadata": {},
   "outputs": [],
   "source": [
    "%load_ext autoreload\n",
    "%autoreload 2\n",
    "#%matplotlib widget\n",
    "%matplotlib inline"
   ]
  },
  {
   "cell_type": "code",
   "execution_count": 2,
   "metadata": {},
   "outputs": [],
   "source": [
    "import bqplot as bq\n",
    "import ipywidgets as widgets\n",
    "import matplotlib.pyplot as plt\n",
    "from matplotlib import rcParams\n",
    "rcParams['figure.max_open_warning'] = 0\n",
    "import numpy as np\n",
    "from sidecar import Sidecar\n",
    "import time"
   ]
  },
  {
   "cell_type": "markdown",
   "metadata": {},
   "source": [
    "Fetch our tools:"
   ]
  },
  {
   "cell_type": "code",
   "execution_count": 3,
   "metadata": {},
   "outputs": [],
   "source": [
    "from lib.nn import Network, Layer, IdentityLayer, AffineLayer, MapLayer\n",
    "from lib.nnbench import NNBench, NetMaker\n",
    "from lib.nnvis import NNVis, ADCResponsePlot, NetResponsePlot"
   ]
  },
  {
   "cell_type": "markdown",
   "metadata": {},
   "source": [
    "## A tool to plot the transfer function"
   ]
  },
  {
   "cell_type": "code",
   "execution_count": 4,
   "metadata": {},
   "outputs": [
    {
     "name": "stdout",
     "output_type": "stream",
     "text": [
      "skipping (moved to nnvis.py)\n"
     ]
    }
   ],
   "source": [
    "%%script echo skipping (moved to nnvis.py)\n",
    "class ADCResponsePlot():\n",
    "    def __init__(self, margin=20,\n",
    "                 min_aspect_ratio=0.5,\n",
    "                 max_aspect_ratio=2,\n",
    "                 title=None,\n",
    "                 **kwargs):\n",
    "        x = np.arange(-0.125, 1.125, 0.001)\n",
    "        xs = bq.LinearScale()\n",
    "        ys = bq.LinearScale()\n",
    "        xax = bq.Axis(scale=xs, label='input')\n",
    "        yax = bq.Axis(scale=ys, orientation='vertical', label='bits')\n",
    "        line = bq.Lines(x=x, y=x, scales={'x': xs, 'y': ys})\n",
    "        fig = self.fig = bq.Figure(marks=[line], axes=[xax, yax],\n",
    "                                   min_aspect_ratio=min_aspect_ratio,\n",
    "                                   max_aspect_ratio=max_aspect_ratio,\n",
    "                                   title=title)\n",
    "        dictfilt = lambda x, y: dict([ (i,x[i]) for i in x if i in set(y) ])\n",
    "        fig.fig_margin = kwargs.get('fig_margin') \\\n",
    "            or dict(top=margin, bottom=margin, left=margin, right=margin)\n",
    "        layout_defaults = {}\n",
    "        layout_defaults.update(dictfilt(kwargs, ('height', 'width')))\n",
    "        fig.layout = layout_defaults\n",
    "    \n",
    "    def __call__(self, fun):\n",
    "        fig = self.fig\n",
    "        line = fig.marks[0]\n",
    "        #outs = np.array([fun(x) for x in line.x])\n",
    "        outs = fun(line.x.reshape(-1,1))\n",
    "        y = np.swapaxes(outs, 0, 1)\n",
    "        line.y = y\n",
    "        #return fig\n",
    "        return self"
   ]
  },
  {
   "cell_type": "code",
   "execution_count": 5,
   "metadata": {},
   "outputs": [],
   "source": [
    "def plot_ADC(fun, **kwargs):\n",
    "    return ADCResponsePlot(**kwargs)(fun).fig"
   ]
  },
  {
   "cell_type": "code",
   "execution_count": 6,
   "metadata": {},
   "outputs": [
    {
     "name": "stdout",
     "output_type": "stream",
     "text": [
      "skipping (moved to nnvis.py)\n"
     ]
    }
   ],
   "source": [
    "%%script echo skipping (moved to nnvis.py)\n",
    "class NetResponsePlot(ADCResponsePlot):\n",
    "    def __init__(self, net, **kwargs):\n",
    "        super().__init__(**kwargs)\n",
    "        self.net = net\n",
    "\n",
    "    def __call__(self, state_vector=None):\n",
    "        net = self.net\n",
    "        if state_vector:\n",
    "            net.set_state_from_vector(state_vector)\n",
    "        fig = self.fig\n",
    "        line = fig.marks[0]\n",
    "        outs = net(line.x.reshape(-1,1))\n",
    "        y = np.swapaxes(outs, 0, 1)\n",
    "        line.y = y\n",
    "        return self"
   ]
  },
  {
   "cell_type": "markdown",
   "metadata": {},
   "source": [
    "## Reference implementation\n",
    "Here's what we want to accomplish, but by network means:"
   ]
  },
  {
   "cell_type": "markdown",
   "metadata": {},
   "source": [
    "### 3-bit linear binary output"
   ]
  },
  {
   "cell_type": "code",
   "execution_count": 7,
   "metadata": {},
   "outputs": [],
   "source": [
    "def adc(input):\n",
    "    m = max(0, min(7, int(8*input)))\n",
    "    return np.array([(m>>2)&1, (m>>1)&1, m&1]) * 2 - 1\n",
    "\n",
    "vadc = lambda v: np.array([adc(p) for p in v])\n",
    "#plot_ADC(vadc)"
   ]
  },
  {
   "cell_type": "markdown",
   "metadata": {},
   "source": [
    "### 3-bit linear Gray coded output"
   ]
  },
  {
   "cell_type": "code",
   "execution_count": 8,
   "metadata": {},
   "outputs": [],
   "source": [
    "def gradc(input):\n",
    "    m = max(0, min(7, int(8*input)))\n",
    "    g = m ^ (m >> 1)\n",
    "    return np.array([(g>>2)&1, (g>>1)&1, g&1]) * 2 - 1\n",
    "\n",
    "vgradc = lambda v: np.array([gradc(p) for p in v])\n",
    "#plot_ADC(vgradc)"
   ]
  },
  {
   "cell_type": "markdown",
   "metadata": {},
   "source": [
    "___"
   ]
  },
  {
   "cell_type": "markdown",
   "metadata": {},
   "source": [
    "# Networks\n",
    "We create some variations, which we will train all at once in a race."
   ]
  },
  {
   "cell_type": "markdown",
   "metadata": {},
   "source": [
    "## Use `NetMaker` to make the networks from shorthand"
   ]
  },
  {
   "cell_type": "code",
   "execution_count": 9,
   "metadata": {},
   "outputs": [],
   "source": [
    "#titles = '1x3t 1x8tx8tx3t 1x8sx8sx3t 1x8tx8tx3tx3t'.split()\n",
    "titles = ['1x8tx8tx3t', '1x8tx8tx3tx3t'] * 2\n",
    "nm = NetMaker()\n",
    "nets = [nm(s) for s in titles]"
   ]
  },
  {
   "cell_type": "markdown",
   "metadata": {},
   "source": [
    "## Paul's hand-crafted Siren"
   ]
  },
  {
   "cell_type": "code",
   "execution_count": 10,
   "metadata": {},
   "outputs": [],
   "source": [
    "net = Network()\n",
    "net.extend(AffineLayer(1,3))\n",
    "net.layers[-1].set_state_from_vector(np.array([1,2,4,.51,.51,.51])*np.pi*2)\n",
    "net.extend(MapLayer(np.sin, np.cos))\n",
    "net.extend(AffineLayer(3,3))\n",
    "net.layers[-1].set_state_from_vector(np.concatenate(((np.eye(3) * 1).ravel(), np.zeros(3))))\n",
    "net.extend(MapLayer(np.tanh, lambda d: 1.0 - np.tanh(d)**2))\n",
    "nets.append(net)\n",
    "titles.append(\"Paul's\")"
   ]
  },
  {
   "cell_type": "markdown",
   "metadata": {},
   "source": [
    "Save interesting state vectors, starting with our starting point"
   ]
  },
  {
   "cell_type": "code",
   "execution_count": 11,
   "metadata": {},
   "outputs": [],
   "source": [
    "state_vectors = [list(net.state_vector() for net in nets)]"
   ]
  },
  {
   "cell_type": "code",
   "execution_count": 12,
   "metadata": {},
   "outputs": [],
   "source": [
    "starting_eta = 0.01\n",
    "for net in nets:\n",
    "    net.eta = starting_eta"
   ]
  },
  {
   "cell_type": "markdown",
   "metadata": {},
   "source": [
    "# Graphs to the right"
   ]
  },
  {
   "cell_type": "code",
   "execution_count": 13,
   "metadata": {},
   "outputs": [],
   "source": [
    "grid = widgets.GridspecLayout(3, 2, height='680px',\n",
    "                      grid_gap='10px',\n",
    "                      justify_content='center',\n",
    "                      align_items='top')\n",
    "\n",
    "#nrps = np.array([NetResponsePlot(net, height='220px', margin=30) \\\n",
    "#            for i in range(grid.n_rows * grid.n_columns)]).reshape(grid.n_rows, grid.n_columns)\n",
    "nrps = np.array([NetResponsePlot(net, height='220px', margin=30, title=title) for net, title in zip(nets, titles)])\n",
    "\n",
    "for i, nrp in enumerate(nrps):\n",
    "    column = i % grid.n_columns\n",
    "    row = i // grid.n_columns\n",
    "    grid[row, column] = nrp.fig\n",
    "\n",
    "batch_w = widgets.FloatText(value=-1.0, description='Batch:', max_width=6, disabled=True)\n",
    "eta_w = widgets.FloatLogSlider(\n",
    "    value=starting_eta,\n",
    "    base=10,\n",
    "    min=-4,\n",
    "    max=0, # min exponent of base\n",
    "    step=0.1, # exponent step\n",
    "    description='eta'\n",
    ")\n",
    "\n",
    "def on_eta_change(change):\n",
    "    eta = change['new']\n",
    "    for net in nets:\n",
    "        net.eta = eta\n",
    "\n",
    "eta_w.observe(on_eta_change, names='value')\n",
    "\n",
    "grid[-1,-1] = widgets.VBox((batch_w, eta_w))\n",
    "        \n",
    "with Sidecar(title='grid') as gside:\n",
    "    display(grid)"
   ]
  },
  {
   "cell_type": "code",
   "execution_count": 14,
   "metadata": {},
   "outputs": [],
   "source": [
    "_ = [nrp() for nrp in nrps]"
   ]
  },
  {
   "cell_type": "code",
   "execution_count": 15,
   "metadata": {},
   "outputs": [
    {
     "data": {
      "text/plain": [
       "0.01"
      ]
     },
     "execution_count": 15,
     "metadata": {},
     "output_type": "execute_result"
    }
   ],
   "source": [
    "nets[-1].eta"
   ]
  },
  {
   "cell_type": "markdown",
   "metadata": {},
   "source": [
    "# Training\n",
    "We will train our candidates in parallel, on the same training data, and watch their evolution."
   ]
  },
  {
   "cell_type": "markdown",
   "metadata": {},
   "source": [
    "## Training data"
   ]
  },
  {
   "cell_type": "code",
   "execution_count": 16,
   "metadata": {},
   "outputs": [],
   "source": [
    "x = np.arange(0, 1, 1.0/(8*8)).reshape(-1,1) # 8 points in each output region\n",
    "training_batch_cluster = [(x, vadc(x))]"
   ]
  },
  {
   "cell_type": "code",
   "execution_count": 17,
   "metadata": {},
   "outputs": [],
   "source": [
    "#training_batch_cluster"
   ]
  },
  {
   "cell_type": "markdown",
   "metadata": {},
   "source": [
    "## Training loop"
   ]
  },
  {
   "cell_type": "code",
   "execution_count": 18,
   "metadata": {},
   "outputs": [],
   "source": [
    "batch = 0"
   ]
  },
  {
   "cell_type": "code",
   "execution_count": 19,
   "metadata": {},
   "outputs": [],
   "source": [
    "for i in range(10):\n",
    "    for net in nets:\n",
    "        net.learn(training_batch_cluster)\n",
    "    _ = [nrp() for nrp in nrps]\n",
    "    batch += 1\n",
    "    batch_w.value = batch\n",
    "    time.sleep(0.5)"
   ]
  },
  {
   "cell_type": "code",
   "execution_count": 20,
   "metadata": {},
   "outputs": [],
   "source": [
    "for i in range(100):\n",
    "    for net in nets:\n",
    "        net.learn(training_batch_cluster)\n",
    "    batch += 1\n",
    "    if i % 10 == 0:\n",
    "        _ = [nrp() for nrp in nrps]\n",
    "        batch_w.value = batch"
   ]
  },
  {
   "cell_type": "code",
   "execution_count": null,
   "metadata": {},
   "outputs": [],
   "source": [
    "for i in range(100_000):\n",
    "    for net in nets:\n",
    "        net.learn(training_batch_cluster)\n",
    "    batch += 1\n",
    "    if i % 100 == 0:\n",
    "        _ = [nrp() for nrp in nrps]\n",
    "        batch_w.value = batch"
   ]
  },
  {
   "cell_type": "code",
   "execution_count": null,
   "metadata": {},
   "outputs": [],
   "source": [
    "for i in range(100_000):\n",
    "    for net in nets:\n",
    "        net.learn(training_batch_cluster)\n",
    "    batch += 1\n",
    "    if i % 500 == 0:\n",
    "        _ = [nrp() for nrp in nrps]\n",
    "        batch_w.value = batch"
   ]
  },
  {
   "cell_type": "code",
   "execution_count": null,
   "metadata": {},
   "outputs": [],
   "source": [
    "assert False, \"stop here\""
   ]
  },
  {
   "cell_type": "code",
   "execution_count": null,
   "metadata": {},
   "outputs": [],
   "source": [
    "for i in range(100_000):\n",
    "    for j in range(min(int(2**(i/4)), 500)):\n",
    "        for net in nets:\n",
    "            net.learn(training_batch_cluster)\n",
    "        batch += 1\n",
    "    _ = [nrp() for nrp in nrps]\n",
    "    batch_w.value = batch"
   ]
  },
  {
   "cell_type": "code",
   "execution_count": null,
   "metadata": {},
   "outputs": [],
   "source": [
    "nrps[0]()"
   ]
  },
  {
   "cell_type": "code",
   "execution_count": null,
   "metadata": {},
   "outputs": [],
   "source": [
    "nrps[1]()"
   ]
  },
  {
   "cell_type": "code",
   "execution_count": null,
   "metadata": {},
   "outputs": [],
   "source": [
    "nrps[3].net.layers"
   ]
  },
  {
   "cell_type": "code",
   "execution_count": null,
   "metadata": {},
   "outputs": [],
   "source": [
    "nets"
   ]
  },
  {
   "cell_type": "code",
   "execution_count": null,
   "metadata": {},
   "outputs": [],
   "source": [
    "nrps"
   ]
  },
  {
   "cell_type": "code",
   "execution_count": null,
   "metadata": {},
   "outputs": [],
   "source": [
    "[hash(nrp.fig) for nrp in nrps]"
   ]
  },
  {
   "cell_type": "code",
   "execution_count": null,
   "metadata": {},
   "outputs": [],
   "source": [
    "nrps[3].net(np.array([0.5]))"
   ]
  },
  {
   "cell_type": "code",
   "execution_count": null,
   "metadata": {},
   "outputs": [],
   "source": []
  }
 ],
 "metadata": {
  "kernelspec": {
   "display_name": "Python 3",
   "language": "python",
   "name": "python3"
  },
  "language_info": {
   "codemirror_mode": {
    "name": "ipython",
    "version": 3
   },
   "file_extension": ".py",
   "mimetype": "text/x-python",
   "name": "python",
   "nbconvert_exporter": "python",
   "pygments_lexer": "ipython3",
   "version": "3.8.6"
  }
 },
 "nbformat": 4,
 "nbformat_minor": 4
}
