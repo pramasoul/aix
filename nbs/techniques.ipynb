{
 "cells": [
  {
   "cell_type": "markdown",
   "id": "starting-exception",
   "metadata": {},
   "source": [
    "# Little techniques"
   ]
  },
  {
   "cell_type": "markdown",
   "id": "hydraulic-provincial",
   "metadata": {},
   "source": [
    "## memoization"
   ]
  },
  {
   "cell_type": "code",
   "execution_count": 1,
   "id": "hired-austin",
   "metadata": {},
   "outputs": [],
   "source": [
    "try:\n",
    "    from functools import cache # 3.9 et seq\n",
    "except:\n",
    "    from functools import lru_cache as cache # 3.8.8 and earlier"
   ]
  },
  {
   "cell_type": "code",
   "execution_count": 2,
   "id": "coupled-avatar",
   "metadata": {},
   "outputs": [],
   "source": [
    "@cache\n",
    "def fib(n):\n",
    "    if n < 2:\n",
    "        return 1\n",
    "    return fib(n-1) + fib(n-2)"
   ]
  },
  {
   "cell_type": "code",
   "execution_count": 3,
   "id": "advanced-rebound",
   "metadata": {},
   "outputs": [
    {
     "data": {
      "text/plain": [
       "70330367711422815821835254877183549770181269836358732742604905087154537118196933579742249494562611733487750449241765991088186363265450223647106012053374121273867339111198139373125598767690091902245245323403501"
      ]
     },
     "execution_count": 3,
     "metadata": {},
     "output_type": "execute_result"
    }
   ],
   "source": [
    "fib(1000)"
   ]
  },
  {
   "cell_type": "markdown",
   "id": "clear-delhi",
   "metadata": {},
   "source": [
    "## Code from strings"
   ]
  },
  {
   "cell_type": "code",
   "execution_count": 4,
   "id": "demographic-cattle",
   "metadata": {},
   "outputs": [],
   "source": [
    "s = \"\"\"\n",
    "def bar(n):\n",
    "    for i in range(n):\n",
    "        yield i+i\n",
    "\"\"\""
   ]
  },
  {
   "cell_type": "code",
   "execution_count": 5,
   "id": "prerequisite-conspiracy",
   "metadata": {},
   "outputs": [],
   "source": [
    "cx = {}\n",
    "exec(s, cx)"
   ]
  },
  {
   "cell_type": "code",
   "execution_count": 6,
   "id": "specialized-seafood",
   "metadata": {},
   "outputs": [
    {
     "data": {
      "text/plain": [
       "dict_keys(['__builtins__', 'bar'])"
      ]
     },
     "execution_count": 6,
     "metadata": {},
     "output_type": "execute_result"
    }
   ],
   "source": [
    "cx.keys()"
   ]
  },
  {
   "cell_type": "code",
   "execution_count": 7,
   "id": "close-logan",
   "metadata": {},
   "outputs": [
    {
     "data": {
      "text/plain": [
       "[0, 2, 4]"
      ]
     },
     "execution_count": 7,
     "metadata": {},
     "output_type": "execute_result"
    }
   ],
   "source": [
    "list(cx['bar'](3))"
   ]
  },
  {
   "cell_type": "markdown",
   "id": "dutch-roberts",
   "metadata": {},
   "source": [
    "## Access to notebook cells"
   ]
  },
  {
   "cell_type": "code",
   "execution_count": 8,
   "id": "marine-reading",
   "metadata": {},
   "outputs": [
    {
     "data": {
      "text/plain": [
       "70330367711422815821835254877183549770181269836358732742604905087154537118196933579742249494562611733487750449241765991088186363265450223647106012053374121273867339111198139373125598767690091902245245323403501"
      ]
     },
     "execution_count": 8,
     "metadata": {},
     "output_type": "execute_result"
    }
   ],
   "source": [
    "Out[3]"
   ]
  },
  {
   "cell_type": "code",
   "execution_count": 9,
   "id": "specific-passenger",
   "metadata": {},
   "outputs": [
    {
     "data": {
      "text/plain": [
       "'@cache\\ndef fib(n):\\n    if n < 2:\\n        return 1\\n    return fib(n-1) + fib(n-2)'"
      ]
     },
     "execution_count": 9,
     "metadata": {},
     "output_type": "execute_result"
    }
   ],
   "source": [
    "In[2]"
   ]
  },
  {
   "cell_type": "markdown",
   "id": "minute-receiver",
   "metadata": {},
   "source": [
    "Indexing `Out` from the end doesn't work:"
   ]
  },
  {
   "cell_type": "code",
   "execution_count": 10,
   "id": "starting-dakota",
   "metadata": {},
   "outputs": [
    {
     "name": "stdout",
     "output_type": "stream",
     "text": [
      "Keyerror: -2\n"
     ]
    }
   ],
   "source": [
    "try:\n",
    "    Out[-2]\n",
    "except KeyError as e:\n",
    "    print(f\"Keyerror: {e}\")"
   ]
  },
  {
   "cell_type": "markdown",
   "id": "negative-newsletter",
   "metadata": {},
   "source": [
    "But you can take the length, and calculate an index to use in a subsequent cell:"
   ]
  },
  {
   "cell_type": "code",
   "execution_count": 11,
   "id": "arctic-opening",
   "metadata": {},
   "outputs": [],
   "source": [
    "oi = len(Out) - 2"
   ]
  },
  {
   "cell_type": "code",
   "execution_count": 12,
   "id": "communist-barcelona",
   "metadata": {},
   "outputs": [
    {
     "data": {
      "text/plain": [
       "70330367711422815821835254877183549770181269836358732742604905087154537118196933579742249494562611733487750449241765991088186363265450223647106012053374121273867339111198139373125598767690091902245245323403501"
      ]
     },
     "execution_count": 12,
     "metadata": {},
     "output_type": "execute_result"
    }
   ],
   "source": [
    "Out[oi]"
   ]
  },
  {
   "cell_type": "markdown",
   "id": "after-prior",
   "metadata": {},
   "source": [
    "### Capture code from a notebook cell"
   ]
  },
  {
   "cell_type": "code",
   "execution_count": 13,
   "id": "mature-september",
   "metadata": {},
   "outputs": [],
   "source": [
    "def foo(n):\n",
    "    for i in range(n):\n",
    "        yield 1<<i"
   ]
  },
  {
   "cell_type": "code",
   "execution_count": 14,
   "id": "ancient-siemens",
   "metadata": {},
   "outputs": [],
   "source": [
    "s = In[-2]"
   ]
  },
  {
   "cell_type": "code",
   "execution_count": 15,
   "id": "stylish-laser",
   "metadata": {},
   "outputs": [],
   "source": [
    "cx = {}\n",
    "exec(s, cx)"
   ]
  },
  {
   "cell_type": "code",
   "execution_count": 16,
   "id": "permanent-writer",
   "metadata": {},
   "outputs": [
    {
     "data": {
      "text/plain": [
       "[1, 2, 4, 8]"
      ]
     },
     "execution_count": 16,
     "metadata": {},
     "output_type": "execute_result"
    }
   ],
   "source": [
    "list(cx['foo'](4))"
   ]
  },
  {
   "cell_type": "code",
   "execution_count": null,
   "id": "disciplinary-boating",
   "metadata": {},
   "outputs": [],
   "source": []
  }
 ],
 "metadata": {
  "kernelspec": {
   "display_name": "Python 3",
   "language": "python",
   "name": "python3"
  },
  "language_info": {
   "codemirror_mode": {
    "name": "ipython",
    "version": 3
   },
   "file_extension": ".py",
   "mimetype": "text/x-python",
   "name": "python",
   "nbconvert_exporter": "python",
   "pygments_lexer": "ipython3",
   "version": "3.8.6"
  }
 },
 "nbformat": 4,
 "nbformat_minor": 5
}
