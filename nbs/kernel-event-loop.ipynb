{
 "cells": [
  {
   "cell_type": "markdown",
   "id": "aboriginal-least",
   "metadata": {},
   "source": [
    "# Taking over the event loop\n",
    "* https://ipython.readthedocs.io/en/stable/config/eventloops.html#integrating-with-a-new-event-loop-in-the-kernel"
   ]
  },
  {
   "cell_type": "markdown",
   "id": "stable-reservation",
   "metadata": {},
   "source": [
    "# Status\n",
    "This hasn't worked as I hoped. My implementation in `trio` of a kernel event loop, to allow other work to proceed as well, works maybe one of five runs. It's obvious I don't understand how to do this."
   ]
  },
  {
   "cell_type": "code",
   "execution_count": null,
   "id": "grateful-cuisine",
   "metadata": {},
   "outputs": [],
   "source": [
    "from ipykernel.eventloops import register_integration\n",
    "import ipywidgets as widgets\n",
    "from IPython.display import display\n",
    "import math\n",
    "import time"
   ]
  },
  {
   "cell_type": "code",
   "execution_count": null,
   "id": "super-cannon",
   "metadata": {},
   "outputs": [],
   "source": [
    "%gui fui"
   ]
  },
  {
   "cell_type": "markdown",
   "id": "vocational-adult",
   "metadata": {},
   "source": [
    "# Circulation sliders"
   ]
  },
  {
   "cell_type": "code",
   "execution_count": null,
   "id": "valid-cassette",
   "metadata": {},
   "outputs": [],
   "source": [
    "from math import pi\n",
    "\n",
    "v_w = widgets.FloatSlider(\n",
    "    value=0.0,\n",
    "    min=-1.0,\n",
    "    max=1.0,\n",
    "    step=0.01,\n",
    "    description='Sin:',\n",
    "    disabled=False,\n",
    "    continuous_update=False,\n",
    "    orientation='vertical',\n",
    "    readout=True,\n",
    "    readout_format='.2f',\n",
    ")\n",
    "\n",
    "h_w = widgets.FloatSlider(\n",
    "    value=0.0,\n",
    "    min=-1.0,\n",
    "    max=1.0,\n",
    "    step=0.01,\n",
    "    description='Cos:',\n",
    "    disabled=False,\n",
    "    continuous_update=False,\n",
    "    orientation='horizontal',\n",
    "    readout=True,\n",
    "    readout_format='.2f',\n",
    ")\n",
    "\n",
    "t_w = widgets.IntSlider(\n",
    "    description='t',\n",
    ")\n",
    "\n",
    "shutdown_b_w = widgets.Button(description=\"Shutdown worker\")\n",
    "clear_b_w = widgets.Button(description=\"clear\")\n",
    "out_w = widgets.Output(layout={'border': '1px solid black'})\n",
    "display(v_w, h_w, t_w, shutdown_b_w, clear_b_w, out_w)"
   ]
  },
  {
   "cell_type": "markdown",
   "id": "changing-client",
   "metadata": {},
   "source": [
    "# Trio version of event loop"
   ]
  },
  {
   "cell_type": "code",
   "execution_count": null,
   "id": "thirty-while",
   "metadata": {},
   "outputs": [],
   "source": [
    "async def circulate(t, v, h):\n",
    "    while True:\n",
    "        #print(f\"t slider at {t.value}\")\n",
    "        t_f = (t.value / 100) * 2 * math.pi\n",
    "        v.value = math.sin(t_f)\n",
    "        h.value = math.cos(t_f)\n",
    "        await trio.sleep(0.1)"
   ]
  },
  {
   "cell_type": "code",
   "execution_count": null,
   "id": "stuck-gospel",
   "metadata": {},
   "outputs": [],
   "source": [
    "import trio\n",
    "\n",
    "observations = dict()\n",
    "def take_note_of(value, name):\n",
    "    observations[name] = value\n",
    "    \n",
    "@register_integration('tri_2')\n",
    "def loop_tri_2(kernel):\n",
    "    async def tri_loop_2():\n",
    "        #take_note_of(kernel._poll_interval, 'kpi')\n",
    "        #take_note_of(kernel.do_one_iteration, 'doi')\n",
    "        while True:\n",
    "            kernel.do_one_iteration()\n",
    "            await trio.sleep(10 * kernel._poll_interval)\n",
    "            #await trio.sleep(0)\n",
    "\n",
    "    async def both():\n",
    "        async with trio.open_nursery() as nursery:\n",
    "            nursery.start_soon(tri_loop_2)\n",
    "            #await trio.sleep(0.5)\n",
    "            nursery.start_soon(circulate, t_w, v_w, h_w)\n",
    "\n",
    "    trio.run(both)"
   ]
  },
  {
   "cell_type": "code",
   "execution_count": null,
   "id": "delayed-minimum",
   "metadata": {},
   "outputs": [],
   "source": [
    "time.sleep(1)"
   ]
  },
  {
   "cell_type": "code",
   "execution_count": null,
   "id": "confidential-three",
   "metadata": {},
   "outputs": [],
   "source": [
    "%gui tri_2"
   ]
  },
  {
   "cell_type": "code",
   "execution_count": null,
   "id": "inner-possible",
   "metadata": {},
   "outputs": [],
   "source": [
    "time.sleep(1)"
   ]
  },
  {
   "cell_type": "code",
   "execution_count": null,
   "id": "musical-framework",
   "metadata": {},
   "outputs": [],
   "source": [
    "1+1"
   ]
  },
  {
   "cell_type": "code",
   "execution_count": null,
   "id": "joined-spring",
   "metadata": {},
   "outputs": [],
   "source": [
    "assert False, \"stop here\""
   ]
  },
  {
   "cell_type": "code",
   "execution_count": null,
   "id": "neutral-metadata",
   "metadata": {},
   "outputs": [],
   "source": [
    "%gui"
   ]
  },
  {
   "cell_type": "markdown",
   "id": "south-iceland",
   "metadata": {},
   "source": [
    "---"
   ]
  },
  {
   "cell_type": "markdown",
   "id": "weekly-thousand",
   "metadata": {},
   "source": [
    "# The idiot's event loop"
   ]
  },
  {
   "cell_type": "code",
   "execution_count": null,
   "id": "stretch-perfume",
   "metadata": {},
   "outputs": [],
   "source": [
    "@register_integration('foo')\n",
    "def loop_foo(kernel):\n",
    "    \"\"\"Start a kernel with an idiot's event loop.\"\"\"\n",
    "    import time\n",
    "\n",
    "    while True:\n",
    "        kernel.do_one_iteration()\n",
    "        time.sleep(kernel._poll_interval)"
   ]
  },
  {
   "cell_type": "code",
   "execution_count": null,
   "id": "located-acoustic",
   "metadata": {},
   "outputs": [],
   "source": [
    "%gui foo"
   ]
  },
  {
   "cell_type": "code",
   "execution_count": null,
   "id": "falling-douglas",
   "metadata": {},
   "outputs": [],
   "source": [
    "1+1+1"
   ]
  },
  {
   "cell_type": "markdown",
   "id": "illegal-violence",
   "metadata": {},
   "source": [
    "## Two sliders linked in the kernel"
   ]
  },
  {
   "cell_type": "code",
   "execution_count": null,
   "id": "bound-dependence",
   "metadata": {},
   "outputs": [],
   "source": [
    "a = widgets.FloatSlider()\n",
    "b = widgets.FloatSlider()\n",
    "l = widgets.link((a, 'value'), (b, 'value'))\n",
    "display(a,b)\n",
    "\n",
    "#mylink = widgets.jslink((a, 'value'), (b, 'value'))"
   ]
  },
  {
   "cell_type": "code",
   "execution_count": null,
   "id": "inclusive-negative",
   "metadata": {},
   "outputs": [],
   "source": [
    "mylink.unlink()"
   ]
  },
  {
   "cell_type": "code",
   "execution_count": null,
   "id": "respective-terry",
   "metadata": {},
   "outputs": [],
   "source": [
    "%gui"
   ]
  },
  {
   "cell_type": "markdown",
   "id": "absolute-participation",
   "metadata": {},
   "source": [
    "# with more latency"
   ]
  },
  {
   "cell_type": "code",
   "execution_count": null,
   "id": "overhead-order",
   "metadata": {},
   "outputs": [],
   "source": [
    "@register_integration('slofoo')\n",
    "def loop_slofoo(kernel):\n",
    "    \"\"\"Start a kernel with an idiot's event loop, but slower.\"\"\"\n",
    "    import time\n",
    "\n",
    "    while True:\n",
    "        kernel.do_one_iteration()\n",
    "        time.sleep(100 * kernel._poll_interval)"
   ]
  },
  {
   "cell_type": "code",
   "execution_count": null,
   "id": "respiratory-martin",
   "metadata": {},
   "outputs": [],
   "source": [
    "%gui slofoo"
   ]
  },
  {
   "cell_type": "code",
   "execution_count": null,
   "id": "opened-carter",
   "metadata": {},
   "outputs": [],
   "source": [
    "1+1+1"
   ]
  },
  {
   "cell_type": "markdown",
   "id": "hybrid-illinois",
   "metadata": {},
   "source": [
    "# Trio?"
   ]
  },
  {
   "cell_type": "code",
   "execution_count": null,
   "id": "effective-series",
   "metadata": {},
   "outputs": [],
   "source": [
    "import trio\n",
    "\n",
    "@register_integration('tri_1')\n",
    "def loop_tri_1(kernel):\n",
    "    async def tri_loop_1():\n",
    "        while True:\n",
    "            kernel.do_one_iteration()\n",
    "            await trio.sleep(kernel._poll_interval)\n",
    "\n",
    "    trio.run(tri_loop_1)"
   ]
  },
  {
   "cell_type": "code",
   "execution_count": null,
   "id": "ethical-signature",
   "metadata": {},
   "outputs": [],
   "source": [
    "%gui tri_1"
   ]
  },
  {
   "cell_type": "code",
   "execution_count": null,
   "id": "disabled-linux",
   "metadata": {},
   "outputs": [],
   "source": [
    "1+1"
   ]
  },
  {
   "cell_type": "code",
   "execution_count": null,
   "id": "vanilla-culture",
   "metadata": {},
   "outputs": [],
   "source": [
    "import ipywidgets as widgets\n",
    "from IPython.display import display"
   ]
  },
  {
   "cell_type": "code",
   "execution_count": null,
   "id": "eastern-spell",
   "metadata": {},
   "outputs": [],
   "source": [
    "%gui "
   ]
  },
  {
   "cell_type": "code",
   "execution_count": null,
   "id": "final-andrews",
   "metadata": {},
   "outputs": [],
   "source": []
  },
  {
   "cell_type": "code",
   "execution_count": null,
   "id": "compact-tokyo",
   "metadata": {},
   "outputs": [],
   "source": [
    "1+1"
   ]
  },
  {
   "cell_type": "code",
   "execution_count": null,
   "id": "increased-document",
   "metadata": {},
   "outputs": [],
   "source": [
    "%gui"
   ]
  },
  {
   "cell_type": "code",
   "execution_count": null,
   "id": "covered-respect",
   "metadata": {},
   "outputs": [],
   "source": [
    "observed_kpi, observed_doi"
   ]
  },
  {
   "cell_type": "code",
   "execution_count": null,
   "id": "discrete-bandwidth",
   "metadata": {},
   "outputs": [],
   "source": []
  }
 ],
 "metadata": {
  "kernelspec": {
   "display_name": "Python 3",
   "language": "python",
   "name": "python3"
  },
  "language_info": {
   "codemirror_mode": {
    "name": "ipython",
    "version": 3
   },
   "file_extension": ".py",
   "mimetype": "text/x-python",
   "name": "python",
   "nbconvert_exporter": "python",
   "pygments_lexer": "ipython3",
   "version": "3.8.6"
  }
 },
 "nbformat": 4,
 "nbformat_minor": 5
}
