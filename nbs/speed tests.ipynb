{
 "cells": [
  {
   "cell_type": "markdown",
   "id": "differential-center",
   "metadata": {},
   "source": [
    "# Speed Tests"
   ]
  },
  {
   "cell_type": "code",
   "execution_count": 1,
   "id": "generous-sender",
   "metadata": {},
   "outputs": [],
   "source": [
    "%load_ext autoreload\n",
    "%autoreload 2\n",
    "#%matplotlib inline\n",
    "%matplotlib widget"
   ]
  },
  {
   "cell_type": "code",
   "execution_count": 2,
   "id": "auburn-technology",
   "metadata": {},
   "outputs": [],
   "source": [
    "import numpy as np\n",
    "from nn import Network\n",
    "from nnbench import NetMaker, NNMEG"
   ]
  },
  {
   "cell_type": "markdown",
   "id": "material-punishment",
   "metadata": {},
   "source": [
    "# Is `NNMEG` slower than `Network`\n",
    "Does `NNMEG`, the instrumented subclass of `Network`, cost us much in speed?"
   ]
  },
  {
   "cell_type": "code",
   "execution_count": 3,
   "id": "alive-reference",
   "metadata": {},
   "outputs": [],
   "source": [
    "nm = NetMaker()\n",
    "net = nm('1x8tx8tx3tx3t')"
   ]
  },
  {
   "cell_type": "code",
   "execution_count": 4,
   "id": "painful-trust",
   "metadata": {},
   "outputs": [],
   "source": [
    "mnm = NetMaker(NNMEG)\n",
    "mnet = mnm('1x8tx8tx3tx3t')\n",
    "starting_sv = net.state_vector()\n",
    "mnet.set_state_from_vector(starting_sv)"
   ]
  },
  {
   "cell_type": "markdown",
   "id": "demonstrated-nursing",
   "metadata": {},
   "source": [
    "## 3-bit linear binary output"
   ]
  },
  {
   "cell_type": "code",
   "execution_count": 5,
   "id": "amended-respect",
   "metadata": {},
   "outputs": [],
   "source": [
    "def adc(input):\n",
    "    m = max(0, min(7, int(8*input)))\n",
    "    return np.array([(m>>2)&1, (m>>1)&1, m&1]) * 2 - 1\n",
    "\n",
    "vadc = lambda v: np.array([adc(p) for p in v])"
   ]
  },
  {
   "cell_type": "markdown",
   "id": "gentle-hospital",
   "metadata": {},
   "source": [
    "## Training data"
   ]
  },
  {
   "cell_type": "code",
   "execution_count": 6,
   "id": "furnished-deputy",
   "metadata": {},
   "outputs": [],
   "source": [
    "x = np.arange(0, 1, 1.0/(8*8)).reshape(-1,1) # 8 points in each output region\n",
    "training_batch_cluster = [(x, vadc(x))]"
   ]
  },
  {
   "cell_type": "code",
   "execution_count": 7,
   "id": "fifth-adrian",
   "metadata": {},
   "outputs": [],
   "source": [
    "training_batch_clusters = [[(x, vadc(x))] for x in (np.arange(0, 1, 1.0/(8*(1<<i))).reshape(-1,1) for i in range(10))]"
   ]
  },
  {
   "cell_type": "code",
   "execution_count": 8,
   "id": "typical-pattern",
   "metadata": {},
   "outputs": [
    {
     "data": {
      "text/plain": [
       "[(array([[0.   ],\n",
       "         [0.125],\n",
       "         [0.25 ],\n",
       "         [0.375],\n",
       "         [0.5  ],\n",
       "         [0.625],\n",
       "         [0.75 ],\n",
       "         [0.875]]),\n",
       "  array([[-1, -1, -1],\n",
       "         [-1, -1,  1],\n",
       "         [-1,  1, -1],\n",
       "         [-1,  1,  1],\n",
       "         [ 1, -1, -1],\n",
       "         [ 1, -1,  1],\n",
       "         [ 1,  1, -1],\n",
       "         [ 1,  1,  1]]))]"
      ]
     },
     "execution_count": 8,
     "metadata": {},
     "output_type": "execute_result"
    }
   ],
   "source": [
    "training_batch_clusters[0]"
   ]
  },
  {
   "cell_type": "code",
   "execution_count": 9,
   "id": "arbitrary-runner",
   "metadata": {},
   "outputs": [
    {
     "data": {
      "text/plain": [
       "4096"
      ]
     },
     "execution_count": 9,
     "metadata": {},
     "output_type": "execute_result"
    }
   ],
   "source": [
    "len(training_batch_clusters[-1][-1][0])"
   ]
  },
  {
   "cell_type": "code",
   "execution_count": 10,
   "id": "breathing-haven",
   "metadata": {},
   "outputs": [
    {
     "data": {
      "text/plain": [
       "True"
      ]
     },
     "execution_count": 10,
     "metadata": {},
     "output_type": "execute_result"
    }
   ],
   "source": [
    "np.all(net(x) == mnet(x))"
   ]
  },
  {
   "cell_type": "markdown",
   "id": "increased-writer",
   "metadata": {},
   "source": [
    "## A short batch"
   ]
  },
  {
   "cell_type": "code",
   "execution_count": 11,
   "id": "ruled-macro",
   "metadata": {},
   "outputs": [],
   "source": [
    "net.set_state_from_vector(starting_sv)\n",
    "mnet.set_state_from_vector(starting_sv)"
   ]
  },
  {
   "cell_type": "code",
   "execution_count": 12,
   "id": "detected-sweet",
   "metadata": {},
   "outputs": [
    {
     "name": "stdout",
     "output_type": "stream",
     "text": [
      "579 µs ± 5.17 µs per loop (mean ± std. dev. of 7 runs, 1000 loops each)\n"
     ]
    }
   ],
   "source": [
    "%timeit net.learn(training_batch_clusters[0])"
   ]
  },
  {
   "cell_type": "code",
   "execution_count": 13,
   "id": "unsigned-advocacy",
   "metadata": {},
   "outputs": [
    {
     "name": "stdout",
     "output_type": "stream",
     "text": [
      "592 µs ± 3.37 µs per loop (mean ± std. dev. of 7 runs, 1000 loops each)\n"
     ]
    }
   ],
   "source": [
    "%timeit mnet.learn(training_batch_clusters[0])"
   ]
  },
  {
   "cell_type": "code",
   "execution_count": 14,
   "id": "behavioral-numbers",
   "metadata": {},
   "outputs": [
    {
     "name": "stdout",
     "output_type": "stream",
     "text": [
      "27.3 µs ± 428 ns per loop (mean ± std. dev. of 7 runs, 10000 loops each)\n"
     ]
    }
   ],
   "source": [
    "%timeit mnet.deltas()"
   ]
  },
  {
   "cell_type": "markdown",
   "id": "accomplished-swedish",
   "metadata": {},
   "source": [
    "## A long batch"
   ]
  },
  {
   "cell_type": "code",
   "execution_count": 15,
   "id": "prerequisite-making",
   "metadata": {},
   "outputs": [],
   "source": [
    "net.set_state_from_vector(starting_sv)\n",
    "mnet.set_state_from_vector(starting_sv)"
   ]
  },
  {
   "cell_type": "code",
   "execution_count": 16,
   "id": "derived-falls",
   "metadata": {},
   "outputs": [
    {
     "name": "stdout",
     "output_type": "stream",
     "text": [
      "216 ms ± 1.93 ms per loop (mean ± std. dev. of 7 runs, 10 loops each)\n"
     ]
    }
   ],
   "source": [
    "%timeit net.learn(training_batch_clusters[9])"
   ]
  },
  {
   "cell_type": "code",
   "execution_count": 17,
   "id": "recognized-oregon",
   "metadata": {},
   "outputs": [
    {
     "name": "stdout",
     "output_type": "stream",
     "text": [
      "218 ms ± 1.32 ms per loop (mean ± std. dev. of 7 runs, 1 loop each)\n"
     ]
    }
   ],
   "source": [
    "%timeit mnet.learn(training_batch_clusters[9])"
   ]
  },
  {
   "cell_type": "code",
   "execution_count": 18,
   "id": "junior-tyler",
   "metadata": {},
   "outputs": [
    {
     "name": "stdout",
     "output_type": "stream",
     "text": [
      "26.3 µs ± 548 ns per loop (mean ± std. dev. of 7 runs, 10000 loops each)\n"
     ]
    }
   ],
   "source": [
    "%timeit mnet.deltas()"
   ]
  },
  {
   "cell_type": "markdown",
   "id": "fundamental-biography",
   "metadata": {},
   "source": [
    "## Answers:\n",
    "* It adds < 3% delay if we don't call `deltas`\n",
    "* `deltas()` is fast and independent of batch size"
   ]
  }
 ],
 "metadata": {
  "kernelspec": {
   "display_name": "Python 3",
   "language": "python",
   "name": "python3"
  },
  "language_info": {
   "codemirror_mode": {
    "name": "ipython",
    "version": 3
   },
   "file_extension": ".py",
   "mimetype": "text/x-python",
   "name": "python",
   "nbconvert_exporter": "python",
   "pygments_lexer": "ipython3",
   "version": "3.8.6"
  }
 },
 "nbformat": 4,
 "nbformat_minor": 5
}
