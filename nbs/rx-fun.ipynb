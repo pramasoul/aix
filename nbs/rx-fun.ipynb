{
 "cells": [
  {
   "cell_type": "markdown",
   "id": "worldwide-house",
   "metadata": {},
   "source": [
    "# ReactiveX in Python\n",
    "* https://github.com/ReactiveX/RxPY\n",
    "* https://rxpy.readthedocs.io/en/latest/get_started.html"
   ]
  },
  {
   "cell_type": "markdown",
   "id": "other-sender",
   "metadata": {},
   "source": [
    "# Try out with widgets"
   ]
  },
  {
   "cell_type": "code",
   "execution_count": null,
   "id": "sublime-resistance",
   "metadata": {},
   "outputs": [],
   "source": [
    "import ipywidgets as widgets\n",
    "from IPython.display import display"
   ]
  },
  {
   "cell_type": "markdown",
   "id": "expired-latino",
   "metadata": {},
   "source": [
    "A means to make a widget callback into an observable"
   ]
  },
  {
   "cell_type": "code",
   "execution_count": null,
   "id": "hollywood-mambo",
   "metadata": {},
   "outputs": [],
   "source": [
    "def make_push_widget(w):\n",
    "    def push_widget(observer, scheduler):\n",
    "        # make the callback to attach to the widget\n",
    "        def on_value_change(change):\n",
    "            new_value = change['new']\n",
    "            #print(f\"ovc new_value is {new_value}\")\n",
    "            observer.on_next(change['new'])\n",
    "            if new_value == 100:\n",
    "                observer.on_completed()\n",
    "        # attach callback to widget\n",
    "        w.observe(on_value_change, names='value')\n",
    "    # return the observation function\n",
    "    return push_widget\n",
    "\n",
    "def slider_bender(s, v):\n",
    "    s.value = v"
   ]
  },
  {
   "cell_type": "code",
   "execution_count": null,
   "id": "european-ownership",
   "metadata": {},
   "outputs": [],
   "source": [
    "from math import pi\n",
    "\n",
    "v = widgets.FloatSlider(\n",
    "    value=0.0,\n",
    "    min=-1.0,\n",
    "    max=1.0,\n",
    "    step=0.01,\n",
    "    description='Sin:',\n",
    "    disabled=False,\n",
    "    continuous_update=False,\n",
    "    orientation='vertical',\n",
    "    readout=True,\n",
    "    readout_format='.2f',\n",
    ")\n",
    "\n",
    "h = widgets.FloatSlider(\n",
    "    value=0.0,\n",
    "    min=-1.0,\n",
    "    max=1.0,\n",
    "    step=0.01,\n",
    "    description='Cos:',\n",
    "    disabled=False,\n",
    "    continuous_update=False,\n",
    "    orientation='horizontal',\n",
    "    readout=True,\n",
    "    readout_format='.2f',\n",
    ")\n",
    "\n",
    "t = widgets.IntSlider(\n",
    "    description='t',\n",
    ")\n",
    "\n",
    "display(v)\n",
    "display(h)\n",
    "display(t)"
   ]
  },
  {
   "cell_type": "code",
   "execution_count": null,
   "id": "simplified-silly",
   "metadata": {},
   "outputs": [],
   "source": [
    "from math import sin, cos, pi\n",
    "import rx\n",
    "\n",
    "def circulate(t):\n",
    "    slider_bender(v, sin(2*pi*t/50))\n",
    "    slider_bender(h, cos(2*pi*t/50))\n",
    "\n",
    "t_src = rx.create(make_push_widget(t))"
   ]
  },
  {
   "cell_type": "code",
   "execution_count": null,
   "id": "manufactured-permission",
   "metadata": {},
   "outputs": [],
   "source": [
    "t_src.subscribe(\n",
    "    on_next = circulate,\n",
    "    on_error = lambda e: print(\"Error Occurred: {0}\".format(e)),\n",
    "    on_completed = lambda: print(\"Done!\"),\n",
    ")"
   ]
  },
  {
   "cell_type": "code",
   "execution_count": null,
   "id": "royal-banner",
   "metadata": {},
   "outputs": [],
   "source": []
  },
  {
   "cell_type": "markdown",
   "id": "established-cedar",
   "metadata": {},
   "source": [
    "---"
   ]
  },
  {
   "cell_type": "markdown",
   "id": "rocky-regression",
   "metadata": {},
   "source": [
    "# Scratch"
   ]
  },
  {
   "cell_type": "code",
   "execution_count": null,
   "id": "boring-channel",
   "metadata": {},
   "outputs": [],
   "source": [
    "assert False, \"stop here if entering from above\""
   ]
  },
  {
   "cell_type": "code",
   "execution_count": null,
   "id": "floppy-commons",
   "metadata": {},
   "outputs": [],
   "source": []
  },
  {
   "cell_type": "code",
   "execution_count": null,
   "id": "direct-creator",
   "metadata": {},
   "outputs": [],
   "source": [
    "import rx"
   ]
  },
  {
   "cell_type": "code",
   "execution_count": null,
   "id": "mature-plane",
   "metadata": {},
   "outputs": [],
   "source": [
    "from rx import create\n",
    "\n",
    "def push_five_strings(observer, scheduler):\n",
    "    observer.on_next(\"Alpha\")\n",
    "    observer.on_next(\"Beta\")\n",
    "    observer.on_next(\"Gamma\")\n",
    "    observer.on_next(\"Delta\")\n",
    "    observer.on_next(\"Epsilon\")\n",
    "    observer.on_completed()\n",
    "\n",
    "source = create(push_five_strings)\n",
    "\n",
    "source.subscribe(\n",
    "    on_next = lambda i: print(\"Received {0}\".format(i)),\n",
    "    on_error = lambda e: print(\"Error Occurred: {0}\".format(e)),\n",
    "    on_completed = lambda: print(\"Done!\"),\n",
    ")"
   ]
  },
  {
   "cell_type": "code",
   "execution_count": null,
   "id": "nearby-hollow",
   "metadata": {},
   "outputs": [],
   "source": [
    "from rx import operators as ops\n",
    "\n",
    "source = rx.of(\"Alpha\", \"Beta\", \"Gamma\", \"Delta\", \"Epsilon\")\n",
    "\n",
    "composed = source.pipe(\n",
    "    ops.map(lambda s: len(s)),\n",
    "    ops.filter(lambda i: i >= 5)\n",
    ")\n",
    "composed.subscribe(lambda value: print(\"Received {0}\".format(value)))"
   ]
  },
  {
   "cell_type": "code",
   "execution_count": null,
   "id": "nuclear-citizen",
   "metadata": {},
   "outputs": [],
   "source": [
    "from rx import of, operators as op\n",
    "\n",
    "of(\"Alpha\", \"Beta\", \"Gamma\", \"Delta\", \"Epsilon\").pipe(\n",
    "    op.map(lambda s: len(s)),\n",
    "    op.filter(lambda i: i >= 5)\n",
    ").subscribe(lambda value: print(\"Received {0}\".format(value)))"
   ]
  },
  {
   "cell_type": "code",
   "execution_count": null,
   "id": "seven-paintball",
   "metadata": {},
   "outputs": [],
   "source": [
    "import rx\n",
    "\n",
    "def lowercase():\n",
    "    def _lowercase(source):\n",
    "        def subscribe(observer, scheduler = None):\n",
    "            def on_next(value):\n",
    "                observer.on_next(value.lower())\n",
    "\n",
    "            return source.subscribe(\n",
    "                on_next,\n",
    "                observer.on_error,\n",
    "                observer.on_completed,\n",
    "                scheduler)\n",
    "        return rx.create(subscribe)\n",
    "    return _lowercase\n",
    "\n",
    "tramp = rx.scheduler.TrampolineScheduler()\n",
    "\n",
    "rx.of(\"Alpha\", \"Beta\", \"Gamma\", \"Delta\", \"Epsilon\").pipe(\n",
    "        lowercase()\n",
    "     ).subscribe(lambda value: print(\"Received {0}\".format(value)), scheduler=tramp)"
   ]
  },
  {
   "cell_type": "markdown",
   "id": "labeled-division",
   "metadata": {},
   "source": [
    "---"
   ]
  },
  {
   "cell_type": "code",
   "execution_count": null,
   "id": "rocky-wiring",
   "metadata": {},
   "outputs": [],
   "source": [
    "w = widgets.IntSlider()\n",
    "x = widgets.IntSlider()"
   ]
  },
  {
   "cell_type": "code",
   "execution_count": null,
   "id": "extraordinary-bibliography",
   "metadata": {},
   "outputs": [],
   "source": [
    "w.value = x.value"
   ]
  },
  {
   "cell_type": "code",
   "execution_count": null,
   "id": "hourly-release",
   "metadata": {},
   "outputs": [],
   "source": [
    "from rx import create\n",
    "\n",
    "def push_widget_x(observer, scheduler):\n",
    "    def on_value_change(change):\n",
    "        new_value = change['new']\n",
    "        #print(f\"ovc new_value is {new_value}\")\n",
    "        observer.on_next(change['new'])\n",
    "        if new_value == 100:\n",
    "            observer.on_completed()\n",
    "    x.observe(on_value_change, names='value')\n",
    "    #observer.on_completed()\n",
    "\n",
    "source = create(push_widget_x)\n",
    "\n",
    "def w_bender(v):\n",
    "    w.value = v\n",
    "\n",
    "source.subscribe(\n",
    "    #on_next = lambda i: print(\"Received {0}\".format(i)),\n",
    "    on_next = lambda i: w_bender(100-i),\n",
    "    on_error = lambda e: print(\"Error Occurred: {0}\".format(e)),\n",
    "    on_completed = lambda: print(\"Done!\"),\n",
    ")\n"
   ]
  },
  {
   "cell_type": "code",
   "execution_count": null,
   "id": "twenty-helen",
   "metadata": {},
   "outputs": [],
   "source": [
    "display(x)\n",
    "display(w)\n",
    "display(x)"
   ]
  },
  {
   "cell_type": "code",
   "execution_count": null,
   "id": "matched-photograph",
   "metadata": {},
   "outputs": [],
   "source": [
    "import time\n",
    "time.sleep(5)"
   ]
  },
  {
   "cell_type": "code",
   "execution_count": null,
   "id": "listed-model",
   "metadata": {},
   "outputs": [],
   "source": [
    "source.subscribe(\n",
    "    #on_next = lambda i: print(\"Received {0}\".format(i)),\n",
    "    on_next = lambda i: w_bender(100-i),\n",
    "    on_error = lambda e: print(\"Error Occurred: {0}\".format(e)),\n",
    "    on_completed = lambda: print(\"Done!\"),\n",
    ")"
   ]
  },
  {
   "cell_type": "code",
   "execution_count": null,
   "id": "intense-harmony",
   "metadata": {},
   "outputs": [],
   "source": [
    "source.subscribe(\n",
    "    on_next = lambda i: print(\"Received {0}\".format(i)),\n",
    "    on_error = lambda e: print(\"Error Occurred: {0}\".format(e)),\n",
    "    on_completed = lambda: print(\"Done!\"),\n",
    ")"
   ]
  },
  {
   "cell_type": "code",
   "execution_count": null,
   "id": "helpful-mission",
   "metadata": {},
   "outputs": [],
   "source": [
    "int_range = widgets.IntSlider()\n",
    "output2 = widgets.Output()\n",
    "\n",
    "display(int_range, output2)\n",
    "\n",
    "def on_value_change(change):\n",
    "    with output2:\n",
    "        print(change['new'])\n",
    "\n",
    "int_range.observe(on_value_change, names='value')"
   ]
  },
  {
   "cell_type": "code",
   "execution_count": null,
   "id": "documentary-retention",
   "metadata": {},
   "outputs": [],
   "source": [
    "display(x)\n",
    "display(w)\n",
    "display(x)"
   ]
  },
  {
   "cell_type": "code",
   "execution_count": null,
   "id": "further-valley",
   "metadata": {},
   "outputs": [],
   "source": [
    "from rx import create\n",
    "\n",
    "source = create(make_push_widget(x))\n",
    "\n",
    "source.subscribe(\n",
    "    #on_next = lambda i: print(\"Received {0}\".format(i)),\n",
    "    on_next = lambda i: slider_bender(w, 100-i),\n",
    "    on_error = lambda e: print(\"Error Occurred: {0}\".format(e)),\n",
    "    on_completed = lambda: print(\"Done!\"),\n",
    ")"
   ]
  },
  {
   "cell_type": "markdown",
   "id": "advisory-choice",
   "metadata": {},
   "source": [
    "---"
   ]
  }
 ],
 "metadata": {
  "kernelspec": {
   "display_name": "Python 3",
   "language": "python",
   "name": "python3"
  },
  "language_info": {
   "codemirror_mode": {
    "name": "ipython",
    "version": 3
   },
   "file_extension": ".py",
   "mimetype": "text/x-python",
   "name": "python",
   "nbconvert_exporter": "python",
   "pygments_lexer": "ipython3",
   "version": "3.8.6"
  }
 },
 "nbformat": 4,
 "nbformat_minor": 5
}
