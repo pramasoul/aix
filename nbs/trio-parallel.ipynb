{
 "cells": [
  {
   "cell_type": "markdown",
   "id": "wrapped-emphasis",
   "metadata": {},
   "source": [
    "# trio-parallel\n",
    "* https://github.com/richardsheridan/trio-parallel\n",
    "* https://trio-parallel.readthedocs.io/en/latest/reference.html"
   ]
  },
  {
   "cell_type": "markdown",
   "id": "expected-consultation",
   "metadata": {},
   "source": [
    "# *Status :-(*\n",
    "*The `trio-parallel` example, which works fine as a python program, doesn't work in the notebook environment.*"
   ]
  },
  {
   "cell_type": "code",
   "execution_count": 1,
   "id": "annual-battlefield",
   "metadata": {},
   "outputs": [
    {
     "name": "stdout",
     "output_type": "stream",
     "text": [
      "Requirement already satisfied: trio-parallel in /opt/conda/lib/python3.8/site-packages (0.2.0)\n",
      "Requirement already satisfied: trio in /opt/conda/lib/python3.8/site-packages (from trio-parallel) (0.18.0)\n",
      "Requirement already satisfied: idna in /opt/conda/lib/python3.8/site-packages (from trio->trio-parallel) (2.10)\n",
      "Requirement already satisfied: attrs>=19.2.0 in /opt/conda/lib/python3.8/site-packages (from trio->trio-parallel) (20.3.0)\n",
      "Requirement already satisfied: outcome in /opt/conda/lib/python3.8/site-packages (from trio->trio-parallel) (1.1.0)\n",
      "Requirement already satisfied: async-generator>=1.9 in /opt/conda/lib/python3.8/site-packages (from trio->trio-parallel) (1.10)\n",
      "Requirement already satisfied: sortedcontainers in /opt/conda/lib/python3.8/site-packages (from trio->trio-parallel) (2.3.0)\n",
      "Requirement already satisfied: sniffio in /opt/conda/lib/python3.8/site-packages (from trio->trio-parallel) (1.2.0)\n",
      "Note: you may need to restart the kernel to use updated packages.\n"
     ]
    }
   ],
   "source": [
    "%pip install -U trio-parallel"
   ]
  },
  {
   "cell_type": "code",
   "execution_count": 2,
   "id": "advisory-peninsula",
   "metadata": {},
   "outputs": [],
   "source": [
    "%autoawait trio"
   ]
  },
  {
   "cell_type": "code",
   "execution_count": 3,
   "id": "worse-fashion",
   "metadata": {},
   "outputs": [],
   "source": [
    "import multiprocessing\n",
    "import trio\n",
    "import trio_parallel\n",
    "import time"
   ]
  },
  {
   "cell_type": "code",
   "execution_count": 4,
   "id": "accomplished-attendance",
   "metadata": {},
   "outputs": [],
   "source": [
    "def hard_work(n, x):\n",
    "    t = time.perf_counter() + n\n",
    "    y = x\n",
    "    while time.perf_counter() < t:\n",
    "        x = not x\n",
    "    print(y, \"transformed into\", x)\n",
    "    return x\n",
    "\n",
    "\n",
    "async def too_slow():\n",
    "    await trio_parallel.run_sync(hard_work, 20, False, cancellable=True)\n",
    "\n",
    "\n",
    "async def amain():\n",
    "    t0 = time.perf_counter()\n",
    "    async with trio.open_nursery() as nursery:\n",
    "        nursery.start_soon(trio_parallel.run_sync, hard_work, 3, True)\n",
    "        nursery.start_soon(trio_parallel.run_sync, hard_work, 1, False)\n",
    "        nursery.start_soon(too_slow)\n",
    "        result = await trio_parallel.run_sync(hard_work, 2, None)\n",
    "        nursery.cancel_scope.cancel()\n",
    "    print(\"got\", result, \"in\", time.perf_counter() - t0, \"seconds\")"
   ]
  },
  {
   "cell_type": "code",
   "execution_count": 6,
   "id": "institutional-kansas",
   "metadata": {},
   "outputs": [
    {
     "name": "stderr",
     "output_type": "stream",
     "text": [
      "Traceback (most recent call last):\n",
      "  File \"/opt/conda/lib/python3.8/site-packages/IPython/core/interactiveshell.py\", line 3425, in run_code\n",
      "    await eval(code_obj, self.user_global_ns, self.user_ns)\n",
      "  File \"<ipython-input-6-e11196ac7e3e>\", line 1, in <module>\n",
      "    await amain()\n",
      "  File \"<ipython-input-4-d0f932559a9a>\", line 21, in amain\n",
      "    nursery.cancel_scope.cancel()\n",
      "  File \"/opt/conda/lib/python3.8/site-packages/trio/_core/_run.py\", line 815, in __aexit__\n",
      "    raise combined_error_from_nursery\n",
      "trio.MultiError: BrokenWorkerError(\"<SpawnProcess name='trio-parallel worker process 3' pid=3055 parent=3032 started daemon> died unexpectedly\"), BrokenWorkerError(\"<SpawnProcess name='trio-parallel worker process 1' pid=3057 parent=3032 started daemon> died unexpectedly\"), BrokenWorkerError(\"<SpawnProcess name='trio-parallel worker process 2' pid=3054 parent=3032 started daemon> died unexpectedly\"), BrokenWorkerError(\"<SpawnProcess name='trio-parallel worker process 0' pid=3056 parent=3032 started daemon> died unexpectedly\")\n",
      "\n",
      "Details of embedded exception 1:\n",
      "\n",
      "  Traceback (most recent call last):\n",
      "    File \"/opt/conda/lib/python3.8/site-packages/trio_parallel/_worker_processes.py\", line 155, in run_sync\n",
      "      result = ForkingPickler.loads(await self._recv())\n",
      "    File \"/opt/conda/lib/python3.8/site-packages/trio_parallel/_worker_processes.py\", line 238, in _recv\n",
      "      buf = await self._recv_exactly(4)\n",
      "    File \"/opt/conda/lib/python3.8/site-packages/trio_parallel/_worker_processes.py\", line 251, in _recv_exactly\n",
      "      raise trio.EndOfChannel(\"got end of file during message\")\n",
      "  trio.EndOfChannel: got end of file during message\n",
      "\n",
      "  During handling of the above exception, another exception occurred:\n",
      "\n",
      "  Traceback (most recent call last):\n",
      "    File \"<ipython-input-4-d0f932559a9a>\", line 11, in too_slow\n",
      "      await trio_parallel.run_sync(hard_work, 20, False, cancellable=True)\n",
      "    File \"/opt/conda/lib/python3.8/site-packages/trio_parallel/_worker_processes.py\", line 374, in to_process_run_sync\n",
      "      return await proc.run_sync(sync_fn, *args)\n",
      "    File \"/opt/conda/lib/python3.8/site-packages/trio_parallel/_worker_processes.py\", line 159, in run_sync\n",
      "      raise BrokenWorkerError(f\"{self._proc} died unexpectedly\")\n",
      "  trio_parallel._worker_processes.BrokenWorkerError: <SpawnProcess name='trio-parallel worker process 3' pid=3055 parent=3032 started daemon> died unexpectedly\n",
      "\n",
      "Details of embedded exception 2:\n",
      "\n",
      "  Traceback (most recent call last):\n",
      "    File \"/opt/conda/lib/python3.8/site-packages/trio_parallel/_worker_processes.py\", line 155, in run_sync\n",
      "      result = ForkingPickler.loads(await self._recv())\n",
      "    File \"/opt/conda/lib/python3.8/site-packages/trio_parallel/_worker_processes.py\", line 238, in _recv\n",
      "      buf = await self._recv_exactly(4)\n",
      "    File \"/opt/conda/lib/python3.8/site-packages/trio_parallel/_worker_processes.py\", line 251, in _recv_exactly\n",
      "      raise trio.EndOfChannel(\"got end of file during message\")\n",
      "  trio.EndOfChannel: got end of file during message\n",
      "\n",
      "  During handling of the above exception, another exception occurred:\n",
      "\n",
      "  Traceback (most recent call last):\n",
      "    File \"/opt/conda/lib/python3.8/site-packages/trio_parallel/_worker_processes.py\", line 374, in to_process_run_sync\n",
      "      return await proc.run_sync(sync_fn, *args)\n",
      "    File \"/opt/conda/lib/python3.8/site-packages/trio_parallel/_worker_processes.py\", line 159, in run_sync\n",
      "      raise BrokenWorkerError(f\"{self._proc} died unexpectedly\")\n",
      "  trio_parallel._worker_processes.BrokenWorkerError: <SpawnProcess name='trio-parallel worker process 1' pid=3057 parent=3032 started daemon> died unexpectedly\n",
      "\n",
      "Details of embedded exception 3:\n",
      "\n",
      "  Traceback (most recent call last):\n",
      "    File \"/opt/conda/lib/python3.8/site-packages/trio_parallel/_worker_processes.py\", line 155, in run_sync\n",
      "      result = ForkingPickler.loads(await self._recv())\n",
      "    File \"/opt/conda/lib/python3.8/site-packages/trio_parallel/_worker_processes.py\", line 238, in _recv\n",
      "      buf = await self._recv_exactly(4)\n",
      "    File \"/opt/conda/lib/python3.8/site-packages/trio_parallel/_worker_processes.py\", line 251, in _recv_exactly\n",
      "      raise trio.EndOfChannel(\"got end of file during message\")\n",
      "  trio.EndOfChannel: got end of file during message\n",
      "\n",
      "  During handling of the above exception, another exception occurred:\n",
      "\n",
      "  Traceback (most recent call last):\n",
      "    File \"/opt/conda/lib/python3.8/site-packages/trio_parallel/_worker_processes.py\", line 374, in to_process_run_sync\n",
      "      return await proc.run_sync(sync_fn, *args)\n",
      "    File \"/opt/conda/lib/python3.8/site-packages/trio_parallel/_worker_processes.py\", line 159, in run_sync\n",
      "      raise BrokenWorkerError(f\"{self._proc} died unexpectedly\")\n",
      "  trio_parallel._worker_processes.BrokenWorkerError: <SpawnProcess name='trio-parallel worker process 2' pid=3054 parent=3032 started daemon> died unexpectedly\n",
      "\n",
      "Details of embedded exception 4:\n",
      "\n",
      "  Traceback (most recent call last):\n",
      "    File \"/opt/conda/lib/python3.8/site-packages/trio_parallel/_worker_processes.py\", line 155, in run_sync\n",
      "      result = ForkingPickler.loads(await self._recv())\n",
      "    File \"/opt/conda/lib/python3.8/site-packages/trio_parallel/_worker_processes.py\", line 238, in _recv\n",
      "      buf = await self._recv_exactly(4)\n",
      "    File \"/opt/conda/lib/python3.8/site-packages/trio_parallel/_worker_processes.py\", line 251, in _recv_exactly\n",
      "      raise trio.EndOfChannel(\"got end of file during message\")\n",
      "  trio.EndOfChannel: got end of file during message\n",
      "\n",
      "  During handling of the above exception, another exception occurred:\n",
      "\n",
      "  Traceback (most recent call last):\n",
      "    File \"<ipython-input-4-d0f932559a9a>\", line 20, in amain\n",
      "      result = await trio_parallel.run_sync(hard_work, 2, None)\n",
      "    File \"/opt/conda/lib/python3.8/site-packages/trio_parallel/_worker_processes.py\", line 374, in to_process_run_sync\n",
      "      return await proc.run_sync(sync_fn, *args)\n",
      "    File \"/opt/conda/lib/python3.8/site-packages/trio_parallel/_worker_processes.py\", line 159, in run_sync\n",
      "      raise BrokenWorkerError(f\"{self._proc} died unexpectedly\")\n",
      "  trio_parallel._worker_processes.BrokenWorkerError: <SpawnProcess name='trio-parallel worker process 0' pid=3056 parent=3032 started daemon> died unexpectedly\n"
     ]
    }
   ],
   "source": [
    "await amain()"
   ]
  },
  {
   "cell_type": "code",
   "execution_count": null,
   "id": "arranged-secretariat",
   "metadata": {},
   "outputs": [],
   "source": [
    "if __name__ == \"__main__\":\n",
    "    multiprocessing.freeze_support()\n",
    "    trio.run(amain)"
   ]
  },
  {
   "cell_type": "code",
   "execution_count": null,
   "id": "dated-tolerance",
   "metadata": {},
   "outputs": [],
   "source": []
  }
 ],
 "metadata": {
  "kernelspec": {
   "display_name": "Python 3",
   "language": "python",
   "name": "python3"
  },
  "language_info": {
   "codemirror_mode": {
    "name": "ipython",
    "version": 3
   },
   "file_extension": ".py",
   "mimetype": "text/x-python",
   "name": "python",
   "nbconvert_exporter": "python",
   "pygments_lexer": "ipython3",
   "version": "3.8.6"
  }
 },
 "nbformat": 4,
 "nbformat_minor": 5
}
