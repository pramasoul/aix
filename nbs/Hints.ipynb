{
 "cells": [
  {
   "cell_type": "markdown",
   "metadata": {},
   "source": [
    "## $\\LaTeX$ can be used in JupyterLab notebooks"
   ]
  },
  {
   "cell_type": "markdown",
   "metadata": {},
   "source": [
    "https://en.wikibooks.org/wiki/LaTeX/Basics"
   ]
  },
  {
   "cell_type": "markdown",
   "metadata": {},
   "source": [
    "### Mathematical Symbols"
   ]
  },
  {
   "cell_type": "markdown",
   "metadata": {},
   "source": [
    "* https://www.math.ubc.ca/~pwalls/math-python/jupyter/latex/\n",
    "* https://en.wikibooks.org/wiki/LaTeX\n",
    "* http://detexify.kirelabs.org/classify.html\n",
    "* https://ctan.math.illinois.edu/info/symbols/comprehensive/symbols-letter.pdf"
   ]
  },
  {
   "cell_type": "markdown",
   "metadata": {},
   "source": [
    "### Examples"
   ]
  },
  {
   "cell_type": "markdown",
   "metadata": {},
   "source": [
    "$f'(a) = \\lim_{x \\to a} \\frac{f(x) - f(a)}{x-a}$"
   ]
  },
  {
   "cell_type": "markdown",
   "metadata": {},
   "source": [
    "$$f'(a) = \\lim_{x \\to a} \\frac{f(x) - f(a)}{x-a}$$"
   ]
  },
  {
   "cell_type": "markdown",
   "metadata": {},
   "source": [
    "$$\\begin{matrix} a & b \\\\ c & d \\end{matrix}$$"
   ]
  },
  {
   "cell_type": "markdown",
   "metadata": {},
   "source": [
    "$$\\begin{pmatrix} a & b \\\\ c & d \\end{pmatrix}$$"
   ]
  },
  {
   "cell_type": "markdown",
   "metadata": {},
   "source": [
    "$$\\begin{bmatrix} 1 & 2 & 1 \\\\ 3 & 0 & 1 \\\\ 0 & 2 & 4 \\end{bmatrix} \\tag{5.23} \\label{eq:special} $$ A cross-reference to equation $\\eqref{eq:special}$ in the same markdown cell."
   ]
  },
  {
   "cell_type": "markdown",
   "metadata": {},
   "source": [
    "A cross-reference to equation $\\eqref{eq:special}$ in another markdown cell."
   ]
  },
  {
   "cell_type": "markdown",
   "metadata": {},
   "source": [
    "A manually-constructed crossref to ([5.23](#mjx-eqn-eq%3Aspecial)) in another markdown cell"
   ]
  },
  {
   "cell_type": "markdown",
   "metadata": {},
   "source": [
    "$$\\left( \\frac{p}{q} \\right)$$"
   ]
  },
  {
   "cell_type": "markdown",
   "metadata": {},
   "source": [
    "$$f'(a) = \\lim_{x \\to a} \\frac{f(x) - f(a)}{x - a}$$"
   ]
  },
  {
   "cell_type": "markdown",
   "metadata": {},
   "source": [
    "$$\\lim_{x \\to a^-} f(x) = f(a) = \\lim_{x \\to a^+} f(x)$$"
   ]
  },
  {
   "cell_type": "markdown",
   "metadata": {},
   "source": [
    "$$e^x = \\sum_{k=0}^{\\infty} \\frac{x^k}{k!}$$"
   ]
  },
  {
   "cell_type": "markdown",
   "metadata": {},
   "source": [
    "In inline form this is $e^x = \\sum_{k=0}^{\\infty} \\frac{x^k}{k!}$"
   ]
  },
  {
   "cell_type": "markdown",
   "metadata": {},
   "source": [
    "It can be displayed inline in \"[display style](https://www.overleaf.com/learn/latex/display_style_in_math_mode\"): $\\displaystyle e^x = \\sum_{k=0}^{\\infty} \\frac{x^k}{k!}$"
   ]
  },
  {
   "cell_type": "markdown",
   "metadata": {},
   "source": [
    "The Jacobian matrix of the function $\\mathbf{f}(x_1, x_2, \\dots x_n)$ is\n",
    " $$\n",
    "\\mathbf{J}\n",
    "=\n",
    "\\frac{d \\mathbf{f}}{d \\mathbf{x}}\n",
    "=\n",
    "\\left[ \\frac{\\partial \\mathbf{f}}{\\partial x_1}\n",
    "\\cdots \\frac{\\partial \\mathbf{f}}{\\partial x_n} \\right]\n",
    "=\n",
    "\\begin{bmatrix}\n",
    "\\frac{\\partial f_1}{\\partial x_1} & \\cdots &\n",
    "\\frac{\\partial f_1}{\\partial x_n} \\\\\n",
    "\\vdots & \\ddots & \\vdots \\\\\n",
    "\\frac{\\partial f_m}{\\partial x_1} & \\cdots &\n",
    "\\frac{\\partial f_m}{\\partial x_n}\n",
    "\\end{bmatrix}\n",
    "$$"
   ]
  },
  {
   "cell_type": "markdown",
   "metadata": {},
   "source": [
    "$\\delta_{ij}$ is the [Kronecker delta function](https://mathworld.wolfram.com/KroneckerDelta.html):\n",
    "$$ \\delta_{ij} =\n",
    "    \\begin{cases}\n",
    "            1 &         \\text{for } i=j,\\\\\n",
    "            0 &         \\text{for } i\\neq j.\n",
    "    \\end{cases}\n",
    "$$"
   ]
  },
  {
   "cell_type": "markdown",
   "metadata": {},
   "source": [
    "The gradient of a scalar function of two independent variables, $ f(x_1, x_2)$, is:"
   ]
  },
  {
   "cell_type": "markdown",
   "metadata": {},
   "source": [
    "$$ \\nabla f = \\frac{\\partial f}{\\partial x_1}\\hat{x}_1\n",
    "+ \\frac{\\partial f}{\\partial x_2}\\hat{x}_2 $$"
   ]
  },
  {
   "cell_type": "markdown",
   "metadata": {},
   "source": [
    "$$ \\nabla f(a) = \\left(\\frac{\\partial f}{\\partial x_1}(a), \\ldots, \\frac{\\partial f}{\\partial x_n}(a)\\right) $$"
   ]
  },
  {
   "cell_type": "markdown",
   "metadata": {},
   "source": [
    "In general, the partial derivative of an [n-ary](http://en.wikipedia.org/wiki/Arity) function $f(x_1, \\dots, x_n)$ in the direction $x_i$ at the point $(a_1, \\dots, a_n)$ [is defined](https://en.wikipedia.org/w/index.php?title=Partial_derivative) to be:"
   ]
  },
  {
   "cell_type": "markdown",
   "metadata": {},
   "source": [
    "$$\\frac{\\partial f}{\\partial x_i}(a_1, \\ldots, a_n) = \\lim_{h \\to 0}\\frac{f(a_1, \\ldots, a_i+h,\\ldots,a_n) - f(a_1,\\ldots, a_i, \\dots,a_n)}{h}.$$"
   ]
  },
  {
   "cell_type": "markdown",
   "metadata": {},
   "source": [
    "$$\\frac{\\partial\\mathbf{y}}{\\partial\\mathbf{x}}$$"
   ]
  },
  {
   "cell_type": "markdown",
   "metadata": {},
   "source": [
    "Various symbols:"
   ]
  },
  {
   "cell_type": "markdown",
   "metadata": {},
   "source": [
    "$$ \\circ \\otimes \\odot  \\mathbf{J}^\\mathsf{T} \\mathbf{A}^\\intercal \\sqcap \\sqcup \\times \\nabla $$"
   ]
  },
  {
   "cell_type": "markdown",
   "metadata": {},
   "source": [
    "Nonsense?:"
   ]
  },
  {
   "cell_type": "markdown",
   "metadata": {},
   "source": [
    "$$ \\frac{\\delta(m_{ij}x_j)}{\\delta x_j} = m_{ij}\\frac{\\delta x_j}{\\delta x_j} $$"
   ]
  },
  {
   "cell_type": "markdown",
   "metadata": {},
   "source": [
    "$$ m_{ij}x_j\\delta_{ij} = y_i $$"
   ]
  },
  {
   "cell_type": "markdown",
   "metadata": {},
   "source": [
    "Where $\\delta_{ij}$ is the [Kronecker delta function](https://mathworld.wolfram.com/KroneckerDelta.html):"
   ]
  },
  {
   "cell_type": "markdown",
   "metadata": {},
   "source": [
    "$$ \\delta_{ij} =\n",
    "    \\begin{cases}\n",
    "            1 &         \\text{for } i=j,\\\\\n",
    "            0 &         \\text{for } i\\neq j.\n",
    "    \\end{cases}\n",
    "$$"
   ]
  },
  {
   "cell_type": "markdown",
   "metadata": {},
   "source": [
    "$$\\begin{align}\n",
    "  &\\mathbf{A} \\circ \\mathbf{B} = \\mathbf{B} \\circ \\mathbf{A}, \\\\\n",
    "  &\\mathbf{A} \\circ (\\mathbf{B} \\circ \\mathbf{C}) = (\\mathbf{A} \\circ \\mathbf{B}) \\circ \\mathbf{C}, \\\\\n",
    "  &\\mathbf{A} \\circ (\\mathbf{B} + \\mathbf{C}) = \\mathbf{A} \\circ \\mathbf{B} + \\mathbf{A} \\circ \\mathbf{C}, \\\\\n",
    "  &\\left(k\\mathbf{A}\\right) \\circ \\mathbf{B} = \\mathbf{A} \\circ \\left(k\\mathbf{B}\\right) = k\\left(\\mathbf{A} \\circ \\mathbf{B}\\right), \\\\\n",
    "  &\\mathbf{A} \\circ \\mathbf{0} = \\mathbf{0} \\circ \\mathbf{A} = \\mathbf{0}.\n",
    "\\end{align}$$"
   ]
  },
  {
   "cell_type": "markdown",
   "metadata": {},
   "source": [
    "The [Hadamard product](https://en.wikipedia.org/wiki/Hadamard_product_(matrices)) is element-wise multiplication of equal-dimensioned matricies:"
   ]
  },
  {
   "cell_type": "markdown",
   "metadata": {},
   "source": [
    "$${\\displaystyle (A\\circ B)_{ij}=(A\\odot B)_{ij}=(A)_{ij}(B)_{ij}.}$$"
   ]
  },
  {
   "cell_type": "markdown",
   "metadata": {},
   "source": [
    "$$\\begin{align}\n",
    "&foo, \\\\\n",
    "& bar \\\\\n",
    "\\end{align}\n",
    "$$"
   ]
  },
  {
   "cell_type": "markdown",
   "metadata": {},
   "source": [
    "$$a,\\\\\n",
    "b$$"
   ]
  },
  {
   "cell_type": "markdown",
   "metadata": {},
   "source": [
    "[Type sizes](https://www.stat.berkeley.edu/~paciorek/computingTips/Type_sizes_changing_type_si.html)\n",
    "tiny, scriptsize, footnotesize, small, normalsize, large, Large, LARGE, huge, Huge"
   ]
  },
  {
   "cell_type": "markdown",
   "metadata": {},
   "source": [
    "$$ \\Huge 3x+3=\\mu $$"
   ]
  },
  {
   "cell_type": "code",
   "execution_count": 3,
   "metadata": {},
   "outputs": [],
   "source": [
    "from itertools import chain, combinations\n",
    "\n",
    "def powerset(iterable):\n",
    "    \"powerset([1,2,3]) --> () (1,) (2,) (3,) (1,2) (1,3) (2,3) (1,2,3)\"\n",
    "    s = list(iterable)\n",
    "    return chain.from_iterable(combinations(s, r) for r in range(len(s)+1))"
   ]
  },
  {
   "cell_type": "code",
   "execution_count": 5,
   "metadata": {},
   "outputs": [
    {
     "data": {
      "text/plain": [
       "[(),\n",
       " ('a',),\n",
       " ('b',),\n",
       " ('c',),\n",
       " ('a', 'b'),\n",
       " ('a', 'c'),\n",
       " ('b', 'c'),\n",
       " ('a', 'b', 'c')]"
      ]
     },
     "execution_count": 5,
     "metadata": {},
     "output_type": "execute_result"
    }
   ],
   "source": [
    "list(powerset('abc'))"
   ]
  },
  {
   "cell_type": "markdown",
   "metadata": {},
   "source": [
    "$\\mathcal{\\count0=\\fam\\mbox{$\\fam=\\count0 M$}}$"
   ]
  },
  {
   "cell_type": "markdown",
   "metadata": {},
   "source": [
    "$\\mbox{$\\fam= M$}$"
   ]
  },
  {
   "cell_type": "code",
   "execution_count": null,
   "metadata": {},
   "outputs": [],
   "source": []
  }
 ],
 "metadata": {
  "kernelspec": {
   "display_name": "Python 3",
   "language": "python",
   "name": "python3"
  },
  "language_info": {
   "codemirror_mode": {
    "name": "ipython",
    "version": 3
   },
   "file_extension": ".py",
   "mimetype": "text/x-python",
   "name": "python",
   "nbconvert_exporter": "python",
   "pygments_lexer": "ipython3",
   "version": "3.7.9"
  }
 },
 "nbformat": 4,
 "nbformat_minor": 4
}
