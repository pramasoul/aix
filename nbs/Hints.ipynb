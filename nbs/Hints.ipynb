{
 "cells": [
  {
   "cell_type": "markdown",
   "metadata": {},
   "source": [
    "## $\\LaTeX$ can be used in JupyterLab notebooks"
   ]
  },
  {
   "cell_type": "markdown",
   "metadata": {},
   "source": [
    "https://en.wikibooks.org/wiki/LaTeX/Basics"
   ]
  },
  {
   "cell_type": "markdown",
   "metadata": {},
   "source": [
    "### Mathematical Symbols"
   ]
  },
  {
   "cell_type": "markdown",
   "metadata": {},
   "source": [
    "* https://www.math.ubc.ca/~pwalls/math-python/jupyter/latex/\n",
    "* https://en.wikibooks.org/wiki/LaTeX\n",
    "* http://detexify.kirelabs.org/classify.html\n",
    "* https://ctan.math.illinois.edu/info/symbols/comprehensive/symbols-letter.pdf"
   ]
  },
  {
   "cell_type": "markdown",
   "metadata": {},
   "source": [
    "### Examples"
   ]
  },
  {
   "cell_type": "markdown",
   "metadata": {},
   "source": [
    "$f'(a) = \\lim_{x \\to a} \\frac{f(x) - f(a)}{x-a}$"
   ]
  },
  {
   "cell_type": "markdown",
   "metadata": {},
   "source": [
    "$$f'(a) = \\lim_{x \\to a} \\frac{f(x) - f(a)}{x-a}$$"
   ]
  },
  {
   "cell_type": "markdown",
   "metadata": {},
   "source": [
    "$$\\begin{matrix} a & b \\\\ c & d \\end{matrix}$$"
   ]
  },
  {
   "cell_type": "markdown",
   "metadata": {},
   "source": [
    "$$\\begin{pmatrix} a & b \\\\ c & d \\end{pmatrix}$$"
   ]
  },
  {
   "cell_type": "markdown",
   "metadata": {},
   "source": [
    "$$\\begin{bmatrix} 1 & 2 & 1 \\\\ 3 & 0 & 1 \\\\ 0 & 2 & 4 \\end{bmatrix} \\tag{5.23} \\label{eq:special} $$ A cross-reference to equation $\\eqref{eq:special}$ in the same markdown cell."
   ]
  },
  {
   "cell_type": "markdown",
   "metadata": {},
   "source": [
    "A cross-reference to equation $\\eqref{eq:special}$ in another markdown cell."
   ]
  },
  {
   "cell_type": "markdown",
   "metadata": {},
   "source": [
    "A manually-constructed crossref to ([5.23](#mjx-eqn-eq%3Aspecial)) in another markdown cell"
   ]
  },
  {
   "cell_type": "markdown",
   "metadata": {},
   "source": [
    "$$\\left( \\frac{p}{q} \\right)$$"
   ]
  },
  {
   "cell_type": "markdown",
   "metadata": {},
   "source": [
    "$$f'(a) = \\lim_{x \\to a} \\frac{f(x) - f(a)}{x - a}$$"
   ]
  },
  {
   "cell_type": "markdown",
   "metadata": {},
   "source": [
    "$$\\lim_{x \\to a^-} f(x) = f(a) = \\lim_{x \\to a^+} f(x)$$"
   ]
  },
  {
   "cell_type": "markdown",
   "metadata": {},
   "source": [
    "$$e^x = \\sum_{k=0}^{\\infty} \\frac{x^k}{k!}$$"
   ]
  },
  {
   "cell_type": "markdown",
   "metadata": {},
   "source": [
    "In inline form this is $e^x = \\sum_{k=0}^{\\infty} \\frac{x^k}{k!}$"
   ]
  },
  {
   "cell_type": "markdown",
   "metadata": {},
   "source": [
    "It can be displayed inline in \"[display style](https://www.overleaf.com/learn/latex/display_style_in_math_mode\"): $\\displaystyle e^x = \\sum_{k=0}^{\\infty} \\frac{x^k}{k!}$"
   ]
  },
  {
   "cell_type": "markdown",
   "metadata": {},
   "source": [
    "The Jacobian matrix of the function $\\mathbf{f}(x_1, x_2, \\dots x_n)$ is\n",
    " $$\n",
    "\\mathbf{J}\n",
    "=\n",
    "\\frac{d \\mathbf{f}}{d \\mathbf{x}}\n",
    "=\n",
    "\\left[ \\frac{\\partial \\mathbf{f}}{\\partial x_1}\n",
    "\\cdots \\frac{\\partial \\mathbf{f}}{\\partial x_n} \\right]\n",
    "=\n",
    "\\begin{bmatrix}\n",
    "\\frac{\\partial f_1}{\\partial x_1} & \\cdots &\n",
    "\\frac{\\partial f_1}{\\partial x_n} \\\\\n",
    "\\vdots & \\ddots & \\vdots \\\\\n",
    "\\frac{\\partial f_m}{\\partial x_1} & \\cdots &\n",
    "\\frac{\\partial f_m}{\\partial x_n}\n",
    "\\end{bmatrix}\n",
    "$$"
   ]
  },
  {
   "cell_type": "markdown",
   "metadata": {},
   "source": [
    "$\\delta_{ij}$ is the [Kronecker delta function](https://mathworld.wolfram.com/KroneckerDelta.html):\n",
    "$$ \\delta_{ij} =\n",
    "    \\begin{cases}\n",
    "            1 &         \\text{for } i=j,\\\\\n",
    "            0 &         \\text{for } i\\neq j.\n",
    "    \\end{cases}\n",
    "$$"
   ]
  },
  {
   "cell_type": "markdown",
   "metadata": {},
   "source": [
    "The gradient of a scalar function of two independent variables, $ f(x_1, x_2)$, is:"
   ]
  },
  {
   "cell_type": "markdown",
   "metadata": {},
   "source": [
    "$$ \\nabla f = \\frac{\\partial f}{\\partial x_1}\\hat{x}_1\n",
    "+ \\frac{\\partial f}{\\partial x_2}\\hat{x}_2 $$"
   ]
  },
  {
   "cell_type": "markdown",
   "metadata": {},
   "source": [
    "$$ \\nabla f(a) = \\left(\\frac{\\partial f}{\\partial x_1}(a), \\ldots, \\frac{\\partial f}{\\partial x_n}(a)\\right) $$"
   ]
  },
  {
   "cell_type": "markdown",
   "metadata": {},
   "source": [
    "In general, the partial derivative of an [n-ary](http://en.wikipedia.org/wiki/Arity) function $f(x_1, \\dots, x_n)$ in the direction $x_i$ at the point $(a_1, \\dots, a_n)$ [is defined](https://en.wikipedia.org/w/index.php?title=Partial_derivative) to be:"
   ]
  },
  {
   "cell_type": "markdown",
   "metadata": {},
   "source": [
    "$$\\frac{\\partial f}{\\partial x_i}(a_1, \\ldots, a_n) = \\lim_{h \\to 0}\\frac{f(a_1, \\ldots, a_i+h,\\ldots,a_n) - f(a_1,\\ldots, a_i, \\dots,a_n)}{h}.$$"
   ]
  },
  {
   "cell_type": "markdown",
   "metadata": {},
   "source": [
    "$$\\frac{\\partial\\mathbf{y}}{\\partial\\mathbf{x}}$$"
   ]
  },
  {
   "cell_type": "markdown",
   "metadata": {},
   "source": [
    "Various symbols:"
   ]
  },
  {
   "cell_type": "markdown",
   "metadata": {},
   "source": [
    "$$ \\circ \\otimes \\odot  \\mathbf{J}^\\mathsf{T} \\mathbf{A}^\\intercal \\sqcap \\sqcup \\times \\nabla $$"
   ]
  },
  {
   "cell_type": "markdown",
   "metadata": {},
   "source": [
    "Nonsense?:"
   ]
  },
  {
   "cell_type": "markdown",
   "metadata": {},
   "source": [
    "$$ \\frac{\\delta(m_{ij}x_j)}{\\delta x_j} = m_{ij}\\frac{\\delta x_j}{\\delta x_j} $$"
   ]
  },
  {
   "cell_type": "markdown",
   "metadata": {},
   "source": [
    "$$ m_{ij}x_j\\delta_{ij} = y_i $$"
   ]
  },
  {
   "cell_type": "markdown",
   "metadata": {},
   "source": [
    "Where $\\delta_{ij}$ is the [Kronecker delta function](https://mathworld.wolfram.com/KroneckerDelta.html):"
   ]
  },
  {
   "cell_type": "markdown",
   "metadata": {},
   "source": [
    "$$ \\delta_{ij} =\n",
    "    \\begin{cases}\n",
    "            1 &         \\text{for } i=j,\\\\\n",
    "            0 &         \\text{for } i\\neq j.\n",
    "    \\end{cases}\n",
    "$$"
   ]
  },
  {
   "cell_type": "markdown",
   "metadata": {},
   "source": [
    "$$\\begin{align}\n",
    "  &\\mathbf{A} \\circ \\mathbf{B} = \\mathbf{B} \\circ \\mathbf{A}, \\\\\n",
    "  &\\mathbf{A} \\circ (\\mathbf{B} \\circ \\mathbf{C}) = (\\mathbf{A} \\circ \\mathbf{B}) \\circ \\mathbf{C}, \\\\\n",
    "  &\\mathbf{A} \\circ (\\mathbf{B} + \\mathbf{C}) = \\mathbf{A} \\circ \\mathbf{B} + \\mathbf{A} \\circ \\mathbf{C}, \\\\\n",
    "  &\\left(k\\mathbf{A}\\right) \\circ \\mathbf{B} = \\mathbf{A} \\circ \\left(k\\mathbf{B}\\right) = k\\left(\\mathbf{A} \\circ \\mathbf{B}\\right), \\\\\n",
    "  &\\mathbf{A} \\circ \\mathbf{0} = \\mathbf{0} \\circ \\mathbf{A} = \\mathbf{0}.\n",
    "\\end{align}$$"
   ]
  },
  {
   "cell_type": "markdown",
   "metadata": {},
   "source": [
    "The [Hadamard product](https://en.wikipedia.org/wiki/Hadamard_product_(matrices)) is element-wise multiplication of equal-dimensioned matricies:"
   ]
  },
  {
   "cell_type": "markdown",
   "metadata": {},
   "source": [
    "$${\\displaystyle (A\\circ B)_{ij}=(A\\odot B)_{ij}=(A)_{ij}(B)_{ij}.}$$"
   ]
  },
  {
   "cell_type": "markdown",
   "metadata": {},
   "source": [
    "$$\\begin{align}\n",
    "&foo, \\\\\n",
    "& bar \\\\\n",
    "\\end{align}\n",
    "$$"
   ]
  },
  {
   "cell_type": "markdown",
   "metadata": {},
   "source": [
    "$$a,\\\\\n",
    "b$$"
   ]
  },
  {
   "cell_type": "markdown",
   "metadata": {},
   "source": [
    "$$\\mathbf {a} \\cdot \\mathbf {b} =\\left\\|\\mathbf {a} \\right\\|\\left\\|\\mathbf {b} \\right\\|\\cos \\theta =\\left\\|\\mathbf {b} \\right\\|\\left\\|\\mathbf {a} \\right\\|\\cos \\theta =\\mathbf {b} \\cdot \\mathbf {a}\n",
    "$$"
   ]
  },
  {
   "cell_type": "markdown",
   "metadata": {},
   "source": [
    "[Type sizes](https://www.stat.berkeley.edu/~paciorek/computingTips/Type_sizes_changing_type_si.html)\n",
    "tiny, scriptsize, footnotesize, small, normalsize, large, Large, LARGE, huge, Huge"
   ]
  },
  {
   "cell_type": "markdown",
   "metadata": {},
   "source": [
    "$$ \\Huge 3x+3=\\mu $$"
   ]
  },
  {
   "cell_type": "markdown",
   "metadata": {},
   "source": [
    "`\n",
    "\\; - a thick space\n",
    "\\: - a medium space\n",
    "\\, - a thin space\n",
    "\\! - a negative thin space\n",
    "`"
   ]
  },
  {
   "cell_type": "markdown",
   "metadata": {},
   "source": [
    "$$\\circ \\; \\circ \\: \\circ \\, \\circ $$"
   ]
  },
  {
   "cell_type": "code",
   "execution_count": null,
   "metadata": {},
   "outputs": [],
   "source": [
    "from itertools import chain, combinations\n",
    "\n",
    "def powerset(iterable):\n",
    "    \"powerset([1,2,3]) --> () (1,) (2,) (3,) (1,2) (1,3) (2,3) (1,2,3)\"\n",
    "    s = list(iterable)\n",
    "    return chain.from_iterable(combinations(s, r) for r in range(len(s)+1))"
   ]
  },
  {
   "cell_type": "code",
   "execution_count": null,
   "metadata": {},
   "outputs": [],
   "source": [
    "list(powerset('abc'))"
   ]
  },
  {
   "cell_type": "markdown",
   "metadata": {},
   "source": [
    "___\n",
    "# Plotting"
   ]
  },
  {
   "cell_type": "code",
   "execution_count": null,
   "metadata": {},
   "outputs": [],
   "source": [
    "#%matplotlib widget\n",
    "%matplotlib inline\n",
    "%load_ext autoreload\n",
    "%autoreload 2"
   ]
  },
  {
   "cell_type": "code",
   "execution_count": null,
   "metadata": {},
   "outputs": [],
   "source": [
    "import numpy as np\n",
    "import matplotlib.pyplot as plt"
   ]
  },
  {
   "cell_type": "code",
   "execution_count": null,
   "metadata": {},
   "outputs": [],
   "source": [
    "plt.plot(range(10), range(30,20,-1))"
   ]
  },
  {
   "cell_type": "code",
   "execution_count": null,
   "metadata": {},
   "outputs": [],
   "source": [
    "import numpy as np\n",
    "np.sign(3)"
   ]
  },
  {
   "cell_type": "code",
   "execution_count": null,
   "metadata": {},
   "outputs": [],
   "source": [
    "ls"
   ]
  },
  {
   "cell_type": "code",
   "execution_count": null,
   "metadata": {},
   "outputs": [],
   "source": [
    "pwd"
   ]
  },
  {
   "cell_type": "code",
   "execution_count": null,
   "metadata": {},
   "outputs": [],
   "source": [
    "#!jupyter nbconvert --to script nnt1.ipynb"
   ]
  },
  {
   "cell_type": "markdown",
   "metadata": {},
   "source": [
    "$ \\eta $"
   ]
  },
  {
   "cell_type": "markdown",
   "metadata": {},
   "source": [
    "* [Working efficiently with jupyter lab](https://florianwilhelm.info/2018/11/working_efficiently_with_jupyter_lab/)\n",
    "* [nbcelltests](https://github.com/jpmorganchase/nbcelltests)"
   ]
  },
  {
   "cell_type": "code",
   "execution_count": null,
   "metadata": {},
   "outputs": [],
   "source": [
    "import dis"
   ]
  },
  {
   "cell_type": "code",
   "execution_count": null,
   "metadata": {},
   "outputs": [],
   "source": [
    "?dis.dis"
   ]
  },
  {
   "cell_type": "code",
   "execution_count": null,
   "metadata": {},
   "outputs": [],
   "source": [
    "dis.dis(lambda x,y:x**2+y**2)"
   ]
  },
  {
   "cell_type": "markdown",
   "metadata": {},
   "source": [
    "---"
   ]
  },
  {
   "cell_type": "markdown",
   "metadata": {},
   "source": [
    "https://github.com/google/jax"
   ]
  },
  {
   "cell_type": "markdown",
   "metadata": {},
   "source": [
    "https://ipywidgets.readthedocs.io/en/latest/index.html"
   ]
  },
  {
   "cell_type": "code",
   "execution_count": null,
   "metadata": {},
   "outputs": [],
   "source": [
    "import ipywidgets as widgets"
   ]
  },
  {
   "cell_type": "code",
   "execution_count": null,
   "metadata": {},
   "outputs": [],
   "source": [
    "widgets.IntSlider()"
   ]
  },
  {
   "cell_type": "code",
   "execution_count": null,
   "metadata": {},
   "outputs": [],
   "source": [
    "from IPython.display import display\n",
    "w = widgets.IntSlider()\n",
    "display(w)"
   ]
  },
  {
   "cell_type": "code",
   "execution_count": null,
   "metadata": {},
   "outputs": [],
   "source": [
    "display(w)"
   ]
  },
  {
   "cell_type": "code",
   "execution_count": null,
   "metadata": {},
   "outputs": [],
   "source": [
    "a = widgets.FloatText()\n",
    "b = widgets.FloatSlider()\n",
    "display(a,b)\n",
    "\n",
    "mylink = widgets.jslink((a, 'value'), (b, 'value'))"
   ]
  },
  {
   "cell_type": "code",
   "execution_count": null,
   "metadata": {},
   "outputs": [],
   "source": [
    "widgets.HBox([widgets.Label(value=\"The $m$ in $E=mc^2$:\"), widgets.FloatSlider()])"
   ]
  },
  {
   "cell_type": "code",
   "execution_count": null,
   "metadata": {},
   "outputs": [],
   "source": [
    "widgets.HTML(\n",
    "    value=\"Hello <b>World</b>\",\n",
    "    placeholder='Some HTML',\n",
    "    description='Some HTML',\n",
    ")\n"
   ]
  },
  {
   "cell_type": "code",
   "execution_count": null,
   "metadata": {},
   "outputs": [],
   "source": [
    "out = widgets.Output(layout={'border': '1px solid black'})\n",
    "out"
   ]
  },
  {
   "cell_type": "code",
   "execution_count": null,
   "metadata": {},
   "outputs": [],
   "source": [
    "with out:\n",
    "    for i in range(10):\n",
    "        print(i, 'Hello world!')"
   ]
  },
  {
   "cell_type": "code",
   "execution_count": null,
   "metadata": {},
   "outputs": [],
   "source": [
    "from IPython.display import YouTubeVideo\n",
    "with out:\n",
    "    display(YouTubeVideo('eWzY2nGfkXk'))"
   ]
  },
  {
   "cell_type": "code",
   "execution_count": null,
   "metadata": {},
   "outputs": [],
   "source": [
    "debug_view = widgets.Output(layout={'border': '1px solid black'})\n",
    "\n",
    "@debug_view.capture(clear_output=True)\n",
    "def bad_callback(event):\n",
    "    print('This is about to explode')\n",
    "    return 1.0 / 0.0\n",
    "\n",
    "button = widgets.Button(\n",
    "    description='click me to raise an exception',\n",
    "    layout={'width': '300px'}\n",
    ")\n",
    "button.on_click(bad_callback)\n",
    "button"
   ]
  },
  {
   "cell_type": "code",
   "execution_count": null,
   "metadata": {},
   "outputs": [],
   "source": [
    "debug_view"
   ]
  },
  {
   "cell_type": "code",
   "execution_count": null,
   "metadata": {},
   "outputs": [],
   "source": [
    "int_range = widgets.IntSlider()\n",
    "output2 = widgets.Output()\n",
    "\n",
    "display(int_range, output2)\n",
    "\n",
    "def on_value_change(change):\n",
    "    with output2:\n",
    "        print(change['new'])\n",
    "\n",
    "int_range.observe(on_value_change, names='value')"
   ]
  },
  {
   "cell_type": "code",
   "execution_count": null,
   "metadata": {},
   "outputs": [],
   "source": [
    "widgets.HTMLMath(\n",
    "    value=r\"Some math and <i>HTML</i>: \\(x^2\\) and $$\\frac{x+1}{x-1}$$\",\n",
    "    placeholder='Some HTML',\n",
    "    description='Some HTML',\n",
    ")"
   ]
  },
  {
   "cell_type": "code",
   "execution_count": null,
   "metadata": {},
   "outputs": [],
   "source": [
    "debug_view = widgets.Output(layout={'border': '1px solid black'})\n",
    "\n",
    "@debug_view.capture(clear_output=True)\n",
    "def bad_callback(event):\n",
    "    print('This is about to explode')\n",
    "    return 1.0 / 0.0\n",
    "\n",
    "button = widgets.Button(\n",
    "    description='click me to raise an exception',\n",
    "    layout={'width': '300px'}\n",
    ")\n",
    "button.on_click(bad_callback)\n",
    "button"
   ]
  },
  {
   "cell_type": "code",
   "execution_count": null,
   "metadata": {},
   "outputs": [],
   "source": [
    "debug_view"
   ]
  },
  {
   "cell_type": "code",
   "execution_count": null,
   "metadata": {},
   "outputs": [],
   "source": [
    "import ipywidgets as widgets\n",
    "import logging\n",
    "\n",
    "class OutputWidgetHandler(logging.Handler):\n",
    "    \"\"\" Custom logging handler sending logs to an output widget \"\"\"\n",
    "\n",
    "    def __init__(self, *args, **kwargs):\n",
    "        super(OutputWidgetHandler, self).__init__(*args, **kwargs)\n",
    "        layout = {\n",
    "            'width': '100%',\n",
    "            'height': '160px',\n",
    "            'border': '1px solid black'\n",
    "        }\n",
    "        self.out = widgets.Output(layout=layout)\n",
    "\n",
    "    def emit(self, record):\n",
    "        \"\"\" Overload of logging.Handler method \"\"\"\n",
    "        formatted_record = self.format(record)\n",
    "        new_output = {\n",
    "            'name': 'stdout',\n",
    "            'output_type': 'stream',\n",
    "            'text': formatted_record+'\\n'\n",
    "        }\n",
    "        self.out.outputs = (new_output, ) + self.out.outputs\n",
    "\n",
    "    def show_logs(self):\n",
    "        \"\"\" Show the logs \"\"\"\n",
    "        display(self.out)\n",
    "\n",
    "    def clear_logs(self):\n",
    "        \"\"\" Clear the current logs \"\"\"\n",
    "        self.out.clear_output()\n",
    "\n",
    "\n",
    "logger = logging.getLogger(__name__)\n",
    "handler = OutputWidgetHandler()\n",
    "handler.setFormatter(logging.Formatter('%(asctime)s  - [%(levelname)s] %(message)s'))\n",
    "logger.addHandler(handler)\n",
    "logger.setLevel(logging.INFO)"
   ]
  },
  {
   "cell_type": "code",
   "execution_count": null,
   "metadata": {},
   "outputs": [],
   "source": [
    "handler.show_logs()"
   ]
  },
  {
   "cell_type": "code",
   "execution_count": null,
   "metadata": {},
   "outputs": [],
   "source": [
    "handler.clear_logs()\n",
    "logger.info('Starting program')\n",
    "\n",
    "try:\n",
    "    logger.info('About to try something dangerous...')\n",
    "    1.0/0.0\n",
    "except Exception as e:\n",
    "    logger.exception('An error occurred!')\n"
   ]
  },
  {
   "cell_type": "markdown",
   "metadata": {},
   "source": [
    "---"
   ]
  },
  {
   "cell_type": "code",
   "execution_count": null,
   "metadata": {},
   "outputs": [],
   "source": [
    "from IPython.display import display\n",
    "button = widgets.Button(description=\"Click Me!\")\n",
    "output = widgets.Output()\n",
    "\n",
    "display(button, output)\n",
    "\n",
    "def on_button_clicked(b):\n",
    "    with output:\n",
    "        print(\"Button clicked.\")\n",
    "\n",
    "button.on_click(on_button_clicked)"
   ]
  },
  {
   "cell_type": "code",
   "execution_count": null,
   "metadata": {},
   "outputs": [],
   "source": [
    "int_range = widgets.IntSlider()\n",
    "output2 = widgets.Output()\n",
    "\n",
    "display(int_range, output2)\n",
    "\n",
    "def on_value_change(change):\n",
    "    with output2:\n",
    "        print(change['new'])\n",
    "\n",
    "int_range.observe(on_value_change, names='value')"
   ]
  },
  {
   "cell_type": "markdown",
   "metadata": {},
   "source": [
    "* https://ipywidgets.readthedocs.io/en/latest/examples/Widget%20Asynchronous.html"
   ]
  },
  {
   "cell_type": "code",
   "execution_count": null,
   "metadata": {},
   "outputs": [],
   "source": [
    "import ipywidgets as widgets"
   ]
  },
  {
   "cell_type": "code",
   "execution_count": null,
   "metadata": {},
   "outputs": [],
   "source": [
    "%gui"
   ]
  },
  {
   "cell_type": "code",
   "execution_count": null,
   "metadata": {},
   "outputs": [],
   "source": [
    "%gui?"
   ]
  },
  {
   "cell_type": "code",
   "execution_count": null,
   "metadata": {},
   "outputs": [],
   "source": [
    "%gui asyncio"
   ]
  },
  {
   "cell_type": "code",
   "execution_count": null,
   "metadata": {},
   "outputs": [],
   "source": [
    "import asyncio\n",
    "def wait_for_change(widget, value):\n",
    "    future = asyncio.Future()\n",
    "    def getvalue(change):\n",
    "        # make the new value available\n",
    "        future.set_result(change.new)\n",
    "        widget.unobserve(getvalue, value)\n",
    "    widget.observe(getvalue, value)\n",
    "    return future"
   ]
  },
  {
   "cell_type": "code",
   "execution_count": null,
   "metadata": {},
   "outputs": [],
   "source": [
    "from ipywidgets import IntSlider, Output\n",
    "slider = IntSlider()\n",
    "out = Output()\n",
    "\n",
    "async def f():\n",
    "    for i in range(10):\n",
    "        out.append_stdout('did work ' + str(i) + '\\n')\n",
    "        x = await wait_for_change(slider, 'value')\n",
    "        out.append_stdout('async function continued with value ' + str(x) + '\\n')\n",
    "asyncio.ensure_future(f())\n",
    "\n",
    "slider"
   ]
  },
  {
   "cell_type": "code",
   "execution_count": null,
   "metadata": {},
   "outputs": [],
   "source": [
    "out"
   ]
  },
  {
   "cell_type": "markdown",
   "metadata": {},
   "source": [
    "Or without `async`, using generators:"
   ]
  },
  {
   "cell_type": "code",
   "execution_count": null,
   "metadata": {},
   "outputs": [],
   "source": [
    "from functools import wraps\n",
    "def yield_for_change(widget, attribute):\n",
    "    \"\"\"Pause a generator to wait for a widget change event.\n",
    "\n",
    "    This is a decorator for a generator function which pauses the generator on yield\n",
    "    until the given widget attribute changes. The new value of the attribute is\n",
    "    sent to the generator and is the value of the yield.\n",
    "    \"\"\"\n",
    "    def f(iterator):\n",
    "        print(\"<f>\")\n",
    "        @wraps(iterator)\n",
    "        def inner():\n",
    "            print(\"<i>\")\n",
    "            i = iterator()\n",
    "            print(\"<i=i>\")\n",
    "            def next_i(change):\n",
    "                print(\"<n>\")\n",
    "                try:\n",
    "                    i.send(change.new)\n",
    "                except StopIteration as e:\n",
    "                    widget.unobserve(next_i, attribute)\n",
    "            print(\"<o>\")\n",
    "            widget.observe(next_i, attribute)\n",
    "            # start the generator\n",
    "            next(i)\n",
    "            print(\"<x>\")\n",
    "        print(\"<ri>\")\n",
    "        return inner\n",
    "    print(\"<rf>\")\n",
    "    return f"
   ]
  },
  {
   "cell_type": "code",
   "execution_count": null,
   "metadata": {},
   "outputs": [],
   "source": [
    "from ipywidgets import IntSlider\n",
    "slider2=IntSlider()\n",
    "\n",
    "@yield_for_change(slider2, 'value')\n",
    "def gf():\n",
    "    for i in range(10):\n",
    "        print('did work %s'%i)\n",
    "        x = yield\n",
    "        print('generator function continued with value %s'%x)\n",
    "\n",
    "print(\"running gf\")\n",
    "gf()\n",
    "\n",
    "slider2"
   ]
  },
  {
   "cell_type": "code",
   "execution_count": null,
   "metadata": {},
   "outputs": [],
   "source": [
    "𨭎𨭎𨭎𨭎𨭎 = 10"
   ]
  },
  {
   "cell_type": "code",
   "execution_count": null,
   "metadata": {},
   "outputs": [],
   "source": [
    "inter"
   ]
  },
  {
   "cell_type": "code",
   "execution_count": null,
   "metadata": {},
   "outputs": [],
   "source": [
    "from ipywidgets import interact, interactive, fixed, interact_manual\n",
    "import ipywidgets as widgets"
   ]
  },
  {
   "cell_type": "code",
   "execution_count": null,
   "metadata": {},
   "outputs": [],
   "source": [
    "@interact(x=True, y=1.0)\n",
    "def g(x, y):\n",
    "    return (x, y)"
   ]
  },
  {
   "cell_type": "code",
   "execution_count": 2,
   "metadata": {},
   "outputs": [],
   "source": [
    "%load_ext blackcellmagic"
   ]
  },
  {
   "cell_type": "code",
   "execution_count": 3,
   "metadata": {},
   "outputs": [],
   "source": [
    "from ipywidgets import interactive\n",
    "import matplotlib.pyplot as plt\n",
    "import numpy as np\n",
    "\n",
    "\n",
    "def f(m, b):\n",
    "    plt.figure(2)\n",
    "    x = np.linspace(-10, 10, num=1000)\n",
    "    plt.plot(x, m * x + b)\n",
    "    plt.ylim(-5, 5)\n",
    "    plt.show()\n",
    "\n",
    "\n",
    "interactive_plot = interactive(f, m=(-2.0, 2.0), b=(-3, 3, 0.5))\n",
    "output = interactive_plot.children[-1]\n",
    "output.layout.height = \"350px\"\n",
    "interactive_plot"
   ]
  },
  {
   "cell_type": "markdown",
   "metadata": {},
   "source": [
    "---"
   ]
  },
  {
   "cell_type": "code",
   "execution_count": null,
   "metadata": {},
   "outputs": [],
   "source": [
    "from __future__ import braces"
   ]
  },
  {
   "cell_type": "code",
   "execution_count": null,
   "metadata": {},
   "outputs": [],
   "source": [
    "import this"
   ]
  },
  {
   "cell_type": "code",
   "execution_count": null,
   "metadata": {},
   "outputs": [],
   "source": [
    "dir(this)"
   ]
  },
  {
   "cell_type": "code",
   "execution_count": null,
   "metadata": {},
   "outputs": [],
   "source": [
    "print(''.join(this.d.get(v) or v for v in this.s))\n",
    "#print(this.s)"
   ]
  },
  {
   "cell_type": "markdown",
   "metadata": {},
   "source": [
    "---"
   ]
  },
  {
   "cell_type": "markdown",
   "metadata": {},
   "source": [
    "* https://ipython.readthedocs.io/en/stable/interactive/magics.html\n",
    "* https://ipywidgets.readthedocs.io/en/latest/examples/Widget%20Styling.html\n",
    "* https://colab.research.google.com/notebooks/intro.ipynb\n",
    "* https://colab.research.google.com/notebooks/io.ipynb\n",
    "* https://cloud.google.com/ai-platform\n",
    "* https://cloud.google.com/blog/products/ai-machine-learning/best-practices-that-can-improve-the-life-of-any-developer-using-jupyter-notebooks\n",
    "* https://github.com/tensorflow/playground/blob/master/index.html\n"
   ]
  },
  {
   "cell_type": "markdown",
   "metadata": {},
   "source": [
    "## Siren\n",
    "* https://github.com/vsitzmann/siren\n",
    "* https://colab.research.google.com/github/vsitzmann/siren/blob/master/explore_siren.ipynb#scrollTo=NJlfI3ZEnZ6Y\n",
    "* https://dcato98.github.io/playground/"
   ]
  },
  {
   "cell_type": "markdown",
   "metadata": {},
   "source": [
    "* https://en.wikipedia.org/wiki/Musical_isomorphism"
   ]
  },
  {
   "cell_type": "code",
   "execution_count": null,
   "metadata": {},
   "outputs": [],
   "source": [
    "%config"
   ]
  },
  {
   "cell_type": "code",
   "execution_count": null,
   "metadata": {},
   "outputs": [],
   "source": [
    "%edit"
   ]
  },
  {
   "cell_type": "code",
   "execution_count": null,
   "metadata": {},
   "outputs": [],
   "source": [
    "%env"
   ]
  },
  {
   "cell_type": "code",
   "execution_count": null,
   "metadata": {},
   "outputs": [],
   "source": [
    "%history"
   ]
  },
  {
   "cell_type": "code",
   "execution_count": null,
   "metadata": {},
   "outputs": [],
   "source": [
    "%lsmagic"
   ]
  },
  {
   "cell_type": "code",
   "execution_count": null,
   "metadata": {},
   "outputs": [],
   "source": [
    "#%magic -latex"
   ]
  },
  {
   "cell_type": "code",
   "execution_count": null,
   "metadata": {},
   "outputs": [],
   "source": [
    "%matplotlib"
   ]
  },
  {
   "cell_type": "code",
   "execution_count": null,
   "metadata": {},
   "outputs": [],
   "source": [
    "%matplotlib --list"
   ]
  },
  {
   "cell_type": "code",
   "execution_count": null,
   "metadata": {},
   "outputs": [],
   "source": [
    "%psearch a*"
   ]
  },
  {
   "cell_type": "code",
   "execution_count": null,
   "metadata": {},
   "outputs": [],
   "source": [
    "%quickref"
   ]
  },
  {
   "cell_type": "code",
   "execution_count": null,
   "metadata": {},
   "outputs": [],
   "source": [
    "%run test-nnbench"
   ]
  },
  {
   "cell_type": "code",
   "execution_count": null,
   "metadata": {},
   "outputs": [],
   "source": [
    "%%html\n",
    "<h1>foo</h1>\n",
    "<blink>wow</blink>"
   ]
  },
  {
   "cell_type": "code",
   "execution_count": 4,
   "metadata": {},
   "outputs": [],
   "source": [
    "a = widgets.IntSlider(description=\"a\")\n",
    "b = widgets.IntSlider(description=\"b\")\n",
    "c = widgets.IntSlider(description=\"c\")\n",
    "\n",
    "\n",
    "def f(a, b, c):\n",
    "    print(\"{}*{}*{}={}\".format(a, b, c, a * b * c))\n",
    "\n",
    "\n",
    "out = widgets.interactive_output(f, {\"a\": a, \"b\": b, \"c\": c})\n",
    "\n",
    "widgets.HBox([widgets.VBox([a, b, c]), out])"
   ]
  },
  {
   "cell_type": "markdown",
   "metadata": {},
   "source": [
    "* https://github.com/ethereum/snake-charmers-tactical-manual"
   ]
  },
  {
   "cell_type": "code",
   "execution_count": null,
   "metadata": {},
   "outputs": [],
   "source": [
    "%%script echo skipping\n",
    "print(\"The whole cell gets skipped\")"
   ]
  },
  {
   "cell_type": "markdown",
   "metadata": {},
   "source": [
    "Can link to other notebooks, e.g. [Trio notebook](./Trio.ipynb)"
   ]
  },
  {
   "cell_type": "code",
   "execution_count": 5,
   "metadata": {},
   "outputs": [],
   "source": [
    "from bar.baz import Foo\n",
    "\n",
    "\n",
    "def foo_html(obj):\n",
    "    return \"<marquee>Foo object %s</marquee>\" % obj.name\n",
    "\n",
    "\n",
    "html_formatter = get_ipython().display_formatter.formatters[\"text/html\"]\n",
    "html_formatter.for_type(Foo, foo_html)\n",
    "\n",
    "# Or register a type without importing it - this does the same as above:\n",
    "html_formatter.for_type_by_name(\"bar.baz\", \"Foo\", foo_html)"
   ]
  },
  {
   "cell_type": "code",
   "execution_count": null,
   "metadata": {},
   "outputs": [],
   "source": [
    "from collections import deque\n",
    "d = deque([], 3)\n",
    "len(d)"
   ]
  },
  {
   "cell_type": "code",
   "execution_count": null,
   "metadata": {},
   "outputs": [],
   "source": [
    "d.append('a')\n",
    "d"
   ]
  },
  {
   "cell_type": "code",
   "execution_count": null,
   "metadata": {},
   "outputs": [],
   "source": [
    "d.append('b')\n",
    "d"
   ]
  },
  {
   "cell_type": "code",
   "execution_count": null,
   "metadata": {},
   "outputs": [],
   "source": [
    "d.append('c')\n",
    "d"
   ]
  },
  {
   "cell_type": "code",
   "execution_count": null,
   "metadata": {},
   "outputs": [],
   "source": [
    "d.append('d')\n",
    "d"
   ]
  },
  {
   "cell_type": "code",
   "execution_count": null,
   "metadata": {},
   "outputs": [],
   "source": [
    "import numpy as np\n",
    "np.array(d)"
   ]
  },
  {
   "cell_type": "code",
   "execution_count": null,
   "metadata": {},
   "outputs": [],
   "source": [
    "list(d)[-10:]"
   ]
  },
  {
   "cell_type": "code",
   "execution_count": null,
   "metadata": {},
   "outputs": [],
   "source": [
    "from display import Image"
   ]
  },
  {
   "cell_type": "code",
   "execution_count": null,
   "metadata": {},
   "outputs": [],
   "source": [
    "import antigravity"
   ]
  },
  {
   "cell_type": "code",
   "execution_count": null,
   "metadata": {},
   "outputs": [],
   "source": []
  },
  {
   "cell_type": "code",
   "execution_count": null,
   "metadata": {},
   "outputs": [],
   "source": [
    "from IPython.display import Image"
   ]
  },
  {
   "cell_type": "code",
   "execution_count": null,
   "metadata": {},
   "outputs": [],
   "source": [
    "import IPython.display"
   ]
  },
  {
   "cell_type": "code",
   "execution_count": null,
   "metadata": {},
   "outputs": [],
   "source": [
    "dir(IPython.display)"
   ]
  },
  {
   "cell_type": "code",
   "execution_count": null,
   "metadata": {},
   "outputs": [],
   "source": [
    "?IPython.display.Image"
   ]
  },
  {
   "cell_type": "code",
   "execution_count": null,
   "metadata": {},
   "outputs": [],
   "source": [
    "import numpy as np\n",
    "Image(np.arange(16*16))"
   ]
  },
  {
   "cell_type": "code",
   "execution_count": null,
   "metadata": {},
   "outputs": [],
   "source": [
    "import PIL"
   ]
  },
  {
   "cell_type": "code",
   "execution_count": null,
   "metadata": {},
   "outputs": [],
   "source": [
    "PIL.__version__"
   ]
  },
  {
   "cell_type": "code",
   "execution_count": null,
   "metadata": {},
   "outputs": [],
   "source": [
    "from PIL import Image as PILImage"
   ]
  },
  {
   "cell_type": "code",
   "execution_count": null,
   "metadata": {},
   "outputs": [],
   "source": [
    "PIL.Image.fromarray"
   ]
  },
  {
   "cell_type": "code",
   "execution_count": null,
   "metadata": {},
   "outputs": [],
   "source": [
    "np.arange(16, dtype='uint8')"
   ]
  },
  {
   "cell_type": "code",
   "execution_count": null,
   "metadata": {},
   "outputs": [],
   "source": [
    "img_1 = PIL.Image.fromarray(np.arange(16*16, dtype='uint8').reshape(16,16))"
   ]
  },
  {
   "cell_type": "code",
   "execution_count": null,
   "metadata": {},
   "outputs": [],
   "source": [
    "from io import BytesIO\n",
    "t_png = BytesIO()\n",
    "img_1.save(t_png, format=\"png\")"
   ]
  },
  {
   "cell_type": "code",
   "execution_count": null,
   "metadata": {},
   "outputs": [],
   "source": [
    "t_png.getbuffer()"
   ]
  },
  {
   "cell_type": "code",
   "execution_count": null,
   "metadata": {},
   "outputs": [],
   "source": [
    "IPython.display.Image(t_png.getbuffer())"
   ]
  },
  {
   "cell_type": "code",
   "execution_count": null,
   "metadata": {},
   "outputs": [],
   "source": [
    "%pip install sidecar"
   ]
  },
  {
   "cell_type": "code",
   "execution_count": null,
   "metadata": {},
   "outputs": [],
   "source": [
    "from sidecar import Sidecar\n",
    "from ipywidgets import IntSlider\n",
    "\n",
    "sc = Sidecar(title='Sidecar Output')\n",
    "sl = IntSlider(description='Some slider')\n",
    "with sc:\n",
    "    display(sl)\n"
   ]
  },
  {
   "cell_type": "code",
   "execution_count": 2,
   "metadata": {},
   "outputs": [],
   "source": [
    "import numpy as np"
   ]
  },
  {
   "cell_type": "code",
   "execution_count": 12,
   "metadata": {},
   "outputs": [
    {
     "data": {
      "text/plain": [
       "-9.556913957243776"
      ]
     },
     "execution_count": 12,
     "metadata": {},
     "output_type": "execute_result"
    }
   ],
   "source": [
    "np.arctanh(-0.99999999)"
   ]
  },
  {
   "cell_type": "markdown",
   "metadata": {},
   "source": [
    "# Redis\n",
    "* https://oss.redislabs.com/redisai/\n",
    "* https://github.com/RedisAI/RedisAI\n",
    "* https://github.com/RedisAI/redisai-py\n",
    "* https://github.com/RedisGraph/RedisGraph"
   ]
  },
  {
   "cell_type": "markdown",
   "metadata": {},
   "source": [
    "# Poetry\n",
    "* https://python-poetry.org/docs/"
   ]
  },
  {
   "cell_type": "code",
   "execution_count": 11,
   "metadata": {},
   "outputs": [],
   "source": [
    "t = np.array([1, 2, np.array([3, 4, np.array([5, 6]), 7]), 8])"
   ]
  },
  {
   "cell_type": "code",
   "execution_count": 12,
   "metadata": {},
   "outputs": [
    {
     "data": {
      "text/plain": [
       "array([1, 2, array([3, 4, array([5, 6]), 7], dtype=object), 8],\n",
       "      dtype=object)"
      ]
     },
     "execution_count": 12,
     "metadata": {},
     "output_type": "execute_result"
    }
   ],
   "source": [
    "t"
   ]
  },
  {
   "cell_type": "code",
   "execution_count": 13,
   "metadata": {},
   "outputs": [
    {
     "data": {
      "text/plain": [
       "(4,)"
      ]
     },
     "execution_count": 13,
     "metadata": {},
     "output_type": "execute_result"
    }
   ],
   "source": [
    "t.shape"
   ]
  },
  {
   "cell_type": "code",
   "execution_count": 14,
   "metadata": {},
   "outputs": [
    {
     "data": {
      "text/plain": [
       "array([1, 2, array([3, 4, array([5, 6]), 7], dtype=object), 8],\n",
       "      dtype=object)"
      ]
     },
     "execution_count": 14,
     "metadata": {},
     "output_type": "execute_result"
    }
   ],
   "source": [
    "t.flatten()"
   ]
  },
  {
   "cell_type": "code",
   "execution_count": 15,
   "metadata": {},
   "outputs": [
    {
     "data": {
      "text/plain": [
       "array([1, 2, array([3, 4, array([5, 6]), 7], dtype=object), 8],\n",
       "      dtype=object)"
      ]
     },
     "execution_count": 15,
     "metadata": {},
     "output_type": "execute_result"
    }
   ],
   "source": [
    "t.ravel()"
   ]
  },
  {
   "cell_type": "markdown",
   "metadata": {},
   "source": [
    "<svg>\n",
    "<ellipse style=\"fill:#00ff00;stroke:#000000;\" cx=\"50\" cy=\"50\" rx=\"48\" ry=\"48\">\n",
    "</ellipse>\n",
    "</svg>"
   ]
  },
  {
   "cell_type": "markdown",
   "metadata": {},
   "source": [
    "<svg>\n",
    "<ellipse style=\"fill:#00ff00;stroke:#000000;\" cx=\"50\" cy=\"50\" rx=\"48\" ry=\"48\">\n",
    "</ellipse>\n",
    "</svg>"
   ]
  },
  {
   "cell_type": "code",
   "execution_count": 6,
   "metadata": {},
   "outputs": [],
   "source": [
    "class A:\n",
    "    def __init__(self):\n",
    "        print(\"init A\")\n",
    "\n",
    "    def _repr_svg_(self):\n",
    "        return \"\"\"\n",
    "<svg xmlns=\"http://www.w3.org/2000/svg\" height=\"44pt\" viewBox=\"0.00 0.00 62.00 44.00\" width=\"62pt\">\n",
    "<g class=\"graph\" id=\"graph0\" transform=\"scale(1 1) rotate(0) translate(4 40)\">\n",
    "<g class=\"node\" id=\"node1\">\n",
    "<g id=\"a_node1\"><title>A circle</title>\n",
    "<ellipse cx=\"27\" cy=\"-18\" fill=\"#444444\" rx=\"27\" ry=\"18\" stroke=\"#000000\"/>\n",
    "<text fill=\"#ffffff\" font-family=\"Times,serif\" font-size=\"14.00\" text-anchor=\"middle\" x=\"27\" y=\"-14.3\">Abc</text>\n",
    "\n",
    "</g>\n",
    "</g>\n",
    "</g>\n",
    "</svg>\n",
    "\"\"\"\n",
    "\n",
    "\n",
    "a = A()\n",
    "a"
   ]
  },
  {
   "cell_type": "markdown",
   "metadata": {},
   "source": [
    "* https://app.diagrams.net/"
   ]
  },
  {
   "cell_type": "code",
   "execution_count": 5,
   "metadata": {},
   "outputs": [
    {
     "name": "stdout",
     "output_type": "stream",
     "text": [
      "init A\n"
     ]
    },
    {
     "data": {
      "image/svg+xml": [
       "\n",
       "<svg xmlns=\"http://www.w3.org/2000/svg\" xmlns:xlink=\"http://www.w3.org/1999/xlink\" version=\"1.1\" width=\"221px\" height=\"181px\" viewBox=\"-0.5 -0.5 221 181\" content=\"&lt;mxfile host=&quot;app.diagrams.net&quot; modified=&quot;2021-03-10T01:23:08.606Z&quot; agent=&quot;5.0 (Macintosh; Intel Mac OS X 11_2_2) AppleWebKit/537.36 (KHTML, like Gecko) Chrome/88.0.4324.192 Safari/537.36&quot; etag=&quot;ZZJzNCXEh2RdeHb9SAKH&quot; version=&quot;14.4.6&quot;&gt;&lt;diagram id=&quot;3l-dQbXBslvPWgFDMlL6&quot; name=&quot;Page-1&quot;&gt;tZXJTsMwEIafJkekLE0LR0hZLghQDyw3K54mlpw6clyS8PRM8WRxUsQiuFT+f9vjmW/s1IuSornWrMxvFQfphT5vvGjtheHpWYy/B6O1RhyvrJFpwa0VDMZGvAGZPrl7waFyFhqlpBGla6Zqt4PUOB7TWtXusq2S7qkly2BmbFIm5+6j4CansmJ/8G9AZHl3cuDTTMG6xWRUOeOqHlnRpRclWiljR0WTgDyw67jYfVefzPaJadiZ72xY3t0kd1XyUpytNlnzEMswyE8oyiuTeyo4xRxtvqbtIGAg5I3ios6FgU3J0sNMjR1HLzeFRBXgkKKBNtB8mmbQF4+XBlQBRre4hDaEHVq6MMGCdD3gDzqm+Qj9KXmMOp71oQcoOCAuP2AUzhhttcp+D4lVpb2pW9EA/xtqC9+l1lMcUVsdgbb6L2jRDNoc2I6fH14oqlSyqhKpywlL1+0TCr8Tz2OxbhzVkrLHAJ896wlK/I4wnYH5qvFz5COk8RGknadBMiNe3TSOcaYT7pXABPuORvHS7ag/aVWl9joF2jV+95NAi8mDCpeTQJbDLNBH2/uyj90ElMPnyy4f/gOiy3c=&lt;/diagram&gt;&lt;/mxfile&gt;\" style=\"background-color: rgb(255, 255, 255);\"><defs/><g><ellipse cx=\"60\" cy=\"40\" rx=\"60\" ry=\"40\" fill=\"#ffffff\" stroke=\"#000000\" pointer-events=\"all\"/><g transform=\"translate(-0.5 -0.5)\"><switch><foreignObject style=\"overflow: visible; text-align: left;\" pointer-events=\"none\" width=\"100%\" height=\"100%\" requiredFeatures=\"http://www.w3.org/TR/SVG11/feature#Extensibility\"><div xmlns=\"http://www.w3.org/1999/xhtml\" style=\"display: flex; align-items: unsafe center; justify-content: unsafe center; width: 118px; height: 1px; padding-top: 40px; margin-left: 1px;\"><div style=\"box-sizing: border-box; font-size: 0; text-align: center; \"><div style=\"display: inline-block; font-size: 12px; font-family: Helvetica; color: #000000; line-height: 1.2; pointer-events: all; white-space: normal; word-wrap: normal; \">cow</div></div></div></foreignObject><text x=\"60\" y=\"44\" fill=\"#000000\" font-family=\"Helvetica\" font-size=\"12px\" text-anchor=\"middle\">cow</text></switch></g><ellipse cx=\"185\" cy=\"145\" rx=\"35\" ry=\"35\" fill=\"#ffffff\" stroke=\"#000000\" pointer-events=\"all\"/><g transform=\"translate(-0.5 -0.5)\"><switch><foreignObject style=\"overflow: visible; text-align: left;\" pointer-events=\"none\" width=\"100%\" height=\"100%\" requiredFeatures=\"http://www.w3.org/TR/SVG11/feature#Extensibility\"><div xmlns=\"http://www.w3.org/1999/xhtml\" style=\"display: flex; align-items: unsafe center; justify-content: unsafe center; width: 68px; height: 1px; padding-top: 145px; margin-left: 151px;\"><div style=\"box-sizing: border-box; font-size: 0; text-align: center; \"><div style=\"display: inline-block; font-size: 12px; font-family: Helvetica; color: #000000; line-height: 1.2; pointer-events: all; white-space: normal; word-wrap: normal; \">frog</div></div></div></foreignObject><text x=\"185\" y=\"149\" fill=\"#000000\" font-family=\"Helvetica\" font-size=\"12px\" text-anchor=\"middle\">frog</text></switch></g><path d=\"M 106 60 L 155.99 115.52\" fill=\"none\" stroke=\"#000000\" stroke-miterlimit=\"10\" pointer-events=\"stroke\"/><path d=\"M 159.5 119.42 L 152.22 116.56 L 155.99 115.52 L 157.42 111.88 Z\" fill=\"#000000\" stroke=\"#000000\" stroke-miterlimit=\"10\" pointer-events=\"all\"/></g><switch><g requiredFeatures=\"http://www.w3.org/TR/SVG11/feature#Extensibility\"/><a transform=\"translate(0,-5)\" xlink:href=\"https://www.diagrams.net/doc/faq/svg-export-text-problems\" target=\"_blank\"><text text-anchor=\"middle\" font-size=\"10px\" x=\"50%\" y=\"100%\">Viewer does not support full SVG 1.1</text></a></switch></svg>"
      ],
      "text/plain": [
       "<__main__.A at 0x7fdd7c3e0f10>"
      ]
     },
     "execution_count": 5,
     "metadata": {},
     "output_type": "execute_result"
    }
   ],
   "source": [
    "class A:\n",
    "    def __init__(self):\n",
    "        print(\"init A\")\n",
    "        \n",
    "    def _repr_svg_(self):\n",
    "        return \"\"\"\n",
    "<svg xmlns=\"http://www.w3.org/2000/svg\" xmlns:xlink=\"http://www.w3.org/1999/xlink\" version=\"1.1\" width=\"221px\" height=\"181px\" viewBox=\"-0.5 -0.5 221 181\" content=\"&lt;mxfile host=&quot;app.diagrams.net&quot; modified=&quot;2021-03-10T01:23:08.606Z&quot; agent=&quot;5.0 (Macintosh; Intel Mac OS X 11_2_2) AppleWebKit/537.36 (KHTML, like Gecko) Chrome/88.0.4324.192 Safari/537.36&quot; etag=&quot;ZZJzNCXEh2RdeHb9SAKH&quot; version=&quot;14.4.6&quot;&gt;&lt;diagram id=&quot;3l-dQbXBslvPWgFDMlL6&quot; name=&quot;Page-1&quot;&gt;tZXJTsMwEIafJkekLE0LR0hZLghQDyw3K54mlpw6clyS8PRM8WRxUsQiuFT+f9vjmW/s1IuSornWrMxvFQfphT5vvGjtheHpWYy/B6O1RhyvrJFpwa0VDMZGvAGZPrl7waFyFhqlpBGla6Zqt4PUOB7TWtXusq2S7qkly2BmbFIm5+6j4CansmJ/8G9AZHl3cuDTTMG6xWRUOeOqHlnRpRclWiljR0WTgDyw67jYfVefzPaJadiZ72xY3t0kd1XyUpytNlnzEMswyE8oyiuTeyo4xRxtvqbtIGAg5I3ios6FgU3J0sNMjR1HLzeFRBXgkKKBNtB8mmbQF4+XBlQBRre4hDaEHVq6MMGCdD3gDzqm+Qj9KXmMOp71oQcoOCAuP2AUzhhttcp+D4lVpb2pW9EA/xtqC9+l1lMcUVsdgbb6L2jRDNoc2I6fH14oqlSyqhKpywlL1+0TCr8Tz2OxbhzVkrLHAJ896wlK/I4wnYH5qvFz5COk8RGknadBMiNe3TSOcaYT7pXABPuORvHS7ag/aVWl9joF2jV+95NAi8mDCpeTQJbDLNBH2/uyj90ElMPnyy4f/gOiy3c=&lt;/diagram&gt;&lt;/mxfile&gt;\" style=\"background-color: rgb(255, 255, 255);\"><defs/><g><ellipse cx=\"60\" cy=\"40\" rx=\"60\" ry=\"40\" fill=\"#ffffff\" stroke=\"#000000\" pointer-events=\"all\"/><g transform=\"translate(-0.5 -0.5)\"><switch><foreignObject style=\"overflow: visible; text-align: left;\" pointer-events=\"none\" width=\"100%\" height=\"100%\" requiredFeatures=\"http://www.w3.org/TR/SVG11/feature#Extensibility\"><div xmlns=\"http://www.w3.org/1999/xhtml\" style=\"display: flex; align-items: unsafe center; justify-content: unsafe center; width: 118px; height: 1px; padding-top: 40px; margin-left: 1px;\"><div style=\"box-sizing: border-box; font-size: 0; text-align: center; \"><div style=\"display: inline-block; font-size: 12px; font-family: Helvetica; color: #000000; line-height: 1.2; pointer-events: all; white-space: normal; word-wrap: normal; \">cow</div></div></div></foreignObject><text x=\"60\" y=\"44\" fill=\"#000000\" font-family=\"Helvetica\" font-size=\"12px\" text-anchor=\"middle\">cow</text></switch></g><ellipse cx=\"185\" cy=\"145\" rx=\"35\" ry=\"35\" fill=\"#ffffff\" stroke=\"#000000\" pointer-events=\"all\"/><g transform=\"translate(-0.5 -0.5)\"><switch><foreignObject style=\"overflow: visible; text-align: left;\" pointer-events=\"none\" width=\"100%\" height=\"100%\" requiredFeatures=\"http://www.w3.org/TR/SVG11/feature#Extensibility\"><div xmlns=\"http://www.w3.org/1999/xhtml\" style=\"display: flex; align-items: unsafe center; justify-content: unsafe center; width: 68px; height: 1px; padding-top: 145px; margin-left: 151px;\"><div style=\"box-sizing: border-box; font-size: 0; text-align: center; \"><div style=\"display: inline-block; font-size: 12px; font-family: Helvetica; color: #000000; line-height: 1.2; pointer-events: all; white-space: normal; word-wrap: normal; \">frog</div></div></div></foreignObject><text x=\"185\" y=\"149\" fill=\"#000000\" font-family=\"Helvetica\" font-size=\"12px\" text-anchor=\"middle\">frog</text></switch></g><path d=\"M 106 60 L 155.99 115.52\" fill=\"none\" stroke=\"#000000\" stroke-miterlimit=\"10\" pointer-events=\"stroke\"/><path d=\"M 159.5 119.42 L 152.22 116.56 L 155.99 115.52 L 157.42 111.88 Z\" fill=\"#000000\" stroke=\"#000000\" stroke-miterlimit=\"10\" pointer-events=\"all\"/></g><switch><g requiredFeatures=\"http://www.w3.org/TR/SVG11/feature#Extensibility\"/><a transform=\"translate(0,-5)\" xlink:href=\"https://www.diagrams.net/doc/faq/svg-export-text-problems\" target=\"_blank\"><text text-anchor=\"middle\" font-size=\"10px\" x=\"50%\" y=\"100%\">Viewer does not support full SVG 1.1</text></a></switch></svg>\"\"\"\n",
    "    \n",
    "a=A()\n",
    "a"
   ]
  },
  {
   "cell_type": "code",
   "execution_count": 9,
   "metadata": {},
   "outputs": [],
   "source": [
    "class SVGLiteral:\n",
    "    def __init__(self, s):\n",
    "        self.s = s\n",
    "        \n",
    "    def _repr_svg_(self):\n",
    "        return self.s"
   ]
  },
  {
   "cell_type": "code",
   "execution_count": 10,
   "metadata": {},
   "outputs": [
    {
     "data": {
      "image/svg+xml": [
       "<svg>\n",
       "<ellipse style=\"fill:#00ff00;stroke:#000000;\" cx=\"50\" cy=\"50\" rx=\"48\" ry=\"48\">\n",
       "</ellipse>\n",
       "</svg>"
      ],
      "text/plain": [
       "<__main__.SVGLiteral at 0x7fdd7c364040>"
      ]
     },
     "execution_count": 10,
     "metadata": {},
     "output_type": "execute_result"
    }
   ],
   "source": [
    "svg_str = \"\"\"<svg>\n",
    "<ellipse style=\"fill:#00ff00;stroke:#000000;\" cx=\"50\" cy=\"50\" rx=\"48\" ry=\"48\">\n",
    "</ellipse>\n",
    "</svg>\"\"\"\n",
    "a = SVGLiteral(svg_str)\n",
    "a"
   ]
  },
  {
   "cell_type": "code",
   "execution_count": 11,
   "metadata": {},
   "outputs": [
    {
     "data": {
      "image/svg+xml": [
       "<svg>\n",
       "<ellipse style=\"fill:#00ff00;stroke:#000000;\" cx=\"50\" cy=\"50\" rx=\"48\" ry=\"48\">\n",
       "</ellipse>\n",
       "</svg>"
      ],
      "text/plain": [
       "<IPython.core.display.SVG object>"
      ]
     },
     "metadata": {},
     "output_type": "display_data"
    }
   ],
   "source": [
    "from IPython.display import SVG, display\n",
    "display(SVG(svg_str))"
   ]
  },
  {
   "cell_type": "code",
   "execution_count": 15,
   "metadata": {},
   "outputs": [
    {
     "data": {
      "image/svg+xml": [
       "<svg xmlns=\"http://www.w3.org/2000/svg\" xmlns:xlink=\"http://www.w3.org/1999/xlink\" version=\"1.1\" width=\"291px\" height=\"491px\" viewBox=\"-0.5 -0.5 291 491\" content=\"&lt;mxfile host=&quot;app.diagrams.net&quot; modified=&quot;2021-03-10T01:53:04.759Z&quot; agent=&quot;5.0 (Macintosh; Intel Mac OS X 11_2_2) AppleWebKit/537.36 (KHTML, like Gecko) Chrome/88.0.4324.192 Safari/537.36&quot; etag=&quot;gpXqGi4afPrw88vYt5iH&quot; version=&quot;14.4.6&quot; type=&quot;browser&quot;&gt;&lt;diagram id=&quot;3l-dQbXBslvPWgFDMlL6&quot; name=&quot;Page-1&quot;&gt;7VxNk5s4EP01Ps4U+sLDMevMJpdUJjWpSrI3FjQ2Vdi4ZDzG++tXHiQMkj9kDEjj5OJyN1jA0+vmqWk8QpN58YmFy9mXLKbpCHpxMUIfRxA+BIR/7hzb0kHIuHRMWRKXLrB3PCf/UeH0hHedxHTV2DHPsjRPlk1nlC0WNMobvpCxbNPc7SVLm0ddhlOqOZ6jMNW9P5I4n4nLIt7e/5km05k8MvDElnkodxaO1SyMs03NhR5HaMKyLC+/zYsJTXfYSVzK3/19ZGt1YowucpMf+F8/T76uJv/Mg/HztPhGUghmd2J2XsN0LS74sVhSlsx3g5annW8lFnw8Djs3/trMkpw+L8Not2XDJ577Zvk85RbgX/VTE2f7SllOi5pLnOonms1pzrZ8F7EVjQVskjfC3NQmQbhmNfyx8IVi2qfVwHtk+BcBzgVAPWhALegVCIWrZcnWl6SgcTeQEdKEDPo6ZugAZqgvzADQQHtiWUTjNaN2yQWaSAFomV0Aakh9Z2GyoMwqTgSRJqM8HSd/UEZhRxmFldgDyDaj9MzuAqOwp+SoA5E3LKP0xB6F+UuWxTpOi/jDTlFwK0rD1SqJmvBwVNj2Jze8eyLNXztTGh+LhrUV1lFYV9maRdQgHPKQTWluwAYaN9SOPk21aSAHpkH6GE3DPHltaqRDcyOO8JQlOz1R5d9AYYEaBuWVi1/VNY0yEMZK2AXKQCUy2kBvVKkuuz17oH6H02gzZdl6aR46lZQN/5UjeIfn6shtHx1IPcPe9gMNlL610unJOZ+dbEEls18NqpSGbEFbZJ8iyWvJh1u/alv2qWdnyMzTXcY6OQFn89iDaRoLnEpjd8Bvht6dmn5M8xiXyspIQE2JfWcy3029oCBcLQtt6QU4Pp/xjUPVOFCvkAiBYWxJAjgSW6pEQH5HEqFa+w0VWPrdcHiJoBRTMLAsESQGLUA5DXJ7qKxBgTQo7KgleARCh6DSV/+3pJaCzlM6ciql87W2KnK81noJqUORYdO6PL7NtI7HzfJcdauzFaCo/XL4NMjvL60j/Q5nJa0j9xfBSE/r1kOJ2FZISK/fXhdK+GqorEGhL03thBI5AqFDUOli8n0qJNPlrVy1ntVCMh87ooWQ8hwEta2AI/Wh78AVcKTXQ26bcZJI5xnnVkEFBopYVOsgxozDzYG0ykzfjNOf2N0o1YAp1R6cYtrNlO6QQenuRphm+iD5T5W4H6rJw3dBNdCGaNAfX0K1N+vprVEwp2w4/smU6Ar/lGVj1eNzMf+gMpC6ROibfwaVG/NUN/ZRjYPefQDJaR5yozsyEVMuYbe4dDO5DHbIpTa5zIeN2+add++RYfOZMQXBHwr2QkG9DqJRsO+SotbkJm1bxSHcvs56GuT3V1LEenXVSkmxmhJ3S4pYr75aDyVk+80GbNAFdFEo+VdDZQ2K4d+MOT0lDoeSXk+4vlaqKO1eCgvd6nNgqo6wW13r2FPWaGrLgak6gn5zoKF7PeV5/zY1e2zMOLcqqVDpCoZt9ThU2mjhwHqcOPCehCoisO33JIjBOvkSEUGuh8oaFI40QVZT4q6IIA50y6ihRA68FzosKB13y5Bj67J3EEqOdMsQ97tlyO/Wu4BNX7QibnUOq8obtX3PSlXe2vOavnWQvli+bcZJIp1nnFsPllXljdt2qqvKG3XWp87N/Z/HlLvv/4EHPf4P&lt;/diagram&gt;&lt;/mxfile&gt;\" style=\"background-color: rgb(255, 255, 255);\">\n",
       "<defs/>\n",
       "<g>\n",
       "<ellipse cx=\"100\" cy=\"20\" rx=\"40\" ry=\"20\" fill=\"#ffffff\" stroke=\"#000000\" pointer-events=\"all\"/>\n",
       "<g transform=\"translate(-0.5 -0.5)\">\n",
       "<switch>\n",
       "<foreignObject style=\"overflow: visible; text-align: left;\" pointer-events=\"none\" width=\"100%\" height=\"100%\" requiredFeatures=\"http://www.w3.org/TR/SVG11/feature#Extensibility\">\n",
       "<div xmlns=\"http://www.w3.org/1999/xhtml\" style=\"display: flex; align-items: unsafe center; justify-content: unsafe center; width: 78px; height: 1px; padding-top: 20px; margin-left: 61px;\">\n",
       "<div style=\"box-sizing: border-box; font-size: 0; text-align: center; \">\n",
       "<div style=\"display: inline-block; font-size: 12px; font-family: Helvetica; color: #000000; line-height: 1.2; pointer-events: all; white-space: normal; word-wrap: normal; \">Experiment</div>\n",
       "</div>\n",
       "</div>\n",
       "</foreignObject>\n",
       "<text x=\"100\" y=\"24\" fill=\"#000000\" font-family=\"Helvetica\" font-size=\"12px\" text-anchor=\"middle\">Experiment</text>\n",
       "</switch>\n",
       "</g>\n",
       "<ellipse cx=\"255\" cy=\"225\" rx=\"15\" ry=\"15\" fill=\"#ffffff\" stroke=\"#000000\" pointer-events=\"all\"/>\n",
       "<g transform=\"translate(-0.5 -0.5)\">\n",
       "<switch>\n",
       "<foreignObject style=\"overflow: visible; text-align: left;\" pointer-events=\"none\" width=\"100%\" height=\"100%\" requiredFeatures=\"http://www.w3.org/TR/SVG11/feature#Extensibility\">\n",
       "<div xmlns=\"http://www.w3.org/1999/xhtml\" style=\"display: flex; align-items: unsafe center; justify-content: unsafe center; width: 28px; height: 1px; padding-top: 225px; margin-left: 241px;\">\n",
       "<div style=\"box-sizing: border-box; font-size: 0; text-align: center; \">\n",
       "<div style=\"display: inline-block; font-size: 12px; font-family: Helvetica; color: #000000; line-height: 1.2; pointer-events: all; white-space: normal; word-wrap: normal; \">net</div>\n",
       "</div>\n",
       "</div>\n",
       "</foreignObject>\n",
       "<text x=\"255\" y=\"229\" fill=\"#000000\" font-family=\"Helvetica\" font-size=\"12px\" text-anchor=\"middle\">net</text>\n",
       "</switch>\n",
       "</g>\n",
       "<ellipse cx=\"40\" cy=\"90\" rx=\"40\" ry=\"20\" fill=\"#ffffff\" stroke=\"#000000\" pointer-events=\"all\"/>\n",
       "<g transform=\"translate(-0.5 -0.5)\">\n",
       "<switch>\n",
       "<foreignObject style=\"overflow: visible; text-align: left;\" pointer-events=\"none\" width=\"100%\" height=\"100%\" requiredFeatures=\"http://www.w3.org/TR/SVG11/feature#Extensibility\">\n",
       "<div xmlns=\"http://www.w3.org/1999/xhtml\" style=\"display: flex; align-items: unsafe center; justify-content: unsafe center; width: 78px; height: 1px; padding-top: 90px; margin-left: 1px;\">\n",
       "<div style=\"box-sizing: border-box; font-size: 0; text-align: center; \">\n",
       "<div style=\"display: inline-block; font-size: 12px; font-family: Helvetica; color: #000000; line-height: 1.2; pointer-events: all; white-space: normal; word-wrap: normal; \">Procedure</div>\n",
       "</div>\n",
       "</div>\n",
       "</foreignObject>\n",
       "<text x=\"40\" y=\"94\" fill=\"#000000\" font-family=\"Helvetica\" font-size=\"12px\" text-anchor=\"middle\">Procedure</text>\n",
       "</switch>\n",
       "</g>\n",
       "<ellipse cx=\"255\" cy=\"165\" rx=\"30\" ry=\"15\" fill=\"#ffffff\" stroke=\"#000000\" pointer-events=\"all\"/>\n",
       "<g transform=\"translate(-0.5 -0.5)\">\n",
       "<switch>\n",
       "<foreignObject style=\"overflow: visible; text-align: left;\" pointer-events=\"none\" width=\"100%\" height=\"100%\" requiredFeatures=\"http://www.w3.org/TR/SVG11/feature#Extensibility\">\n",
       "<div xmlns=\"http://www.w3.org/1999/xhtml\" style=\"display: flex; align-items: unsafe center; justify-content: unsafe center; width: 58px; height: 1px; padding-top: 165px; margin-left: 226px;\">\n",
       "<div style=\"box-sizing: border-box; font-size: 0; text-align: center; \">\n",
       "<div style=\"display: inline-block; font-size: 12px; font-family: Helvetica; color: #000000; line-height: 1.2; pointer-events: all; white-space: normal; word-wrap: normal; \">Trainer</div>\n",
       "</div>\n",
       "</div>\n",
       "</foreignObject>\n",
       "<text x=\"255\" y=\"169\" fill=\"#000000\" font-family=\"Helvetica\" font-size=\"12px\" text-anchor=\"middle\">Trainer</text>\n",
       "</switch>\n",
       "</g>\n",
       "<ellipse cx=\"180\" cy=\"100\" rx=\"40\" ry=\"20\" fill=\"#ffffff\" stroke=\"#000000\" pointer-events=\"all\"/>\n",
       "<g transform=\"translate(-0.5 -0.5)\">\n",
       "<switch>\n",
       "<foreignObject style=\"overflow: visible; text-align: left;\" pointer-events=\"none\" width=\"100%\" height=\"100%\" requiredFeatures=\"http://www.w3.org/TR/SVG11/feature#Extensibility\">\n",
       "<div xmlns=\"http://www.w3.org/1999/xhtml\" style=\"display: flex; align-items: unsafe center; justify-content: unsafe center; width: 78px; height: 1px; padding-top: 100px; margin-left: 141px;\">\n",
       "<div style=\"box-sizing: border-box; font-size: 0; text-align: center; \">\n",
       "<div style=\"display: inline-block; font-size: 12px; font-family: Helvetica; color: #000000; line-height: 1.2; pointer-events: all; white-space: normal; word-wrap: normal; \">Procedure</div>\n",
       "</div>\n",
       "</div>\n",
       "</foreignObject>\n",
       "<text x=\"180\" y=\"104\" fill=\"#000000\" font-family=\"Helvetica\" font-size=\"12px\" text-anchor=\"middle\">Procedure</text>\n",
       "</switch>\n",
       "</g>\n",
       "<ellipse cx=\"120\" cy=\"185\" rx=\"30\" ry=\"15\" fill=\"#ffffff\" stroke=\"#000000\" pointer-events=\"all\"/>\n",
       "<g transform=\"translate(-0.5 -0.5)\">\n",
       "<switch>\n",
       "<foreignObject style=\"overflow: visible; text-align: left;\" pointer-events=\"none\" width=\"100%\" height=\"100%\" requiredFeatures=\"http://www.w3.org/TR/SVG11/feature#Extensibility\">\n",
       "<div xmlns=\"http://www.w3.org/1999/xhtml\" style=\"display: flex; align-items: unsafe center; justify-content: unsafe center; width: 58px; height: 1px; padding-top: 185px; margin-left: 91px;\">\n",
       "<div style=\"box-sizing: border-box; font-size: 0; text-align: center; \">\n",
       "<div style=\"display: inline-block; font-size: 12px; font-family: Helvetica; color: #000000; line-height: 1.2; pointer-events: all; white-space: normal; word-wrap: normal; \">Trainer</div>\n",
       "</div>\n",
       "</div>\n",
       "</foreignObject>\n",
       "<text x=\"120\" y=\"189\" fill=\"#000000\" font-family=\"Helvetica\" font-size=\"12px\" text-anchor=\"middle\">Trainer</text>\n",
       "</switch>\n",
       "</g>\n",
       "<path d=\"M 164.24 118.38 L 124.14 165.17\" fill=\"none\" stroke=\"#000000\" stroke-miterlimit=\"10\" pointer-events=\"stroke\"/>\n",
       "<path d=\"M 120.73 169.15 L 122.63 161.56 L 124.14 165.17 L 127.94 166.11 Z\" fill=\"#000000\" stroke=\"#000000\" stroke-miterlimit=\"10\" pointer-events=\"all\"/>\n",
       "<g transform=\"translate(-0.5 -0.5)\">\n",
       "<switch>\n",
       "<foreignObject style=\"overflow: visible; text-align: left;\" pointer-events=\"none\" width=\"100%\" height=\"100%\" requiredFeatures=\"http://www.w3.org/TR/SVG11/feature#Extensibility\">\n",
       "<div xmlns=\"http://www.w3.org/1999/xhtml\" style=\"display: flex; align-items: unsafe center; justify-content: unsafe center; width: 1px; height: 1px; padding-top: 144px; margin-left: 142px;\">\n",
       "<div style=\"box-sizing: border-box; font-size: 0; text-align: center; \">\n",
       "<div style=\"display: inline-block; font-size: 11px; font-family: Helvetica; color: #000000; line-height: 1.2; pointer-events: all; background-color: #ffffff; white-space: nowrap; \">catfood</div>\n",
       "</div>\n",
       "</div>\n",
       "</foreignObject>\n",
       "<text x=\"142\" y=\"147\" fill=\"#000000\" font-family=\"Helvetica\" font-size=\"11px\" text-anchor=\"middle\">catfood</text>\n",
       "</switch>\n",
       "</g>\n",
       "<ellipse cx=\"255\" cy=\"295\" rx=\"15\" ry=\"15\" fill=\"#ffffff\" stroke=\"#000000\" pointer-events=\"all\"/>\n",
       "<g transform=\"translate(-0.5 -0.5)\">\n",
       "<switch>\n",
       "<foreignObject style=\"overflow: visible; text-align: left;\" pointer-events=\"none\" width=\"100%\" height=\"100%\" requiredFeatures=\"http://www.w3.org/TR/SVG11/feature#Extensibility\">\n",
       "<div xmlns=\"http://www.w3.org/1999/xhtml\" style=\"display: flex; align-items: unsafe center; justify-content: unsafe center; width: 28px; height: 1px; padding-top: 295px; margin-left: 241px;\">\n",
       "<div style=\"box-sizing: border-box; font-size: 0; text-align: center; \">\n",
       "<div style=\"display: inline-block; font-size: 12px; font-family: Helvetica; color: #000000; line-height: 1.2; pointer-events: all; white-space: normal; word-wrap: normal; \">net</div>\n",
       "</div>\n",
       "</div>\n",
       "</foreignObject>\n",
       "<text x=\"255\" y=\"299\" fill=\"#000000\" font-family=\"Helvetica\" font-size=\"12px\" text-anchor=\"middle\">net</text>\n",
       "</switch>\n",
       "</g>\n",
       "<path d=\"M 255 240 L 255 273.63\" fill=\"none\" stroke=\"#000000\" stroke-miterlimit=\"10\" pointer-events=\"stroke\"/>\n",
       "<path d=\"M 255 278.88 L 251.5 271.88 L 255 273.63 L 258.5 271.88 Z\" fill=\"#000000\" stroke=\"#000000\" stroke-miterlimit=\"10\" pointer-events=\"all\"/>\n",
       "<g transform=\"translate(-0.5 -0.5)\">\n",
       "<switch>\n",
       "<foreignObject style=\"overflow: visible; text-align: left;\" pointer-events=\"none\" width=\"100%\" height=\"100%\" requiredFeatures=\"http://www.w3.org/TR/SVG11/feature#Extensibility\">\n",
       "<div xmlns=\"http://www.w3.org/1999/xhtml\" style=\"display: flex; align-items: unsafe center; justify-content: unsafe center; width: 1px; height: 1px; padding-top: 260px; margin-left: 255px;\">\n",
       "<div style=\"box-sizing: border-box; font-size: 0; text-align: center; \">\n",
       "<div style=\"display: inline-block; font-size: 11px; font-family: Helvetica; color: #000000; line-height: 1.2; pointer-events: all; background-color: #ffffff; white-space: nowrap; \">learned</div>\n",
       "</div>\n",
       "</div>\n",
       "</foreignObject>\n",
       "<text x=\"255\" y=\"263\" fill=\"#000000\" font-family=\"Helvetica\" font-size=\"11px\" text-anchor=\"middle\">learned</text>\n",
       "</switch>\n",
       "</g>\n",
       "<ellipse cx=\"180\" cy=\"335\" rx=\"30\" ry=\"15\" fill=\"#ffffff\" stroke=\"#000000\" pointer-events=\"all\"/>\n",
       "<g transform=\"translate(-0.5 -0.5)\">\n",
       "<switch>\n",
       "<foreignObject style=\"overflow: visible; text-align: left;\" pointer-events=\"none\" width=\"100%\" height=\"100%\" requiredFeatures=\"http://www.w3.org/TR/SVG11/feature#Extensibility\">\n",
       "<div xmlns=\"http://www.w3.org/1999/xhtml\" style=\"display: flex; align-items: unsafe center; justify-content: unsafe center; width: 58px; height: 1px; padding-top: 335px; margin-left: 151px;\">\n",
       "<div style=\"box-sizing: border-box; font-size: 0; text-align: center; \">\n",
       "<div style=\"display: inline-block; font-size: 12px; font-family: Helvetica; color: #000000; line-height: 1.2; pointer-events: all; white-space: normal; word-wrap: normal; \">Trainer</div>\n",
       "</div>\n",
       "</div>\n",
       "</foreignObject>\n",
       "<text x=\"180\" y=\"339\" fill=\"#000000\" font-family=\"Helvetica\" font-size=\"12px\" text-anchor=\"middle\">Trainer</text>\n",
       "</switch>\n",
       "</g>\n",
       "<path d=\"M 244.39 305.61 L 208.02 322.27\" fill=\"none\" stroke=\"#000000\" stroke-miterlimit=\"10\" pointer-events=\"stroke\"/>\n",
       "<path d=\"M 203.25 324.46 L 208.15 318.36 L 208.02 322.27 L 211.07 324.73 Z\" fill=\"#000000\" stroke=\"#000000\" stroke-miterlimit=\"10\" pointer-events=\"all\"/>\n",
       "<ellipse cx=\"275\" cy=\"375\" rx=\"15\" ry=\"15\" fill=\"#ffffff\" stroke=\"#000000\" pointer-events=\"all\"/>\n",
       "<g transform=\"translate(-0.5 -0.5)\">\n",
       "<switch>\n",
       "<foreignObject style=\"overflow: visible; text-align: left;\" pointer-events=\"none\" width=\"100%\" height=\"100%\" requiredFeatures=\"http://www.w3.org/TR/SVG11/feature#Extensibility\">\n",
       "<div xmlns=\"http://www.w3.org/1999/xhtml\" style=\"display: flex; align-items: unsafe center; justify-content: unsafe center; width: 28px; height: 1px; padding-top: 375px; margin-left: 261px;\">\n",
       "<div style=\"box-sizing: border-box; font-size: 0; text-align: center; \">\n",
       "<div style=\"display: inline-block; font-size: 12px; font-family: Helvetica; color: #000000; line-height: 1.2; pointer-events: all; white-space: normal; word-wrap: normal; \">net</div>\n",
       "</div>\n",
       "</div>\n",
       "</foreignObject>\n",
       "<text x=\"275\" y=\"379\" fill=\"#000000\" font-family=\"Helvetica\" font-size=\"12px\" text-anchor=\"middle\">net</text>\n",
       "</switch>\n",
       "</g>\n",
       "<path d=\"M 255 310 L 272.63 354.09\" fill=\"none\" stroke=\"#000000\" stroke-miterlimit=\"10\" pointer-events=\"stroke\"/>\n",
       "<path d=\"M 274.58 358.96 L 268.74 353.76 L 272.63 354.09 L 275.23 351.16 Z\" fill=\"#000000\" stroke=\"#000000\" stroke-miterlimit=\"10\" pointer-events=\"all\"/>\n",
       "<g transform=\"translate(-0.5 -0.5)\">\n",
       "<switch>\n",
       "<foreignObject style=\"overflow: visible; text-align: left;\" pointer-events=\"none\" width=\"100%\" height=\"100%\" requiredFeatures=\"http://www.w3.org/TR/SVG11/feature#Extensibility\">\n",
       "<div xmlns=\"http://www.w3.org/1999/xhtml\" style=\"display: flex; align-items: unsafe center; justify-content: unsafe center; width: 1px; height: 1px; padding-top: 335px; margin-left: 265px;\">\n",
       "<div style=\"box-sizing: border-box; font-size: 0; text-align: center; \">\n",
       "<div style=\"display: inline-block; font-size: 11px; font-family: Helvetica; color: #000000; line-height: 1.2; pointer-events: all; background-color: #ffffff; white-space: nowrap; \">learned</div>\n",
       "</div>\n",
       "</div>\n",
       "</foreignObject>\n",
       "<text x=\"265\" y=\"338\" fill=\"#000000\" font-family=\"Helvetica\" font-size=\"11px\" text-anchor=\"middle\">learned</text>\n",
       "</switch>\n",
       "</g>\n",
       "<ellipse cx=\"180\" cy=\"405\" rx=\"15\" ry=\"15\" fill=\"#ffffff\" stroke=\"#000000\" pointer-events=\"all\"/>\n",
       "<g transform=\"translate(-0.5 -0.5)\">\n",
       "<switch>\n",
       "<foreignObject style=\"overflow: visible; text-align: left;\" pointer-events=\"none\" width=\"100%\" height=\"100%\" requiredFeatures=\"http://www.w3.org/TR/SVG11/feature#Extensibility\">\n",
       "<div xmlns=\"http://www.w3.org/1999/xhtml\" style=\"display: flex; align-items: unsafe center; justify-content: unsafe center; width: 28px; height: 1px; padding-top: 405px; margin-left: 166px;\">\n",
       "<div style=\"box-sizing: border-box; font-size: 0; text-align: center; \">\n",
       "<div style=\"display: inline-block; font-size: 12px; font-family: Helvetica; color: #000000; line-height: 1.2; pointer-events: all; white-space: normal; word-wrap: normal; \">net</div>\n",
       "</div>\n",
       "</div>\n",
       "</foreignObject>\n",
       "<text x=\"180\" y=\"409\" fill=\"#000000\" font-family=\"Helvetica\" font-size=\"12px\" text-anchor=\"middle\">net</text>\n",
       "</switch>\n",
       "</g>\n",
       "<ellipse cx=\"180\" cy=\"475\" rx=\"15\" ry=\"15\" fill=\"#ffffff\" stroke=\"#000000\" pointer-events=\"all\"/>\n",
       "<g transform=\"translate(-0.5 -0.5)\">\n",
       "<switch>\n",
       "<foreignObject style=\"overflow: visible; text-align: left;\" pointer-events=\"none\" width=\"100%\" height=\"100%\" requiredFeatures=\"http://www.w3.org/TR/SVG11/feature#Extensibility\">\n",
       "<div xmlns=\"http://www.w3.org/1999/xhtml\" style=\"display: flex; align-items: unsafe center; justify-content: unsafe center; width: 28px; height: 1px; padding-top: 475px; margin-left: 166px;\">\n",
       "<div style=\"box-sizing: border-box; font-size: 0; text-align: center; \">\n",
       "<div style=\"display: inline-block; font-size: 12px; font-family: Helvetica; color: #000000; line-height: 1.2; pointer-events: all; white-space: normal; word-wrap: normal; \">net</div>\n",
       "</div>\n",
       "</div>\n",
       "</foreignObject>\n",
       "<text x=\"180\" y=\"479\" fill=\"#000000\" font-family=\"Helvetica\" font-size=\"12px\" text-anchor=\"middle\">net</text>\n",
       "</switch>\n",
       "</g>\n",
       "<path d=\"M 180 350 L 180 383.63\" fill=\"none\" stroke=\"#000000\" stroke-miterlimit=\"10\" pointer-events=\"stroke\"/>\n",
       "<path d=\"M 180 388.88 L 176.5 381.88 L 180 383.63 L 183.5 381.88 Z\" fill=\"#000000\" stroke=\"#000000\" stroke-miterlimit=\"10\" pointer-events=\"all\"/>\n",
       "<g transform=\"translate(-0.5 -0.5)\">\n",
       "<switch>\n",
       "<foreignObject style=\"overflow: visible; text-align: left;\" pointer-events=\"none\" width=\"100%\" height=\"100%\" requiredFeatures=\"http://www.w3.org/TR/SVG11/feature#Extensibility\">\n",
       "<div xmlns=\"http://www.w3.org/1999/xhtml\" style=\"display: flex; align-items: unsafe center; justify-content: unsafe center; width: 1px; height: 1px; padding-top: 370px; margin-left: 180px;\">\n",
       "<div style=\"box-sizing: border-box; font-size: 0; text-align: center; \">\n",
       "<div style=\"display: inline-block; font-size: 11px; font-family: Helvetica; color: #000000; line-height: 1.2; pointer-events: all; background-color: #ffffff; white-space: nowrap; \">learned</div>\n",
       "</div>\n",
       "</div>\n",
       "</foreignObject>\n",
       "<text x=\"180\" y=\"373\" fill=\"#000000\" font-family=\"Helvetica\" font-size=\"11px\" text-anchor=\"middle\">learned</text>\n",
       "</switch>\n",
       "</g>\n",
       "<path d=\"M 180 420 L 180 453.63\" fill=\"none\" stroke=\"#000000\" stroke-miterlimit=\"10\" pointer-events=\"stroke\"/>\n",
       "<path d=\"M 180 458.88 L 176.5 451.88 L 180 453.63 L 183.5 451.88 Z\" fill=\"#000000\" stroke=\"#000000\" stroke-miterlimit=\"10\" pointer-events=\"all\"/>\n",
       "<g transform=\"translate(-0.5 -0.5)\">\n",
       "<switch>\n",
       "<foreignObject style=\"overflow: visible; text-align: left;\" pointer-events=\"none\" width=\"100%\" height=\"100%\" requiredFeatures=\"http://www.w3.org/TR/SVG11/feature#Extensibility\">\n",
       "<div xmlns=\"http://www.w3.org/1999/xhtml\" style=\"display: flex; align-items: unsafe center; justify-content: unsafe center; width: 1px; height: 1px; padding-top: 440px; margin-left: 180px;\">\n",
       "<div style=\"box-sizing: border-box; font-size: 0; text-align: center; \">\n",
       "<div style=\"display: inline-block; font-size: 11px; font-family: Helvetica; color: #000000; line-height: 1.2; pointer-events: all; background-color: #ffffff; white-space: nowrap; \">learned</div>\n",
       "</div>\n",
       "</div>\n",
       "</foreignObject>\n",
       "<text x=\"180\" y=\"443\" fill=\"#000000\" font-family=\"Helvetica\" font-size=\"11px\" text-anchor=\"middle\">learned</text>\n",
       "</switch>\n",
       "</g>\n",
       "<path d=\"M 255 180 L 255 203.63\" fill=\"none\" stroke=\"#000000\" stroke-miterlimit=\"10\" pointer-events=\"stroke\"/>\n",
       "<path d=\"M 255 208.88 L 251.5 201.88 L 255 203.63 L 258.5 201.88 Z\" fill=\"#000000\" stroke=\"#000000\" stroke-miterlimit=\"10\" pointer-events=\"all\"/>\n",
       "<path d=\"M 180 120 L 180 313.63\" fill=\"none\" stroke=\"#000000\" stroke-miterlimit=\"10\" pointer-events=\"stroke\"/>\n",
       "<path d=\"M 180 318.88 L 176.5 311.88 L 180 313.63 L 183.5 311.88 Z\" fill=\"#000000\" stroke=\"#000000\" stroke-miterlimit=\"10\" pointer-events=\"all\"/>\n",
       "<path d=\"M 208.28 114.14 L 236.73 145.3\" fill=\"none\" stroke=\"#000000\" stroke-miterlimit=\"10\" pointer-events=\"stroke\"/>\n",
       "<path d=\"M 240.27 149.17 L 232.96 146.36 L 236.73 145.3 L 238.13 141.64 Z\" fill=\"#000000\" stroke=\"#000000\" stroke-miterlimit=\"10\" pointer-events=\"all\"/>\n",
       "<path d=\"M 121.04 37 L 158.91 77.2\" fill=\"none\" stroke=\"#000000\" stroke-miterlimit=\"10\" pointer-events=\"stroke\"/>\n",
       "<path d=\"M 162.51 81.02 L 155.16 78.32 L 158.91 77.2 L 160.26 73.52 Z\" fill=\"#000000\" stroke=\"#000000\" stroke-miterlimit=\"10\" pointer-events=\"all\"/>\n",
       "<path d=\"M 71.72 34.14 L 53.44 62.64\" fill=\"none\" stroke=\"#000000\" stroke-miterlimit=\"10\" pointer-events=\"stroke\"/>\n",
       "<path d=\"M 50.6 67.06 L 51.44 59.28 L 53.44 62.64 L 57.33 63.06 Z\" fill=\"#000000\" stroke=\"#000000\" stroke-miterlimit=\"10\" pointer-events=\"all\"/>\n",
       "<ellipse cx=\"95\" cy=\"255\" rx=\"15\" ry=\"15\" fill=\"#ffffff\" stroke=\"#000000\" pointer-events=\"all\"/>\n",
       "<g transform=\"translate(-0.5 -0.5)\">\n",
       "<switch>\n",
       "<foreignObject style=\"overflow: visible; text-align: left;\" pointer-events=\"none\" width=\"100%\" height=\"100%\" requiredFeatures=\"http://www.w3.org/TR/SVG11/feature#Extensibility\">\n",
       "<div xmlns=\"http://www.w3.org/1999/xhtml\" style=\"display: flex; align-items: unsafe center; justify-content: unsafe center; width: 28px; height: 1px; padding-top: 255px; margin-left: 81px;\">\n",
       "<div style=\"box-sizing: border-box; font-size: 0; text-align: center; \">\n",
       "<div style=\"display: inline-block; font-size: 12px; font-family: Helvetica; color: #000000; line-height: 1.2; pointer-events: all; white-space: normal; word-wrap: normal; \">net</div>\n",
       "</div>\n",
       "</div>\n",
       "</foreignObject>\n",
       "<text x=\"95\" y=\"259\" fill=\"#000000\" font-family=\"Helvetica\" font-size=\"12px\" text-anchor=\"middle\">net</text>\n",
       "</switch>\n",
       "</g>\n",
       "<ellipse cx=\"95\" cy=\"325\" rx=\"15\" ry=\"15\" fill=\"#ffffff\" stroke=\"#000000\" pointer-events=\"all\"/>\n",
       "<g transform=\"translate(-0.5 -0.5)\">\n",
       "<switch>\n",
       "<foreignObject style=\"overflow: visible; text-align: left;\" pointer-events=\"none\" width=\"100%\" height=\"100%\" requiredFeatures=\"http://www.w3.org/TR/SVG11/feature#Extensibility\">\n",
       "<div xmlns=\"http://www.w3.org/1999/xhtml\" style=\"display: flex; align-items: unsafe center; justify-content: unsafe center; width: 28px; height: 1px; padding-top: 325px; margin-left: 81px;\">\n",
       "<div style=\"box-sizing: border-box; font-size: 0; text-align: center; \">\n",
       "<div style=\"display: inline-block; font-size: 12px; font-family: Helvetica; color: #000000; line-height: 1.2; pointer-events: all; white-space: normal; word-wrap: normal; \">net</div>\n",
       "</div>\n",
       "</div>\n",
       "</foreignObject>\n",
       "<text x=\"95\" y=\"329\" fill=\"#000000\" font-family=\"Helvetica\" font-size=\"12px\" text-anchor=\"middle\">net</text>\n",
       "</switch>\n",
       "</g>\n",
       "<path d=\"M 108 197 L 96.84 233.9\" fill=\"none\" stroke=\"#000000\" stroke-miterlimit=\"10\" pointer-events=\"stroke\"/>\n",
       "<path d=\"M 95.32 238.93 L 94 231.22 L 96.84 233.9 L 100.7 233.24 Z\" fill=\"#000000\" stroke=\"#000000\" stroke-miterlimit=\"10\" pointer-events=\"all\"/>\n",
       "<g transform=\"translate(-0.5 -0.5)\">\n",
       "<switch>\n",
       "<foreignObject style=\"overflow: visible; text-align: left;\" pointer-events=\"none\" width=\"100%\" height=\"100%\" requiredFeatures=\"http://www.w3.org/TR/SVG11/feature#Extensibility\">\n",
       "<div xmlns=\"http://www.w3.org/1999/xhtml\" style=\"display: flex; align-items: unsafe center; justify-content: unsafe center; width: 1px; height: 1px; padding-top: 218px; margin-left: 102px;\">\n",
       "<div style=\"box-sizing: border-box; font-size: 0; text-align: center; \">\n",
       "<div style=\"display: inline-block; font-size: 11px; font-family: Helvetica; color: #000000; line-height: 1.2; pointer-events: all; background-color: #ffffff; white-space: nowrap; \">learned</div>\n",
       "</div>\n",
       "</div>\n",
       "</foreignObject>\n",
       "<text x=\"102\" y=\"221\" fill=\"#000000\" font-family=\"Helvetica\" font-size=\"11px\" text-anchor=\"middle\">learned</text>\n",
       "</switch>\n",
       "</g>\n",
       "<path d=\"M 95 270 L 95 303.63\" fill=\"none\" stroke=\"#000000\" stroke-miterlimit=\"10\" pointer-events=\"stroke\"/>\n",
       "<path d=\"M 95 308.88 L 91.5 301.88 L 95 303.63 L 98.5 301.88 Z\" fill=\"#000000\" stroke=\"#000000\" stroke-miterlimit=\"10\" pointer-events=\"all\"/>\n",
       "<g transform=\"translate(-0.5 -0.5)\">\n",
       "<switch>\n",
       "<foreignObject style=\"overflow: visible; text-align: left;\" pointer-events=\"none\" width=\"100%\" height=\"100%\" requiredFeatures=\"http://www.w3.org/TR/SVG11/feature#Extensibility\">\n",
       "<div xmlns=\"http://www.w3.org/1999/xhtml\" style=\"display: flex; align-items: unsafe center; justify-content: unsafe center; width: 1px; height: 1px; padding-top: 290px; margin-left: 95px;\">\n",
       "<div style=\"box-sizing: border-box; font-size: 0; text-align: center; \">\n",
       "<div style=\"display: inline-block; font-size: 11px; font-family: Helvetica; color: #000000; line-height: 1.2; pointer-events: all; background-color: #ffffff; white-space: nowrap; \">learned</div>\n",
       "</div>\n",
       "</div>\n",
       "</foreignObject>\n",
       "<text x=\"95\" y=\"293\" fill=\"#000000\" font-family=\"Helvetica\" font-size=\"11px\" text-anchor=\"middle\">learned</text>\n",
       "</switch>\n",
       "</g>\n",
       "<ellipse cx=\"95\" cy=\"395\" rx=\"15\" ry=\"15\" fill=\"#ffffff\" stroke=\"#000000\" pointer-events=\"all\"/>\n",
       "<g transform=\"translate(-0.5 -0.5)\">\n",
       "<switch>\n",
       "<foreignObject style=\"overflow: visible; text-align: left;\" pointer-events=\"none\" width=\"100%\" height=\"100%\" requiredFeatures=\"http://www.w3.org/TR/SVG11/feature#Extensibility\">\n",
       "<div xmlns=\"http://www.w3.org/1999/xhtml\" style=\"display: flex; align-items: unsafe center; justify-content: unsafe center; width: 28px; height: 1px; padding-top: 395px; margin-left: 81px;\">\n",
       "<div style=\"box-sizing: border-box; font-size: 0; text-align: center; \">\n",
       "<div style=\"display: inline-block; font-size: 12px; font-family: Helvetica; color: #000000; line-height: 1.2; pointer-events: all; white-space: normal; word-wrap: normal; \">net</div>\n",
       "</div>\n",
       "</div>\n",
       "</foreignObject>\n",
       "<text x=\"95\" y=\"399\" fill=\"#000000\" font-family=\"Helvetica\" font-size=\"12px\" text-anchor=\"middle\">net</text>\n",
       "</switch>\n",
       "</g>\n",
       "<ellipse cx=\"95\" cy=\"465\" rx=\"15\" ry=\"15\" fill=\"#ffffff\" stroke=\"#000000\" pointer-events=\"all\"/>\n",
       "<g transform=\"translate(-0.5 -0.5)\">\n",
       "<switch>\n",
       "<foreignObject style=\"overflow: visible; text-align: left;\" pointer-events=\"none\" width=\"100%\" height=\"100%\" requiredFeatures=\"http://www.w3.org/TR/SVG11/feature#Extensibility\">\n",
       "<div xmlns=\"http://www.w3.org/1999/xhtml\" style=\"display: flex; align-items: unsafe center; justify-content: unsafe center; width: 28px; height: 1px; padding-top: 465px; margin-left: 81px;\">\n",
       "<div style=\"box-sizing: border-box; font-size: 0; text-align: center; \">\n",
       "<div style=\"display: inline-block; font-size: 12px; font-family: Helvetica; color: #000000; line-height: 1.2; pointer-events: all; white-space: normal; word-wrap: normal; \">net</div>\n",
       "</div>\n",
       "</div>\n",
       "</foreignObject>\n",
       "<text x=\"95\" y=\"469\" fill=\"#000000\" font-family=\"Helvetica\" font-size=\"12px\" text-anchor=\"middle\">net</text>\n",
       "</switch>\n",
       "</g>\n",
       "<path d=\"M 95 340 L 95 373.63\" fill=\"none\" stroke=\"#000000\" stroke-miterlimit=\"10\" pointer-events=\"stroke\"/>\n",
       "<path d=\"M 95 378.88 L 91.5 371.88 L 95 373.63 L 98.5 371.88 Z\" fill=\"#000000\" stroke=\"#000000\" stroke-miterlimit=\"10\" pointer-events=\"all\"/>\n",
       "<g transform=\"translate(-0.5 -0.5)\">\n",
       "<switch>\n",
       "<foreignObject style=\"overflow: visible; text-align: left;\" pointer-events=\"none\" width=\"100%\" height=\"100%\" requiredFeatures=\"http://www.w3.org/TR/SVG11/feature#Extensibility\">\n",
       "<div xmlns=\"http://www.w3.org/1999/xhtml\" style=\"display: flex; align-items: unsafe center; justify-content: unsafe center; width: 1px; height: 1px; padding-top: 360px; margin-left: 95px;\">\n",
       "<div style=\"box-sizing: border-box; font-size: 0; text-align: center; \">\n",
       "<div style=\"display: inline-block; font-size: 11px; font-family: Helvetica; color: #000000; line-height: 1.2; pointer-events: all; background-color: #ffffff; white-space: nowrap; \">learned</div>\n",
       "</div>\n",
       "</div>\n",
       "</foreignObject>\n",
       "<text x=\"95\" y=\"363\" fill=\"#000000\" font-family=\"Helvetica\" font-size=\"11px\" text-anchor=\"middle\">learned</text>\n",
       "</switch>\n",
       "</g>\n",
       "<path d=\"M 95 410 L 95 443.63\" fill=\"none\" stroke=\"#000000\" stroke-miterlimit=\"10\" pointer-events=\"stroke\"/>\n",
       "<path d=\"M 95 448.88 L 91.5 441.88 L 95 443.63 L 98.5 441.88 Z\" fill=\"#000000\" stroke=\"#000000\" stroke-miterlimit=\"10\" pointer-events=\"all\"/>\n",
       "<g transform=\"translate(-0.5 -0.5)\">\n",
       "<switch>\n",
       "<foreignObject style=\"overflow: visible; text-align: left;\" pointer-events=\"none\" width=\"100%\" height=\"100%\" requiredFeatures=\"http://www.w3.org/TR/SVG11/feature#Extensibility\">\n",
       "<div xmlns=\"http://www.w3.org/1999/xhtml\" style=\"display: flex; align-items: unsafe center; justify-content: unsafe center; width: 1px; height: 1px; padding-top: 430px; margin-left: 95px;\">\n",
       "<div style=\"box-sizing: border-box; font-size: 0; text-align: center; \">\n",
       "<div style=\"display: inline-block; font-size: 11px; font-family: Helvetica; color: #000000; line-height: 1.2; pointer-events: all; background-color: #ffffff; white-space: nowrap; \">learned</div>\n",
       "</div>\n",
       "</div>\n",
       "</foreignObject>\n",
       "<text x=\"95\" y=\"433\" fill=\"#000000\" font-family=\"Helvetica\" font-size=\"11px\" text-anchor=\"middle\">learned</text>\n",
       "</switch>\n",
       "</g>\n",
       "</g>\n",
       "<switch>\n",
       "<g requiredFeatures=\"http://www.w3.org/TR/SVG11/feature#Extensibility\"/>\n",
       "<a transform=\"translate(0,-5)\" xlink:href=\"https://www.diagrams.net/doc/faq/svg-export-text-problems\" target=\"_blank\">\n",
       "<text text-anchor=\"middle\" font-size=\"10px\" x=\"50%\" y=\"100%\">Viewer does not support full SVG 1.1</text>\n",
       "</a>\n",
       "</switch>\n",
       "</svg>"
      ],
      "text/plain": [
       "<IPython.core.display.SVG object>"
      ]
     },
     "metadata": {},
     "output_type": "display_data"
    }
   ],
   "source": [
    "from IPython.display import SVG, display\n",
    "display(SVG('ml graphdb structure r1.svg'))"
   ]
  },
  {
   "cell_type": "code",
   "execution_count": 14,
   "metadata": {},
   "outputs": [
    {
     "data": {
      "text/plain": [
       "'ml graphdb structure r1.svg'"
      ]
     },
     "metadata": {},
     "output_type": "display_data"
    }
   ],
   "source": [
    "from IPython.display import SVG, display\n",
    "display('ml graphdb structure r1.svg')"
   ]
  },
  {
   "cell_type": "markdown",
   "metadata": {},
   "source": [
    "* https://github.com/encode/httpx"
   ]
  },
  {
   "cell_type": "code",
   "execution_count": null,
   "metadata": {},
   "outputs": [],
   "source": []
  }
 ],
 "metadata": {
  "kernelspec": {
   "display_name": "Python 3",
   "language": "python",
   "name": "python3"
  },
  "language_info": {
   "codemirror_mode": {
    "name": "ipython",
    "version": 3
   },
   "file_extension": ".py",
   "mimetype": "text/x-python",
   "name": "python",
   "nbconvert_exporter": "python",
   "pygments_lexer": "ipython3",
   "version": "3.8.6"
  }
 },
 "nbformat": 4,
 "nbformat_minor": 4
}
