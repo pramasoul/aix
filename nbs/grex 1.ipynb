{
 "cells": [
  {
   "cell_type": "markdown",
   "id": "invalid-interval",
   "metadata": {},
   "source": [
    "# Graph Experiment 1\n",
    "Train a net, recording its path in `neo4j` graph database"
   ]
  },
  {
   "cell_type": "markdown",
   "id": "dangerous-conviction",
   "metadata": {},
   "source": [
    "# Preliminaries"
   ]
  },
  {
   "cell_type": "code",
   "execution_count": 1,
   "id": "romance-support",
   "metadata": {},
   "outputs": [],
   "source": [
    "%load_ext autoreload\n",
    "%autoreload 2"
   ]
  },
  {
   "cell_type": "code",
   "execution_count": 2,
   "id": "unavailable-advertiser",
   "metadata": {},
   "outputs": [],
   "source": [
    "import numpy as np\n",
    "from pprint import pprint\n",
    "import neo4j"
   ]
  },
  {
   "cell_type": "code",
   "execution_count": 3,
   "id": "global-print",
   "metadata": {},
   "outputs": [],
   "source": [
    "import hashlib\n",
    "from hashlib import sha256\n",
    "from pprint import pprint\n",
    "import time"
   ]
  },
  {
   "cell_type": "markdown",
   "id": "informative-avatar",
   "metadata": {},
   "source": [
    "## Connecting"
   ]
  },
  {
   "cell_type": "markdown",
   "id": "contrary-archive",
   "metadata": {},
   "source": [
    "Need to get the `gpu-jupyter` and the `neo4j` docker containers connected. If run bare, something like:\n",
    "\n",
    "    docker network connect gpu-jupyter_default gpu-jupyter \n",
    "    docker network connect gpu-jupyter_default neo4j\n",
    "    docker network inspect gpu-jupyter_default \n",
    "    \n",
    "Docker has better ways than this."
   ]
  },
  {
   "cell_type": "code",
   "execution_count": 4,
   "id": "infectious-strain",
   "metadata": {},
   "outputs": [],
   "source": [
    "driver = neo4j.GraphDatabase.driver(\"neo4j://172.19.0.2:7687\", auth=(\"neo4j\", \"test\"))"
   ]
  },
  {
   "cell_type": "code",
   "execution_count": 5,
   "id": "forbidden-pakistan",
   "metadata": {},
   "outputs": [
    {
     "name": "stderr",
     "output_type": "stream",
     "text": [
      "<ipython-input-5-b734c674563a>:1: ExperimentalWarning: The configuration may change in the future.\n",
      "  driver.verify_connectivity()\n"
     ]
    },
    {
     "data": {
      "text/plain": [
       "{IPv4Address(('172.19.0.2', 7687)): [{'ttl': 300,\n",
       "   'servers': [{'addresses': ['172.19.0.2:7687'], 'role': 'WRITE'},\n",
       "    {'addresses': ['172.19.0.2:7687'], 'role': 'READ'},\n",
       "    {'addresses': ['172.19.0.2:7687'], 'role': 'ROUTE'}]}]}"
      ]
     },
     "execution_count": 5,
     "metadata": {},
     "output_type": "execute_result"
    }
   ],
   "source": [
    "driver.verify_connectivity()"
   ]
  },
  {
   "cell_type": "markdown",
   "id": "powerful-sword",
   "metadata": {},
   "source": [
    "# Utility functions"
   ]
  },
  {
   "cell_type": "code",
   "execution_count": 6,
   "id": "annual-actress",
   "metadata": {},
   "outputs": [],
   "source": [
    "def randomize_net(net):\n",
    "    for layer in net.layers:\n",
    "        if hasattr(layer, 'randomize'):\n",
    "            layer.randomize()"
   ]
  },
  {
   "cell_type": "markdown",
   "id": "flying-natural",
   "metadata": {},
   "source": [
    "## `numpy` array store"
   ]
  },
  {
   "cell_type": "code",
   "execution_count": 7,
   "id": "valid-colors",
   "metadata": {},
   "outputs": [],
   "source": [
    "from graph_utils_neo4j import NumpyStore"
   ]
  },
  {
   "cell_type": "markdown",
   "id": "suspected-chrome",
   "metadata": {},
   "source": [
    "# The Model\n",
    "    Investigation -> Experiment -> multiple ResultDAGs\n",
    "`ResultDAG` is\n",
    "\n",
    "    (netState, params)-[mutation]->(netState, params)-[mutation ...\n",
    "                     +-[mutation]->(netstate, params) ...\n",
    "etc. `mutation` can be a learning trajectory, or an edit.\n",
    "\n",
    "Perhaps `mutation` can be expressed in python.\n",
    "\n",
    "Generally the results of experiments are preferred to be reproducible, but they won't always be, when they import entropy."
   ]
  },
  {
   "cell_type": "markdown",
   "id": "rental-consent",
   "metadata": {},
   "source": [
    "## Some neural nets"
   ]
  },
  {
   "cell_type": "code",
   "execution_count": 8,
   "id": "interior-desperate",
   "metadata": {},
   "outputs": [],
   "source": [
    "from nn import Network, Layer, IdentityLayer, AffineLayer, MapLayer\n",
    "from nnbench import NetMaker, NNMEG"
   ]
  },
  {
   "cell_type": "code",
   "execution_count": 9,
   "id": "involved-program",
   "metadata": {},
   "outputs": [],
   "source": [
    "mnm = NetMaker(NNMEG)\n",
    "xor_net = mnm('2x2tx1t')\n",
    "#adc_net = mnm('1x8tx8tx3t')\n",
    "adc_net = mnm('1x8tx8tx3tx3t')"
   ]
  },
  {
   "cell_type": "markdown",
   "id": "ruled-insertion",
   "metadata": {},
   "source": [
    "## ... and training data"
   ]
  },
  {
   "cell_type": "code",
   "execution_count": 10,
   "id": "hindu-simpson",
   "metadata": {},
   "outputs": [],
   "source": [
    "xor_training_batch = (np.array([[-0.5, -0.5],\n",
    "                            [-0.5,  0.5],\n",
    "                            [ 0.5,  0.5],\n",
    "                            [ 0.5, -0.5]]),\n",
    "                  np.array([[-0.5],\n",
    "                            [ 0.5],\n",
    "                            [-0.5],\n",
    "                            [ 0.5]]))"
   ]
  },
  {
   "cell_type": "code",
   "execution_count": 11,
   "id": "hispanic-promise",
   "metadata": {},
   "outputs": [],
   "source": [
    "def adc(input):\n",
    "    m = max(0, min(7, int(8*input)))\n",
    "    return np.array([(m>>2)&1, (m>>1)&1, m&1]) * 2 - 1\n",
    "\n",
    "vadc = lambda v: np.array([adc(p) for p in v])\n",
    "#plot_ADC(vadc)"
   ]
  },
  {
   "cell_type": "code",
   "execution_count": 12,
   "id": "corrected-contamination",
   "metadata": {},
   "outputs": [],
   "source": [
    "x = np.arange(0, 1, 1.0/(8*8)).reshape(-1,1) # 1 point in each output region\n",
    "adc_training_batch = (x, vadc(x))"
   ]
  },
  {
   "cell_type": "markdown",
   "id": "immediate-judge",
   "metadata": {},
   "source": [
    "### We use `adc_net`"
   ]
  },
  {
   "cell_type": "code",
   "execution_count": 13,
   "id": "alternate-marriage",
   "metadata": {},
   "outputs": [],
   "source": [
    "net = adc_net\n",
    "training_batch = adc_training_batch"
   ]
  },
  {
   "cell_type": "markdown",
   "id": "departmental-nation",
   "metadata": {},
   "source": [
    "# The graph database"
   ]
  },
  {
   "cell_type": "code",
   "execution_count": 14,
   "id": "protected-feeling",
   "metadata": {},
   "outputs": [
    {
     "data": {
      "image/svg+xml": [
       "<svg xmlns=\"http://www.w3.org/2000/svg\" xmlns:xlink=\"http://www.w3.org/1999/xlink\" version=\"1.1\" width=\"291px\" height=\"491px\" viewBox=\"-0.5 -0.5 291 491\" content=\"&lt;mxfile host=&quot;app.diagrams.net&quot; modified=&quot;2021-03-10T01:53:04.759Z&quot; agent=&quot;5.0 (Macintosh; Intel Mac OS X 11_2_2) AppleWebKit/537.36 (KHTML, like Gecko) Chrome/88.0.4324.192 Safari/537.36&quot; etag=&quot;gpXqGi4afPrw88vYt5iH&quot; version=&quot;14.4.6&quot; type=&quot;browser&quot;&gt;&lt;diagram id=&quot;3l-dQbXBslvPWgFDMlL6&quot; name=&quot;Page-1&quot;&gt;7VxNk5s4EP01Ps4U+sLDMevMJpdUJjWpSrI3FjQ2Vdi4ZDzG++tXHiQMkj9kDEjj5OJyN1jA0+vmqWk8QpN58YmFy9mXLKbpCHpxMUIfRxA+BIR/7hzb0kHIuHRMWRKXLrB3PCf/UeH0hHedxHTV2DHPsjRPlk1nlC0WNMobvpCxbNPc7SVLm0ddhlOqOZ6jMNW9P5I4n4nLIt7e/5km05k8MvDElnkodxaO1SyMs03NhR5HaMKyLC+/zYsJTXfYSVzK3/19ZGt1YowucpMf+F8/T76uJv/Mg/HztPhGUghmd2J2XsN0LS74sVhSlsx3g5annW8lFnw8Djs3/trMkpw+L8Not2XDJ577Zvk85RbgX/VTE2f7SllOi5pLnOonms1pzrZ8F7EVjQVskjfC3NQmQbhmNfyx8IVi2qfVwHtk+BcBzgVAPWhALegVCIWrZcnWl6SgcTeQEdKEDPo6ZugAZqgvzADQQHtiWUTjNaN2yQWaSAFomV0Aakh9Z2GyoMwqTgSRJqM8HSd/UEZhRxmFldgDyDaj9MzuAqOwp+SoA5E3LKP0xB6F+UuWxTpOi/jDTlFwK0rD1SqJmvBwVNj2Jze8eyLNXztTGh+LhrUV1lFYV9maRdQgHPKQTWluwAYaN9SOPk21aSAHpkH6GE3DPHltaqRDcyOO8JQlOz1R5d9AYYEaBuWVi1/VNY0yEMZK2AXKQCUy2kBvVKkuuz17oH6H02gzZdl6aR46lZQN/5UjeIfn6shtHx1IPcPe9gMNlL610unJOZ+dbEEls18NqpSGbEFbZJ8iyWvJh1u/alv2qWdnyMzTXcY6OQFn89iDaRoLnEpjd8Bvht6dmn5M8xiXyspIQE2JfWcy3029oCBcLQtt6QU4Pp/xjUPVOFCvkAiBYWxJAjgSW6pEQH5HEqFa+w0VWPrdcHiJoBRTMLAsESQGLUA5DXJ7qKxBgTQo7KgleARCh6DSV/+3pJaCzlM6ciql87W2KnK81noJqUORYdO6PL7NtI7HzfJcdauzFaCo/XL4NMjvL60j/Q5nJa0j9xfBSE/r1kOJ2FZISK/fXhdK+GqorEGhL03thBI5AqFDUOli8n0qJNPlrVy1ntVCMh87ooWQ8hwEta2AI/Wh78AVcKTXQ26bcZJI5xnnVkEFBopYVOsgxozDzYG0ykzfjNOf2N0o1YAp1R6cYtrNlO6QQenuRphm+iD5T5W4H6rJw3dBNdCGaNAfX0K1N+vprVEwp2w4/smU6Ar/lGVj1eNzMf+gMpC6ROibfwaVG/NUN/ZRjYPefQDJaR5yozsyEVMuYbe4dDO5DHbIpTa5zIeN2+add++RYfOZMQXBHwr2QkG9DqJRsO+SotbkJm1bxSHcvs56GuT3V1LEenXVSkmxmhJ3S4pYr75aDyVk+80GbNAFdFEo+VdDZQ2K4d+MOT0lDoeSXk+4vlaqKO1eCgvd6nNgqo6wW13r2FPWaGrLgak6gn5zoKF7PeV5/zY1e2zMOLcqqVDpCoZt9ThU2mjhwHqcOPCehCoisO33JIjBOvkSEUGuh8oaFI40QVZT4q6IIA50y6ihRA68FzosKB13y5Bj67J3EEqOdMsQ97tlyO/Wu4BNX7QibnUOq8obtX3PSlXe2vOavnWQvli+bcZJIp1nnFsPllXljdt2qqvKG3XWp87N/Z/HlLvv/4EHPf4P&lt;/diagram&gt;&lt;/mxfile&gt;\" style=\"background-color: rgb(255, 255, 255);\">\n",
       "<defs/>\n",
       "<g>\n",
       "<ellipse cx=\"100\" cy=\"20\" rx=\"40\" ry=\"20\" fill=\"#ffffff\" stroke=\"#000000\" pointer-events=\"all\"/>\n",
       "<g transform=\"translate(-0.5 -0.5)\">\n",
       "<switch>\n",
       "<foreignObject style=\"overflow: visible; text-align: left;\" pointer-events=\"none\" width=\"100%\" height=\"100%\" requiredFeatures=\"http://www.w3.org/TR/SVG11/feature#Extensibility\">\n",
       "<div xmlns=\"http://www.w3.org/1999/xhtml\" style=\"display: flex; align-items: unsafe center; justify-content: unsafe center; width: 78px; height: 1px; padding-top: 20px; margin-left: 61px;\">\n",
       "<div style=\"box-sizing: border-box; font-size: 0; text-align: center; \">\n",
       "<div style=\"display: inline-block; font-size: 12px; font-family: Helvetica; color: #000000; line-height: 1.2; pointer-events: all; white-space: normal; word-wrap: normal; \">Experiment</div>\n",
       "</div>\n",
       "</div>\n",
       "</foreignObject>\n",
       "<text x=\"100\" y=\"24\" fill=\"#000000\" font-family=\"Helvetica\" font-size=\"12px\" text-anchor=\"middle\">Experiment</text>\n",
       "</switch>\n",
       "</g>\n",
       "<ellipse cx=\"255\" cy=\"225\" rx=\"15\" ry=\"15\" fill=\"#ffffff\" stroke=\"#000000\" pointer-events=\"all\"/>\n",
       "<g transform=\"translate(-0.5 -0.5)\">\n",
       "<switch>\n",
       "<foreignObject style=\"overflow: visible; text-align: left;\" pointer-events=\"none\" width=\"100%\" height=\"100%\" requiredFeatures=\"http://www.w3.org/TR/SVG11/feature#Extensibility\">\n",
       "<div xmlns=\"http://www.w3.org/1999/xhtml\" style=\"display: flex; align-items: unsafe center; justify-content: unsafe center; width: 28px; height: 1px; padding-top: 225px; margin-left: 241px;\">\n",
       "<div style=\"box-sizing: border-box; font-size: 0; text-align: center; \">\n",
       "<div style=\"display: inline-block; font-size: 12px; font-family: Helvetica; color: #000000; line-height: 1.2; pointer-events: all; white-space: normal; word-wrap: normal; \">net</div>\n",
       "</div>\n",
       "</div>\n",
       "</foreignObject>\n",
       "<text x=\"255\" y=\"229\" fill=\"#000000\" font-family=\"Helvetica\" font-size=\"12px\" text-anchor=\"middle\">net</text>\n",
       "</switch>\n",
       "</g>\n",
       "<ellipse cx=\"40\" cy=\"90\" rx=\"40\" ry=\"20\" fill=\"#ffffff\" stroke=\"#000000\" pointer-events=\"all\"/>\n",
       "<g transform=\"translate(-0.5 -0.5)\">\n",
       "<switch>\n",
       "<foreignObject style=\"overflow: visible; text-align: left;\" pointer-events=\"none\" width=\"100%\" height=\"100%\" requiredFeatures=\"http://www.w3.org/TR/SVG11/feature#Extensibility\">\n",
       "<div xmlns=\"http://www.w3.org/1999/xhtml\" style=\"display: flex; align-items: unsafe center; justify-content: unsafe center; width: 78px; height: 1px; padding-top: 90px; margin-left: 1px;\">\n",
       "<div style=\"box-sizing: border-box; font-size: 0; text-align: center; \">\n",
       "<div style=\"display: inline-block; font-size: 12px; font-family: Helvetica; color: #000000; line-height: 1.2; pointer-events: all; white-space: normal; word-wrap: normal; \">Procedure</div>\n",
       "</div>\n",
       "</div>\n",
       "</foreignObject>\n",
       "<text x=\"40\" y=\"94\" fill=\"#000000\" font-family=\"Helvetica\" font-size=\"12px\" text-anchor=\"middle\">Procedure</text>\n",
       "</switch>\n",
       "</g>\n",
       "<ellipse cx=\"255\" cy=\"165\" rx=\"30\" ry=\"15\" fill=\"#ffffff\" stroke=\"#000000\" pointer-events=\"all\"/>\n",
       "<g transform=\"translate(-0.5 -0.5)\">\n",
       "<switch>\n",
       "<foreignObject style=\"overflow: visible; text-align: left;\" pointer-events=\"none\" width=\"100%\" height=\"100%\" requiredFeatures=\"http://www.w3.org/TR/SVG11/feature#Extensibility\">\n",
       "<div xmlns=\"http://www.w3.org/1999/xhtml\" style=\"display: flex; align-items: unsafe center; justify-content: unsafe center; width: 58px; height: 1px; padding-top: 165px; margin-left: 226px;\">\n",
       "<div style=\"box-sizing: border-box; font-size: 0; text-align: center; \">\n",
       "<div style=\"display: inline-block; font-size: 12px; font-family: Helvetica; color: #000000; line-height: 1.2; pointer-events: all; white-space: normal; word-wrap: normal; \">Trainer</div>\n",
       "</div>\n",
       "</div>\n",
       "</foreignObject>\n",
       "<text x=\"255\" y=\"169\" fill=\"#000000\" font-family=\"Helvetica\" font-size=\"12px\" text-anchor=\"middle\">Trainer</text>\n",
       "</switch>\n",
       "</g>\n",
       "<ellipse cx=\"180\" cy=\"100\" rx=\"40\" ry=\"20\" fill=\"#ffffff\" stroke=\"#000000\" pointer-events=\"all\"/>\n",
       "<g transform=\"translate(-0.5 -0.5)\">\n",
       "<switch>\n",
       "<foreignObject style=\"overflow: visible; text-align: left;\" pointer-events=\"none\" width=\"100%\" height=\"100%\" requiredFeatures=\"http://www.w3.org/TR/SVG11/feature#Extensibility\">\n",
       "<div xmlns=\"http://www.w3.org/1999/xhtml\" style=\"display: flex; align-items: unsafe center; justify-content: unsafe center; width: 78px; height: 1px; padding-top: 100px; margin-left: 141px;\">\n",
       "<div style=\"box-sizing: border-box; font-size: 0; text-align: center; \">\n",
       "<div style=\"display: inline-block; font-size: 12px; font-family: Helvetica; color: #000000; line-height: 1.2; pointer-events: all; white-space: normal; word-wrap: normal; \">Procedure</div>\n",
       "</div>\n",
       "</div>\n",
       "</foreignObject>\n",
       "<text x=\"180\" y=\"104\" fill=\"#000000\" font-family=\"Helvetica\" font-size=\"12px\" text-anchor=\"middle\">Procedure</text>\n",
       "</switch>\n",
       "</g>\n",
       "<ellipse cx=\"120\" cy=\"185\" rx=\"30\" ry=\"15\" fill=\"#ffffff\" stroke=\"#000000\" pointer-events=\"all\"/>\n",
       "<g transform=\"translate(-0.5 -0.5)\">\n",
       "<switch>\n",
       "<foreignObject style=\"overflow: visible; text-align: left;\" pointer-events=\"none\" width=\"100%\" height=\"100%\" requiredFeatures=\"http://www.w3.org/TR/SVG11/feature#Extensibility\">\n",
       "<div xmlns=\"http://www.w3.org/1999/xhtml\" style=\"display: flex; align-items: unsafe center; justify-content: unsafe center; width: 58px; height: 1px; padding-top: 185px; margin-left: 91px;\">\n",
       "<div style=\"box-sizing: border-box; font-size: 0; text-align: center; \">\n",
       "<div style=\"display: inline-block; font-size: 12px; font-family: Helvetica; color: #000000; line-height: 1.2; pointer-events: all; white-space: normal; word-wrap: normal; \">Trainer</div>\n",
       "</div>\n",
       "</div>\n",
       "</foreignObject>\n",
       "<text x=\"120\" y=\"189\" fill=\"#000000\" font-family=\"Helvetica\" font-size=\"12px\" text-anchor=\"middle\">Trainer</text>\n",
       "</switch>\n",
       "</g>\n",
       "<path d=\"M 164.24 118.38 L 124.14 165.17\" fill=\"none\" stroke=\"#000000\" stroke-miterlimit=\"10\" pointer-events=\"stroke\"/>\n",
       "<path d=\"M 120.73 169.15 L 122.63 161.56 L 124.14 165.17 L 127.94 166.11 Z\" fill=\"#000000\" stroke=\"#000000\" stroke-miterlimit=\"10\" pointer-events=\"all\"/>\n",
       "<g transform=\"translate(-0.5 -0.5)\">\n",
       "<switch>\n",
       "<foreignObject style=\"overflow: visible; text-align: left;\" pointer-events=\"none\" width=\"100%\" height=\"100%\" requiredFeatures=\"http://www.w3.org/TR/SVG11/feature#Extensibility\">\n",
       "<div xmlns=\"http://www.w3.org/1999/xhtml\" style=\"display: flex; align-items: unsafe center; justify-content: unsafe center; width: 1px; height: 1px; padding-top: 144px; margin-left: 142px;\">\n",
       "<div style=\"box-sizing: border-box; font-size: 0; text-align: center; \">\n",
       "<div style=\"display: inline-block; font-size: 11px; font-family: Helvetica; color: #000000; line-height: 1.2; pointer-events: all; background-color: #ffffff; white-space: nowrap; \">catfood</div>\n",
       "</div>\n",
       "</div>\n",
       "</foreignObject>\n",
       "<text x=\"142\" y=\"147\" fill=\"#000000\" font-family=\"Helvetica\" font-size=\"11px\" text-anchor=\"middle\">catfood</text>\n",
       "</switch>\n",
       "</g>\n",
       "<ellipse cx=\"255\" cy=\"295\" rx=\"15\" ry=\"15\" fill=\"#ffffff\" stroke=\"#000000\" pointer-events=\"all\"/>\n",
       "<g transform=\"translate(-0.5 -0.5)\">\n",
       "<switch>\n",
       "<foreignObject style=\"overflow: visible; text-align: left;\" pointer-events=\"none\" width=\"100%\" height=\"100%\" requiredFeatures=\"http://www.w3.org/TR/SVG11/feature#Extensibility\">\n",
       "<div xmlns=\"http://www.w3.org/1999/xhtml\" style=\"display: flex; align-items: unsafe center; justify-content: unsafe center; width: 28px; height: 1px; padding-top: 295px; margin-left: 241px;\">\n",
       "<div style=\"box-sizing: border-box; font-size: 0; text-align: center; \">\n",
       "<div style=\"display: inline-block; font-size: 12px; font-family: Helvetica; color: #000000; line-height: 1.2; pointer-events: all; white-space: normal; word-wrap: normal; \">net</div>\n",
       "</div>\n",
       "</div>\n",
       "</foreignObject>\n",
       "<text x=\"255\" y=\"299\" fill=\"#000000\" font-family=\"Helvetica\" font-size=\"12px\" text-anchor=\"middle\">net</text>\n",
       "</switch>\n",
       "</g>\n",
       "<path d=\"M 255 240 L 255 273.63\" fill=\"none\" stroke=\"#000000\" stroke-miterlimit=\"10\" pointer-events=\"stroke\"/>\n",
       "<path d=\"M 255 278.88 L 251.5 271.88 L 255 273.63 L 258.5 271.88 Z\" fill=\"#000000\" stroke=\"#000000\" stroke-miterlimit=\"10\" pointer-events=\"all\"/>\n",
       "<g transform=\"translate(-0.5 -0.5)\">\n",
       "<switch>\n",
       "<foreignObject style=\"overflow: visible; text-align: left;\" pointer-events=\"none\" width=\"100%\" height=\"100%\" requiredFeatures=\"http://www.w3.org/TR/SVG11/feature#Extensibility\">\n",
       "<div xmlns=\"http://www.w3.org/1999/xhtml\" style=\"display: flex; align-items: unsafe center; justify-content: unsafe center; width: 1px; height: 1px; padding-top: 260px; margin-left: 255px;\">\n",
       "<div style=\"box-sizing: border-box; font-size: 0; text-align: center; \">\n",
       "<div style=\"display: inline-block; font-size: 11px; font-family: Helvetica; color: #000000; line-height: 1.2; pointer-events: all; background-color: #ffffff; white-space: nowrap; \">learned</div>\n",
       "</div>\n",
       "</div>\n",
       "</foreignObject>\n",
       "<text x=\"255\" y=\"263\" fill=\"#000000\" font-family=\"Helvetica\" font-size=\"11px\" text-anchor=\"middle\">learned</text>\n",
       "</switch>\n",
       "</g>\n",
       "<ellipse cx=\"180\" cy=\"335\" rx=\"30\" ry=\"15\" fill=\"#ffffff\" stroke=\"#000000\" pointer-events=\"all\"/>\n",
       "<g transform=\"translate(-0.5 -0.5)\">\n",
       "<switch>\n",
       "<foreignObject style=\"overflow: visible; text-align: left;\" pointer-events=\"none\" width=\"100%\" height=\"100%\" requiredFeatures=\"http://www.w3.org/TR/SVG11/feature#Extensibility\">\n",
       "<div xmlns=\"http://www.w3.org/1999/xhtml\" style=\"display: flex; align-items: unsafe center; justify-content: unsafe center; width: 58px; height: 1px; padding-top: 335px; margin-left: 151px;\">\n",
       "<div style=\"box-sizing: border-box; font-size: 0; text-align: center; \">\n",
       "<div style=\"display: inline-block; font-size: 12px; font-family: Helvetica; color: #000000; line-height: 1.2; pointer-events: all; white-space: normal; word-wrap: normal; \">Trainer</div>\n",
       "</div>\n",
       "</div>\n",
       "</foreignObject>\n",
       "<text x=\"180\" y=\"339\" fill=\"#000000\" font-family=\"Helvetica\" font-size=\"12px\" text-anchor=\"middle\">Trainer</text>\n",
       "</switch>\n",
       "</g>\n",
       "<path d=\"M 244.39 305.61 L 208.02 322.27\" fill=\"none\" stroke=\"#000000\" stroke-miterlimit=\"10\" pointer-events=\"stroke\"/>\n",
       "<path d=\"M 203.25 324.46 L 208.15 318.36 L 208.02 322.27 L 211.07 324.73 Z\" fill=\"#000000\" stroke=\"#000000\" stroke-miterlimit=\"10\" pointer-events=\"all\"/>\n",
       "<ellipse cx=\"275\" cy=\"375\" rx=\"15\" ry=\"15\" fill=\"#ffffff\" stroke=\"#000000\" pointer-events=\"all\"/>\n",
       "<g transform=\"translate(-0.5 -0.5)\">\n",
       "<switch>\n",
       "<foreignObject style=\"overflow: visible; text-align: left;\" pointer-events=\"none\" width=\"100%\" height=\"100%\" requiredFeatures=\"http://www.w3.org/TR/SVG11/feature#Extensibility\">\n",
       "<div xmlns=\"http://www.w3.org/1999/xhtml\" style=\"display: flex; align-items: unsafe center; justify-content: unsafe center; width: 28px; height: 1px; padding-top: 375px; margin-left: 261px;\">\n",
       "<div style=\"box-sizing: border-box; font-size: 0; text-align: center; \">\n",
       "<div style=\"display: inline-block; font-size: 12px; font-family: Helvetica; color: #000000; line-height: 1.2; pointer-events: all; white-space: normal; word-wrap: normal; \">net</div>\n",
       "</div>\n",
       "</div>\n",
       "</foreignObject>\n",
       "<text x=\"275\" y=\"379\" fill=\"#000000\" font-family=\"Helvetica\" font-size=\"12px\" text-anchor=\"middle\">net</text>\n",
       "</switch>\n",
       "</g>\n",
       "<path d=\"M 255 310 L 272.63 354.09\" fill=\"none\" stroke=\"#000000\" stroke-miterlimit=\"10\" pointer-events=\"stroke\"/>\n",
       "<path d=\"M 274.58 358.96 L 268.74 353.76 L 272.63 354.09 L 275.23 351.16 Z\" fill=\"#000000\" stroke=\"#000000\" stroke-miterlimit=\"10\" pointer-events=\"all\"/>\n",
       "<g transform=\"translate(-0.5 -0.5)\">\n",
       "<switch>\n",
       "<foreignObject style=\"overflow: visible; text-align: left;\" pointer-events=\"none\" width=\"100%\" height=\"100%\" requiredFeatures=\"http://www.w3.org/TR/SVG11/feature#Extensibility\">\n",
       "<div xmlns=\"http://www.w3.org/1999/xhtml\" style=\"display: flex; align-items: unsafe center; justify-content: unsafe center; width: 1px; height: 1px; padding-top: 335px; margin-left: 265px;\">\n",
       "<div style=\"box-sizing: border-box; font-size: 0; text-align: center; \">\n",
       "<div style=\"display: inline-block; font-size: 11px; font-family: Helvetica; color: #000000; line-height: 1.2; pointer-events: all; background-color: #ffffff; white-space: nowrap; \">learned</div>\n",
       "</div>\n",
       "</div>\n",
       "</foreignObject>\n",
       "<text x=\"265\" y=\"338\" fill=\"#000000\" font-family=\"Helvetica\" font-size=\"11px\" text-anchor=\"middle\">learned</text>\n",
       "</switch>\n",
       "</g>\n",
       "<ellipse cx=\"180\" cy=\"405\" rx=\"15\" ry=\"15\" fill=\"#ffffff\" stroke=\"#000000\" pointer-events=\"all\"/>\n",
       "<g transform=\"translate(-0.5 -0.5)\">\n",
       "<switch>\n",
       "<foreignObject style=\"overflow: visible; text-align: left;\" pointer-events=\"none\" width=\"100%\" height=\"100%\" requiredFeatures=\"http://www.w3.org/TR/SVG11/feature#Extensibility\">\n",
       "<div xmlns=\"http://www.w3.org/1999/xhtml\" style=\"display: flex; align-items: unsafe center; justify-content: unsafe center; width: 28px; height: 1px; padding-top: 405px; margin-left: 166px;\">\n",
       "<div style=\"box-sizing: border-box; font-size: 0; text-align: center; \">\n",
       "<div style=\"display: inline-block; font-size: 12px; font-family: Helvetica; color: #000000; line-height: 1.2; pointer-events: all; white-space: normal; word-wrap: normal; \">net</div>\n",
       "</div>\n",
       "</div>\n",
       "</foreignObject>\n",
       "<text x=\"180\" y=\"409\" fill=\"#000000\" font-family=\"Helvetica\" font-size=\"12px\" text-anchor=\"middle\">net</text>\n",
       "</switch>\n",
       "</g>\n",
       "<ellipse cx=\"180\" cy=\"475\" rx=\"15\" ry=\"15\" fill=\"#ffffff\" stroke=\"#000000\" pointer-events=\"all\"/>\n",
       "<g transform=\"translate(-0.5 -0.5)\">\n",
       "<switch>\n",
       "<foreignObject style=\"overflow: visible; text-align: left;\" pointer-events=\"none\" width=\"100%\" height=\"100%\" requiredFeatures=\"http://www.w3.org/TR/SVG11/feature#Extensibility\">\n",
       "<div xmlns=\"http://www.w3.org/1999/xhtml\" style=\"display: flex; align-items: unsafe center; justify-content: unsafe center; width: 28px; height: 1px; padding-top: 475px; margin-left: 166px;\">\n",
       "<div style=\"box-sizing: border-box; font-size: 0; text-align: center; \">\n",
       "<div style=\"display: inline-block; font-size: 12px; font-family: Helvetica; color: #000000; line-height: 1.2; pointer-events: all; white-space: normal; word-wrap: normal; \">net</div>\n",
       "</div>\n",
       "</div>\n",
       "</foreignObject>\n",
       "<text x=\"180\" y=\"479\" fill=\"#000000\" font-family=\"Helvetica\" font-size=\"12px\" text-anchor=\"middle\">net</text>\n",
       "</switch>\n",
       "</g>\n",
       "<path d=\"M 180 350 L 180 383.63\" fill=\"none\" stroke=\"#000000\" stroke-miterlimit=\"10\" pointer-events=\"stroke\"/>\n",
       "<path d=\"M 180 388.88 L 176.5 381.88 L 180 383.63 L 183.5 381.88 Z\" fill=\"#000000\" stroke=\"#000000\" stroke-miterlimit=\"10\" pointer-events=\"all\"/>\n",
       "<g transform=\"translate(-0.5 -0.5)\">\n",
       "<switch>\n",
       "<foreignObject style=\"overflow: visible; text-align: left;\" pointer-events=\"none\" width=\"100%\" height=\"100%\" requiredFeatures=\"http://www.w3.org/TR/SVG11/feature#Extensibility\">\n",
       "<div xmlns=\"http://www.w3.org/1999/xhtml\" style=\"display: flex; align-items: unsafe center; justify-content: unsafe center; width: 1px; height: 1px; padding-top: 370px; margin-left: 180px;\">\n",
       "<div style=\"box-sizing: border-box; font-size: 0; text-align: center; \">\n",
       "<div style=\"display: inline-block; font-size: 11px; font-family: Helvetica; color: #000000; line-height: 1.2; pointer-events: all; background-color: #ffffff; white-space: nowrap; \">learned</div>\n",
       "</div>\n",
       "</div>\n",
       "</foreignObject>\n",
       "<text x=\"180\" y=\"373\" fill=\"#000000\" font-family=\"Helvetica\" font-size=\"11px\" text-anchor=\"middle\">learned</text>\n",
       "</switch>\n",
       "</g>\n",
       "<path d=\"M 180 420 L 180 453.63\" fill=\"none\" stroke=\"#000000\" stroke-miterlimit=\"10\" pointer-events=\"stroke\"/>\n",
       "<path d=\"M 180 458.88 L 176.5 451.88 L 180 453.63 L 183.5 451.88 Z\" fill=\"#000000\" stroke=\"#000000\" stroke-miterlimit=\"10\" pointer-events=\"all\"/>\n",
       "<g transform=\"translate(-0.5 -0.5)\">\n",
       "<switch>\n",
       "<foreignObject style=\"overflow: visible; text-align: left;\" pointer-events=\"none\" width=\"100%\" height=\"100%\" requiredFeatures=\"http://www.w3.org/TR/SVG11/feature#Extensibility\">\n",
       "<div xmlns=\"http://www.w3.org/1999/xhtml\" style=\"display: flex; align-items: unsafe center; justify-content: unsafe center; width: 1px; height: 1px; padding-top: 440px; margin-left: 180px;\">\n",
       "<div style=\"box-sizing: border-box; font-size: 0; text-align: center; \">\n",
       "<div style=\"display: inline-block; font-size: 11px; font-family: Helvetica; color: #000000; line-height: 1.2; pointer-events: all; background-color: #ffffff; white-space: nowrap; \">learned</div>\n",
       "</div>\n",
       "</div>\n",
       "</foreignObject>\n",
       "<text x=\"180\" y=\"443\" fill=\"#000000\" font-family=\"Helvetica\" font-size=\"11px\" text-anchor=\"middle\">learned</text>\n",
       "</switch>\n",
       "</g>\n",
       "<path d=\"M 255 180 L 255 203.63\" fill=\"none\" stroke=\"#000000\" stroke-miterlimit=\"10\" pointer-events=\"stroke\"/>\n",
       "<path d=\"M 255 208.88 L 251.5 201.88 L 255 203.63 L 258.5 201.88 Z\" fill=\"#000000\" stroke=\"#000000\" stroke-miterlimit=\"10\" pointer-events=\"all\"/>\n",
       "<path d=\"M 180 120 L 180 313.63\" fill=\"none\" stroke=\"#000000\" stroke-miterlimit=\"10\" pointer-events=\"stroke\"/>\n",
       "<path d=\"M 180 318.88 L 176.5 311.88 L 180 313.63 L 183.5 311.88 Z\" fill=\"#000000\" stroke=\"#000000\" stroke-miterlimit=\"10\" pointer-events=\"all\"/>\n",
       "<path d=\"M 208.28 114.14 L 236.73 145.3\" fill=\"none\" stroke=\"#000000\" stroke-miterlimit=\"10\" pointer-events=\"stroke\"/>\n",
       "<path d=\"M 240.27 149.17 L 232.96 146.36 L 236.73 145.3 L 238.13 141.64 Z\" fill=\"#000000\" stroke=\"#000000\" stroke-miterlimit=\"10\" pointer-events=\"all\"/>\n",
       "<path d=\"M 121.04 37 L 158.91 77.2\" fill=\"none\" stroke=\"#000000\" stroke-miterlimit=\"10\" pointer-events=\"stroke\"/>\n",
       "<path d=\"M 162.51 81.02 L 155.16 78.32 L 158.91 77.2 L 160.26 73.52 Z\" fill=\"#000000\" stroke=\"#000000\" stroke-miterlimit=\"10\" pointer-events=\"all\"/>\n",
       "<path d=\"M 71.72 34.14 L 53.44 62.64\" fill=\"none\" stroke=\"#000000\" stroke-miterlimit=\"10\" pointer-events=\"stroke\"/>\n",
       "<path d=\"M 50.6 67.06 L 51.44 59.28 L 53.44 62.64 L 57.33 63.06 Z\" fill=\"#000000\" stroke=\"#000000\" stroke-miterlimit=\"10\" pointer-events=\"all\"/>\n",
       "<ellipse cx=\"95\" cy=\"255\" rx=\"15\" ry=\"15\" fill=\"#ffffff\" stroke=\"#000000\" pointer-events=\"all\"/>\n",
       "<g transform=\"translate(-0.5 -0.5)\">\n",
       "<switch>\n",
       "<foreignObject style=\"overflow: visible; text-align: left;\" pointer-events=\"none\" width=\"100%\" height=\"100%\" requiredFeatures=\"http://www.w3.org/TR/SVG11/feature#Extensibility\">\n",
       "<div xmlns=\"http://www.w3.org/1999/xhtml\" style=\"display: flex; align-items: unsafe center; justify-content: unsafe center; width: 28px; height: 1px; padding-top: 255px; margin-left: 81px;\">\n",
       "<div style=\"box-sizing: border-box; font-size: 0; text-align: center; \">\n",
       "<div style=\"display: inline-block; font-size: 12px; font-family: Helvetica; color: #000000; line-height: 1.2; pointer-events: all; white-space: normal; word-wrap: normal; \">net</div>\n",
       "</div>\n",
       "</div>\n",
       "</foreignObject>\n",
       "<text x=\"95\" y=\"259\" fill=\"#000000\" font-family=\"Helvetica\" font-size=\"12px\" text-anchor=\"middle\">net</text>\n",
       "</switch>\n",
       "</g>\n",
       "<ellipse cx=\"95\" cy=\"325\" rx=\"15\" ry=\"15\" fill=\"#ffffff\" stroke=\"#000000\" pointer-events=\"all\"/>\n",
       "<g transform=\"translate(-0.5 -0.5)\">\n",
       "<switch>\n",
       "<foreignObject style=\"overflow: visible; text-align: left;\" pointer-events=\"none\" width=\"100%\" height=\"100%\" requiredFeatures=\"http://www.w3.org/TR/SVG11/feature#Extensibility\">\n",
       "<div xmlns=\"http://www.w3.org/1999/xhtml\" style=\"display: flex; align-items: unsafe center; justify-content: unsafe center; width: 28px; height: 1px; padding-top: 325px; margin-left: 81px;\">\n",
       "<div style=\"box-sizing: border-box; font-size: 0; text-align: center; \">\n",
       "<div style=\"display: inline-block; font-size: 12px; font-family: Helvetica; color: #000000; line-height: 1.2; pointer-events: all; white-space: normal; word-wrap: normal; \">net</div>\n",
       "</div>\n",
       "</div>\n",
       "</foreignObject>\n",
       "<text x=\"95\" y=\"329\" fill=\"#000000\" font-family=\"Helvetica\" font-size=\"12px\" text-anchor=\"middle\">net</text>\n",
       "</switch>\n",
       "</g>\n",
       "<path d=\"M 108 197 L 96.84 233.9\" fill=\"none\" stroke=\"#000000\" stroke-miterlimit=\"10\" pointer-events=\"stroke\"/>\n",
       "<path d=\"M 95.32 238.93 L 94 231.22 L 96.84 233.9 L 100.7 233.24 Z\" fill=\"#000000\" stroke=\"#000000\" stroke-miterlimit=\"10\" pointer-events=\"all\"/>\n",
       "<g transform=\"translate(-0.5 -0.5)\">\n",
       "<switch>\n",
       "<foreignObject style=\"overflow: visible; text-align: left;\" pointer-events=\"none\" width=\"100%\" height=\"100%\" requiredFeatures=\"http://www.w3.org/TR/SVG11/feature#Extensibility\">\n",
       "<div xmlns=\"http://www.w3.org/1999/xhtml\" style=\"display: flex; align-items: unsafe center; justify-content: unsafe center; width: 1px; height: 1px; padding-top: 218px; margin-left: 102px;\">\n",
       "<div style=\"box-sizing: border-box; font-size: 0; text-align: center; \">\n",
       "<div style=\"display: inline-block; font-size: 11px; font-family: Helvetica; color: #000000; line-height: 1.2; pointer-events: all; background-color: #ffffff; white-space: nowrap; \">learned</div>\n",
       "</div>\n",
       "</div>\n",
       "</foreignObject>\n",
       "<text x=\"102\" y=\"221\" fill=\"#000000\" font-family=\"Helvetica\" font-size=\"11px\" text-anchor=\"middle\">learned</text>\n",
       "</switch>\n",
       "</g>\n",
       "<path d=\"M 95 270 L 95 303.63\" fill=\"none\" stroke=\"#000000\" stroke-miterlimit=\"10\" pointer-events=\"stroke\"/>\n",
       "<path d=\"M 95 308.88 L 91.5 301.88 L 95 303.63 L 98.5 301.88 Z\" fill=\"#000000\" stroke=\"#000000\" stroke-miterlimit=\"10\" pointer-events=\"all\"/>\n",
       "<g transform=\"translate(-0.5 -0.5)\">\n",
       "<switch>\n",
       "<foreignObject style=\"overflow: visible; text-align: left;\" pointer-events=\"none\" width=\"100%\" height=\"100%\" requiredFeatures=\"http://www.w3.org/TR/SVG11/feature#Extensibility\">\n",
       "<div xmlns=\"http://www.w3.org/1999/xhtml\" style=\"display: flex; align-items: unsafe center; justify-content: unsafe center; width: 1px; height: 1px; padding-top: 290px; margin-left: 95px;\">\n",
       "<div style=\"box-sizing: border-box; font-size: 0; text-align: center; \">\n",
       "<div style=\"display: inline-block; font-size: 11px; font-family: Helvetica; color: #000000; line-height: 1.2; pointer-events: all; background-color: #ffffff; white-space: nowrap; \">learned</div>\n",
       "</div>\n",
       "</div>\n",
       "</foreignObject>\n",
       "<text x=\"95\" y=\"293\" fill=\"#000000\" font-family=\"Helvetica\" font-size=\"11px\" text-anchor=\"middle\">learned</text>\n",
       "</switch>\n",
       "</g>\n",
       "<ellipse cx=\"95\" cy=\"395\" rx=\"15\" ry=\"15\" fill=\"#ffffff\" stroke=\"#000000\" pointer-events=\"all\"/>\n",
       "<g transform=\"translate(-0.5 -0.5)\">\n",
       "<switch>\n",
       "<foreignObject style=\"overflow: visible; text-align: left;\" pointer-events=\"none\" width=\"100%\" height=\"100%\" requiredFeatures=\"http://www.w3.org/TR/SVG11/feature#Extensibility\">\n",
       "<div xmlns=\"http://www.w3.org/1999/xhtml\" style=\"display: flex; align-items: unsafe center; justify-content: unsafe center; width: 28px; height: 1px; padding-top: 395px; margin-left: 81px;\">\n",
       "<div style=\"box-sizing: border-box; font-size: 0; text-align: center; \">\n",
       "<div style=\"display: inline-block; font-size: 12px; font-family: Helvetica; color: #000000; line-height: 1.2; pointer-events: all; white-space: normal; word-wrap: normal; \">net</div>\n",
       "</div>\n",
       "</div>\n",
       "</foreignObject>\n",
       "<text x=\"95\" y=\"399\" fill=\"#000000\" font-family=\"Helvetica\" font-size=\"12px\" text-anchor=\"middle\">net</text>\n",
       "</switch>\n",
       "</g>\n",
       "<ellipse cx=\"95\" cy=\"465\" rx=\"15\" ry=\"15\" fill=\"#ffffff\" stroke=\"#000000\" pointer-events=\"all\"/>\n",
       "<g transform=\"translate(-0.5 -0.5)\">\n",
       "<switch>\n",
       "<foreignObject style=\"overflow: visible; text-align: left;\" pointer-events=\"none\" width=\"100%\" height=\"100%\" requiredFeatures=\"http://www.w3.org/TR/SVG11/feature#Extensibility\">\n",
       "<div xmlns=\"http://www.w3.org/1999/xhtml\" style=\"display: flex; align-items: unsafe center; justify-content: unsafe center; width: 28px; height: 1px; padding-top: 465px; margin-left: 81px;\">\n",
       "<div style=\"box-sizing: border-box; font-size: 0; text-align: center; \">\n",
       "<div style=\"display: inline-block; font-size: 12px; font-family: Helvetica; color: #000000; line-height: 1.2; pointer-events: all; white-space: normal; word-wrap: normal; \">net</div>\n",
       "</div>\n",
       "</div>\n",
       "</foreignObject>\n",
       "<text x=\"95\" y=\"469\" fill=\"#000000\" font-family=\"Helvetica\" font-size=\"12px\" text-anchor=\"middle\">net</text>\n",
       "</switch>\n",
       "</g>\n",
       "<path d=\"M 95 340 L 95 373.63\" fill=\"none\" stroke=\"#000000\" stroke-miterlimit=\"10\" pointer-events=\"stroke\"/>\n",
       "<path d=\"M 95 378.88 L 91.5 371.88 L 95 373.63 L 98.5 371.88 Z\" fill=\"#000000\" stroke=\"#000000\" stroke-miterlimit=\"10\" pointer-events=\"all\"/>\n",
       "<g transform=\"translate(-0.5 -0.5)\">\n",
       "<switch>\n",
       "<foreignObject style=\"overflow: visible; text-align: left;\" pointer-events=\"none\" width=\"100%\" height=\"100%\" requiredFeatures=\"http://www.w3.org/TR/SVG11/feature#Extensibility\">\n",
       "<div xmlns=\"http://www.w3.org/1999/xhtml\" style=\"display: flex; align-items: unsafe center; justify-content: unsafe center; width: 1px; height: 1px; padding-top: 360px; margin-left: 95px;\">\n",
       "<div style=\"box-sizing: border-box; font-size: 0; text-align: center; \">\n",
       "<div style=\"display: inline-block; font-size: 11px; font-family: Helvetica; color: #000000; line-height: 1.2; pointer-events: all; background-color: #ffffff; white-space: nowrap; \">learned</div>\n",
       "</div>\n",
       "</div>\n",
       "</foreignObject>\n",
       "<text x=\"95\" y=\"363\" fill=\"#000000\" font-family=\"Helvetica\" font-size=\"11px\" text-anchor=\"middle\">learned</text>\n",
       "</switch>\n",
       "</g>\n",
       "<path d=\"M 95 410 L 95 443.63\" fill=\"none\" stroke=\"#000000\" stroke-miterlimit=\"10\" pointer-events=\"stroke\"/>\n",
       "<path d=\"M 95 448.88 L 91.5 441.88 L 95 443.63 L 98.5 441.88 Z\" fill=\"#000000\" stroke=\"#000000\" stroke-miterlimit=\"10\" pointer-events=\"all\"/>\n",
       "<g transform=\"translate(-0.5 -0.5)\">\n",
       "<switch>\n",
       "<foreignObject style=\"overflow: visible; text-align: left;\" pointer-events=\"none\" width=\"100%\" height=\"100%\" requiredFeatures=\"http://www.w3.org/TR/SVG11/feature#Extensibility\">\n",
       "<div xmlns=\"http://www.w3.org/1999/xhtml\" style=\"display: flex; align-items: unsafe center; justify-content: unsafe center; width: 1px; height: 1px; padding-top: 430px; margin-left: 95px;\">\n",
       "<div style=\"box-sizing: border-box; font-size: 0; text-align: center; \">\n",
       "<div style=\"display: inline-block; font-size: 11px; font-family: Helvetica; color: #000000; line-height: 1.2; pointer-events: all; background-color: #ffffff; white-space: nowrap; \">learned</div>\n",
       "</div>\n",
       "</div>\n",
       "</foreignObject>\n",
       "<text x=\"95\" y=\"433\" fill=\"#000000\" font-family=\"Helvetica\" font-size=\"11px\" text-anchor=\"middle\">learned</text>\n",
       "</switch>\n",
       "</g>\n",
       "</g>\n",
       "<switch>\n",
       "<g requiredFeatures=\"http://www.w3.org/TR/SVG11/feature#Extensibility\"/>\n",
       "<a transform=\"translate(0,-5)\" xlink:href=\"https://www.diagrams.net/doc/faq/svg-export-text-problems\" target=\"_blank\">\n",
       "<text text-anchor=\"middle\" font-size=\"10px\" x=\"50%\" y=\"100%\">Viewer does not support full SVG 1.1</text>\n",
       "</a>\n",
       "</switch>\n",
       "</svg>"
      ],
      "text/plain": [
       "<IPython.core.display.SVG object>"
      ]
     },
     "metadata": {},
     "output_type": "display_data"
    }
   ],
   "source": [
    "from IPython.display import SVG, display\n",
    "display(SVG('ml graphdb structure r1.svg'))"
   ]
  },
  {
   "cell_type": "markdown",
   "id": "occupied-delay",
   "metadata": {},
   "source": [
    "## "
   ]
  },
  {
   "cell_type": "code",
   "execution_count": null,
   "id": "automotive-peripheral",
   "metadata": {},
   "outputs": [],
   "source": []
  },
  {
   "cell_type": "markdown",
   "id": "coupled-basics",
   "metadata": {},
   "source": [
    "## First net node"
   ]
  },
  {
   "cell_type": "code",
   "execution_count": 15,
   "id": "phantom-romania",
   "metadata": {},
   "outputs": [],
   "source": [
    "def add_start(tx, facts, net):\n",
    "    tx.run(\"MERGE (:net \"\n",
    "           \"{shorthand: $shorthand, \"\n",
    "           \"ksv: $ksv, \"\n",
    "           \"loss: $loss, \"\n",
    "           \"ts: $ts, \"\n",
    "           \"experiment: $experiment, \"\n",
    "           \"head: $head}) \",\n",
    "           **facts)"
   ]
  },
  {
   "cell_type": "markdown",
   "id": "gorgeous-jason",
   "metadata": {},
   "source": [
    "## Trained net nodes"
   ]
  },
  {
   "cell_type": "code",
   "execution_count": 16,
   "id": "extensive-grove",
   "metadata": {},
   "outputs": [],
   "source": [
    "def add_subsequent(tx, facts, net):\n",
    "    tx.run(\"MATCH (a:net {ksv: $prior_ksv}) \"\n",
    "           \"MERGE (a)-\"\n",
    "           \"[:LEARNED \"\n",
    "               \"{batch_points: $batch_points, \"\n",
    "               \"etas: $etas, \"\n",
    "               \"eta_change_batches: $eta_change_batches, \"\n",
    "               \"batches_this_segment: $batches_this_segment, \"\n",
    "               \"losses: $loss, \"\n",
    "               \"loss_steps: $loss_step, \"\n",
    "               \"traj_L2_sqs: $traj_L2_sq, \"\n",
    "               \"traj_cos_sq_signeds: $traj_cos_sq_signed, \"\n",
    "               \"ts: $ts \"\n",
    "               \"}]->\"\n",
    "           \"(b:net \"\n",
    "               \"{shorthand: $shorthand, \"\n",
    "               \"ksv: $ksv, \"\n",
    "               \"loss: $end_loss, \"\n",
    "               \"ts: $ts, \"\n",
    "               \"experiment: $experiment}) \",\n",
    "           **facts)"
   ]
  },
  {
   "cell_type": "markdown",
   "id": "cutting-demand",
   "metadata": {},
   "source": [
    "## An example experiment's DAG"
   ]
  },
  {
   "cell_type": "code",
   "execution_count": 30,
   "id": "remarkable-personality",
   "metadata": {},
   "outputs": [],
   "source": [
    "randomize_net(net)"
   ]
  },
  {
   "cell_type": "code",
   "execution_count": 31,
   "id": "laden-african",
   "metadata": {},
   "outputs": [],
   "source": [
    "net.eta = 0.02"
   ]
  },
  {
   "cell_type": "markdown",
   "id": "faced-repeat",
   "metadata": {},
   "source": [
    "## Train, recording trajectory"
   ]
  },
  {
   "cell_type": "code",
   "execution_count": 32,
   "id": "major-cowboy",
   "metadata": {},
   "outputs": [],
   "source": [
    "nps = NumpyStore(driver)"
   ]
  },
  {
   "cell_type": "code",
   "execution_count": 33,
   "id": "demanding-wallpaper",
   "metadata": {},
   "outputs": [],
   "source": [
    "def trainer(net):\n",
    "    loss = net.losses([training_batch])[0]\n",
    "    batch_ctr = 0\n",
    "    while loss > 1e-3:\n",
    "        batch_ctr_at_seg_start = batch_ctr\n",
    "        losses = []\n",
    "        etas = []\n",
    "        deltas = []\n",
    "        prior_loss = loss\n",
    "        while loss / prior_loss > 0.7071 and len(deltas) < 100:\n",
    "            if not etas or net.eta != etas[-1][1]:\n",
    "                etas.append([batch_ctr, net.eta])\n",
    "            loss = net.learn([training_batch])\n",
    "            if batch_ctr < 100 or batch_ctr % 100 == 0:\n",
    "                losses.append([batch_ctr, loss])\n",
    "                deltas.append([batch_ctr, net.deltas()])\n",
    "            batch_ctr += 1\n",
    "        #if losses[-1][0] < (batch_ctr-1):\n",
    "        #    losses.append([batch_ctr, loss])\n",
    "        if not deltas or deltas[-1][0] < (batch_ctr-1):\n",
    "            deltas.append((batch_ctr, net.deltas()))\n",
    "        properties = dict(zip(deltas[0][1]._fields, map(list, (zip(*(v[1] for v in deltas)))))) # RedisGraph has a tuple allergy\n",
    "        #properties = {}\n",
    "        properties['batch_points'] = [v[0] for v in deltas]\n",
    "        #properties['etas'] = etas\n",
    "        properties['etas'], properties['eta_change_batches'] = (list(v) for v in zip(*etas))\n",
    "        properties['batches_this_segment'] = batch_ctr - batch_ctr_at_seg_start\n",
    "        properties['ts'] = time.time()\n",
    "        properties['shorthand'] = net.shorthand\n",
    "        properties['ksv'] = nps.store(net.state_vector())\n",
    "        properties['end_loss'] = net.losses([training_batch])[0]\n",
    "        properties['experiment'] = 'ADC'\n",
    "        yield properties"
   ]
  },
  {
   "cell_type": "code",
   "execution_count": 34,
   "id": "statewide-cooler",
   "metadata": {},
   "outputs": [],
   "source": [
    "starting_facts = {'shorthand': net.shorthand,\n",
    "              'ksv': nps.store(net.state_vector()),\n",
    "              'loss': net.losses([training_batch])[0],\n",
    "              'ts': time.time(),\n",
    "              'experiment': 'ADC',\n",
    "              'head': True,\n",
    "             }"
   ]
  },
  {
   "cell_type": "markdown",
   "id": "professional-instrumentation",
   "metadata": {},
   "source": [
    "### Record results as they arrive"
   ]
  },
  {
   "cell_type": "code",
   "execution_count": 35,
   "id": "central-parks",
   "metadata": {},
   "outputs": [
    {
     "name": "stdout",
     "output_type": "stream",
     "text": [
      "loss 1.7614547710648374\n",
      "loss 1.2438670300229306\n",
      "loss 0.8801776582242014\n",
      "loss 0.6208849772705576\n",
      "loss 0.44222313574392275\n",
      "loss 0.31087636213954856\n",
      "loss 0.21979292335737027\n",
      "loss 0.15540728552594213\n",
      "loss 0.10988699974995655\n",
      "loss 0.0777007265766878\n",
      "loss 0.05494426387442765\n",
      "loss 0.038852116826189324\n",
      "loss 0.02878797713640744\n",
      "loss 0.023535277763503074\n",
      "loss 0.020200330015270218\n",
      "loss 0.017823451114094176\n",
      "loss 0.0160047822681738\n",
      "loss 0.014546522170713831\n",
      "loss 0.013338278137727286\n",
      "loss 0.012312977105937059\n",
      "loss 0.01142714864460077\n",
      "loss 0.010651113936214473\n",
      "loss 0.009963719645733237\n",
      "loss 0.00934934153211869\n",
      "loss 0.008796094678633324\n",
      "loss 0.008294717582835606\n",
      "loss 0.007837848580707388\n",
      "loss 0.007419539423960726\n",
      "loss 0.007034917363471187\n",
      "loss 0.00667994343130144\n",
      "loss 0.006351235072585715\n",
      "loss 0.006045933110453518\n",
      "loss 0.005761600045541873\n",
      "loss 0.005496140957466814\n",
      "loss 0.0052477409236459365\n",
      "loss 0.005014814529298707\n",
      "loss 0.004795964048066384\n",
      "loss 0.004589943373500806\n",
      "loss 0.004395624759935091\n",
      "loss 0.004211964631884592\n",
      "loss 0.004037962379276799\n",
      "loss 0.0038726000494827594\n",
      "loss 0.0037147349137199486\n",
      "loss 0.0035628703616229864\n",
      "loss 0.0034145742838982574\n",
      "loss 0.0032646793330867972\n",
      "loss 0.0030980845274871504\n",
      "loss 0.0028505762178732104\n",
      "loss 0.00222928262962961\n",
      "loss 0.0015762516547858517\n",
      "loss 0.0011145365096208576\n",
      "loss 0.0007880912436623702\n"
     ]
    }
   ],
   "source": [
    "with driver.session() as session:\n",
    "    session.write_transaction(add_start, starting_facts, net)\n",
    "    prior_ksv = starting_facts['ksv']\n",
    "    for observations in trainer(net):\n",
    "        observations['prior_ksv'] = prior_ksv\n",
    "        prior_ksv = observations['ksv']\n",
    "        #pprint(observations)\n",
    "        #observations['etas'] = observations['etas'][0] #DEBUG HACK, FIXME\n",
    "        session.write_transaction(add_subsequent, observations, net)\n",
    "        print(f\"loss {observations['end_loss']}\")"
   ]
  },
  {
   "cell_type": "code",
   "execution_count": 36,
   "id": "south-validation",
   "metadata": {},
   "outputs": [
    {
     "ename": "AssertionError",
     "evalue": "stop here",
     "output_type": "error",
     "traceback": [
      "\u001b[0;31m\u001b[0m",
      "\u001b[0;31mAssertionError\u001b[0mTraceback (most recent call last)",
      "\u001b[0;32m<ipython-input-36-f68b657fa1b2>\u001b[0m in \u001b[0;36m<module>\u001b[0;34m\u001b[0m\n\u001b[0;32m----> 1\u001b[0;31m \u001b[0;32massert\u001b[0m \u001b[0;32mFalse\u001b[0m\u001b[0;34m,\u001b[0m \u001b[0;34m\"stop here\"\u001b[0m\u001b[0;34m\u001b[0m\u001b[0;34m\u001b[0m\u001b[0m\n\u001b[0m",
      "\u001b[0;31mAssertionError\u001b[0m: stop here"
     ]
    }
   ],
   "source": [
    "assert False, \"stop here\""
   ]
  }
 ],
 "metadata": {
  "kernelspec": {
   "display_name": "Python 3",
   "language": "python",
   "name": "python3"
  },
  "language_info": {
   "codemirror_mode": {
    "name": "ipython",
    "version": 3
   },
   "file_extension": ".py",
   "mimetype": "text/x-python",
   "name": "python",
   "nbconvert_exporter": "python",
   "pygments_lexer": "ipython3",
   "version": "3.8.6"
  }
 },
 "nbformat": 4,
 "nbformat_minor": 5
}
