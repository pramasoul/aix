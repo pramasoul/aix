{
 "cells": [
  {
   "cell_type": "markdown",
   "metadata": {},
   "source": [
    "# ADC multi 3rd multi1\n",
    "From an analog input, produce a digital output. We explore multiple architectures."
   ]
  },
  {
   "cell_type": "markdown",
   "metadata": {},
   "source": [
    "# Preamble"
   ]
  },
  {
   "cell_type": "code",
   "execution_count": 1,
   "metadata": {},
   "outputs": [],
   "source": [
    "%load_ext autoreload\n",
    "%autoreload 2\n",
    "#%matplotlib widget\n",
    "%matplotlib inline"
   ]
  },
  {
   "cell_type": "code",
   "execution_count": 2,
   "metadata": {},
   "outputs": [],
   "source": [
    "import bqplot as bq\n",
    "import ipywidgets as widgets\n",
    "import matplotlib.pyplot as plt\n",
    "from matplotlib import rcParams\n",
    "rcParams['figure.max_open_warning'] = 0\n",
    "import numpy as np\n",
    "from sidecar import Sidecar\n",
    "import time"
   ]
  },
  {
   "cell_type": "markdown",
   "metadata": {},
   "source": [
    "Fetch our tools:"
   ]
  },
  {
   "cell_type": "code",
   "execution_count": 3,
   "metadata": {},
   "outputs": [],
   "source": [
    "from lib.nnn import Network, Layer, IdentityLayer, AffineLayer, MapLayer\n",
    "from lib.nnbench import NNBench, NetMaker\n",
    "from lib.nnvis import NNVis, ADCResponsePlot, NetResponsePlot"
   ]
  },
  {
   "cell_type": "code",
   "execution_count": 4,
   "metadata": {},
   "outputs": [],
   "source": [
    "def plot_ADC(fun, **kwargs):\n",
    "    return ADCResponsePlot(**kwargs)(fun).fig"
   ]
  },
  {
   "cell_type": "markdown",
   "metadata": {},
   "source": [
    "## Reference implementation\n",
    "Here's what we want to accomplish, but by network means:"
   ]
  },
  {
   "cell_type": "markdown",
   "metadata": {},
   "source": [
    "### 3-bit linear binary output"
   ]
  },
  {
   "cell_type": "code",
   "execution_count": 5,
   "metadata": {},
   "outputs": [],
   "source": [
    "def adc(input):\n",
    "    m = max(0, min(7, int(8*input)))\n",
    "    return np.array([(m>>2)&1, (m>>1)&1, m&1]) * 2 - 1\n",
    "\n",
    "vadc = lambda v: np.array([adc(p) for p in v])\n",
    "#plot_ADC(vadc)"
   ]
  },
  {
   "cell_type": "markdown",
   "metadata": {},
   "source": [
    "### 3-bit linear Gray coded output"
   ]
  },
  {
   "cell_type": "code",
   "execution_count": 6,
   "metadata": {},
   "outputs": [],
   "source": [
    "def gradc(input):\n",
    "    m = max(0, min(7, int(8*input)))\n",
    "    g = m ^ (m >> 1)\n",
    "    return np.array([(g>>2)&1, (g>>1)&1, g&1]) * 2 - 1\n",
    "\n",
    "vgradc = lambda v: np.array([gradc(p) for p in v])\n",
    "#plot_ADC(vgradc)"
   ]
  },
  {
   "cell_type": "markdown",
   "metadata": {},
   "source": [
    "___"
   ]
  },
  {
   "cell_type": "markdown",
   "metadata": {},
   "source": [
    "# Network\n",
    "We create a multiplicity of the same ADC net"
   ]
  },
  {
   "cell_type": "code",
   "execution_count": 7,
   "metadata": {},
   "outputs": [
    {
     "data": {
      "text/plain": [
       "<lib.nnn.Network at 0x7f618fab3e80>"
      ]
     },
     "execution_count": 7,
     "metadata": {},
     "output_type": "execute_result"
    }
   ],
   "source": [
    "mnet = Network()\n",
    "mnet.extend(AffineLayer(1,8, multiples=5))\n",
    "mnet.extend(MapLayer(np.tanh, lambda d: 1.0 - np.tanh(d) ** 2))\n",
    "mnet.extend(AffineLayer(8,8, multiples=5))\n",
    "mnet.extend(MapLayer(np.tanh, lambda d: 1.0 - np.tanh(d) ** 2))\n",
    "mnet.extend(AffineLayer(8,3, multiples=5))\n",
    "mnet.extend(MapLayer(np.tanh, lambda d: 1.0 - np.tanh(d) ** 2))\n",
    "mnet.extend(AffineLayer(3,3, multiples=5))\n",
    "mnet.extend(MapLayer(np.tanh, lambda d: 1.0 - np.tanh(d) ** 2))"
   ]
  },
  {
   "cell_type": "code",
   "execution_count": 9,
   "metadata": {},
   "outputs": [],
   "source": [
    "mnet.eta = 0.01"
   ]
  },
  {
   "cell_type": "markdown",
   "metadata": {},
   "source": [
    "# Graphs to the right"
   ]
  },
  {
   "cell_type": "code",
   "execution_count": 10,
   "metadata": {},
   "outputs": [
    {
     "ename": "TypeError",
     "evalue": "'Network' object is not iterable",
     "output_type": "error",
     "traceback": [
      "\u001b[0;31m\u001b[0m",
      "\u001b[0;31mTypeError\u001b[0mTraceback (most recent call last)",
      "\u001b[0;32m<ipython-input-10-ee90fd8fcbc1>\u001b[0m in \u001b[0;36m<module>\u001b[0;34m\u001b[0m\n\u001b[1;32m      6\u001b[0m \u001b[0;31m#nrps = np.array([NetResponsePlot(net, height='220px', margin=30) \\\u001b[0m\u001b[0;34m\u001b[0m\u001b[0;34m\u001b[0m\u001b[0;34m\u001b[0m\u001b[0m\n\u001b[1;32m      7\u001b[0m \u001b[0;31m#            for i in range(grid.n_rows * grid.n_columns)]).reshape(grid.n_rows, grid.n_columns)\u001b[0m\u001b[0;34m\u001b[0m\u001b[0;34m\u001b[0m\u001b[0;34m\u001b[0m\u001b[0m\n\u001b[0;32m----> 8\u001b[0;31m \u001b[0mnrps\u001b[0m \u001b[0;34m=\u001b[0m \u001b[0mnp\u001b[0m\u001b[0;34m.\u001b[0m\u001b[0marray\u001b[0m\u001b[0;34m(\u001b[0m\u001b[0;34m[\u001b[0m\u001b[0mNetResponsePlot\u001b[0m\u001b[0;34m(\u001b[0m\u001b[0mnet\u001b[0m\u001b[0;34m,\u001b[0m \u001b[0mheight\u001b[0m\u001b[0;34m=\u001b[0m\u001b[0;34m'220px'\u001b[0m\u001b[0;34m,\u001b[0m \u001b[0mmargin\u001b[0m\u001b[0;34m=\u001b[0m\u001b[0;36m30\u001b[0m\u001b[0;34m,\u001b[0m \u001b[0mtitle\u001b[0m\u001b[0;34m=\u001b[0m\u001b[0;34m'title'\u001b[0m\u001b[0;34m)\u001b[0m \u001b[0;32mfor\u001b[0m \u001b[0mnet\u001b[0m \u001b[0;32min\u001b[0m \u001b[0mmnet\u001b[0m\u001b[0;34m]\u001b[0m\u001b[0;34m)\u001b[0m\u001b[0;34m\u001b[0m\u001b[0;34m\u001b[0m\u001b[0m\n\u001b[0m\u001b[1;32m      9\u001b[0m \u001b[0;34m\u001b[0m\u001b[0m\n\u001b[1;32m     10\u001b[0m \u001b[0;32mfor\u001b[0m \u001b[0mi\u001b[0m\u001b[0;34m,\u001b[0m \u001b[0mnrp\u001b[0m \u001b[0;32min\u001b[0m \u001b[0menumerate\u001b[0m\u001b[0;34m(\u001b[0m\u001b[0mnrps\u001b[0m\u001b[0;34m)\u001b[0m\u001b[0;34m:\u001b[0m\u001b[0;34m\u001b[0m\u001b[0;34m\u001b[0m\u001b[0m\n",
      "\u001b[0;31mTypeError\u001b[0m: 'Network' object is not iterable"
     ]
    }
   ],
   "source": [
    "grid = widgets.GridspecLayout(3, 2, height='680px',\n",
    "                      grid_gap='10px',\n",
    "                      justify_content='center',\n",
    "                      align_items='top')\n",
    "\n",
    "#nrps = np.array([NetResponsePlot(net, height='220px', margin=30) \\\n",
    "#            for i in range(grid.n_rows * grid.n_columns)]).reshape(grid.n_rows, grid.n_columns)\n",
    "nrps = np.array([NetResponsePlot(net, height='220px', margin=30, title='title') for net in mnet])\n",
    "\n",
    "for i, nrp in enumerate(nrps):\n",
    "    column = i % grid.n_columns\n",
    "    row = i // grid.n_columns\n",
    "    grid[row, column] = nrp.fig\n",
    "\n",
    "batch_w = widgets.FloatText(value=-1.0, description='Batch:', max_width=6, disabled=True)\n",
    "eta_w = widgets.FloatLogSlider(\n",
    "    value=starting_eta,\n",
    "    base=10,\n",
    "    min=-4,\n",
    "    max=0, # min exponent of base\n",
    "    step=0.1, # exponent step\n",
    "    description='eta'\n",
    ")\n",
    "\n",
    "def on_eta_change(change):\n",
    "    eta = change['new']\n",
    "    mnet.eta = eta\n",
    "\n",
    "eta_w.observe(on_eta_change, names='value')\n",
    "\n",
    "grid[-1,-1] = widgets.VBox((batch_w, eta_w))\n",
    "        \n",
    "with Sidecar(title='grid') as gside:\n",
    "    display(grid)"
   ]
  },
  {
   "cell_type": "code",
   "execution_count": null,
   "metadata": {},
   "outputs": [],
   "source": [
    "_ = [nrp() for nrp in nrps]"
   ]
  },
  {
   "cell_type": "markdown",
   "metadata": {},
   "source": [
    "# Training\n",
    "We will train our candidates in parallel, on the same training data, and watch their evolution."
   ]
  },
  {
   "cell_type": "markdown",
   "metadata": {},
   "source": [
    "## Training data"
   ]
  },
  {
   "cell_type": "code",
   "execution_count": null,
   "metadata": {},
   "outputs": [],
   "source": [
    "x = np.arange(0, 1, 1.0/(8*8)).reshape(-1,1) # 8 points in each output region\n",
    "training_batch_cluster = [(x, vadc(x))]"
   ]
  },
  {
   "cell_type": "code",
   "execution_count": null,
   "metadata": {},
   "outputs": [],
   "source": [
    "#training_batch_cluster"
   ]
  },
  {
   "cell_type": "markdown",
   "metadata": {},
   "source": [
    "## Training loop"
   ]
  },
  {
   "cell_type": "code",
   "execution_count": null,
   "metadata": {},
   "outputs": [],
   "source": [
    "batch = 0"
   ]
  },
  {
   "cell_type": "code",
   "execution_count": null,
   "metadata": {},
   "outputs": [],
   "source": [
    "for i in range(10):\n",
    "    for net in nets:\n",
    "        net.learn(training_batch_cluster)\n",
    "    _ = [nrp() for nrp in nrps]\n",
    "    batch += 1\n",
    "    batch_w.value = batch\n",
    "    time.sleep(0.5)"
   ]
  },
  {
   "cell_type": "code",
   "execution_count": null,
   "metadata": {},
   "outputs": [],
   "source": [
    "for i in range(100):\n",
    "    for net in nets:\n",
    "        net.learn(training_batch_cluster)\n",
    "    batch += 1\n",
    "    if i % 10 == 0:\n",
    "        _ = [nrp() for nrp in nrps]\n",
    "        batch_w.value = batch"
   ]
  },
  {
   "cell_type": "code",
   "execution_count": null,
   "metadata": {},
   "outputs": [],
   "source": [
    "for i in range(100_000):\n",
    "    for net in nets:\n",
    "        net.learn(training_batch_cluster)\n",
    "    batch += 1\n",
    "    if i % 100 == 0:\n",
    "        _ = [nrp() for nrp in nrps]\n",
    "        batch_w.value = batch"
   ]
  },
  {
   "cell_type": "code",
   "execution_count": null,
   "metadata": {},
   "outputs": [],
   "source": [
    "for i in range(100_000):\n",
    "    for net in nets:\n",
    "        net.learn(training_batch_cluster)\n",
    "    batch += 1\n",
    "    if i % 500 == 0:\n",
    "        _ = [nrp() for nrp in nrps]\n",
    "        batch_w.value = batch"
   ]
  },
  {
   "cell_type": "code",
   "execution_count": null,
   "metadata": {},
   "outputs": [],
   "source": [
    "assert False, \"stop here\""
   ]
  },
  {
   "cell_type": "code",
   "execution_count": null,
   "metadata": {},
   "outputs": [],
   "source": [
    "for i in range(100_000):\n",
    "    for j in range(min(int(2**(i/4)), 500)):\n",
    "        for net in nets:\n",
    "            net.learn(training_batch_cluster)\n",
    "        batch += 1\n",
    "    _ = [nrp() for nrp in nrps]\n",
    "    batch_w.value = batch"
   ]
  },
  {
   "cell_type": "code",
   "execution_count": null,
   "metadata": {},
   "outputs": [],
   "source": [
    "nrps[0]()"
   ]
  },
  {
   "cell_type": "code",
   "execution_count": null,
   "metadata": {},
   "outputs": [],
   "source": [
    "nrps[1]()"
   ]
  },
  {
   "cell_type": "code",
   "execution_count": null,
   "metadata": {},
   "outputs": [],
   "source": [
    "nrps[3].net.layers"
   ]
  },
  {
   "cell_type": "code",
   "execution_count": null,
   "metadata": {},
   "outputs": [],
   "source": [
    "nets"
   ]
  },
  {
   "cell_type": "code",
   "execution_count": null,
   "metadata": {},
   "outputs": [],
   "source": [
    "nrps"
   ]
  },
  {
   "cell_type": "code",
   "execution_count": null,
   "metadata": {},
   "outputs": [],
   "source": [
    "[hash(nrp.fig) for nrp in nrps]"
   ]
  },
  {
   "cell_type": "code",
   "execution_count": null,
   "metadata": {},
   "outputs": [],
   "source": [
    "nrps[3].net(np.array([0.5]))"
   ]
  },
  {
   "cell_type": "code",
   "execution_count": null,
   "metadata": {},
   "outputs": [],
   "source": []
  }
 ],
 "metadata": {
  "kernelspec": {
   "display_name": "Python 3",
   "language": "python",
   "name": "python3"
  },
  "language_info": {
   "codemirror_mode": {
    "name": "ipython",
    "version": 3
   },
   "file_extension": ".py",
   "mimetype": "text/x-python",
   "name": "python",
   "nbconvert_exporter": "python",
   "pygments_lexer": "ipython3",
   "version": "3.8.6"
  }
 },
 "nbformat": 4,
 "nbformat_minor": 4
}
