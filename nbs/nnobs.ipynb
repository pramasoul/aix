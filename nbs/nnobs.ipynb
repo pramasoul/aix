{
 "cells": [
  {
   "cell_type": "markdown",
   "id": "friendly-rescue",
   "metadata": {},
   "source": [
    "# Neural Net observatory"
   ]
  },
  {
   "cell_type": "code",
   "execution_count": 1,
   "id": "hungarian-minority",
   "metadata": {},
   "outputs": [],
   "source": [
    "%load_ext autoreload\n",
    "%autoreload 2\n",
    "#%matplotlib inline\n",
    "%matplotlib widget"
   ]
  },
  {
   "cell_type": "code",
   "execution_count": 2,
   "id": "dried-scottish",
   "metadata": {},
   "outputs": [],
   "source": [
    "import numpy as np\n",
    "import matplotlib.pyplot as plt\n",
    "from matplotlib import rcParams\n",
    "rcParams['figure.max_open_warning'] = 0\n",
    "import ipywidgets as widgets"
   ]
  },
  {
   "cell_type": "markdown",
   "id": "joint-minnesota",
   "metadata": {},
   "source": [
    "Fetch our tools:"
   ]
  },
  {
   "cell_type": "code",
   "execution_count": 3,
   "id": "subtle-ghana",
   "metadata": {},
   "outputs": [],
   "source": [
    "from nn import Network, Layer, IdentityLayer, AffineLayer, MapLayer\n",
    "from nnbench import NNBench\n",
    "from nnvis import NNVis"
   ]
  },
  {
   "cell_type": "markdown",
   "id": "facial-iceland",
   "metadata": {},
   "source": [
    "Use [`ipywidgets`](https://ipywidgets.readthedocs.io/en/latest/index.html)"
   ]
  },
  {
   "cell_type": "markdown",
   "id": "liquid-proposition",
   "metadata": {},
   "source": [
    "# Multiprocessing\n",
    "We run the net training in a child process, so that it can proceed while we observe and analyze partial results."
   ]
  },
  {
   "cell_type": "markdown",
   "id": "exciting-sugar",
   "metadata": {},
   "source": [
    "### Tooling\n",
    " * `JSONConn` over the Process Pipe\n",
    " -- Not seeing the exception on `recv()` of a closed connection, so we accomplish a close by a non-JSON message of four bytes of zero"
   ]
  },
  {
   "cell_type": "code",
   "execution_count": 4,
   "id": "judicial-abuse",
   "metadata": {},
   "outputs": [],
   "source": [
    "#from multiprocessing import Process, Pipe\n",
    "import multiprocessing as mp\n",
    "import json\n",
    "from time import sleep\n",
    "\n",
    "class JSONConn():\n",
    "    def __init__(self, conn):\n",
    "        self.conn = conn\n",
    "        \n",
    "    def send(self, v):\n",
    "        self.conn.send_bytes(json.dumps(v).encode('utf8'))\n",
    "        \n",
    "    def poll(self):\n",
    "        return self.conn.poll()\n",
    "    \n",
    "    def recv(self):\n",
    "        r = self.conn.recv_bytes()\n",
    "        if r == bytes(4):\n",
    "            self.close()\n",
    "            raise EOFError\n",
    "        return json.loads(r)\n",
    "        \n",
    "    def close(self):\n",
    "        self.conn.send_bytes(bytes(4))\n",
    "        self.conn.close()"
   ]
  },
  {
   "cell_type": "markdown",
   "id": "cubic-active",
   "metadata": {},
   "source": [
    "### The child"
   ]
  },
  {
   "cell_type": "code",
   "execution_count": 5,
   "id": "allied-haiti",
   "metadata": {},
   "outputs": [],
   "source": [
    "def f(conn):\n",
    "    jc = JSONConn(conn)\n",
    " \n",
    "    net = Network()\n",
    "    net.extend(AffineLayer(2,2))\n",
    "    net.extend(MapLayer(np.tanh, lambda d: 1.0 - np.tanh(d)**2))\n",
    "    net.extend(AffineLayer(2,1))\n",
    "    net.extend(MapLayer(np.tanh, lambda d: 1.0 - np.tanh(d)**2))\n",
    "\n",
    "    training_batch = (np.array([[-0.5, -0.5],\n",
    "                                [-0.5,  0.5],\n",
    "                                [ 0.5,  0.5],\n",
    "                                [ 0.5, -0.5]]),\n",
    "                      np.array([[-0.5],\n",
    "                                [ 0.5],\n",
    "                                [-0.5],\n",
    "                                [ 0.5]]))\n",
    "\n",
    "    batch_ctr = 0\n",
    "    batch_to = 0\n",
    "    report_state = True\n",
    "    done = False\n",
    "\n",
    "    for i in range(100):\n",
    "        if done:\n",
    "            break\n",
    "    #while not done:\n",
    "        txm = dict()\n",
    "        \n",
    "        # Check for new instructions\n",
    "        while jc.poll():\n",
    "            rxm = jc.recv()\n",
    "            print(rxm)\n",
    "            for k,v in rxm.items():\n",
    "                if k == 'eta':\n",
    "                    net.eta = v\n",
    "                elif k == 'batch to':\n",
    "                    batch_to = v\n",
    "                elif k == 'tell state':\n",
    "                    report_state = True\n",
    "                elif k == 'shutdown':\n",
    "                    done = True\n",
    "        \n",
    "        # Report states if it's the right batch phase, or if asked to\n",
    "        report_state = report_state or batch_ctr % 4 == 0 and last_state_report_at_batch < batch_ctr\n",
    "\n",
    "        if report_state:\n",
    "            txm['eta'] = [batch_ctr, net.eta]\n",
    "            txm['sv'] = [batch_ctr, list(float(v) for v in net.state_vector())]\n",
    "            last_state_report_at_batch = batch_ctr\n",
    "            report_state = False\n",
    "            \n",
    "        # Run a learning step if we aren't at the target number of steps\n",
    "        if batch_to > batch_ctr:\n",
    "            loss = net.learn([training_batch])\n",
    "            batch_ctr += 1\n",
    "            txm['loss'] = [batch_ctr, loss]\n",
    "        else:\n",
    "            time.sleep(0.05)\n",
    "            \n",
    "        jc.send(txm)\n",
    "\n",
    "    jc.close()"
   ]
  },
  {
   "cell_type": "markdown",
   "id": "moderate-denver",
   "metadata": {},
   "source": [
    "### The parent initiates"
   ]
  },
  {
   "cell_type": "code",
   "execution_count": 6,
   "id": "posted-retention",
   "metadata": {},
   "outputs": [],
   "source": [
    "import ipywidgets as widgets\n",
    "from collections import defaultdict\n",
    "import rx\n",
    "from rx import Observable\n",
    "from rx.subject import Subject\n",
    "from rx import operators as op\n",
    "import time"
   ]
  },
  {
   "cell_type": "code",
   "execution_count": 7,
   "id": "otherwise-rabbit",
   "metadata": {},
   "outputs": [
    {
     "name": "stdout",
     "output_type": "stream",
     "text": [
      "{'batch to': 100}\n",
      "chew\n",
      "('sv', [0, [-0.3728387052341444, -0.09801354970723603, -0.7005016261076729, 1.3411098798754615, 1.0158249836912772, -1.508880178817357, -0.8752945574046235, 2.093006574996829, -0.24808196771547272]])\n",
      "('sv', [4, [-0.37238403348388394, -0.10066796409439989, -0.7027799652484302, 1.346520561584872, 1.0103437699937645, -1.4976839450178097, -0.8677653610052133, 2.084771579826037, -0.23664341413134427]])\n",
      "('sv', [8, [-0.37186329802939616, -0.10363667818434485, -0.7052542666235883, 1.352493332759163, 1.004418816883815, -1.4853370721158858, -0.8596747011710051, 2.075973272060967, -0.22427937250887098]])\n",
      "('sv', [12, [-0.3712605063458021, -0.10699219885777922, -0.7079612263127412, 1.3591467944422961, 0.997969518896574, -1.4715980054070132, -0.8509241664996874, 2.066523266476888, -0.21082040843146377]])\n",
      "('sv', [16, [-0.3705537696053896, -0.1108334150090276, -0.7109489153216738, 1.3666397575228004, 0.9908907552104842, -1.456143547245809, -0.8413859985831299, 2.0563100667109517, -0.19604508072216353]])\n",
      "('sv', [20, [-0.36971220444665776, -0.11529945143680863, -0.7142819962856288, 1.3751911095435427, 0.9830417926409369, -1.4385286032033748, -0.8308899655630431, 2.0451902648005706, -0.1796561650565223]])\n",
      "('sv', [24, [-0.36869060334162285, -0.12059355151431389, -0.7180502780319299, 1.3851132762514482, 0.9742281551894089, -1.4181184235314668, -0.8192019782630353, 2.032975267602374, -0.1612416397704211]])\n",
      "('sv', [28, [-0.36741972059677697, -0.12702674473000197, -0.7223834836380599, 1.3968717869748064, 0.9641704426494502, -1.3939680580920517, -0.8059874170628702, 2.0194108010206757, -0.1402072239237658]])\n",
      "('sv', [32, [-0.3657872778344579, -0.13510361487343325, -0.7274783516697364, 1.4111986159765784, 0.9524473251489004, -1.3645931168031549, -0.7907442622792288, 2.0041449014620634, -0.11565216596174392]])\n",
      "('sv', [36, [-0.36359750415838166, -0.14570611057016122, -0.7336520309552839, 1.4293257291567778, 0.9383836342963314, -1.327497650847679, -0.7726721068578556, 1.9866797447835995, -0.08612295111270848]])\n",
      "('sv', [40, [-0.3604758347794273, -0.16053002329208682, -0.7414552482245336, 1.45351110952098, 0.9208138330135691, -1.278111091572653, -0.7503955741901834, 1.966317458506049, -0.049084335640507355]])\n",
      "('sv', [44, [-0.35562271909353926, -0.1832236409303121, -0.7519165661825401, 1.4882973899412424, 0.8975710332011458, -1.2072432136287004, -0.721364397479474, 1.942247714593477, 0.00026289677883191073]])\n",
      "('sv', [48, [-0.34725416745609483, -0.2219790688758934, -0.7668052082812148, 1.5426656515990904, 0.8649085643068113, -1.0966947360718402, -0.6811167609818464, 1.9150241018931689, 0.0706329293672464]])\n",
      "('sv', [52, [-0.33376177106621485, -0.2833812926925793, -0.78474533520023, 1.616267298382983, 0.8252029670123064, -0.9465850014870651, -0.6311537287223941, 1.8944739792566718, 0.15972815474877539]])\n",
      "('sv', [56, [-0.3205462375250093, -0.33961189121781776, -0.7924578201334901, 1.655638870298701, 0.8048860028670892, -0.863281757137582, -0.5970621565838177, 1.888617584057384, 0.21364669578143713]])\n",
      "('sv', [60, [-0.3099740745417708, -0.38274298209169, -0.7918270918492671, 1.6624783754299357, 0.8007400654565671, -0.8440184477232903, -0.577032293615535, 1.8845177639322466, 0.2352235083560733]])\n",
      "('sv', [64, [-0.30142453032057764, -0.41810568766034895, -0.7891370434105811, 1.660417551608624, 0.8005151254744046, -0.8420912905313117, -0.5610415516706261, 1.879142068834643, 0.2483383129293459]])\n",
      "('sv', [68, [-0.29449194556397396, -0.4477223743348028, -0.7860323464698552, 1.6559867918015858, 0.8009844793272001, -0.8445858523827168, -0.5462934526317766, 1.872418239836825, 0.25966181971917024]])\n",
      "('sv', [72, [-0.2888406563172265, -0.47286097492312534, -0.7828597656779526, 1.6507233713719538, 0.8014503756623381, -0.8484442734033346, -0.531942384655509, 1.8643531456060134, 0.2708444771994278]])\n",
      "('sv', [76, [-0.28420564287350264, -0.49446570612483587, -0.7796775098002727, 1.645000200266288, 0.8017765744037408, -0.852902607164205, -0.5176189870668527, 1.8549400815052939, 0.2823673882005826]])\n",
      "('sv', [80, [-0.28038375161985923, -0.5132587246237061, -0.7764783740297783, 1.6388954733031804, 0.8019538461255159, -0.8577750324647423, -0.5030930494380856, 1.8441600810548457, 0.29442236156371526]])\n",
      "('sv', [84, [-0.2772195216093412, -0.5298004838874355, -0.7732413016937509, 1.6324037309604769, 0.8019995223353809, -0.8630373320091814, -0.48818206719074075, 1.8319777288262578, 0.30712869442329166]])\n",
      "('sv', [88, [-0.274592999234324, -0.5445328251668304, -0.7699435496703644, 1.6254909090575353, 0.8019337029409791, -0.8687177939552377, -0.4727198205896048, 1.818336386577788, 0.3205926064165529]])\n",
      "('sv', [92, [-0.27241061160923535, -0.5578100881478566, -0.7665633148813576, 1.6181091492297244, 0.8017741228713293, -0.8748673465113989, -0.4565416672181586, 1.8031538987801585, 0.33492640287936987]])\n",
      "('sv', [96, [-0.2705985632037893, -0.5699216814463961, -0.7630800750756345, 1.6102002793297363, 0.8015356834295625, -0.8815520386349698, -0.43947502680761186, 1.786318340984035, 0.35025679360894]])\n",
      "('loss', [100, 0.2804879138148556])\n",
      "sender closed\n"
     ]
    }
   ],
   "source": [
    "if __name__ == '__main__':\n",
    "    def chew(time_limit):\n",
    "        print(\"chew\")\n",
    "        time.sleep(time_limit)\n",
    "\n",
    "    # Process worker messages into topic observables\n",
    "    worker_messages_s = rx.subject.Subject()\n",
    "    burst_messages_s = worker_messages_s.pipe(\n",
    "        op.flat_map(lambda m: m.items()))\n",
    "    loss_s = burst_messages_s.pipe(\n",
    "        op.filter(lambda t: t[0] == 'loss'))\n",
    "    sv_s = burst_messages_s.pipe(\n",
    "        op.filter(lambda t: t[0] == 'sv'))\n",
    "    eta_s = burst_messages_s.pipe(\n",
    "        op.filter(lambda t: t[0] == 'eta'))\n",
    "\n",
    "    sv_s.subscribe(print) # Look at one for fun\n",
    "    loss_s.pipe(op.take_last(1)).subscribe(print) # show the last loss\n",
    "    \n",
    "\n",
    "    ipc_pipe = mp.Pipe()\n",
    "    parent_conn, child_conn = ipc_pipe\n",
    "    jc = JSONConn(parent_conn)\n",
    "    p = mp.Process(target=f, args=(child_conn,))\n",
    "    p.start()\n",
    "    \n",
    "    jc.send({'batch to': 100})\n",
    "    for i in range(110):        \n",
    "        if jc.poll():\n",
    "            try:\n",
    "                m = jc.recv()\n",
    "                worker_messages_s.on_next(m)\n",
    "            except EOFError:\n",
    "                worker_messages_s.on_completed()\n",
    "                print(\"sender closed\")\n",
    "                break\n",
    "        else:\n",
    "            chew(0.1)\n",
    "\n",
    "    p.join()\n"
   ]
  },
  {
   "cell_type": "markdown",
   "id": "continued-recording",
   "metadata": {},
   "source": [
    "---"
   ]
  },
  {
   "cell_type": "code",
   "execution_count": 8,
   "id": "editorial-cover",
   "metadata": {},
   "outputs": [
    {
     "ename": "AssertionError",
     "evalue": "stop here if entering from above",
     "output_type": "error",
     "traceback": [
      "\u001b[0;31m\u001b[0m",
      "\u001b[0;31mAssertionError\u001b[0mTraceback (most recent call last)",
      "\u001b[0;32m<ipython-input-8-20592c412cd0>\u001b[0m in \u001b[0;36m<module>\u001b[0;34m\u001b[0m\n\u001b[0;32m----> 1\u001b[0;31m \u001b[0;32massert\u001b[0m \u001b[0;32mFalse\u001b[0m\u001b[0;34m,\u001b[0m \u001b[0;34m\"stop here if entering from above\"\u001b[0m\u001b[0;34m\u001b[0m\u001b[0;34m\u001b[0m\u001b[0m\n\u001b[0m",
      "\u001b[0;31mAssertionError\u001b[0m: stop here if entering from above"
     ]
    }
   ],
   "source": [
    "assert False, \"stop here if entering from above\""
   ]
  },
  {
   "cell_type": "markdown",
   "id": "disturbed-retention",
   "metadata": {},
   "source": [
    "## UI using `asyncio`"
   ]
  },
  {
   "cell_type": "code",
   "execution_count": null,
   "id": "ethical-status",
   "metadata": {},
   "outputs": [],
   "source": [
    "%gui asyncio"
   ]
  },
  {
   "cell_type": "code",
   "execution_count": null,
   "id": "outdoor-carry",
   "metadata": {},
   "outputs": [],
   "source": [
    "import asyncio\n",
    "def wait_for_change(widget, value):\n",
    "    future = asyncio.Future()\n",
    "    def getvalue(change):\n",
    "        # make the new value available\n",
    "        future.set_result(change.new)\n",
    "        widget.unobserve(getvalue, value)\n",
    "    widget.observe(getvalue, value)\n",
    "    return future"
   ]
  },
  {
   "cell_type": "code",
   "execution_count": null,
   "id": "accessory-module",
   "metadata": {},
   "outputs": [],
   "source": [
    "from ipywidgets import IntSlider, Output\n",
    "slider = IntSlider()\n",
    "out = Output()"
   ]
  },
  {
   "cell_type": "code",
   "execution_count": null,
   "id": "greek-arrival",
   "metadata": {},
   "outputs": [],
   "source": [
    "async def f():\n",
    "    for i in range(10):\n",
    "        out.append_stdout('did work ' + str(i) + '\\n')\n",
    "        x = await wait_for_change(slider, 'value')\n",
    "        out.append_stdout('async function continued with value ' + str(x) + '\\n')\n",
    "asyncio.ensure_future(f())\n",
    "\n",
    "slider"
   ]
  },
  {
   "cell_type": "code",
   "execution_count": null,
   "id": "widespread-county",
   "metadata": {},
   "outputs": [],
   "source": [
    "out"
   ]
  },
  {
   "cell_type": "code",
   "execution_count": null,
   "id": "extensive-crime",
   "metadata": {},
   "outputs": [],
   "source": [
    "2+2"
   ]
  },
  {
   "cell_type": "code",
   "execution_count": null,
   "id": "alternate-victor",
   "metadata": {},
   "outputs": [],
   "source": [
    "slider.value"
   ]
  },
  {
   "cell_type": "code",
   "execution_count": null,
   "id": "satellite-mileage",
   "metadata": {},
   "outputs": [],
   "source": [
    "import threading\n",
    "from IPython.display import display\n",
    "import ipywidgets as widgets\n",
    "import time\n",
    "progress = widgets.FloatProgress(value=0.0, min=0.0, max=1.0)\n",
    "\n",
    "def work(progress):\n",
    "    total = 100\n",
    "    for i in range(total):\n",
    "        time.sleep(0.2)\n",
    "        progress.value = float(i+1)/total\n",
    "\n",
    "thread = threading.Thread(target=work, args=(progress,))\n",
    "display(progress)\n",
    "thread.start()"
   ]
  },
  {
   "cell_type": "code",
   "execution_count": null,
   "id": "higher-belief",
   "metadata": {},
   "outputs": [],
   "source": [
    "i=2"
   ]
  },
  {
   "cell_type": "code",
   "execution_count": null,
   "id": "disturbed-armstrong",
   "metadata": {},
   "outputs": [],
   "source": [
    "i+1"
   ]
  },
  {
   "cell_type": "code",
   "execution_count": null,
   "id": "nutritional-portland",
   "metadata": {},
   "outputs": [],
   "source": [
    "import multiprocessing\n",
    "multiprocessing.cpu_count()"
   ]
  },
  {
   "cell_type": "code",
   "execution_count": null,
   "id": "compound-native",
   "metadata": {},
   "outputs": [],
   "source": []
  }
 ],
 "metadata": {
  "kernelspec": {
   "display_name": "Python 3",
   "language": "python",
   "name": "python3"
  },
  "language_info": {
   "codemirror_mode": {
    "name": "ipython",
    "version": 3
   },
   "file_extension": ".py",
   "mimetype": "text/x-python",
   "name": "python",
   "nbconvert_exporter": "python",
   "pygments_lexer": "ipython3",
   "version": "3.8.6"
  }
 },
 "nbformat": 4,
 "nbformat_minor": 5
}
