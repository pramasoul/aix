{
 "cells": [
  {
   "cell_type": "markdown",
   "id": "cheap-guarantee",
   "metadata": {},
   "source": [
    "# ReactiveX in Python - trio\n",
    "* https://github.com/ReactiveX/RxPY\n",
    "* https://rxpy.readthedocs.io/en/latest/get_started.html"
   ]
  },
  {
   "cell_type": "markdown",
   "id": "ancient-moscow",
   "metadata": {},
   "source": [
    "# *Status :-(*\n",
    "It appears that `trio.run` starves the notebook GUI"
   ]
  },
  {
   "cell_type": "markdown",
   "id": "jewish-specialist",
   "metadata": {},
   "source": [
    "# Try out with widgets"
   ]
  },
  {
   "cell_type": "code",
   "execution_count": null,
   "id": "typical-pendant",
   "metadata": {},
   "outputs": [],
   "source": [
    "import math\n",
    "import trio"
   ]
  },
  {
   "cell_type": "code",
   "execution_count": null,
   "id": "killing-shore",
   "metadata": {},
   "outputs": [],
   "source": [
    "import ipywidgets as widgets\n",
    "from IPython.display import display"
   ]
  },
  {
   "cell_type": "code",
   "execution_count": null,
   "id": "welcome-serbia",
   "metadata": {},
   "outputs": [],
   "source": [
    "out = widgets.Output(layout={\n",
    "    'border': '1px solid black',\n",
    "    'height': '200px',\n",
    "    'overflow_y': 'auto',\n",
    "})"
   ]
  },
  {
   "cell_type": "markdown",
   "id": "dominican-munich",
   "metadata": {},
   "source": [
    "---"
   ]
  },
  {
   "cell_type": "markdown",
   "id": "introductory-syndication",
   "metadata": {},
   "source": [
    "# Cooperative multitasking with `trio`"
   ]
  },
  {
   "cell_type": "markdown",
   "id": "unsigned-panel",
   "metadata": {},
   "source": [
    "## Tell the notebook to support trio\n",
    "* https://ipython.readthedocs.io/en/stable/interactive/autoawait.html\n",
    "* https://ipython.readthedocs.io/en/stable/config/eventloops.html\n",
    "* https://ipython.readthedocs.io/en/stable/config/eventloops.html#integrating-with-a-new-event-loop-in-the-kernel"
   ]
  },
  {
   "cell_type": "code",
   "execution_count": null,
   "id": "intermediate-winter",
   "metadata": {},
   "outputs": [],
   "source": [
    "#%autoawait asyncio\n",
    "%autoawait trio\n",
    "#%gui asyncio"
   ]
  },
  {
   "cell_type": "markdown",
   "id": "complex-speaker",
   "metadata": {},
   "source": [
    "## Can trio work with widgets?"
   ]
  },
  {
   "cell_type": "markdown",
   "id": "dense-islam",
   "metadata": {},
   "source": [
    "### Place some widgets "
   ]
  },
  {
   "cell_type": "code",
   "execution_count": null,
   "id": "quarterly-pathology",
   "metadata": {},
   "outputs": [],
   "source": [
    "from math import pi\n",
    "\n",
    "v_w = widgets.FloatSlider(\n",
    "    value=0.0,\n",
    "    min=-1.0,\n",
    "    max=1.0,\n",
    "    step=0.01,\n",
    "    description='Sin:',\n",
    "    disabled=False,\n",
    "    continuous_update=False,\n",
    "    orientation='vertical',\n",
    "    readout=True,\n",
    "    readout_format='.2f',\n",
    ")\n",
    "\n",
    "h_w = widgets.FloatSlider(\n",
    "    value=0.0,\n",
    "    min=-1.0,\n",
    "    max=1.0,\n",
    "    step=0.01,\n",
    "    description='Cos:',\n",
    "    disabled=False,\n",
    "    continuous_update=False,\n",
    "    orientation='horizontal',\n",
    "    readout=True,\n",
    "    readout_format='.2f',\n",
    ")\n",
    "\n",
    "t_w = widgets.IntSlider(\n",
    "    description='t',\n",
    ")\n",
    "\n",
    "shutdown_b_w = widgets.Button(description=\"Shutdown worker\")\n",
    "clear_b_w = widgets.Button(description=\"clear\")\n",
    "out_w = widgets.Output(layout={'border': '1px solid black'})\n",
    "display(v_w, h_w, t_w, shutdown_b_w, clear_b_w, out_w)"
   ]
  },
  {
   "cell_type": "markdown",
   "id": "least-premises",
   "metadata": {},
   "source": [
    "### Mechanize their interaction under trio"
   ]
  },
  {
   "cell_type": "markdown",
   "id": "light-fence",
   "metadata": {},
   "source": [
    "#### Try brute-force polling"
   ]
  },
  {
   "cell_type": "code",
   "execution_count": null,
   "id": "insured-reaction",
   "metadata": {},
   "outputs": [],
   "source": [
    "async def circulate(t, v, h):\n",
    "    for i in range(10):\n",
    "        print(f\"t slider at {t.value}\")\n",
    "        t_f = float(t.value)\n",
    "        v.value = math.sin(t_f)\n",
    "        h.value = math.cos(t_f)\n",
    "        await trio.sleep(0.1)"
   ]
  },
  {
   "cell_type": "code",
   "execution_count": null,
   "id": "latin-nelson",
   "metadata": {},
   "outputs": [],
   "source": [
    "trio.run(circulate, t_w, v_w, h_w)"
   ]
  },
  {
   "cell_type": "markdown",
   "id": "linear-generation",
   "metadata": {},
   "source": [
    "#### Is a nursery needed?"
   ]
  },
  {
   "cell_type": "code",
   "execution_count": null,
   "id": "unauthorized-private",
   "metadata": {},
   "outputs": [],
   "source": [
    "async def circulate(t, v, h):\n",
    "    for i in range(10):\n",
    "        #print(f\"t slider at {t.value}\")\n",
    "        t_f = float(t.value)\n",
    "        v.value = math.sin(t_f)\n",
    "        h.value = math.cos(t_f)\n",
    "        await trio.sleep(0.1)\n",
    "        \n",
    "async def runner():\n",
    "    async with trio.open_nursery() as nursery:\n",
    "            nursery.start_soon(circulate, t_w, v_w, h_w)"
   ]
  },
  {
   "cell_type": "code",
   "execution_count": null,
   "id": "celtic-techno",
   "metadata": {},
   "outputs": [],
   "source": [
    "trio.run(runner)"
   ]
  },
  {
   "cell_type": "markdown",
   "id": "registered-latitude",
   "metadata": {},
   "source": [
    "That didn't work either. I suppose the GUI doesn't ever get its events run."
   ]
  },
  {
   "cell_type": "markdown",
   "id": "structured-karaoke",
   "metadata": {},
   "source": [
    "# Conclusions:\n",
    "* `trio.run` starves the notebook GUI"
   ]
  },
  {
   "cell_type": "markdown",
   "id": "invisible-simpson",
   "metadata": {},
   "source": [
    "---"
   ]
  },
  {
   "cell_type": "markdown",
   "id": "taken-interval",
   "metadata": {},
   "source": [
    "# Boneyard"
   ]
  },
  {
   "cell_type": "code",
   "execution_count": null,
   "id": "under-mustang",
   "metadata": {},
   "outputs": [],
   "source": [
    "assert False, 'Boneyard'"
   ]
  },
  {
   "cell_type": "code",
   "execution_count": null,
   "id": "spread-transport",
   "metadata": {},
   "outputs": [],
   "source": [
    "%gui fuey"
   ]
  },
  {
   "cell_type": "code",
   "execution_count": null,
   "id": "collect-arcade",
   "metadata": {},
   "outputs": [],
   "source": [
    "#IPython.kernel.zmq.kernelbase.Kernel.do_one_iteration()"
   ]
  },
  {
   "cell_type": "code",
   "execution_count": null,
   "id": "signal-flesh",
   "metadata": {},
   "outputs": [],
   "source": [
    "import IPython"
   ]
  },
  {
   "cell_type": "code",
   "execution_count": null,
   "id": "documentary-iraqi",
   "metadata": {},
   "outputs": [],
   "source": [
    "IPython.kernel.zmq.kernelbase.Kernel.do_one_iteration()"
   ]
  },
  {
   "cell_type": "markdown",
   "id": "color-group",
   "metadata": {},
   "source": [
    "#### First set up a ReactiveX pipeline"
   ]
  },
  {
   "cell_type": "code",
   "execution_count": null,
   "id": "absent-constitutional",
   "metadata": {},
   "outputs": [],
   "source": [
    "from rx import operators as op\n",
    "from math import pi\n",
    "\n",
    "s = rx.subject.Subject()\n",
    "#s.subscribe(lambda i: out.append_stdout(f\" <{i}>\"))\n",
    "\n",
    "s.pipe(\n",
    "    op.observe_on(shed),\n",
    "    op.map(lambda i: i/100),\n",
    "    op.map(lambda t: 2*pi * 2*t)\n",
    ").subscribe(\n",
    "    on_next = circulate,\n",
    "    on_error = lambda e: print(\"Error Occurred: {0}\".format(e)),\n",
    "    on_completed = lambda: print(\"Done!\"),\n",
    ")"
   ]
  },
  {
   "cell_type": "code",
   "execution_count": null,
   "id": "nervous-divorce",
   "metadata": {},
   "outputs": [],
   "source": []
  },
  {
   "cell_type": "code",
   "execution_count": null,
   "id": "touched-october",
   "metadata": {},
   "outputs": [],
   "source": []
  },
  {
   "cell_type": "code",
   "execution_count": null,
   "id": "bridal-annex",
   "metadata": {},
   "outputs": [],
   "source": []
  },
  {
   "cell_type": "markdown",
   "id": "alternative-harbor",
   "metadata": {},
   "source": [
    "## Future from widget"
   ]
  },
  {
   "cell_type": "markdown",
   "id": "functioning-convention",
   "metadata": {},
   "source": [
    "To get a future value:"
   ]
  },
  {
   "cell_type": "code",
   "execution_count": null,
   "id": "measured-leisure",
   "metadata": {},
   "outputs": [],
   "source": [
    "def wait_for_change(widget, value):\n",
    "    future = asyncio.Future()\n",
    "    def getvalue(change):\n",
    "        # make the new value available\n",
    "        try:\n",
    "            future.set_result(change.new)\n",
    "        except asyncio.InvalidStateError: # Task may have been cancelled\n",
    "            pass\n",
    "        widget.unobserve(getvalue, value)\n",
    "    widget.observe(getvalue, value)\n",
    "    return future"
   ]
  },
  {
   "cell_type": "markdown",
   "id": "automotive-guitar",
   "metadata": {},
   "source": [
    "To get a button press:"
   ]
  },
  {
   "cell_type": "code",
   "execution_count": null,
   "id": "tough-lunch",
   "metadata": {},
   "outputs": [],
   "source": [
    "def wait_for_press(button):\n",
    "    #print(f\"<wait_for_press({button})>\")\n",
    "    future = asyncio.Future()\n",
    "    #print(f\"<{future}>\")\n",
    "    def clicked(b):\n",
    "        #print(f\"<clicked({b})>\")\n",
    "        try:\n",
    "            future.set_result(True)\n",
    "        except asyncio.InvalidStateError: # Task may have been cancelled\n",
    "            #pass\n",
    "            raise #DEBUG\n",
    "        #print(f\"<now {future}>\")\n",
    "        b.on_click(clicked, remove=True)\n",
    "        #print(f\"<{b} on_click remove\")\n",
    "    #print(f\"<gonna set on_click>\")\n",
    "    button.on_click(clicked)\n",
    "    #print(f\"<{button} on_click set to {clicked}\")\n",
    "    return future"
   ]
  },
  {
   "cell_type": "code",
   "execution_count": null,
   "id": "satisfied-presence",
   "metadata": {},
   "outputs": [],
   "source": [
    "tmp_b_w = widgets.Button(description=\"test\")\n",
    "display(out, tmp_b_w)"
   ]
  },
  {
   "cell_type": "code",
   "execution_count": null,
   "id": "western-daisy",
   "metadata": {},
   "outputs": [],
   "source": [
    "async def t():\n",
    "    out.append_stdout(f\"waiting\\n\")\n",
    "    v = await wait_for_press(tmp_b_w)\n",
    "    out.append_stdout(f\"did press {v}\\n\")\n",
    "\n",
    "asyncio.create_task(t())"
   ]
  },
  {
   "cell_type": "code",
   "execution_count": null,
   "id": "standard-metropolitan",
   "metadata": {},
   "outputs": [],
   "source": [
    "tmp_b_w.click()"
   ]
  },
  {
   "cell_type": "markdown",
   "id": "relevant-antique",
   "metadata": {},
   "source": [
    "## Demonstrate `async` loop `await`ing on the future"
   ]
  },
  {
   "cell_type": "code",
   "execution_count": null,
   "id": "cosmetic-playlist",
   "metadata": {},
   "outputs": [],
   "source": [
    "slider = widgets.IntSlider()"
   ]
  },
  {
   "cell_type": "code",
   "execution_count": null,
   "id": "banner-future",
   "metadata": {},
   "outputs": [],
   "source": [
    "%%script echo skipping\n",
    "\n",
    "async def f():\n",
    "    for i in range(5):\n",
    "        out.append_stdout(f\"did work {i}\\n\")\n",
    "        x = await wait_for_change(slider, 'value')\n",
    "        out.append_stdout(f\"async function continued with value {x}\\n\")\n",
    "#asyncio.ensure_future(f())\n",
    "asyncio.create_task(f())\n",
    "\n",
    "slider"
   ]
  },
  {
   "cell_type": "code",
   "execution_count": null,
   "id": "dense-senior",
   "metadata": {},
   "outputs": [],
   "source": [
    "out"
   ]
  },
  {
   "cell_type": "markdown",
   "id": "internal-motivation",
   "metadata": {},
   "source": [
    "## Can we connect to ReactiveX asynchronously?"
   ]
  },
  {
   "cell_type": "markdown",
   "id": "alternate-bacon",
   "metadata": {},
   "source": [
    "### Use its `asyncio` scheduler"
   ]
  },
  {
   "cell_type": "code",
   "execution_count": null,
   "id": "fuzzy-candle",
   "metadata": {},
   "outputs": [],
   "source": [
    "import rx\n",
    "from rx import operators as op\n",
    "from rx.scheduler.eventloop import AsyncIOThreadSafeScheduler\n",
    "loop = asyncio.get_event_loop()\n",
    "shed = AsyncIOThreadSafeScheduler(loop)"
   ]
  },
  {
   "cell_type": "markdown",
   "id": "super-routine",
   "metadata": {},
   "source": [
    "### Can we connect up a widget as an observable?"
   ]
  },
  {
   "cell_type": "markdown",
   "id": "arranged-shepherd",
   "metadata": {},
   "source": [
    "#### A means to make a widget call back into an `rx` observable"
   ]
  },
  {
   "cell_type": "code",
   "execution_count": null,
   "id": "romance-toilet",
   "metadata": {},
   "outputs": [],
   "source": [
    "def make_apush_widget(w):\n",
    "    async def push_widget(observer, scheduler):\n",
    "        while True:\n",
    "            x = await wait_for_change(w, 'value')\n",
    "            observer.on_next(x)\n",
    "            if x == 100:\n",
    "                observer.on_completed()\n",
    "                break\n",
    "    return push_widget        "
   ]
  },
  {
   "cell_type": "code",
   "execution_count": null,
   "id": "under-zealand",
   "metadata": {},
   "outputs": [],
   "source": [
    "asl = widgets.IntSlider()\n",
    "display(asl)\n",
    "out.clear_output()\n",
    "display(out)"
   ]
  },
  {
   "cell_type": "code",
   "execution_count": null,
   "id": "corporate-fusion",
   "metadata": {},
   "outputs": [],
   "source": [
    "s = rx.subject.Subject()\n",
    "s.subscribe(lambda i: out.append_stdout(f\" at {i}\"))\n",
    "t = make_apush_widget(asl)"
   ]
  },
  {
   "cell_type": "markdown",
   "id": "recorded-producer",
   "metadata": {},
   "source": [
    "The below starts the test. Then slide the slider above around. As before, hitting 100 shuts down the pipeline."
   ]
  },
  {
   "cell_type": "code",
   "execution_count": null,
   "id": "equivalent-papua",
   "metadata": {},
   "outputs": [],
   "source": [
    "out.clear_output()\n",
    "task = asyncio.create_task(t(s,shed))"
   ]
  },
  {
   "cell_type": "markdown",
   "id": "formed-alexandria",
   "metadata": {},
   "source": [
    "We terminate the test by terminating the asyncio task"
   ]
  },
  {
   "cell_type": "code",
   "execution_count": null,
   "id": "broken-respondent",
   "metadata": {},
   "outputs": [],
   "source": [
    "task.cancel()"
   ]
  },
  {
   "cell_type": "markdown",
   "id": "documented-circumstances",
   "metadata": {},
   "source": [
    "### Will this work while another `asyncio` task is running as well?\n",
    "Get it running again, with a clear button too:"
   ]
  },
  {
   "cell_type": "code",
   "execution_count": null,
   "id": "following-import",
   "metadata": {},
   "outputs": [],
   "source": [
    "dots_b_w = widgets.Checkbox(\n",
    "    value=False,\n",
    "    description='dots',\n",
    "    disabled=False,\n",
    "    indent=False\n",
    ")\n",
    "clear_b_w = widgets.Button(description=\"clear\")\n",
    "\n",
    "display(asl)\n",
    "display(dots_b_w)\n",
    "out.clear_output()\n",
    "display(out)\n",
    "\n",
    "display(clear_b_w)\n",
    "\n",
    "s = rx.subject.Subject()\n",
    "s.subscribe(lambda i: out.append_stdout(f\" at {i}\"))\n",
    "t = make_apush_widget(asl)\n",
    "\n",
    "asl_task = asyncio.create_task(t(s,shed))"
   ]
  },
  {
   "cell_type": "code",
   "execution_count": null,
   "id": "adaptive-musical",
   "metadata": {},
   "outputs": [],
   "source": [
    "out.clear_output()"
   ]
  },
  {
   "cell_type": "code",
   "execution_count": null,
   "id": "composite-short",
   "metadata": {},
   "outputs": [],
   "source": [
    "async def clear_button_worker(button, out):\n",
    "    while True:\n",
    "        out.append_stdout(f\"<{button}>\")\n",
    "        await wait_for_press(button)\n",
    "        out.append_stdout(f\"<r>\")\n",
    "        out.clear_output()\n",
    "        out.append_stdout(f\"<d>\")"
   ]
  },
  {
   "cell_type": "code",
   "execution_count": null,
   "id": "impaired-blues",
   "metadata": {},
   "outputs": [],
   "source": [
    "clear_button_task = asyncio.create_task(clear_button_worker(clear_b_w, out))"
   ]
  },
  {
   "cell_type": "code",
   "execution_count": null,
   "id": "given-possible",
   "metadata": {},
   "outputs": [],
   "source": [
    "async def ticker(period, disp, enafun):\n",
    "    while True:\n",
    "        await asyncio.sleep(period)    \n",
    "        enaf() and disp.append_stdout(' .')"
   ]
  },
  {
   "cell_type": "code",
   "execution_count": null,
   "id": "voluntary-poland",
   "metadata": {},
   "outputs": [],
   "source": [
    "dot_task = asyncio.create_task(ticker(0.4, out, lambda: dots_b_w.value))"
   ]
  },
  {
   "cell_type": "code",
   "execution_count": null,
   "id": "hybrid-delivery",
   "metadata": {},
   "outputs": [],
   "source": [
    "asl_task.cancel()"
   ]
  },
  {
   "cell_type": "code",
   "execution_count": null,
   "id": "seventh-publisher",
   "metadata": {},
   "outputs": [],
   "source": [
    "dot_task.cancel()"
   ]
  },
  {
   "cell_type": "markdown",
   "id": "short-toddler",
   "metadata": {},
   "source": [
    "# OLD"
   ]
  },
  {
   "cell_type": "code",
   "execution_count": null,
   "id": "spanish-fantasy",
   "metadata": {},
   "outputs": [],
   "source": [
    "assert False, \"Stop here. Below is old code scraps.\""
   ]
  },
  {
   "cell_type": "code",
   "execution_count": null,
   "id": "fifth-format",
   "metadata": {},
   "outputs": [],
   "source": [
    "async def sc(w):\n",
    "    with out_w:\n",
    "        print(f\"would send shutdown from shutdown_child to {w}\")\n",
    "\n",
    "async def shutdown_child(w):\n",
    "    async with trio.open_nursery() as nursery:\n",
    "        nursery.start_soon(sc, w)\n",
    "\n",
    "def aw_sc(w):\n",
    "    await sc(w)\n",
    "\n",
    "shutdown_b_w.on_click(shutdown_child)"
   ]
  },
  {
   "cell_type": "code",
   "execution_count": null,
   "id": "narrow-grove",
   "metadata": {},
   "outputs": [],
   "source": [
    "from rx import operators as op\n",
    "from math import pi\n",
    "\n",
    "t_src = rx.create(make_push_widget(t_w))\n",
    "\n",
    "t_src.pipe(\n",
    "    op.observe_on(shed),\n",
    "    op.map(lambda i: i/100),\n",
    "    op.map(lambda t: 2*pi * 2*t)\n",
    ").subscribe(\n",
    "    on_next = circulate,\n",
    "    on_error = lambda e: print(\"Error Occurred: {0}\".format(e)),\n",
    "    on_completed = lambda: print(\"Done!\"),\n",
    ")"
   ]
  },
  {
   "cell_type": "code",
   "execution_count": null,
   "id": "greater-operation",
   "metadata": {},
   "outputs": [],
   "source": [
    "aw_sc('bleet')"
   ]
  },
  {
   "cell_type": "code",
   "execution_count": null,
   "id": "correct-patch",
   "metadata": {},
   "outputs": [],
   "source": [
    "async def snooze(n):\n",
    "    print(\"sleepy\")\n",
    "    for i in range(n):\n",
    "        print(\"gonna sleep\")\n",
    "        await trio.sleep(1)\n",
    "        print(f\"{i} slept\")\n",
    "    print(\"done sleeping\")"
   ]
  },
  {
   "cell_type": "code",
   "execution_count": null,
   "id": "manual-update",
   "metadata": {},
   "outputs": [],
   "source": [
    "async def consolidated(n):\n",
    "    async with trio.open_nursery() as nursery:\n",
    "        nursery.start_soon(snooze, n)\n",
    "        #nursery.start_soon(child2)\n",
    "\n",
    "        print(\"parent: waiting for children to finish...\")\n",
    "        # -- we exit the nursery block here --\n",
    "    print(\"parent: all done!\")"
   ]
  },
  {
   "cell_type": "code",
   "execution_count": null,
   "id": "existing-advisory",
   "metadata": {},
   "outputs": [],
   "source": [
    "await consolidated(30)"
   ]
  },
  {
   "cell_type": "markdown",
   "id": "received-fields",
   "metadata": {},
   "source": [
    "## Make a widget observable"
   ]
  },
  {
   "cell_type": "code",
   "execution_count": null,
   "id": "functional-seeker",
   "metadata": {},
   "outputs": [],
   "source": [
    "def make_push_widget(w):\n",
    "    def push_widget(observer, scheduler):\n",
    "        # make the callback to attach to the widget\n",
    "        def on_value_change(change):\n",
    "            new_value = change['new']\n",
    "            #print(f\"ovc new_value is {new_value}\")\n",
    "            observer.on_next(change['new'])\n",
    "            if new_value == 100:\n",
    "                observer.on_completed()\n",
    "                w.unobserve(on_value_change, names='value')\n",
    "        # attach callback to widget\n",
    "        w.observe(on_value_change, names='value')\n",
    "    # return the observation function\n",
    "    return push_widget"
   ]
  },
  {
   "cell_type": "markdown",
   "id": "regulation-attraction",
   "metadata": {},
   "source": [
    "## Place some widgets "
   ]
  },
  {
   "cell_type": "code",
   "execution_count": null,
   "id": "crucial-sending",
   "metadata": {},
   "outputs": [],
   "source": [
    "from math import pi\n",
    "\n",
    "v_w = widgets.FloatSlider(\n",
    "    value=0.0,\n",
    "    min=-1.0,\n",
    "    max=1.0,\n",
    "    step=0.01,\n",
    "    description='Sin:',\n",
    "    disabled=False,\n",
    "    continuous_update=False,\n",
    "    orientation='vertical',\n",
    "    readout=True,\n",
    "    readout_format='.2f',\n",
    ")\n",
    "\n",
    "h_w = widgets.FloatSlider(\n",
    "    value=0.0,\n",
    "    min=-1.0,\n",
    "    max=1.0,\n",
    "    step=0.01,\n",
    "    description='Cos:',\n",
    "    disabled=False,\n",
    "    continuous_update=False,\n",
    "    orientation='horizontal',\n",
    "    readout=True,\n",
    "    readout_format='.2f',\n",
    ")\n",
    "\n",
    "t_w = widgets.IntSlider(\n",
    "    description='t',\n",
    ")\n",
    "\n",
    "shutdown_b_w = widgets.Button(description=\"Shutdown worker\")\n",
    "clear_b_w = widgets.Button(description=\"clear\")\n",
    "out_w = widgets.Output(layout={'border': '1px solid black'})\n",
    "display(v_w, h_w, t_w, shutdown_b_w, clear_b_w, out_w)"
   ]
  },
  {
   "cell_type": "markdown",
   "id": "caroline-candle",
   "metadata": {},
   "source": [
    "## Interaction functions"
   ]
  },
  {
   "cell_type": "code",
   "execution_count": null,
   "id": "brilliant-bosnia",
   "metadata": {},
   "outputs": [],
   "source": [
    "from math import sin, cos, pi\n",
    "import rx\n",
    "\n",
    "def slider_bender(s, v):\n",
    "    s.value = v\n",
    "\n",
    "def circulate(t):\n",
    "    slider_bender(v_w, sin(t))\n",
    "    slider_bender(h_w, cos(t))\n",
    "\n",
    "def shutdown_child(w):\n",
    "    with out_w:\n",
    "        print(f\"would send shutdown from shutdown_child\")\n",
    "\n",
    "def clear_out(w):\n",
    "    out_w.clear_output()"
   ]
  },
  {
   "cell_type": "markdown",
   "id": "spare-pierre",
   "metadata": {},
   "source": [
    "### Plug in button callbacks"
   ]
  },
  {
   "cell_type": "code",
   "execution_count": null,
   "id": "japanese-photograph",
   "metadata": {},
   "outputs": [],
   "source": [
    "shutdown_b_w.on_click(shutdown_child)\n",
    "clear_b_w.on_click(clear_out)"
   ]
  },
  {
   "cell_type": "markdown",
   "id": "fitting-planning",
   "metadata": {},
   "source": [
    "## Build ReactiveX pipeline"
   ]
  },
  {
   "cell_type": "code",
   "execution_count": null,
   "id": "contrary-survey",
   "metadata": {},
   "outputs": [],
   "source": [
    "from rx import operators as op\n",
    "from math import pi\n",
    "\n",
    "t_src = rx.create(make_push_widget(t_w))\n",
    "\n",
    "t_src.pipe(\n",
    "    op.map(lambda i: i/100),\n",
    "    op.map(lambda t: 2*pi * 2*t)\n",
    ").subscribe(\n",
    "    on_next = circulate,\n",
    "    on_error = lambda e: print(\"Error Occurred: {0}\".format(e)),\n",
    "    on_completed = lambda: print(\"Done!\"),\n",
    ")"
   ]
  },
  {
   "cell_type": "markdown",
   "id": "incomplete-artist",
   "metadata": {},
   "source": [
    "### Test\n",
    "Go up to Widgets and manipulate the **t** slider. The pipeline gets stopped when you slide it all the way to 100."
   ]
  },
  {
   "cell_type": "markdown",
   "id": "casual-triple",
   "metadata": {},
   "source": [
    "## UI while working\n",
    "Can these controls and responses be used while doing other work, perhaps work that is controlled by the widgets?"
   ]
  },
  {
   "cell_type": "code",
   "execution_count": null,
   "id": "alpha-satellite",
   "metadata": {},
   "outputs": [],
   "source": [
    "import time\n",
    "while True:\n",
    "    print(f\"radius is {v_w.value**2 + h_w.value**2}\", end='\\r' )\n",
    "    time.sleep(0.2)"
   ]
  },
  {
   "cell_type": "markdown",
   "id": "charitable-introduction",
   "metadata": {},
   "source": [
    ":-("
   ]
  },
  {
   "cell_type": "markdown",
   "id": "animated-coaching",
   "metadata": {},
   "source": [
    "---"
   ]
  },
  {
   "cell_type": "markdown",
   "id": "naval-heath",
   "metadata": {},
   "source": [
    "# Scratch"
   ]
  },
  {
   "cell_type": "code",
   "execution_count": null,
   "id": "alternative-beatles",
   "metadata": {},
   "outputs": [],
   "source": [
    "assert False, \"stop here if entering from above\""
   ]
  },
  {
   "cell_type": "markdown",
   "id": "strong-testing",
   "metadata": {},
   "source": [
    "#### Demonstrate auto `await`ing"
   ]
  },
  {
   "cell_type": "code",
   "execution_count": null,
   "id": "allied-terror",
   "metadata": {},
   "outputs": [],
   "source": [
    "async def foo(m):\n",
    "    await asyncio.sleep(0.4)\n",
    "    print(f\"yep {m}\")"
   ]
  },
  {
   "cell_type": "code",
   "execution_count": null,
   "id": "lyric-surgery",
   "metadata": {},
   "outputs": [],
   "source": [
    "await foo('horse')"
   ]
  },
  {
   "cell_type": "code",
   "execution_count": null,
   "id": "cellular-workshop",
   "metadata": {},
   "outputs": [],
   "source": [
    "import rx\n",
    "from rx import operators as op\n",
    "from rx.scheduler.eventloop import AsyncIOThreadSafeScheduler\n",
    "loop = asyncio.get_event_loop()\n",
    "shed = AsyncIOThreadSafeScheduler(loop)"
   ]
  },
  {
   "cell_type": "markdown",
   "id": "separate-intelligence",
   "metadata": {},
   "source": [
    "#### Verify that it works with that scheduler\n",
    "This is from https://rxpy.readthedocs.io/en/latest/get_started.html#custom-operator, modified to use the async scheduler instance."
   ]
  },
  {
   "cell_type": "code",
   "execution_count": null,
   "id": "advised-international",
   "metadata": {},
   "outputs": [],
   "source": [
    "#%%script echo skipping\n",
    "def lowercase():\n",
    "    def _lowercase(source):\n",
    "        def subscribe(observer, scheduler = None):\n",
    "            def on_next(value):\n",
    "                observer.on_next(value.lower())\n",
    "\n",
    "            return source.subscribe(\n",
    "                on_next,\n",
    "                observer.on_error,\n",
    "                observer.on_completed,\n",
    "                scheduler)\n",
    "        return rx.create(subscribe)\n",
    "    return _lowercase\n",
    "\n",
    "rx.of(\"Alpha\", \"Beta\", \"Gamma\", \"Delta\", \"Epsilon\").pipe(\n",
    "        op.observe_on(shed),\n",
    "        lowercase()\n",
    "     ).subscribe(lambda value: print(\"Received {0}\".format(value)), scheduler=shed)"
   ]
  },
  {
   "cell_type": "code",
   "execution_count": null,
   "id": "connected-better",
   "metadata": {},
   "outputs": [],
   "source": [
    "import time\n",
    "\n",
    "with out_w:\n",
    "    print(\"sleepy\")\n",
    "    for i in range(10):\n",
    "        print(\"gonna sleep\")\n",
    "        time.sleep(1)\n",
    "        print(\"slept\")"
   ]
  },
  {
   "cell_type": "code",
   "execution_count": null,
   "id": "christian-voluntary",
   "metadata": {},
   "outputs": [],
   "source": []
  },
  {
   "cell_type": "code",
   "execution_count": null,
   "id": "confident-leisure",
   "metadata": {},
   "outputs": [],
   "source": [
    "import rx"
   ]
  },
  {
   "cell_type": "code",
   "execution_count": null,
   "id": "relevant-southeast",
   "metadata": {},
   "outputs": [],
   "source": [
    "from rx import create\n",
    "\n",
    "def push_five_strings(observer, scheduler):\n",
    "    observer.on_next(\"Alpha\")\n",
    "    observer.on_next(\"Beta\")\n",
    "    observer.on_next(\"Gamma\")\n",
    "    observer.on_next(\"Delta\")\n",
    "    observer.on_next(\"Epsilon\")\n",
    "    observer.on_completed()\n",
    "\n",
    "source = create(push_five_strings)\n",
    "\n",
    "source.subscribe(\n",
    "    on_next = lambda i: print(\"Received {0}\".format(i)),\n",
    "    on_error = lambda e: print(\"Error Occurred: {0}\".format(e)),\n",
    "    on_completed = lambda: print(\"Done!\"),\n",
    ")"
   ]
  },
  {
   "cell_type": "code",
   "execution_count": null,
   "id": "choice-explorer",
   "metadata": {},
   "outputs": [],
   "source": [
    "from rx import operators as ops\n",
    "\n",
    "source = rx.of(\"Alpha\", \"Beta\", \"Gamma\", \"Delta\", \"Epsilon\")\n",
    "\n",
    "composed = source.pipe(\n",
    "    ops.map(lambda s: len(s)),\n",
    "    ops.filter(lambda i: i >= 5)\n",
    ")\n",
    "composed.subscribe(lambda value: print(\"Received {0}\".format(value)))"
   ]
  },
  {
   "cell_type": "code",
   "execution_count": null,
   "id": "secret-karen",
   "metadata": {},
   "outputs": [],
   "source": [
    "from rx import of, operators as op\n",
    "\n",
    "of(\"Alpha\", \"Beta\", \"Gamma\", \"Delta\", \"Epsilon\").pipe(\n",
    "    op.map(lambda s: len(s)),\n",
    "    op.filter(lambda i: i >= 5)\n",
    ").subscribe(lambda value: print(\"Received {0}\".format(value)))"
   ]
  },
  {
   "cell_type": "code",
   "execution_count": null,
   "id": "prescription-spelling",
   "metadata": {},
   "outputs": [],
   "source": [
    "import rx\n",
    "\n",
    "def lowercase():\n",
    "    def _lowercase(source):\n",
    "        def subscribe(observer, scheduler = None):\n",
    "            def on_next(value):\n",
    "                observer.on_next(value.lower())\n",
    "\n",
    "            return source.subscribe(\n",
    "                on_next,\n",
    "                observer.on_error,\n",
    "                observer.on_completed,\n",
    "                scheduler)\n",
    "        return rx.create(subscribe)\n",
    "    return _lowercase\n",
    "\n",
    "tramp = rx.scheduler.TrampolineScheduler()\n",
    "\n",
    "rx.of(\"Alpha\", \"Beta\", \"Gamma\", \"Delta\", \"Epsilon\").pipe(\n",
    "        lowercase()\n",
    "     ).subscribe(lambda value: print(\"Received {0}\".format(value)), scheduler=tramp)"
   ]
  },
  {
   "cell_type": "code",
   "execution_count": null,
   "id": "quantitative-collar",
   "metadata": {},
   "outputs": [],
   "source": [
    "import trio"
   ]
  },
  {
   "cell_type": "code",
   "execution_count": null,
   "id": "metric-papua",
   "metadata": {},
   "outputs": [],
   "source": [
    "%autoawait trio\n",
    "#%autoawait asyncio"
   ]
  },
  {
   "cell_type": "code",
   "execution_count": null,
   "id": "premium-addition",
   "metadata": {},
   "outputs": [],
   "source": [
    "import asyncio"
   ]
  },
  {
   "cell_type": "code",
   "execution_count": null,
   "id": "hairy-helen",
   "metadata": {},
   "outputs": [],
   "source": [
    "import rx\n",
    "from rx import operators as op"
   ]
  },
  {
   "cell_type": "code",
   "execution_count": null,
   "id": "binary-fifty",
   "metadata": {},
   "outputs": [],
   "source": [
    "from trioscheduler import TrioScheduler\n",
    "from rx.scheduler.eventloop import AsyncIOThreadSafeScheduler"
   ]
  },
  {
   "cell_type": "code",
   "execution_count": null,
   "id": "spread-ireland",
   "metadata": {},
   "outputs": [],
   "source": [
    "#sch = rx.scheduler.TrampolineScheduler()\n",
    "#sch = TrioScheduler()\n",
    "loop = asyncio.get_event_loop()\n",
    "sch = AsyncIOThreadSafeScheduler(loop)\n",
    "loop, sch"
   ]
  },
  {
   "cell_type": "code",
   "execution_count": null,
   "id": "promising-wealth",
   "metadata": {},
   "outputs": [],
   "source": [
    "def lowercase():\n",
    "    def _lowercase(source):\n",
    "        def subscribe(observer, scheduler = None):\n",
    "            def on_next(value):\n",
    "                observer.on_next(value.lower())\n",
    "\n",
    "            return source.subscribe(\n",
    "                on_next,\n",
    "                observer.on_error,\n",
    "                observer.on_completed,\n",
    "                scheduler)\n",
    "        return rx.create(subscribe)\n",
    "    return _lowercase\n",
    "\n",
    "rx.of(\"Alpha\", \"Beta\", \"Gamma\", \"Delta\", \"Epsilon\").pipe(\n",
    "        op.observe_on(sch),\n",
    "        lowercase()\n",
    "     ).subscribe(lambda value: print(\"Received {0}\".format(value)), scheduler=sch)"
   ]
  },
  {
   "cell_type": "markdown",
   "id": "alert-virgin",
   "metadata": {},
   "source": [
    "---"
   ]
  },
  {
   "cell_type": "code",
   "execution_count": null,
   "id": "american-relevance",
   "metadata": {},
   "outputs": [],
   "source": [
    "w = widgets.IntSlider()\n",
    "x = widgets.IntSlider()"
   ]
  },
  {
   "cell_type": "code",
   "execution_count": null,
   "id": "ranging-alignment",
   "metadata": {},
   "outputs": [],
   "source": [
    "w.value = x.value"
   ]
  },
  {
   "cell_type": "code",
   "execution_count": null,
   "id": "front-bikini",
   "metadata": {},
   "outputs": [],
   "source": [
    "from rx import create\n",
    "\n",
    "def push_widget_x(observer, scheduler):\n",
    "    def on_value_change(change):\n",
    "        new_value = change['new']\n",
    "        #print(f\"ovc new_value is {new_value}\")\n",
    "        observer.on_next(change['new'])\n",
    "        if new_value == 100:\n",
    "            observer.on_completed()\n",
    "    x.observe(on_value_change, names='value')\n",
    "    #observer.on_completed()\n",
    "\n",
    "source = create(push_widget_x)\n",
    "\n",
    "def w_bender(v):\n",
    "    w.value = v\n",
    "\n",
    "source.subscribe(\n",
    "    #on_next = lambda i: print(\"Received {0}\".format(i)),\n",
    "    on_next = lambda i: w_bender(100-i),\n",
    "    on_error = lambda e: print(\"Error Occurred: {0}\".format(e)),\n",
    "    on_completed = lambda: print(\"Done!\"),\n",
    ")\n"
   ]
  },
  {
   "cell_type": "code",
   "execution_count": null,
   "id": "through-spread",
   "metadata": {},
   "outputs": [],
   "source": [
    "display(x)\n",
    "display(w)\n",
    "display(x)"
   ]
  },
  {
   "cell_type": "code",
   "execution_count": null,
   "id": "associate-combat",
   "metadata": {},
   "outputs": [],
   "source": [
    "import time\n",
    "time.sleep(5)"
   ]
  },
  {
   "cell_type": "code",
   "execution_count": null,
   "id": "wired-straight",
   "metadata": {},
   "outputs": [],
   "source": [
    "source.subscribe(\n",
    "    #on_next = lambda i: print(\"Received {0}\".format(i)),\n",
    "    on_next = lambda i: w_bender(100-i),\n",
    "    on_error = lambda e: print(\"Error Occurred: {0}\".format(e)),\n",
    "    on_completed = lambda: print(\"Done!\"),\n",
    ")"
   ]
  },
  {
   "cell_type": "code",
   "execution_count": null,
   "id": "willing-capitol",
   "metadata": {},
   "outputs": [],
   "source": [
    "source.subscribe(\n",
    "    on_next = lambda i: print(\"Received {0}\".format(i)),\n",
    "    on_error = lambda e: print(\"Error Occurred: {0}\".format(e)),\n",
    "    on_completed = lambda: print(\"Done!\"),\n",
    ")"
   ]
  },
  {
   "cell_type": "code",
   "execution_count": null,
   "id": "primary-equilibrium",
   "metadata": {},
   "outputs": [],
   "source": [
    "int_range = widgets.IntSlider()\n",
    "output2 = widgets.Output()\n",
    "\n",
    "display(int_range, output2)\n",
    "\n",
    "def on_value_change(change):\n",
    "    with output2:\n",
    "        print(change['new'])\n",
    "\n",
    "int_range.observe(on_value_change, names='value')"
   ]
  },
  {
   "cell_type": "code",
   "execution_count": null,
   "id": "designing-exemption",
   "metadata": {},
   "outputs": [],
   "source": [
    "display(x)\n",
    "display(w)\n",
    "display(x)"
   ]
  },
  {
   "cell_type": "code",
   "execution_count": null,
   "id": "peaceful-current",
   "metadata": {},
   "outputs": [],
   "source": [
    "from rx import create\n",
    "\n",
    "source = create(make_push_widget(x))\n",
    "\n",
    "source.subscribe(\n",
    "    #on_next = lambda i: print(\"Received {0}\".format(i)),\n",
    "    on_next = lambda i: slider_bender(w, 100-i),\n",
    "    on_error = lambda e: print(\"Error Occurred: {0}\".format(e)),\n",
    "    on_completed = lambda: print(\"Done!\"),\n",
    ")"
   ]
  },
  {
   "cell_type": "markdown",
   "id": "australian-force",
   "metadata": {},
   "source": [
    "---"
   ]
  },
  {
   "cell_type": "code",
   "execution_count": null,
   "id": "turned-terry",
   "metadata": {},
   "outputs": [],
   "source": [
    "from rx.subject import Subject"
   ]
  },
  {
   "cell_type": "code",
   "execution_count": null,
   "id": "consecutive-fusion",
   "metadata": {},
   "outputs": [],
   "source": [
    "suzie = Subject()"
   ]
  },
  {
   "cell_type": "code",
   "execution_count": null,
   "id": "adverse-cheat",
   "metadata": {},
   "outputs": [],
   "source": [
    "suzie.subscribe(on_next = lambda i: print(\"Received {0}\".format(i)))"
   ]
  },
  {
   "cell_type": "code",
   "execution_count": null,
   "id": "changed-application",
   "metadata": {},
   "outputs": [],
   "source": [
    "suzie.on_next('bird')"
   ]
  },
  {
   "cell_type": "code",
   "execution_count": null,
   "id": "separate-wright",
   "metadata": {},
   "outputs": [],
   "source": [
    "suzie.subscribe(print)"
   ]
  },
  {
   "cell_type": "code",
   "execution_count": null,
   "id": "involved-receiver",
   "metadata": {},
   "outputs": [],
   "source": []
  }
 ],
 "metadata": {
  "kernelspec": {
   "display_name": "Python 3",
   "language": "python",
   "name": "python3"
  },
  "language_info": {
   "codemirror_mode": {
    "name": "ipython",
    "version": 3
   },
   "file_extension": ".py",
   "mimetype": "text/x-python",
   "name": "python",
   "nbconvert_exporter": "python",
   "pygments_lexer": "ipython3",
   "version": "3.8.6"
  }
 },
 "nbformat": 4,
 "nbformat_minor": 5
}
