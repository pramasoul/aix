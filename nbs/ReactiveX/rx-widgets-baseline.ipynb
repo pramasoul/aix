{
 "cells": [
  {
   "cell_type": "markdown",
   "id": "romantic-synthetic",
   "metadata": {},
   "source": [
    "# ReactiveX in Python - baseline\n",
    "A baseline experiment with no `async` tomfoolery.\n",
    "* https://github.com/ReactiveX/RxPY\n",
    "* https://rxpy.readthedocs.io/en/latest/get_started.html"
   ]
  },
  {
   "cell_type": "markdown",
   "id": "continental-prophet",
   "metadata": {},
   "source": [
    "# *Status :-)*"
   ]
  },
  {
   "cell_type": "markdown",
   "id": "usual-gnome",
   "metadata": {},
   "source": [
    "# Try out with widgets"
   ]
  },
  {
   "cell_type": "code",
   "execution_count": 1,
   "id": "effective-commission",
   "metadata": {},
   "outputs": [],
   "source": [
    "import ipywidgets as widgets\n",
    "from IPython.display import display"
   ]
  },
  {
   "cell_type": "markdown",
   "id": "national-drama",
   "metadata": {},
   "source": [
    "## Make a widget observable"
   ]
  },
  {
   "cell_type": "code",
   "execution_count": 2,
   "id": "complex-alert",
   "metadata": {},
   "outputs": [],
   "source": [
    "def make_push_widget(w):\n",
    "    def push_widget(observer, scheduler):\n",
    "        # make the callback to attach to the widget\n",
    "        def on_value_change(change):\n",
    "            new_value = change['new']\n",
    "            #print(f\"ovc new_value is {new_value}\")\n",
    "            observer.on_next(change['new'])\n",
    "            if new_value == 100:\n",
    "                observer.on_completed()\n",
    "                w.unobserve(on_value_change, names='value')\n",
    "        # attach callback to widget\n",
    "        w.observe(on_value_change, names='value')\n",
    "    # return the observation function\n",
    "    return push_widget"
   ]
  },
  {
   "cell_type": "markdown",
   "id": "direct-river",
   "metadata": {},
   "source": [
    "## Place some widgets "
   ]
  },
  {
   "cell_type": "code",
   "execution_count": 3,
   "id": "laden-burning",
   "metadata": {},
   "outputs": [
    {
     "data": {
      "application/vnd.jupyter.widget-view+json": {
       "model_id": "f82f541c1ad3479c97e41357fa1b0786",
       "version_major": 2,
       "version_minor": 0
      },
      "text/plain": [
       "FloatSlider(value=0.0, continuous_update=False, description='Sin:', max=1.0, min=-1.0, orientation='vertical',…"
      ]
     },
     "metadata": {},
     "output_type": "display_data"
    },
    {
     "data": {
      "application/vnd.jupyter.widget-view+json": {
       "model_id": "733ebc7ff60b44d1b39264fd0793bc74",
       "version_major": 2,
       "version_minor": 0
      },
      "text/plain": [
       "FloatSlider(value=0.0, continuous_update=False, description='Cos:', max=1.0, min=-1.0, step=0.01)"
      ]
     },
     "metadata": {},
     "output_type": "display_data"
    },
    {
     "data": {
      "application/vnd.jupyter.widget-view+json": {
       "model_id": "8fadcbf6a91342378926770862a2dc1e",
       "version_major": 2,
       "version_minor": 0
      },
      "text/plain": [
       "IntSlider(value=0, description='t')"
      ]
     },
     "metadata": {},
     "output_type": "display_data"
    },
    {
     "data": {
      "application/vnd.jupyter.widget-view+json": {
       "model_id": "6c4e95fa506a40deabf8902bce875ccc",
       "version_major": 2,
       "version_minor": 0
      },
      "text/plain": [
       "Button(description='Shutdown worker', style=ButtonStyle())"
      ]
     },
     "metadata": {},
     "output_type": "display_data"
    },
    {
     "data": {
      "application/vnd.jupyter.widget-view+json": {
       "model_id": "8755c9866e944e699d481c7f246bd851",
       "version_major": 2,
       "version_minor": 0
      },
      "text/plain": [
       "Button(description='clear', style=ButtonStyle())"
      ]
     },
     "metadata": {},
     "output_type": "display_data"
    },
    {
     "data": {
      "application/vnd.jupyter.widget-view+json": {
       "model_id": "af0c61030ac649ff94dccc8c872dcc8b",
       "version_major": 2,
       "version_minor": 0
      },
      "text/plain": [
       "Output(layout=Layout(border='1px solid black'))"
      ]
     },
     "metadata": {},
     "output_type": "display_data"
    }
   ],
   "source": [
    "from math import pi\n",
    "\n",
    "v_w = widgets.FloatSlider(\n",
    "    value=0.0,\n",
    "    min=-1.0,\n",
    "    max=1.0,\n",
    "    step=0.01,\n",
    "    description='Sin:',\n",
    "    disabled=False,\n",
    "    continuous_update=False,\n",
    "    orientation='vertical',\n",
    "    readout=True,\n",
    "    readout_format='.2f',\n",
    ")\n",
    "\n",
    "h_w = widgets.FloatSlider(\n",
    "    value=0.0,\n",
    "    min=-1.0,\n",
    "    max=1.0,\n",
    "    step=0.01,\n",
    "    description='Cos:',\n",
    "    disabled=False,\n",
    "    continuous_update=False,\n",
    "    orientation='horizontal',\n",
    "    readout=True,\n",
    "    readout_format='.2f',\n",
    ")\n",
    "\n",
    "t_w = widgets.IntSlider(\n",
    "    description='t',\n",
    ")\n",
    "\n",
    "shutdown_b_w = widgets.Button(description=\"Shutdown worker\")\n",
    "clear_b_w = widgets.Button(description=\"clear\")\n",
    "out_w = widgets.Output(layout={'border': '1px solid black'})\n",
    "display(v_w, h_w, t_w, shutdown_b_w, clear_b_w, out_w)"
   ]
  },
  {
   "cell_type": "markdown",
   "id": "varied-kennedy",
   "metadata": {},
   "source": [
    "## Interaction functions"
   ]
  },
  {
   "cell_type": "code",
   "execution_count": 4,
   "id": "desperate-server",
   "metadata": {},
   "outputs": [],
   "source": [
    "from math import sin, cos, pi\n",
    "import rx\n",
    "\n",
    "def slider_bender(s, v):\n",
    "    s.value = v\n",
    "\n",
    "def circulate(t):\n",
    "    slider_bender(v_w, sin(t))\n",
    "    slider_bender(h_w, cos(t))\n",
    "\n",
    "def shutdown_child(w):\n",
    "    with out_w:\n",
    "        print(f\"would send shutdown from shutdown_child\")\n",
    "\n",
    "def clear_out(w):\n",
    "    out_w.clear_output()"
   ]
  },
  {
   "cell_type": "markdown",
   "id": "sexual-diamond",
   "metadata": {},
   "source": [
    "### Plug in button callbacks"
   ]
  },
  {
   "cell_type": "code",
   "execution_count": 5,
   "id": "exciting-depth",
   "metadata": {},
   "outputs": [],
   "source": [
    "shutdown_b_w.on_click(shutdown_child)\n",
    "clear_b_w.on_click(clear_out)"
   ]
  },
  {
   "cell_type": "markdown",
   "id": "dangerous-playing",
   "metadata": {},
   "source": [
    "## Build ReactiveX pipeline"
   ]
  },
  {
   "cell_type": "code",
   "execution_count": 6,
   "id": "retired-edgar",
   "metadata": {},
   "outputs": [
    {
     "data": {
      "text/plain": [
       "<rx.disposable.disposable.Disposable at 0x7f57c3f88430>"
      ]
     },
     "execution_count": 6,
     "metadata": {},
     "output_type": "execute_result"
    }
   ],
   "source": [
    "from rx import operators as op\n",
    "from math import pi\n",
    "\n",
    "t_src = rx.create(make_push_widget(t_w))\n",
    "\n",
    "t_src.pipe(\n",
    "    op.map(lambda i: i/100),\n",
    "    op.map(lambda t: 2*pi * 2*t)\n",
    ").subscribe(\n",
    "    on_next = circulate,\n",
    "    on_error = lambda e: print(\"Error Occurred: {0}\".format(e)),\n",
    "    on_completed = lambda: print(\"Done!\"),\n",
    ")"
   ]
  },
  {
   "cell_type": "markdown",
   "id": "subjective-activity",
   "metadata": {},
   "source": [
    "### Test\n",
    "Go up to Widgets and manipulate the **t** slider. When you're done, make the pipeline shut down by sliding it all the way to 100."
   ]
  },
  {
   "cell_type": "markdown",
   "id": "frequent-workshop",
   "metadata": {},
   "source": [
    "## UI while working\n",
    "Can these controls and responses be used while doing other work, perhaps work that is controlled by the widgets?\n",
    "Go rerun the pipeline above, verify it works by manipulating the `t` slider, and leave it working. Run the cell below, and again manipulate the slider."
   ]
  },
  {
   "cell_type": "code",
   "execution_count": null,
   "id": "confidential-residence",
   "metadata": {},
   "outputs": [],
   "source": [
    "import asyncio\n",
    "async def sleep_print():\n",
    "    for i in range(30):\n",
    "        print(f\"radius is {v_w.value**2 + h_w.value**2}, run {i}\")\n",
    "        await asyncio.sleep(1)\n",
    "\n",
    "asyncio.create_task(sleep_print())"
   ]
  },
  {
   "cell_type": "markdown",
   "id": "color-action",
   "metadata": {},
   "source": [
    "# Conclusions\n",
    "* The path from widget -> rx pipeline -> widget works, as long as another code block is not running.\n",
    "* When the running code block returns, the path works again"
   ]
  },
  {
   "cell_type": "code",
   "execution_count": null,
   "id": "extra-stephen",
   "metadata": {},
   "outputs": [],
   "source": []
  }
 ],
 "metadata": {
  "kernelspec": {
   "display_name": "Python 3",
   "language": "python",
   "name": "python3"
  },
  "language_info": {
   "codemirror_mode": {
    "name": "ipython",
    "version": 3
   },
   "file_extension": ".py",
   "mimetype": "text/x-python",
   "name": "python",
   "nbconvert_exporter": "python",
   "pygments_lexer": "ipython3",
   "version": "3.8.6"
  }
 },
 "nbformat": 4,
 "nbformat_minor": 5
}
