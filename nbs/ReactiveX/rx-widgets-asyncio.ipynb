{
 "cells": [
  {
   "cell_type": "markdown",
   "id": "alive-campaign",
   "metadata": {},
   "source": [
    "# ReactiveX in Python - asyncio\n",
    "* https://github.com/ReactiveX/RxPY\n",
    "* https://rxpy.readthedocs.io/en/latest/get_started.html"
   ]
  },
  {
   "cell_type": "markdown",
   "id": "neutral-march",
   "metadata": {},
   "source": [
    "# *Status :-)*\n",
    "* We can start and stop tasks in interaction with widgets, the `asyncio` way.\n",
    "* The pushbutton callback doesn't work out here, IDK why"
   ]
  },
  {
   "cell_type": "markdown",
   "id": "eleven-hardware",
   "metadata": {},
   "source": [
    "# Try out with widgets"
   ]
  },
  {
   "cell_type": "code",
   "execution_count": null,
   "id": "employed-society",
   "metadata": {},
   "outputs": [],
   "source": [
    "import ipywidgets as widgets\n",
    "from IPython.display import display"
   ]
  },
  {
   "cell_type": "code",
   "execution_count": null,
   "id": "stainless-wallet",
   "metadata": {},
   "outputs": [],
   "source": [
    "out = widgets.Output(layout={\n",
    "    'border': '1px solid black',\n",
    "    'height': '200px',\n",
    "    'overflow_y': 'auto',\n",
    "})"
   ]
  },
  {
   "cell_type": "markdown",
   "id": "international-settle",
   "metadata": {},
   "source": [
    "---"
   ]
  },
  {
   "cell_type": "markdown",
   "id": "atmospheric-lodging",
   "metadata": {},
   "source": [
    "# Cooperative multitasking with `asyncio`"
   ]
  },
  {
   "cell_type": "markdown",
   "id": "rubber-liverpool",
   "metadata": {},
   "source": [
    "## Tell the notebook to start an asyncio event loop support\n",
    "* https://ipython.readthedocs.io/en/stable/interactive/autoawait.html\n",
    "* https://ipython.readthedocs.io/en/stable/config/eventloops.html\n",
    "* https://ipython.readthedocs.io/en/stable/config/eventloops.html#integrating-with-a-new-event-loop-in-the-kernel"
   ]
  },
  {
   "cell_type": "code",
   "execution_count": null,
   "id": "excellent-console",
   "metadata": {},
   "outputs": [],
   "source": [
    "#%autoawait asyncio\n",
    "#%autoawait trio\n",
    "%gui asyncio"
   ]
  },
  {
   "cell_type": "code",
   "execution_count": null,
   "id": "activated-smooth",
   "metadata": {},
   "outputs": [],
   "source": [
    "#import trio\n",
    "import asyncio"
   ]
  },
  {
   "cell_type": "markdown",
   "id": "lesbian-mineral",
   "metadata": {},
   "source": [
    "## Future from widget"
   ]
  },
  {
   "cell_type": "markdown",
   "id": "foreign-associate",
   "metadata": {},
   "source": [
    "To get a future value:"
   ]
  },
  {
   "cell_type": "code",
   "execution_count": null,
   "id": "previous-fundamental",
   "metadata": {},
   "outputs": [],
   "source": [
    "def wait_for_change(widget, value):\n",
    "    future = asyncio.Future()\n",
    "    def getvalue(change):\n",
    "        # make the new value available\n",
    "        try:\n",
    "            future.set_result(change.new)\n",
    "        except asyncio.InvalidStateError: # Task may have been cancelled\n",
    "            pass\n",
    "        widget.unobserve(getvalue, value)\n",
    "    widget.observe(getvalue, value)\n",
    "    return future"
   ]
  },
  {
   "cell_type": "markdown",
   "id": "successful-speech",
   "metadata": {},
   "source": [
    "To get a button press:"
   ]
  },
  {
   "cell_type": "code",
   "execution_count": null,
   "id": "federal-membrane",
   "metadata": {},
   "outputs": [],
   "source": [
    "def wait_for_press(button):\n",
    "    #print(f\"<wait_for_press({button})>\")\n",
    "    future = asyncio.Future()\n",
    "    #print(f\"<{future}>\")\n",
    "    def clicked(b):\n",
    "        #print(f\"<clicked({b})>\")\n",
    "        try:\n",
    "            future.set_result(True)\n",
    "        except asyncio.InvalidStateError: # Task may have been cancelled\n",
    "            #pass\n",
    "            raise #DEBUG\n",
    "        #print(f\"<now {future}>\")\n",
    "        b.on_click(clicked, remove=True)\n",
    "        #print(f\"<{b} on_click remove\")\n",
    "    #print(f\"<gonna set on_click>\")\n",
    "    button.on_click(clicked)\n",
    "    #print(f\"<{button} on_click set to {clicked}\")\n",
    "    return future"
   ]
  },
  {
   "cell_type": "code",
   "execution_count": null,
   "id": "official-cursor",
   "metadata": {},
   "outputs": [],
   "source": [
    "tmp_b_w = widgets.Button(description=\"test\")\n",
    "display(out, tmp_b_w)"
   ]
  },
  {
   "cell_type": "code",
   "execution_count": null,
   "id": "collectible-connection",
   "metadata": {},
   "outputs": [],
   "source": [
    "async def t():\n",
    "    out.append_stdout(f\"waiting\\n\")\n",
    "    v = await wait_for_press(tmp_b_w)\n",
    "    out.append_stdout(f\"did press {v}\\n\")\n",
    "\n",
    "asyncio.create_task(t())"
   ]
  },
  {
   "cell_type": "code",
   "execution_count": null,
   "id": "million-berry",
   "metadata": {},
   "outputs": [],
   "source": [
    "tmp_b_w.click()"
   ]
  },
  {
   "cell_type": "markdown",
   "id": "innovative-investment",
   "metadata": {},
   "source": [
    "## Demonstrate `async` loop `await`ing on the future"
   ]
  },
  {
   "cell_type": "code",
   "execution_count": null,
   "id": "consistent-acquisition",
   "metadata": {},
   "outputs": [],
   "source": [
    "slider = widgets.IntSlider()"
   ]
  },
  {
   "cell_type": "code",
   "execution_count": null,
   "id": "ultimate-inclusion",
   "metadata": {},
   "outputs": [],
   "source": [
    "%%script echo this works, moving on ...\n",
    "\n",
    "async def f():\n",
    "    for i in range(5):\n",
    "        out.append_stdout(f\"did work {i}\\n\")\n",
    "        x = await wait_for_change(slider, 'value')\n",
    "        out.append_stdout(f\"async function continued with value {x}\\n\")\n",
    "#asyncio.ensure_future(f())\n",
    "asyncio.create_task(f())\n",
    "\n",
    "slider"
   ]
  },
  {
   "cell_type": "code",
   "execution_count": null,
   "id": "silver-brooklyn",
   "metadata": {},
   "outputs": [],
   "source": [
    "out"
   ]
  },
  {
   "cell_type": "markdown",
   "id": "apparent-exhaust",
   "metadata": {},
   "source": [
    "## Can we connect to ReactiveX asynchronously?"
   ]
  },
  {
   "cell_type": "markdown",
   "id": "civilian-synthetic",
   "metadata": {},
   "source": [
    "### Use its `asyncio` scheduler"
   ]
  },
  {
   "cell_type": "code",
   "execution_count": null,
   "id": "statistical-imaging",
   "metadata": {},
   "outputs": [],
   "source": [
    "import rx\n",
    "from rx import operators as op\n",
    "from rx.scheduler.eventloop import AsyncIOThreadSafeScheduler\n",
    "loop = asyncio.get_event_loop()\n",
    "shed = AsyncIOThreadSafeScheduler(loop)"
   ]
  },
  {
   "cell_type": "markdown",
   "id": "collectible-hobby",
   "metadata": {},
   "source": [
    "### Can we connect up a widget as an observable?"
   ]
  },
  {
   "cell_type": "markdown",
   "id": "binary-cardiff",
   "metadata": {},
   "source": [
    "#### A means to make a widget call back into an `rx` observable"
   ]
  },
  {
   "cell_type": "code",
   "execution_count": null,
   "id": "acquired-canvas",
   "metadata": {},
   "outputs": [],
   "source": [
    "def make_apush_widget(w):\n",
    "    async def push_widget(observer, scheduler):\n",
    "        while True:\n",
    "            x = await wait_for_change(w, 'value')\n",
    "            observer.on_next(x)\n",
    "            if x == 100:\n",
    "                observer.on_completed()\n",
    "                break\n",
    "    return push_widget        "
   ]
  },
  {
   "cell_type": "code",
   "execution_count": null,
   "id": "desperate-lyric",
   "metadata": {},
   "outputs": [],
   "source": [
    "asl = widgets.IntSlider()\n",
    "display(asl)\n",
    "out.clear_output()\n",
    "display(out)"
   ]
  },
  {
   "cell_type": "code",
   "execution_count": null,
   "id": "incident-graph",
   "metadata": {},
   "outputs": [],
   "source": [
    "s = rx.subject.Subject()\n",
    "s.subscribe(lambda i: out.append_stdout(f\" at {i}\"))\n",
    "t = make_apush_widget(asl)"
   ]
  },
  {
   "cell_type": "markdown",
   "id": "double-immigration",
   "metadata": {},
   "source": [
    "The below starts the test. Then slide the slider above around. As before, hitting 100 shuts down the pipeline."
   ]
  },
  {
   "cell_type": "code",
   "execution_count": null,
   "id": "increased-stack",
   "metadata": {},
   "outputs": [],
   "source": [
    "out.clear_output()\n",
    "task = asyncio.create_task(t(s,shed))"
   ]
  },
  {
   "cell_type": "markdown",
   "id": "concerned-secretariat",
   "metadata": {},
   "source": [
    "We terminate the test by terminating the asyncio task"
   ]
  },
  {
   "cell_type": "code",
   "execution_count": null,
   "id": "difficult-directive",
   "metadata": {},
   "outputs": [],
   "source": [
    "task.cancel()"
   ]
  },
  {
   "cell_type": "markdown",
   "id": "activated-microwave",
   "metadata": {},
   "source": [
    "### Will this work while another `asyncio` task is running as well?\n",
    "Get it running again, with a clear button too:"
   ]
  },
  {
   "cell_type": "code",
   "execution_count": null,
   "id": "affecting-antique",
   "metadata": {},
   "outputs": [],
   "source": [
    "dots_b_w = widgets.Checkbox(\n",
    "    value=False,\n",
    "    description='dots',\n",
    "    disabled=False,\n",
    "    indent=False\n",
    ")\n",
    "clear_b_w = widgets.Button(description=\"clear\")\n",
    "\n",
    "display(asl)\n",
    "display(dots_b_w)\n",
    "out.clear_output()\n",
    "display(out)\n",
    "\n",
    "display(clear_b_w)\n",
    "\n",
    "s = rx.subject.Subject()\n",
    "s.subscribe(lambda i: out.append_stdout(f\" at {i}\"))\n",
    "t = make_apush_widget(asl)\n",
    "\n",
    "asl_task = asyncio.create_task(t(s,shed))"
   ]
  },
  {
   "cell_type": "code",
   "execution_count": null,
   "id": "fundamental-utility",
   "metadata": {},
   "outputs": [],
   "source": [
    "out.clear_output()"
   ]
  },
  {
   "cell_type": "code",
   "execution_count": null,
   "id": "sustained-yukon",
   "metadata": {},
   "outputs": [],
   "source": [
    "async def clear_button_worker(button, out):\n",
    "    while True:\n",
    "        out.append_stdout(f\"<{button}>\")\n",
    "        await wait_for_press(button)\n",
    "        out.append_stdout(f\"<r>\")\n",
    "        out.clear_output()\n",
    "        out.append_stdout(f\"<d>\")"
   ]
  },
  {
   "cell_type": "code",
   "execution_count": null,
   "id": "general-lesbian",
   "metadata": {},
   "outputs": [],
   "source": [
    "clear_button_task = asyncio.create_task(clear_button_worker(clear_b_w, out))"
   ]
  },
  {
   "cell_type": "code",
   "execution_count": null,
   "id": "retained-notice",
   "metadata": {},
   "outputs": [],
   "source": [
    "async def ticker(period, disp, enafun):\n",
    "    while True:\n",
    "        await asyncio.sleep(period)    \n",
    "        enafun() and disp.append_stdout(' .')"
   ]
  },
  {
   "cell_type": "code",
   "execution_count": null,
   "id": "acquired-effect",
   "metadata": {},
   "outputs": [],
   "source": [
    "dot_task = asyncio.create_task(ticker(0.4, out, lambda: dots_b_w.value))"
   ]
  },
  {
   "cell_type": "code",
   "execution_count": null,
   "id": "aggregate-shipping",
   "metadata": {},
   "outputs": [],
   "source": [
    "asl_task.cancel()"
   ]
  },
  {
   "cell_type": "code",
   "execution_count": null,
   "id": "forty-binary",
   "metadata": {},
   "outputs": [],
   "source": [
    "dot_task.cancel()"
   ]
  },
  {
   "cell_type": "markdown",
   "id": "developmental-bishop",
   "metadata": {},
   "source": [
    "# OLD"
   ]
  },
  {
   "cell_type": "code",
   "execution_count": null,
   "id": "southeast-ireland",
   "metadata": {},
   "outputs": [],
   "source": [
    "assert False, \"Stop here. Below is old code scraps.\""
   ]
  },
  {
   "cell_type": "code",
   "execution_count": null,
   "id": "southern-cache",
   "metadata": {},
   "outputs": [],
   "source": [
    "async def sc(w):\n",
    "    with out_w:\n",
    "        print(f\"would send shutdown from shutdown_child to {w}\")\n",
    "\n",
    "async def shutdown_child(w):\n",
    "    async with trio.open_nursery() as nursery:\n",
    "        nursery.start_soon(sc, w)\n",
    "\n",
    "def aw_sc(w):\n",
    "    await sc(w)\n",
    "\n",
    "shutdown_b_w.on_click(shutdown_child)"
   ]
  },
  {
   "cell_type": "code",
   "execution_count": null,
   "id": "republican-serial",
   "metadata": {},
   "outputs": [],
   "source": [
    "from rx import operators as op\n",
    "from math import pi\n",
    "\n",
    "t_src = rx.create(make_push_widget(t_w))\n",
    "\n",
    "t_src.pipe(\n",
    "    op.observe_on(shed),\n",
    "    op.map(lambda i: i/100),\n",
    "    op.map(lambda t: 2*pi * 2*t)\n",
    ").subscribe(\n",
    "    on_next = circulate,\n",
    "    on_error = lambda e: print(\"Error Occurred: {0}\".format(e)),\n",
    "    on_completed = lambda: print(\"Done!\"),\n",
    ")"
   ]
  },
  {
   "cell_type": "code",
   "execution_count": null,
   "id": "prostate-tennis",
   "metadata": {},
   "outputs": [],
   "source": [
    "aw_sc('bleet')"
   ]
  },
  {
   "cell_type": "code",
   "execution_count": null,
   "id": "experienced-savings",
   "metadata": {},
   "outputs": [],
   "source": [
    "async def snooze(n):\n",
    "    print(\"sleepy\")\n",
    "    for i in range(n):\n",
    "        print(\"gonna sleep\")\n",
    "        await trio.sleep(1)\n",
    "        print(f\"{i} slept\")\n",
    "    print(\"done sleeping\")"
   ]
  },
  {
   "cell_type": "code",
   "execution_count": null,
   "id": "rational-bennett",
   "metadata": {},
   "outputs": [],
   "source": [
    "async def consolidated(n):\n",
    "    async with trio.open_nursery() as nursery:\n",
    "        nursery.start_soon(snooze, n)\n",
    "        #nursery.start_soon(child2)\n",
    "\n",
    "        print(\"parent: waiting for children to finish...\")\n",
    "        # -- we exit the nursery block here --\n",
    "    print(\"parent: all done!\")"
   ]
  },
  {
   "cell_type": "code",
   "execution_count": null,
   "id": "finnish-doctrine",
   "metadata": {},
   "outputs": [],
   "source": [
    "await consolidated(30)"
   ]
  },
  {
   "cell_type": "markdown",
   "id": "deluxe-birth",
   "metadata": {},
   "source": [
    "## Make a widget observable"
   ]
  },
  {
   "cell_type": "code",
   "execution_count": null,
   "id": "likely-offense",
   "metadata": {},
   "outputs": [],
   "source": [
    "def make_push_widget(w):\n",
    "    def push_widget(observer, scheduler):\n",
    "        # make the callback to attach to the widget\n",
    "        def on_value_change(change):\n",
    "            new_value = change['new']\n",
    "            #print(f\"ovc new_value is {new_value}\")\n",
    "            observer.on_next(change['new'])\n",
    "            if new_value == 100:\n",
    "                observer.on_completed()\n",
    "                w.unobserve(on_value_change, names='value')\n",
    "        # attach callback to widget\n",
    "        w.observe(on_value_change, names='value')\n",
    "    # return the observation function\n",
    "    return push_widget"
   ]
  },
  {
   "cell_type": "markdown",
   "id": "adjustable-courtesy",
   "metadata": {},
   "source": [
    "## Place some widgets "
   ]
  },
  {
   "cell_type": "code",
   "execution_count": null,
   "id": "civil-score",
   "metadata": {},
   "outputs": [],
   "source": [
    "from math import pi\n",
    "\n",
    "v_w = widgets.FloatSlider(\n",
    "    value=0.0,\n",
    "    min=-1.0,\n",
    "    max=1.0,\n",
    "    step=0.01,\n",
    "    description='Sin:',\n",
    "    disabled=False,\n",
    "    continuous_update=False,\n",
    "    orientation='vertical',\n",
    "    readout=True,\n",
    "    readout_format='.2f',\n",
    ")\n",
    "\n",
    "h_w = widgets.FloatSlider(\n",
    "    value=0.0,\n",
    "    min=-1.0,\n",
    "    max=1.0,\n",
    "    step=0.01,\n",
    "    description='Cos:',\n",
    "    disabled=False,\n",
    "    continuous_update=False,\n",
    "    orientation='horizontal',\n",
    "    readout=True,\n",
    "    readout_format='.2f',\n",
    ")\n",
    "\n",
    "t_w = widgets.IntSlider(\n",
    "    description='t',\n",
    ")\n",
    "\n",
    "shutdown_b_w = widgets.Button(description=\"Shutdown worker\")\n",
    "clear_b_w = widgets.Button(description=\"clear\")\n",
    "out_w = widgets.Output(layout={'border': '1px solid black'})\n",
    "display(v_w, h_w, t_w, shutdown_b_w, clear_b_w, out_w)"
   ]
  },
  {
   "cell_type": "markdown",
   "id": "fabulous-accused",
   "metadata": {},
   "source": [
    "## Interaction functions"
   ]
  },
  {
   "cell_type": "code",
   "execution_count": null,
   "id": "lucky-detection",
   "metadata": {},
   "outputs": [],
   "source": [
    "from math import sin, cos, pi\n",
    "import rx\n",
    "\n",
    "def slider_bender(s, v):\n",
    "    s.value = v\n",
    "\n",
    "def circulate(t):\n",
    "    slider_bender(v_w, sin(t))\n",
    "    slider_bender(h_w, cos(t))\n",
    "\n",
    "def shutdown_child(w):\n",
    "    with out_w:\n",
    "        print(f\"would send shutdown from shutdown_child\")\n",
    "\n",
    "def clear_out(w):\n",
    "    out_w.clear_output()"
   ]
  },
  {
   "cell_type": "markdown",
   "id": "native-defensive",
   "metadata": {},
   "source": [
    "### Plug in button callbacks"
   ]
  },
  {
   "cell_type": "code",
   "execution_count": null,
   "id": "biblical-deployment",
   "metadata": {},
   "outputs": [],
   "source": [
    "shutdown_b_w.on_click(shutdown_child)\n",
    "clear_b_w.on_click(clear_out)"
   ]
  },
  {
   "cell_type": "markdown",
   "id": "foster-jersey",
   "metadata": {},
   "source": [
    "## Build ReactiveX pipeline"
   ]
  },
  {
   "cell_type": "code",
   "execution_count": null,
   "id": "hawaiian-unemployment",
   "metadata": {},
   "outputs": [],
   "source": [
    "from rx import operators as op\n",
    "from math import pi\n",
    "\n",
    "t_src = rx.create(make_push_widget(t_w))\n",
    "\n",
    "t_src.pipe(\n",
    "    op.map(lambda i: i/100),\n",
    "    op.map(lambda t: 2*pi * 2*t)\n",
    ").subscribe(\n",
    "    on_next = circulate,\n",
    "    on_error = lambda e: print(\"Error Occurred: {0}\".format(e)),\n",
    "    on_completed = lambda: print(\"Done!\"),\n",
    ")"
   ]
  },
  {
   "cell_type": "markdown",
   "id": "continuing-antenna",
   "metadata": {},
   "source": [
    "### Test\n",
    "Go up to Widgets and manipulate the **t** slider. The pipeline gets stopped when you slide it all the way to 100."
   ]
  },
  {
   "cell_type": "markdown",
   "id": "cognitive-miller",
   "metadata": {},
   "source": [
    "## UI while working\n",
    "Can these controls and responses be used while doing other work, perhaps work that is controlled by the widgets?"
   ]
  },
  {
   "cell_type": "code",
   "execution_count": null,
   "id": "affiliated-scoop",
   "metadata": {},
   "outputs": [],
   "source": [
    "import time\n",
    "while True:\n",
    "    print(f\"radius is {v_w.value**2 + h_w.value**2}\", end='\\r' )\n",
    "    time.sleep(0.2)"
   ]
  },
  {
   "cell_type": "markdown",
   "id": "stone-raise",
   "metadata": {},
   "source": [
    ":-("
   ]
  },
  {
   "cell_type": "markdown",
   "id": "breeding-monitor",
   "metadata": {},
   "source": [
    "---"
   ]
  },
  {
   "cell_type": "markdown",
   "id": "conditional-agenda",
   "metadata": {},
   "source": [
    "# Scratch"
   ]
  },
  {
   "cell_type": "code",
   "execution_count": null,
   "id": "approximate-postage",
   "metadata": {},
   "outputs": [],
   "source": [
    "assert False, \"stop here if entering from above\""
   ]
  },
  {
   "cell_type": "markdown",
   "id": "biblical-friend",
   "metadata": {},
   "source": [
    "#### Demonstrate auto `await`ing"
   ]
  },
  {
   "cell_type": "code",
   "execution_count": null,
   "id": "civic-playback",
   "metadata": {},
   "outputs": [],
   "source": [
    "async def foo(m):\n",
    "    await asyncio.sleep(0.4)\n",
    "    print(f\"yep {m}\")"
   ]
  },
  {
   "cell_type": "code",
   "execution_count": null,
   "id": "marked-exhibition",
   "metadata": {},
   "outputs": [],
   "source": [
    "await foo('horse')"
   ]
  },
  {
   "cell_type": "code",
   "execution_count": null,
   "id": "particular-binding",
   "metadata": {},
   "outputs": [],
   "source": [
    "import rx\n",
    "from rx import operators as op\n",
    "from rx.scheduler.eventloop import AsyncIOThreadSafeScheduler\n",
    "loop = asyncio.get_event_loop()\n",
    "shed = AsyncIOThreadSafeScheduler(loop)"
   ]
  },
  {
   "cell_type": "markdown",
   "id": "found-absorption",
   "metadata": {},
   "source": [
    "#### Verify that it works with that scheduler\n",
    "This is from https://rxpy.readthedocs.io/en/latest/get_started.html#custom-operator, modified to use the async scheduler instance."
   ]
  },
  {
   "cell_type": "code",
   "execution_count": null,
   "id": "severe-huntington",
   "metadata": {},
   "outputs": [],
   "source": [
    "#%%script echo skipping\n",
    "def lowercase():\n",
    "    def _lowercase(source):\n",
    "        def subscribe(observer, scheduler = None):\n",
    "            def on_next(value):\n",
    "                observer.on_next(value.lower())\n",
    "\n",
    "            return source.subscribe(\n",
    "                on_next,\n",
    "                observer.on_error,\n",
    "                observer.on_completed,\n",
    "                scheduler)\n",
    "        return rx.create(subscribe)\n",
    "    return _lowercase\n",
    "\n",
    "rx.of(\"Alpha\", \"Beta\", \"Gamma\", \"Delta\", \"Epsilon\").pipe(\n",
    "        op.observe_on(shed),\n",
    "        lowercase()\n",
    "     ).subscribe(lambda value: print(\"Received {0}\".format(value)), scheduler=shed)"
   ]
  },
  {
   "cell_type": "code",
   "execution_count": null,
   "id": "interested-option",
   "metadata": {},
   "outputs": [],
   "source": [
    "import time\n",
    "\n",
    "with out_w:\n",
    "    print(\"sleepy\")\n",
    "    for i in range(10):\n",
    "        print(\"gonna sleep\")\n",
    "        time.sleep(1)\n",
    "        print(\"slept\")"
   ]
  },
  {
   "cell_type": "code",
   "execution_count": null,
   "id": "compact-roads",
   "metadata": {},
   "outputs": [],
   "source": []
  },
  {
   "cell_type": "code",
   "execution_count": null,
   "id": "quantitative-albuquerque",
   "metadata": {},
   "outputs": [],
   "source": [
    "import rx"
   ]
  },
  {
   "cell_type": "code",
   "execution_count": null,
   "id": "altered-inclusion",
   "metadata": {},
   "outputs": [],
   "source": [
    "from rx import create\n",
    "\n",
    "def push_five_strings(observer, scheduler):\n",
    "    observer.on_next(\"Alpha\")\n",
    "    observer.on_next(\"Beta\")\n",
    "    observer.on_next(\"Gamma\")\n",
    "    observer.on_next(\"Delta\")\n",
    "    observer.on_next(\"Epsilon\")\n",
    "    observer.on_completed()\n",
    "\n",
    "source = create(push_five_strings)\n",
    "\n",
    "source.subscribe(\n",
    "    on_next = lambda i: print(\"Received {0}\".format(i)),\n",
    "    on_error = lambda e: print(\"Error Occurred: {0}\".format(e)),\n",
    "    on_completed = lambda: print(\"Done!\"),\n",
    ")"
   ]
  },
  {
   "cell_type": "code",
   "execution_count": null,
   "id": "binary-delivery",
   "metadata": {},
   "outputs": [],
   "source": [
    "from rx import operators as ops\n",
    "\n",
    "source = rx.of(\"Alpha\", \"Beta\", \"Gamma\", \"Delta\", \"Epsilon\")\n",
    "\n",
    "composed = source.pipe(\n",
    "    ops.map(lambda s: len(s)),\n",
    "    ops.filter(lambda i: i >= 5)\n",
    ")\n",
    "composed.subscribe(lambda value: print(\"Received {0}\".format(value)))"
   ]
  },
  {
   "cell_type": "code",
   "execution_count": null,
   "id": "liquid-stick",
   "metadata": {},
   "outputs": [],
   "source": [
    "from rx import of, operators as op\n",
    "\n",
    "of(\"Alpha\", \"Beta\", \"Gamma\", \"Delta\", \"Epsilon\").pipe(\n",
    "    op.map(lambda s: len(s)),\n",
    "    op.filter(lambda i: i >= 5)\n",
    ").subscribe(lambda value: print(\"Received {0}\".format(value)))"
   ]
  },
  {
   "cell_type": "code",
   "execution_count": null,
   "id": "wireless-shift",
   "metadata": {},
   "outputs": [],
   "source": [
    "import rx\n",
    "\n",
    "def lowercase():\n",
    "    def _lowercase(source):\n",
    "        def subscribe(observer, scheduler = None):\n",
    "            def on_next(value):\n",
    "                observer.on_next(value.lower())\n",
    "\n",
    "            return source.subscribe(\n",
    "                on_next,\n",
    "                observer.on_error,\n",
    "                observer.on_completed,\n",
    "                scheduler)\n",
    "        return rx.create(subscribe)\n",
    "    return _lowercase\n",
    "\n",
    "tramp = rx.scheduler.TrampolineScheduler()\n",
    "\n",
    "rx.of(\"Alpha\", \"Beta\", \"Gamma\", \"Delta\", \"Epsilon\").pipe(\n",
    "        lowercase()\n",
    "     ).subscribe(lambda value: print(\"Received {0}\".format(value)), scheduler=tramp)"
   ]
  },
  {
   "cell_type": "code",
   "execution_count": null,
   "id": "liable-stick",
   "metadata": {},
   "outputs": [],
   "source": [
    "import trio"
   ]
  },
  {
   "cell_type": "code",
   "execution_count": null,
   "id": "bizarre-slide",
   "metadata": {},
   "outputs": [],
   "source": [
    "%autoawait trio\n",
    "#%autoawait asyncio"
   ]
  },
  {
   "cell_type": "code",
   "execution_count": null,
   "id": "corporate-birthday",
   "metadata": {},
   "outputs": [],
   "source": [
    "import asyncio"
   ]
  },
  {
   "cell_type": "code",
   "execution_count": null,
   "id": "seeing-destiny",
   "metadata": {},
   "outputs": [],
   "source": [
    "import rx\n",
    "from rx import operators as op"
   ]
  },
  {
   "cell_type": "code",
   "execution_count": null,
   "id": "private-standard",
   "metadata": {},
   "outputs": [],
   "source": [
    "from trioscheduler import TrioScheduler\n",
    "from rx.scheduler.eventloop import AsyncIOThreadSafeScheduler"
   ]
  },
  {
   "cell_type": "code",
   "execution_count": null,
   "id": "express-drinking",
   "metadata": {},
   "outputs": [],
   "source": [
    "#sch = rx.scheduler.TrampolineScheduler()\n",
    "#sch = TrioScheduler()\n",
    "loop = asyncio.get_event_loop()\n",
    "sch = AsyncIOThreadSafeScheduler(loop)\n",
    "loop, sch"
   ]
  },
  {
   "cell_type": "code",
   "execution_count": null,
   "id": "spectacular-slovenia",
   "metadata": {},
   "outputs": [],
   "source": [
    "def lowercase():\n",
    "    def _lowercase(source):\n",
    "        def subscribe(observer, scheduler = None):\n",
    "            def on_next(value):\n",
    "                observer.on_next(value.lower())\n",
    "\n",
    "            return source.subscribe(\n",
    "                on_next,\n",
    "                observer.on_error,\n",
    "                observer.on_completed,\n",
    "                scheduler)\n",
    "        return rx.create(subscribe)\n",
    "    return _lowercase\n",
    "\n",
    "rx.of(\"Alpha\", \"Beta\", \"Gamma\", \"Delta\", \"Epsilon\").pipe(\n",
    "        op.observe_on(sch),\n",
    "        lowercase()\n",
    "     ).subscribe(lambda value: print(\"Received {0}\".format(value)), scheduler=sch)"
   ]
  },
  {
   "cell_type": "markdown",
   "id": "advance-dublin",
   "metadata": {},
   "source": [
    "---"
   ]
  },
  {
   "cell_type": "code",
   "execution_count": null,
   "id": "favorite-concrete",
   "metadata": {},
   "outputs": [],
   "source": [
    "w = widgets.IntSlider()\n",
    "x = widgets.IntSlider()"
   ]
  },
  {
   "cell_type": "code",
   "execution_count": null,
   "id": "honest-album",
   "metadata": {},
   "outputs": [],
   "source": [
    "w.value = x.value"
   ]
  },
  {
   "cell_type": "code",
   "execution_count": null,
   "id": "subjective-small",
   "metadata": {},
   "outputs": [],
   "source": [
    "from rx import create\n",
    "\n",
    "def push_widget_x(observer, scheduler):\n",
    "    def on_value_change(change):\n",
    "        new_value = change['new']\n",
    "        #print(f\"ovc new_value is {new_value}\")\n",
    "        observer.on_next(change['new'])\n",
    "        if new_value == 100:\n",
    "            observer.on_completed()\n",
    "    x.observe(on_value_change, names='value')\n",
    "    #observer.on_completed()\n",
    "\n",
    "source = create(push_widget_x)\n",
    "\n",
    "def w_bender(v):\n",
    "    w.value = v\n",
    "\n",
    "source.subscribe(\n",
    "    #on_next = lambda i: print(\"Received {0}\".format(i)),\n",
    "    on_next = lambda i: w_bender(100-i),\n",
    "    on_error = lambda e: print(\"Error Occurred: {0}\".format(e)),\n",
    "    on_completed = lambda: print(\"Done!\"),\n",
    ")\n"
   ]
  },
  {
   "cell_type": "code",
   "execution_count": null,
   "id": "latest-ideal",
   "metadata": {},
   "outputs": [],
   "source": [
    "display(x)\n",
    "display(w)\n",
    "display(x)"
   ]
  },
  {
   "cell_type": "code",
   "execution_count": null,
   "id": "parental-temperature",
   "metadata": {},
   "outputs": [],
   "source": [
    "import time\n",
    "time.sleep(5)"
   ]
  },
  {
   "cell_type": "code",
   "execution_count": null,
   "id": "broadband-compromise",
   "metadata": {},
   "outputs": [],
   "source": [
    "source.subscribe(\n",
    "    #on_next = lambda i: print(\"Received {0}\".format(i)),\n",
    "    on_next = lambda i: w_bender(100-i),\n",
    "    on_error = lambda e: print(\"Error Occurred: {0}\".format(e)),\n",
    "    on_completed = lambda: print(\"Done!\"),\n",
    ")"
   ]
  },
  {
   "cell_type": "code",
   "execution_count": null,
   "id": "effective-congress",
   "metadata": {},
   "outputs": [],
   "source": [
    "source.subscribe(\n",
    "    on_next = lambda i: print(\"Received {0}\".format(i)),\n",
    "    on_error = lambda e: print(\"Error Occurred: {0}\".format(e)),\n",
    "    on_completed = lambda: print(\"Done!\"),\n",
    ")"
   ]
  },
  {
   "cell_type": "code",
   "execution_count": null,
   "id": "driven-secondary",
   "metadata": {},
   "outputs": [],
   "source": [
    "int_range = widgets.IntSlider()\n",
    "output2 = widgets.Output()\n",
    "\n",
    "display(int_range, output2)\n",
    "\n",
    "def on_value_change(change):\n",
    "    with output2:\n",
    "        print(change['new'])\n",
    "\n",
    "int_range.observe(on_value_change, names='value')"
   ]
  },
  {
   "cell_type": "code",
   "execution_count": null,
   "id": "round-bible",
   "metadata": {},
   "outputs": [],
   "source": [
    "display(x)\n",
    "display(w)\n",
    "display(x)"
   ]
  },
  {
   "cell_type": "code",
   "execution_count": null,
   "id": "political-acting",
   "metadata": {},
   "outputs": [],
   "source": [
    "from rx import create\n",
    "\n",
    "source = create(make_push_widget(x))\n",
    "\n",
    "source.subscribe(\n",
    "    #on_next = lambda i: print(\"Received {0}\".format(i)),\n",
    "    on_next = lambda i: slider_bender(w, 100-i),\n",
    "    on_error = lambda e: print(\"Error Occurred: {0}\".format(e)),\n",
    "    on_completed = lambda: print(\"Done!\"),\n",
    ")"
   ]
  },
  {
   "cell_type": "markdown",
   "id": "potential-version",
   "metadata": {},
   "source": [
    "---"
   ]
  },
  {
   "cell_type": "code",
   "execution_count": null,
   "id": "capable-seminar",
   "metadata": {},
   "outputs": [],
   "source": [
    "from rx.subject import Subject"
   ]
  },
  {
   "cell_type": "code",
   "execution_count": null,
   "id": "another-gothic",
   "metadata": {},
   "outputs": [],
   "source": [
    "suzie = Subject()"
   ]
  },
  {
   "cell_type": "code",
   "execution_count": null,
   "id": "following-tissue",
   "metadata": {},
   "outputs": [],
   "source": [
    "suzie.subscribe(on_next = lambda i: print(\"Received {0}\".format(i)))"
   ]
  },
  {
   "cell_type": "code",
   "execution_count": null,
   "id": "fabulous-strength",
   "metadata": {},
   "outputs": [],
   "source": [
    "suzie.on_next('bird')"
   ]
  },
  {
   "cell_type": "code",
   "execution_count": null,
   "id": "numerous-watson",
   "metadata": {},
   "outputs": [],
   "source": [
    "suzie.subscribe(print)"
   ]
  },
  {
   "cell_type": "code",
   "execution_count": null,
   "id": "reflected-liquid",
   "metadata": {},
   "outputs": [],
   "source": []
  },
  {
   "cell_type": "code",
   "execution_count": null,
   "id": "technical-necklace",
   "metadata": {},
   "outputs": [],
   "source": []
  }
 ],
 "metadata": {
  "kernelspec": {
   "display_name": "Python 3",
   "language": "python",
   "name": "python3"
  },
  "language_info": {
   "codemirror_mode": {
    "name": "ipython",
    "version": 3
   },
   "file_extension": ".py",
   "mimetype": "text/x-python",
   "name": "python",
   "nbconvert_exporter": "python",
   "pygments_lexer": "ipython3",
   "version": "3.8.6"
  }
 },
 "nbformat": 4,
 "nbformat_minor": 5
}
