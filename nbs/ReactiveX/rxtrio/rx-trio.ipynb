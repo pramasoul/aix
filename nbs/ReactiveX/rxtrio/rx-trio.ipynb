{
 "cells": [
  {
   "cell_type": "markdown",
   "id": "beautiful-generic",
   "metadata": {},
   "source": [
    "# ReactiveX under trio"
   ]
  },
  {
   "cell_type": "markdown",
   "id": "organized-ethernet",
   "metadata": {},
   "source": [
    "# *Status :-|*\n",
    "* `trio` can feed a ReactiveX pipeline, if that pipeline has no time-aware components\n",
    "* With time-aware pipeline components, using the `asyncio` support in the notebook and ReactiveX gives unreliable results as I have it here. More development is indicated."
   ]
  },
  {
   "cell_type": "code",
   "execution_count": null,
   "id": "pending-concern",
   "metadata": {},
   "outputs": [],
   "source": [
    "#%pip install -U rx trio"
   ]
  },
  {
   "cell_type": "code",
   "execution_count": null,
   "id": "nutritional-allah",
   "metadata": {},
   "outputs": [],
   "source": [
    "import rx\n",
    "from rx import operators as op\n",
    "import trio"
   ]
  },
  {
   "cell_type": "code",
   "execution_count": null,
   "id": "arranged-telescope",
   "metadata": {},
   "outputs": [],
   "source": [
    "%autoawait trio\n",
    "#%autoawait asyncio"
   ]
  },
  {
   "cell_type": "code",
   "execution_count": null,
   "id": "electoral-jewelry",
   "metadata": {},
   "outputs": [],
   "source": [
    "import ipywidgets as widgets\n",
    "from IPython.display import display"
   ]
  },
  {
   "cell_type": "code",
   "execution_count": null,
   "id": "desirable-mapping",
   "metadata": {},
   "outputs": [],
   "source": [
    "out = widgets.Output(layout={\n",
    "    'border': '1px solid black',\n",
    "    'height': '200px',\n",
    "    'overflow_y': 'auto',\n",
    "})"
   ]
  },
  {
   "cell_type": "markdown",
   "id": "verified-scheme",
   "metadata": {},
   "source": [
    "## Feed a ReactiveX pipeline from a Trio task"
   ]
  },
  {
   "cell_type": "markdown",
   "id": "revolutionary-lloyd",
   "metadata": {},
   "source": [
    "### First try a pipeline that's just a pure dropthrough, with no use of the scheduler"
   ]
  },
  {
   "cell_type": "code",
   "execution_count": null,
   "id": "quarterly-organizer",
   "metadata": {},
   "outputs": [],
   "source": [
    "s = rx.subject.Subject()\n",
    "s.subscribe(lambda i: out.append_stdout(f\" <{i}>\"))\n",
    "display(out)\n",
    "out.clear_output()\n",
    "\n",
    "async def char_by_char(string, delay=0.2):\n",
    "    for c in string:\n",
    "        await trio.sleep(delay)\n",
    "        #out.append_stdout(\" \" + c)\n",
    "        s.on_next(c)\n",
    "\n",
    "async def parent():\n",
    "    print(\"parent: started!\")\n",
    "    async with trio.open_nursery() as nursery:\n",
    "        nursery.start_soon(char_by_char, \"The quick brown fox\", 0.1)\n",
    "        nursery.start_soon(char_by_char, \"jumped over the lazy dog\", 0.3)\n",
    "        print(\"parent: waiting for children to finish...\")\n",
    "        # -- we exit the nursery block here --\n",
    "    print(\"parent: all done!\")\n",
    "\n",
    "trio.run(parent)"
   ]
  },
  {
   "cell_type": "markdown",
   "id": "acceptable-income",
   "metadata": {},
   "source": [
    "### Result: Yes, we can feed a ReactiveX pipeline from a trio task\n",
    "***FIXME:*** Test time-delay operators, once we know how to make them work"
   ]
  },
  {
   "cell_type": "code",
   "execution_count": null,
   "id": "metric-river",
   "metadata": {},
   "outputs": [],
   "source": [
    "%time\n",
    "trio.run(parent) "
   ]
  },
  {
   "cell_type": "markdown",
   "id": "interesting-distribution",
   "metadata": {},
   "source": [
    "## Test ReactiveX using the notebook's `asyncio` event loop"
   ]
  },
  {
   "cell_type": "markdown",
   "id": "macro-longitude",
   "metadata": {},
   "source": [
    "Trio and asyncio are based on coroutines. ReactiveX uses a scheduler. The package includes one to run in an asyncio loop. Maybe that one will work okay under trio. We test this proposition."
   ]
  },
  {
   "cell_type": "code",
   "execution_count": null,
   "id": "colonial-mouth",
   "metadata": {},
   "outputs": [],
   "source": [
    "%gui fui"
   ]
  },
  {
   "cell_type": "code",
   "execution_count": null,
   "id": "adolescent-bumper",
   "metadata": {},
   "outputs": [],
   "source": [
    "#%autoawait trio\n",
    "%autoawait asyncio\n",
    "%gui asyncio"
   ]
  },
  {
   "cell_type": "code",
   "execution_count": null,
   "id": "round-independence",
   "metadata": {},
   "outputs": [],
   "source": [
    "import asyncio"
   ]
  },
  {
   "cell_type": "code",
   "execution_count": null,
   "id": "invisible-think",
   "metadata": {},
   "outputs": [],
   "source": [
    "from trioscheduler import TrioScheduler\n",
    "from rx.scheduler.eventloop import AsyncIOThreadSafeScheduler\n",
    "from rx.scheduler import TimeoutScheduler"
   ]
  },
  {
   "cell_type": "code",
   "execution_count": null,
   "id": "tropical-terminal",
   "metadata": {},
   "outputs": [],
   "source": [
    "#shed = rx.scheduler.TrampolineScheduler()\n",
    "#shed = TrioScheduler()\n",
    "loop = asyncio.get_event_loop()\n",
    "async_shed = AsyncIOThreadSafeScheduler(loop)\n",
    "timeout_shed = TimeoutScheduler()\n",
    "shed = async_shed\n",
    "loop, shed"
   ]
  },
  {
   "cell_type": "code",
   "execution_count": null,
   "id": "dutch-humanity",
   "metadata": {},
   "outputs": [],
   "source": [
    "def lowercase():\n",
    "    def _lowercase(source):\n",
    "        def subscribe(observer, scheduler = None):\n",
    "            def on_next(value):\n",
    "                observer.on_next(value.lower())\n",
    "\n",
    "            return source.subscribe(\n",
    "                on_next,\n",
    "                observer.on_error,\n",
    "                observer.on_completed,\n",
    "                scheduler)\n",
    "        return rx.create(subscribe)\n",
    "    return _lowercase\n",
    "\n",
    "rx.of(\"Alpha\", \"Beta\", \"Gamma\", \"Delta\", \"Epsilon\").pipe(\n",
    "        op.observe_on(shed),\n",
    "        lowercase(),\n",
    "        op.delay(1)\n",
    "     ).subscribe(lambda value: print(\"Received {0}\".format(value)), scheduler=shed)"
   ]
  },
  {
   "cell_type": "markdown",
   "id": "raising-contractor",
   "metadata": {},
   "source": [
    "### Result: Wrong\n",
    "* only works once under the asyncio scheduler, second time wedges the kernel\n",
    "* using `%autoawait asyncio` instead of `%autoawait trio` gives same failure\n",
    "* using `%gui asyncio` same hang on 2nd run"
   ]
  },
  {
   "cell_type": "code",
   "execution_count": null,
   "id": "younger-rapid",
   "metadata": {},
   "outputs": [],
   "source": [
    "###!jupyter nbconvert --to script rx-trio.ipynb"
   ]
  },
  {
   "cell_type": "code",
   "execution_count": null,
   "id": "identified-kennedy",
   "metadata": {},
   "outputs": [],
   "source": []
  }
 ],
 "metadata": {
  "kernelspec": {
   "display_name": "Python 3",
   "language": "python",
   "name": "python3"
  },
  "language_info": {
   "codemirror_mode": {
    "name": "ipython",
    "version": 3
   },
   "file_extension": ".py",
   "mimetype": "text/x-python",
   "name": "python",
   "nbconvert_exporter": "python",
   "pygments_lexer": "ipython3",
   "version": "3.8.6"
  }
 },
 "nbformat": 4,
 "nbformat_minor": 5
}
