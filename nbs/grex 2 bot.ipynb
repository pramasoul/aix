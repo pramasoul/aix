{
 "cells": [
  {
   "cell_type": "markdown",
   "id": "acute-people",
   "metadata": {},
   "source": [
    "# Graph Experiment 2 bot"
   ]
  },
  {
   "cell_type": "code",
   "execution_count": null,
   "id": "relevant-inflation",
   "metadata": {},
   "outputs": [],
   "source": [
    "%load_ext autoreload\n",
    "%autoreload 2"
   ]
  },
  {
   "cell_type": "code",
   "execution_count": null,
   "id": "absent-bible",
   "metadata": {},
   "outputs": [],
   "source": [
    "import numpy as np\n",
    "from nnbench import NetMaker, NNMEG\n",
    "import time\n",
    "import tools.neotools as nj"
   ]
  },
  {
   "cell_type": "code",
   "execution_count": null,
   "id": "respected-vocabulary",
   "metadata": {},
   "outputs": [],
   "source": [
    "import neo4j\n",
    "from collections import defaultdict"
   ]
  },
  {
   "cell_type": "markdown",
   "id": "skilled-bleeding",
   "metadata": {},
   "source": [
    "## Connecting"
   ]
  },
  {
   "cell_type": "code",
   "execution_count": null,
   "id": "median-hanging",
   "metadata": {},
   "outputs": [],
   "source": [
    "driver = neo4j.GraphDatabase.driver(\"neo4j://neo4j:7687\", auth=(\"neo4j\", \"test\"))\n",
    "driver.verify_connectivity()"
   ]
  },
  {
   "cell_type": "markdown",
   "id": "sapphire-garbage",
   "metadata": {},
   "source": [
    "# The graph database"
   ]
  },
  {
   "cell_type": "code",
   "execution_count": null,
   "id": "modular-active",
   "metadata": {},
   "outputs": [],
   "source": [
    "from IPython.display import SVG, display\n",
    "display(SVG('ml graphdb structure r2.svg'))"
   ]
  },
  {
   "cell_type": "markdown",
   "id": "indirect-frank",
   "metadata": {},
   "source": [
    "# The experiment is set up in the graph\n",
    "e.g. by [grex 2 prepare](grex%202%20prepare.ipynb)"
   ]
  },
  {
   "cell_type": "markdown",
   "id": "employed-burton",
   "metadata": {},
   "source": [
    "## Methods to acquire work"
   ]
  },
  {
   "cell_type": "code",
   "execution_count": null,
   "id": "younger-jason",
   "metadata": {},
   "outputs": [],
   "source": [
    "def get_experiment_key_from_name(driver, **kwargs):\n",
    "    q=\"\"\"\n",
    "MATCH (e:Experiment {name: $name})\n",
    "RETURN e.unikey as unikey\n",
    "\"\"\"\n",
    "    records = nj.query_read_return_list(driver, q, **kwargs)\n",
    "    assert len(records) == 1\n",
    "    return records[0]['unikey']"
   ]
  },
  {
   "cell_type": "code",
   "execution_count": null,
   "id": "nominated-secretariat",
   "metadata": {},
   "outputs": [],
   "source": [
    "def get_procedure_names_keys_from_experiment_key(driver, **kwargs):\n",
    "    q = \"\"\"\n",
    "MATCH (:Experiment {unikey: $key})\n",
    "-[:includes]->\n",
    "(proc:Procedure)\n",
    "RETURN proc.name as name, proc.unikey as key\n",
    "\"\"\"\n",
    "    return [(r['name'], r['key']) for r in nj.query_read_yield(driver, q, **kwargs)]"
   ]
  },
  {
   "cell_type": "code",
   "execution_count": null,
   "id": "marine-watson",
   "metadata": {},
   "outputs": [],
   "source": [
    "def get_unstarted_parameters_of_procedure(driver, **kwargs):\n",
    "    q=\"\"\"\n",
    "MATCH (:Procedure {unikey: $procedure_unikey})\n",
    "-[:incorporates]->\n",
    "(par:Parameters)\n",
    "WHERE NOT (par)-[:configures]->(:net)\n",
    "RETURN par.unikey as unikey\n",
    "\"\"\"\n",
    "    return [r['unikey'] for r in nj.query_read_yield(driver, q, **kwargs)]"
   ]
  },
  {
   "cell_type": "code",
   "execution_count": null,
   "id": "approximate-death",
   "metadata": {},
   "outputs": [],
   "source": [
    "def get_code_strings_of_experiment_procedure_parameters(driver, **kwargs):\n",
    "    q = \"\"\"\n",
    "MATCH (e:Experiment {unikey: $experiment_unikey})\n",
    "-[:includes]->\n",
    "(proc:Procedure {unikey: $procedure_unikey})\n",
    "-[:incorporates]->\n",
    "(par:Parameters {unikey: $parameters_unikey})\n",
    "RETURN proc.code_strings, par.code_strings\n",
    "\"\"\"\n",
    "    records = nj.query_read_return_list(driver, q, **kwargs)\n",
    "    assert len(records) == 1\n",
    "    r = records[0]\n",
    "    #print(f\"r['proc.code_strings'] = {r['proc.code_strings']}\")\n",
    "    #print(f\"r['par.code_strings'] = {r['par.code_strings']}\")\n",
    "    return r['proc.code_strings'] + r['par.code_strings']"
   ]
  },
  {
   "cell_type": "markdown",
   "id": "dress-lottery",
   "metadata": {},
   "source": [
    "## Find work and do it"
   ]
  },
  {
   "cell_type": "code",
   "execution_count": null,
   "id": "thorough-twenty",
   "metadata": {},
   "outputs": [],
   "source": [
    "def get_code_strings_from_db(driver, experiment_name, procedure_name):\n",
    "    experiment_unikey = get_experiment_key_from_name(driver, name=experiment_name)\n",
    "    #print(experiment_unikey)\n",
    "    procedures = dict(get_procedure_names_keys_from_experiment_key(driver, key=experiment_unikey))\n",
    "    procedure_unikey = procedures[procedure_name]\n",
    "    #print(procedure_unikey)\n",
    "    unstarted_parameters = get_unstarted_parameters_of_procedure(driver, procedure_unikey=procedure_unikey)\n",
    "    parameters_unikey = unstarted_parameters[0]\n",
    "    #print(parameters_unikey)\n",
    "    code_strings_from_db = get_code_strings_of_experiment_procedure_parameters(driver,\n",
    "        experiment_unikey=experiment_unikey,\n",
    "        procedure_unikey=procedure_unikey,\n",
    "        parameters_unikey=parameters_unikey)\n",
    "    return code_strings_from_db"
   ]
  },
  {
   "cell_type": "code",
   "execution_count": null,
   "id": "studied-bathroom",
   "metadata": {},
   "outputs": [],
   "source": [
    "def now_run_it(driver, code_strings):\n",
    "    cx = {}\n",
    "    for s in code_strings:\n",
    "        exec(s, cx)\n",
    "    nps = nj.NumpyStore(driver)\n",
    "    cx['run_it'](cx, driver, nps)"
   ]
  },
  {
   "cell_type": "code",
   "execution_count": null,
   "id": "stopped-mining",
   "metadata": {},
   "outputs": [],
   "source": [
    "code_strings = get_code_strings_from_db(driver, 't2', 'Train ADCs')"
   ]
  },
  {
   "cell_type": "code",
   "execution_count": null,
   "id": "round-capital",
   "metadata": {},
   "outputs": [],
   "source": [
    "now_run_it(driver, code_strings)"
   ]
  },
  {
   "cell_type": "code",
   "execution_count": null,
   "id": "distinct-walnut",
   "metadata": {},
   "outputs": [],
   "source": []
  },
  {
   "cell_type": "markdown",
   "id": "concerned-shareware",
   "metadata": {},
   "source": [
    "___"
   ]
  },
  {
   "cell_type": "markdown",
   "id": "grave-salmon",
   "metadata": {},
   "source": [
    "# Stop"
   ]
  },
  {
   "cell_type": "code",
   "execution_count": null,
   "id": "friendly-neighborhood",
   "metadata": {},
   "outputs": [],
   "source": [
    "assert False, \"stop here\""
   ]
  }
 ],
 "metadata": {
  "kernelspec": {
   "display_name": "Python 3",
   "language": "python",
   "name": "python3"
  },
  "language_info": {
   "codemirror_mode": {
    "name": "ipython",
    "version": 3
   },
   "file_extension": ".py",
   "mimetype": "text/x-python",
   "name": "python",
   "nbconvert_exporter": "python",
   "pygments_lexer": "ipython3",
   "version": "3.8.6"
  }
 },
 "nbformat": 4,
 "nbformat_minor": 5
}
