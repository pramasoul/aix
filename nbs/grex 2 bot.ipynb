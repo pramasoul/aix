{
 "cells": [
  {
   "cell_type": "markdown",
   "id": "romantic-joyce",
   "metadata": {},
   "source": [
    "# Graph Experiment 2 bot"
   ]
  },
  {
   "cell_type": "code",
   "execution_count": 1,
   "id": "informative-speed",
   "metadata": {},
   "outputs": [],
   "source": [
    "%load_ext autoreload\n",
    "%autoreload 2"
   ]
  },
  {
   "cell_type": "markdown",
   "id": "under-trainer",
   "metadata": {},
   "source": [
    "## Capture code as strings\n",
    "We collect code from chosen cells as strings, and place them in nodes in the graph. The code is intended to be sufficient to reproduce the results."
   ]
  },
  {
   "cell_type": "code",
   "execution_count": 2,
   "id": "speaking-capability",
   "metadata": {},
   "outputs": [],
   "source": [
    "code_strings = []"
   ]
  },
  {
   "cell_type": "code",
   "execution_count": 3,
   "id": "wooden-syracuse",
   "metadata": {},
   "outputs": [],
   "source": [
    "import numpy as np\n",
    "from nnbench import NetMaker, NNMEG\n",
    "import time\n",
    "import tools.neotools as nj"
   ]
  },
  {
   "cell_type": "code",
   "execution_count": 4,
   "id": "freelance-modern",
   "metadata": {},
   "outputs": [],
   "source": [
    "code_strings.append(In[-2]) # Grab the cell above"
   ]
  },
  {
   "cell_type": "code",
   "execution_count": 5,
   "id": "fatal-intranet",
   "metadata": {},
   "outputs": [],
   "source": [
    "import neo4j"
   ]
  },
  {
   "cell_type": "markdown",
   "id": "pleased-hartford",
   "metadata": {},
   "source": [
    "## Connecting"
   ]
  },
  {
   "cell_type": "markdown",
   "id": "ignored-count",
   "metadata": {},
   "source": [
    "Need to get the `gpu-jupyter` and the `neo4j` docker containers connected. If run bare, something like:\n",
    "\n",
    "    docker network connect gpu-jupyter_default gpu-jupyter \n",
    "    docker network connect gpu-jupyter_default neo4j\n",
    "    docker network inspect gpu-jupyter_default \n",
    "    \n",
    "Docker has better ways than this."
   ]
  },
  {
   "cell_type": "code",
   "execution_count": 6,
   "id": "needed-accordance",
   "metadata": {},
   "outputs": [],
   "source": [
    "driver = neo4j.GraphDatabase.driver(\"neo4j://172.19.0.2:7687\", auth=(\"neo4j\", \"test\"))"
   ]
  },
  {
   "cell_type": "code",
   "execution_count": 7,
   "id": "educational-covering",
   "metadata": {},
   "outputs": [
    {
     "name": "stderr",
     "output_type": "stream",
     "text": [
      "<ipython-input-7-b734c674563a>:1: ExperimentalWarning: The configuration may change in the future.\n",
      "  driver.verify_connectivity()\n"
     ]
    },
    {
     "data": {
      "text/plain": [
       "{IPv4Address(('172.19.0.2', 7687)): [{'ttl': 300,\n",
       "   'servers': [{'addresses': ['172.19.0.2:7687'], 'role': 'WRITE'},\n",
       "    {'addresses': ['172.19.0.2:7687'], 'role': 'READ'},\n",
       "    {'addresses': ['172.19.0.2:7687'], 'role': 'ROUTE'}]}]}"
      ]
     },
     "execution_count": 7,
     "metadata": {},
     "output_type": "execute_result"
    }
   ],
   "source": [
    "driver.verify_connectivity()"
   ]
  },
  {
   "cell_type": "markdown",
   "id": "major-permission",
   "metadata": {},
   "source": [
    "# The graph database"
   ]
  },
  {
   "cell_type": "code",
   "execution_count": 8,
   "id": "other-spain",
   "metadata": {},
   "outputs": [
    {
     "data": {
      "image/svg+xml": [
       "<svg xmlns=\"http://www.w3.org/2000/svg\" xmlns:xlink=\"http://www.w3.org/1999/xlink\" version=\"1.1\" width=\"291px\" height=\"491px\" viewBox=\"-0.5 -0.5 291 491\" content=\"&lt;mxfile host=&quot;app.diagrams.net&quot; modified=&quot;2021-03-10T23:52:35.638Z&quot; agent=&quot;5.0 (Macintosh; Intel Mac OS X 11_2_2) AppleWebKit/537.36 (KHTML, like Gecko) Chrome/88.0.4324.192 Safari/537.36&quot; etag=&quot;iPpZ0RS11-dJcCO_Dr6y&quot; version=&quot;14.4.6&quot; type=&quot;browser&quot;&gt;&lt;diagram id=&quot;3l-dQbXBslvPWgFDMlL6&quot; name=&quot;Page-1&quot;&gt;7Vxbk5owFP41Pu4O5ILLY+tu25dOt7MPvbxRSZUZFCfiiv31jUuCJPESEUi0fXE8Bwzw5TuHL4eDAziaFR9ptJh+zmKSDoAXFwP4OADgIcTsc+vYlA6Mh6VjQpO4dPk7x0vyh3Cnx72rJCZLacc8y9I8WcjOcTafk3Eu+SJKs7W82+8slY+6iCZEc7yMo1T3fkvifMovC3s7/yeSTKbiyL7Ht8wisTN3LKdRnK1rLvg0gCOaZXn5bVaMSLrFTuBS/u7Dga3ViVEyz01+EHz5NPqyHP2chcOXSfEVp8Cf3vHZeY3SFb/gp2JBaDLbDlqedr4RWLDxGOzMeL+eJjl5WUTj7ZY1m3jmm+azlFk++6qfGj/bV0JzUtRc/FQ/kmxGcrphu/CtcMhhE7zh5ro2Cdw1reGPuC/i0z6pBt4hw75wcM4A6kEDak4uQChaLkq2/k4KErcDGcYyZCDQMYN7MINdYeb7GmjPNBuTeEWJXXL5MlI+sMwuH2hIsQuMZkurMGGIZUJ5OkxBr4RCjhIKKaHnQ9uE0hO7A4RCnpKh9sRdv4TS07oO0Dx+txUSzBqn0XKZjGVcGBx0850Z3j0W5o+tKYzHQrI23DqI5zJb0TExCIM8ohOSG7CAxJLI0eenhj/eg7/wUZJGefIqS6N9k8KP8JwlWxlRpd1QmX6V/uWV81/VpYwyEEJKuIXKQCUy2kBvHKkuuzltgH5j02gzodlqYR4zlYKNfokRvP1zdeBuD/eknH7v9qEGStcS6fjknE5LtqASaa8GVUoiOmeXeXb2KZK8lnyY9aO2ZZd6tobIPO1lrKMTcDKPPZimsdCpNHbnB3Lo3anpxzSPMYWsjOSrKbHrTBY4qRMUgKvFoC2dAIYt6AQRqcZxeoFCCA1DS8y/I6GlKgQYtKQQqhVfX3Gl3wz7VwhKCQX5lhWCwKABKMdBbg6VNSigBoUdsQQOQOgQVPqi/5bEUth6SodOpXS2xlY1jtdYLkF1KNxvWhfHt5nW0VCuylW3OlsBCpuvho+DfH1pHep3OCtpHbq/BoZ6WrceSti2QoJ62fayUEIXQ2UNCn1laieU8AEIHYJKF5PXqZBMl7di1XpSC4l87IgWgsrzD9i0AA7VR709F8ChXg+5bcYJIp1mnFsFFRAqYlGtgxgzDskDaZWZrhnXxpO6q6Cab0q1B6eYdjOlO2hQursRppk+R/5fJe6GauLwbVDNb0I0EAzPodqb9fzWHpgT2h//REp0hX/KsrFq7Tmbf0AZSF0idM0/g8qNeaobBrDGQe8+BPg4D5nRHpmwKZeQW1y6mVwGWuRSk1wWAOm2eefde7jffGZMQf8/BTuhoF4H0SjYdUlR63ETtq3iEGpeZz0O8vWVFJFeXbVSUqymxN2SItKrr9ZDCdp+nwEZdAGdFUrBxVBZg6L/92GOT4nDodRqPUGR2J1UFNoV5r6pLEJudasjT1mcqb0GprIIBPJAffd4ivP+Z4r1yJhxbpVQgdINDJoKcaD0z4KehTh24P0IVT0g2+9HYIMF8jnqAV8OlTUoHOl+rKbEXfWAHWiTUUMJ73kPtF9QWm6TwYcWZFcQSo60yWD322Twv9a0gExfsMJutQyryhs2fb9KVd7ag5qudZC+Sr5txgkinWacW0+UVeWNmraoq8obttagzszdf8WUu+/+cAc+/QU=&lt;/diagram&gt;&lt;/mxfile&gt;\" style=\"background-color: rgb(255, 255, 255);\"><defs/><g><ellipse cx=\"100\" cy=\"20\" rx=\"40\" ry=\"20\" fill=\"#ffffff\" stroke=\"#000000\" pointer-events=\"all\"/><g transform=\"translate(-0.5 -0.5)\"><switch><foreignObject style=\"overflow: visible; text-align: left;\" pointer-events=\"none\" width=\"100%\" height=\"100%\" requiredFeatures=\"http://www.w3.org/TR/SVG11/feature#Extensibility\"><div xmlns=\"http://www.w3.org/1999/xhtml\" style=\"display: flex; align-items: unsafe center; justify-content: unsafe center; width: 78px; height: 1px; padding-top: 20px; margin-left: 61px;\"><div style=\"box-sizing: border-box; font-size: 0; text-align: center; \"><div style=\"display: inline-block; font-size: 12px; font-family: Helvetica; color: #000000; line-height: 1.2; pointer-events: all; white-space: normal; word-wrap: normal; \">Experiment</div></div></div></foreignObject><text x=\"100\" y=\"24\" fill=\"#000000\" font-family=\"Helvetica\" font-size=\"12px\" text-anchor=\"middle\">Experiment</text></switch></g><ellipse cx=\"255\" cy=\"225\" rx=\"15\" ry=\"15\" fill=\"#ffffff\" stroke=\"#000000\" pointer-events=\"all\"/><g transform=\"translate(-0.5 -0.5)\"><switch><foreignObject style=\"overflow: visible; text-align: left;\" pointer-events=\"none\" width=\"100%\" height=\"100%\" requiredFeatures=\"http://www.w3.org/TR/SVG11/feature#Extensibility\"><div xmlns=\"http://www.w3.org/1999/xhtml\" style=\"display: flex; align-items: unsafe center; justify-content: unsafe center; width: 28px; height: 1px; padding-top: 225px; margin-left: 241px;\"><div style=\"box-sizing: border-box; font-size: 0; text-align: center; \"><div style=\"display: inline-block; font-size: 12px; font-family: Helvetica; color: #000000; line-height: 1.2; pointer-events: all; white-space: normal; word-wrap: normal; \">net</div></div></div></foreignObject><text x=\"255\" y=\"229\" fill=\"#000000\" font-family=\"Helvetica\" font-size=\"12px\" text-anchor=\"middle\">net</text></switch></g><ellipse cx=\"40\" cy=\"90\" rx=\"40\" ry=\"20\" fill=\"#ffffff\" stroke=\"#000000\" pointer-events=\"all\"/><g transform=\"translate(-0.5 -0.5)\"><switch><foreignObject style=\"overflow: visible; text-align: left;\" pointer-events=\"none\" width=\"100%\" height=\"100%\" requiredFeatures=\"http://www.w3.org/TR/SVG11/feature#Extensibility\"><div xmlns=\"http://www.w3.org/1999/xhtml\" style=\"display: flex; align-items: unsafe center; justify-content: unsafe center; width: 78px; height: 1px; padding-top: 90px; margin-left: 1px;\"><div style=\"box-sizing: border-box; font-size: 0; text-align: center; \"><div style=\"display: inline-block; font-size: 12px; font-family: Helvetica; color: #000000; line-height: 1.2; pointer-events: all; white-space: normal; word-wrap: normal; \">Procedure</div></div></div></foreignObject><text x=\"40\" y=\"94\" fill=\"#000000\" font-family=\"Helvetica\" font-size=\"12px\" text-anchor=\"middle\">Procedure</text></switch></g><ellipse cx=\"255\" cy=\"165\" rx=\"30\" ry=\"15\" fill=\"#ffffff\" stroke=\"#000000\" pointer-events=\"all\"/><g transform=\"translate(-0.5 -0.5)\"><switch><foreignObject style=\"overflow: visible; text-align: left;\" pointer-events=\"none\" width=\"100%\" height=\"100%\" requiredFeatures=\"http://www.w3.org/TR/SVG11/feature#Extensibility\"><div xmlns=\"http://www.w3.org/1999/xhtml\" style=\"display: flex; align-items: unsafe center; justify-content: unsafe center; width: 58px; height: 1px; padding-top: 165px; margin-left: 226px;\"><div style=\"box-sizing: border-box; font-size: 0; text-align: center; \"><div style=\"display: inline-block; font-size: 12px; font-family: Helvetica; color: #000000; line-height: 1.2; pointer-events: all; white-space: normal; word-wrap: normal; \">params</div></div></div></foreignObject><text x=\"255\" y=\"169\" fill=\"#000000\" font-family=\"Helvetica\" font-size=\"12px\" text-anchor=\"middle\">params</text></switch></g><ellipse cx=\"180\" cy=\"100\" rx=\"40\" ry=\"20\" fill=\"#ffffff\" stroke=\"#000000\" pointer-events=\"all\"/><g transform=\"translate(-0.5 -0.5)\"><switch><foreignObject style=\"overflow: visible; text-align: left;\" pointer-events=\"none\" width=\"100%\" height=\"100%\" requiredFeatures=\"http://www.w3.org/TR/SVG11/feature#Extensibility\"><div xmlns=\"http://www.w3.org/1999/xhtml\" style=\"display: flex; align-items: unsafe center; justify-content: unsafe center; width: 78px; height: 1px; padding-top: 100px; margin-left: 141px;\"><div style=\"box-sizing: border-box; font-size: 0; text-align: center; \"><div style=\"display: inline-block; font-size: 12px; font-family: Helvetica; color: #000000; line-height: 1.2; pointer-events: all; white-space: normal; word-wrap: normal; \">Procedure</div></div></div></foreignObject><text x=\"180\" y=\"104\" fill=\"#000000\" font-family=\"Helvetica\" font-size=\"12px\" text-anchor=\"middle\">Procedure</text></switch></g><ellipse cx=\"120\" cy=\"185\" rx=\"30\" ry=\"15\" fill=\"#ffffff\" stroke=\"#000000\" pointer-events=\"all\"/><g transform=\"translate(-0.5 -0.5)\"><switch><foreignObject style=\"overflow: visible; text-align: left;\" pointer-events=\"none\" width=\"100%\" height=\"100%\" requiredFeatures=\"http://www.w3.org/TR/SVG11/feature#Extensibility\"><div xmlns=\"http://www.w3.org/1999/xhtml\" style=\"display: flex; align-items: unsafe center; justify-content: unsafe center; width: 58px; height: 1px; padding-top: 185px; margin-left: 91px;\"><div style=\"box-sizing: border-box; font-size: 0; text-align: center; \"><div style=\"display: inline-block; font-size: 12px; font-family: Helvetica; color: #000000; line-height: 1.2; pointer-events: all; white-space: normal; word-wrap: normal; \">params</div></div></div></foreignObject><text x=\"120\" y=\"189\" fill=\"#000000\" font-family=\"Helvetica\" font-size=\"12px\" text-anchor=\"middle\">params</text></switch></g><path d=\"M 164.24 118.38 L 124.14 165.17\" fill=\"none\" stroke=\"#000000\" stroke-miterlimit=\"10\" pointer-events=\"stroke\"/><path d=\"M 120.73 169.15 L 122.63 161.56 L 124.14 165.17 L 127.94 166.11 Z\" fill=\"#000000\" stroke=\"#000000\" stroke-miterlimit=\"10\" pointer-events=\"all\"/><ellipse cx=\"255\" cy=\"295\" rx=\"15\" ry=\"15\" fill=\"#ffffff\" stroke=\"#000000\" pointer-events=\"all\"/><g transform=\"translate(-0.5 -0.5)\"><switch><foreignObject style=\"overflow: visible; text-align: left;\" pointer-events=\"none\" width=\"100%\" height=\"100%\" requiredFeatures=\"http://www.w3.org/TR/SVG11/feature#Extensibility\"><div xmlns=\"http://www.w3.org/1999/xhtml\" style=\"display: flex; align-items: unsafe center; justify-content: unsafe center; width: 28px; height: 1px; padding-top: 295px; margin-left: 241px;\"><div style=\"box-sizing: border-box; font-size: 0; text-align: center; \"><div style=\"display: inline-block; font-size: 12px; font-family: Helvetica; color: #000000; line-height: 1.2; pointer-events: all; white-space: normal; word-wrap: normal; \">net</div></div></div></foreignObject><text x=\"255\" y=\"299\" fill=\"#000000\" font-family=\"Helvetica\" font-size=\"12px\" text-anchor=\"middle\">net</text></switch></g><path d=\"M 255 240 L 255 273.63\" fill=\"none\" stroke=\"#000000\" stroke-miterlimit=\"10\" pointer-events=\"stroke\"/><path d=\"M 255 278.88 L 251.5 271.88 L 255 273.63 L 258.5 271.88 Z\" fill=\"#000000\" stroke=\"#000000\" stroke-miterlimit=\"10\" pointer-events=\"all\"/><g transform=\"translate(-0.5 -0.5)\"><switch><foreignObject style=\"overflow: visible; text-align: left;\" pointer-events=\"none\" width=\"100%\" height=\"100%\" requiredFeatures=\"http://www.w3.org/TR/SVG11/feature#Extensibility\"><div xmlns=\"http://www.w3.org/1999/xhtml\" style=\"display: flex; align-items: unsafe center; justify-content: unsafe center; width: 1px; height: 1px; padding-top: 260px; margin-left: 255px;\"><div style=\"box-sizing: border-box; font-size: 0; text-align: center; \"><div style=\"display: inline-block; font-size: 11px; font-family: Helvetica; color: #000000; line-height: 1.2; pointer-events: all; background-color: #ffffff; white-space: nowrap; \">learned</div></div></div></foreignObject><text x=\"255\" y=\"263\" fill=\"#000000\" font-family=\"Helvetica\" font-size=\"11px\" text-anchor=\"middle\">learned</text></switch></g><ellipse cx=\"180\" cy=\"335\" rx=\"30\" ry=\"15\" fill=\"#ffffff\" stroke=\"#000000\" pointer-events=\"all\"/><g transform=\"translate(-0.5 -0.5)\"><switch><foreignObject style=\"overflow: visible; text-align: left;\" pointer-events=\"none\" width=\"100%\" height=\"100%\" requiredFeatures=\"http://www.w3.org/TR/SVG11/feature#Extensibility\"><div xmlns=\"http://www.w3.org/1999/xhtml\" style=\"display: flex; align-items: unsafe center; justify-content: unsafe center; width: 58px; height: 1px; padding-top: 335px; margin-left: 151px;\"><div style=\"box-sizing: border-box; font-size: 0; text-align: center; \"><div style=\"display: inline-block; font-size: 12px; font-family: Helvetica; color: #000000; line-height: 1.2; pointer-events: all; white-space: normal; word-wrap: normal; \">params</div></div></div></foreignObject><text x=\"180\" y=\"339\" fill=\"#000000\" font-family=\"Helvetica\" font-size=\"12px\" text-anchor=\"middle\">params</text></switch></g><path d=\"M 244.39 305.61 L 208.02 322.27\" fill=\"none\" stroke=\"#000000\" stroke-miterlimit=\"10\" pointer-events=\"stroke\"/><path d=\"M 203.25 324.46 L 208.15 318.36 L 208.02 322.27 L 211.07 324.73 Z\" fill=\"#000000\" stroke=\"#000000\" stroke-miterlimit=\"10\" pointer-events=\"all\"/><ellipse cx=\"275\" cy=\"375\" rx=\"15\" ry=\"15\" fill=\"#ffffff\" stroke=\"#000000\" pointer-events=\"all\"/><g transform=\"translate(-0.5 -0.5)\"><switch><foreignObject style=\"overflow: visible; text-align: left;\" pointer-events=\"none\" width=\"100%\" height=\"100%\" requiredFeatures=\"http://www.w3.org/TR/SVG11/feature#Extensibility\"><div xmlns=\"http://www.w3.org/1999/xhtml\" style=\"display: flex; align-items: unsafe center; justify-content: unsafe center; width: 28px; height: 1px; padding-top: 375px; margin-left: 261px;\"><div style=\"box-sizing: border-box; font-size: 0; text-align: center; \"><div style=\"display: inline-block; font-size: 12px; font-family: Helvetica; color: #000000; line-height: 1.2; pointer-events: all; white-space: normal; word-wrap: normal; \">net</div></div></div></foreignObject><text x=\"275\" y=\"379\" fill=\"#000000\" font-family=\"Helvetica\" font-size=\"12px\" text-anchor=\"middle\">net</text></switch></g><path d=\"M 255 310 L 272.63 354.09\" fill=\"none\" stroke=\"#000000\" stroke-miterlimit=\"10\" pointer-events=\"stroke\"/><path d=\"M 274.58 358.96 L 268.74 353.76 L 272.63 354.09 L 275.23 351.16 Z\" fill=\"#000000\" stroke=\"#000000\" stroke-miterlimit=\"10\" pointer-events=\"all\"/><g transform=\"translate(-0.5 -0.5)\"><switch><foreignObject style=\"overflow: visible; text-align: left;\" pointer-events=\"none\" width=\"100%\" height=\"100%\" requiredFeatures=\"http://www.w3.org/TR/SVG11/feature#Extensibility\"><div xmlns=\"http://www.w3.org/1999/xhtml\" style=\"display: flex; align-items: unsafe center; justify-content: unsafe center; width: 1px; height: 1px; padding-top: 335px; margin-left: 265px;\"><div style=\"box-sizing: border-box; font-size: 0; text-align: center; \"><div style=\"display: inline-block; font-size: 11px; font-family: Helvetica; color: #000000; line-height: 1.2; pointer-events: all; background-color: #ffffff; white-space: nowrap; \">learned</div></div></div></foreignObject><text x=\"265\" y=\"338\" fill=\"#000000\" font-family=\"Helvetica\" font-size=\"11px\" text-anchor=\"middle\">learned</text></switch></g><ellipse cx=\"180\" cy=\"405\" rx=\"15\" ry=\"15\" fill=\"#ffffff\" stroke=\"#000000\" pointer-events=\"all\"/><g transform=\"translate(-0.5 -0.5)\"><switch><foreignObject style=\"overflow: visible; text-align: left;\" pointer-events=\"none\" width=\"100%\" height=\"100%\" requiredFeatures=\"http://www.w3.org/TR/SVG11/feature#Extensibility\"><div xmlns=\"http://www.w3.org/1999/xhtml\" style=\"display: flex; align-items: unsafe center; justify-content: unsafe center; width: 28px; height: 1px; padding-top: 405px; margin-left: 166px;\"><div style=\"box-sizing: border-box; font-size: 0; text-align: center; \"><div style=\"display: inline-block; font-size: 12px; font-family: Helvetica; color: #000000; line-height: 1.2; pointer-events: all; white-space: normal; word-wrap: normal; \">net</div></div></div></foreignObject><text x=\"180\" y=\"409\" fill=\"#000000\" font-family=\"Helvetica\" font-size=\"12px\" text-anchor=\"middle\">net</text></switch></g><ellipse cx=\"180\" cy=\"475\" rx=\"15\" ry=\"15\" fill=\"#ffffff\" stroke=\"#000000\" pointer-events=\"all\"/><g transform=\"translate(-0.5 -0.5)\"><switch><foreignObject style=\"overflow: visible; text-align: left;\" pointer-events=\"none\" width=\"100%\" height=\"100%\" requiredFeatures=\"http://www.w3.org/TR/SVG11/feature#Extensibility\"><div xmlns=\"http://www.w3.org/1999/xhtml\" style=\"display: flex; align-items: unsafe center; justify-content: unsafe center; width: 28px; height: 1px; padding-top: 475px; margin-left: 166px;\"><div style=\"box-sizing: border-box; font-size: 0; text-align: center; \"><div style=\"display: inline-block; font-size: 12px; font-family: Helvetica; color: #000000; line-height: 1.2; pointer-events: all; white-space: normal; word-wrap: normal; \">net</div></div></div></foreignObject><text x=\"180\" y=\"479\" fill=\"#000000\" font-family=\"Helvetica\" font-size=\"12px\" text-anchor=\"middle\">net</text></switch></g><path d=\"M 180 350 L 180 383.63\" fill=\"none\" stroke=\"#000000\" stroke-miterlimit=\"10\" pointer-events=\"stroke\"/><path d=\"M 180 388.88 L 176.5 381.88 L 180 383.63 L 183.5 381.88 Z\" fill=\"#000000\" stroke=\"#000000\" stroke-miterlimit=\"10\" pointer-events=\"all\"/><g transform=\"translate(-0.5 -0.5)\"><switch><foreignObject style=\"overflow: visible; text-align: left;\" pointer-events=\"none\" width=\"100%\" height=\"100%\" requiredFeatures=\"http://www.w3.org/TR/SVG11/feature#Extensibility\"><div xmlns=\"http://www.w3.org/1999/xhtml\" style=\"display: flex; align-items: unsafe center; justify-content: unsafe center; width: 1px; height: 1px; padding-top: 370px; margin-left: 180px;\"><div style=\"box-sizing: border-box; font-size: 0; text-align: center; \"><div style=\"display: inline-block; font-size: 11px; font-family: Helvetica; color: #000000; line-height: 1.2; pointer-events: all; background-color: #ffffff; white-space: nowrap; \">learned</div></div></div></foreignObject><text x=\"180\" y=\"373\" fill=\"#000000\" font-family=\"Helvetica\" font-size=\"11px\" text-anchor=\"middle\">learned</text></switch></g><path d=\"M 180 420 L 180 453.63\" fill=\"none\" stroke=\"#000000\" stroke-miterlimit=\"10\" pointer-events=\"stroke\"/><path d=\"M 180 458.88 L 176.5 451.88 L 180 453.63 L 183.5 451.88 Z\" fill=\"#000000\" stroke=\"#000000\" stroke-miterlimit=\"10\" pointer-events=\"all\"/><g transform=\"translate(-0.5 -0.5)\"><switch><foreignObject style=\"overflow: visible; text-align: left;\" pointer-events=\"none\" width=\"100%\" height=\"100%\" requiredFeatures=\"http://www.w3.org/TR/SVG11/feature#Extensibility\"><div xmlns=\"http://www.w3.org/1999/xhtml\" style=\"display: flex; align-items: unsafe center; justify-content: unsafe center; width: 1px; height: 1px; padding-top: 440px; margin-left: 180px;\"><div style=\"box-sizing: border-box; font-size: 0; text-align: center; \"><div style=\"display: inline-block; font-size: 11px; font-family: Helvetica; color: #000000; line-height: 1.2; pointer-events: all; background-color: #ffffff; white-space: nowrap; \">learned</div></div></div></foreignObject><text x=\"180\" y=\"443\" fill=\"#000000\" font-family=\"Helvetica\" font-size=\"11px\" text-anchor=\"middle\">learned</text></switch></g><path d=\"M 255 180 L 255 203.63\" fill=\"none\" stroke=\"#000000\" stroke-miterlimit=\"10\" pointer-events=\"stroke\"/><path d=\"M 255 208.88 L 251.5 201.88 L 255 203.63 L 258.5 201.88 Z\" fill=\"#000000\" stroke=\"#000000\" stroke-miterlimit=\"10\" pointer-events=\"all\"/><path d=\"M 180 120 L 180 313.63\" fill=\"none\" stroke=\"#000000\" stroke-miterlimit=\"10\" pointer-events=\"stroke\"/><path d=\"M 180 318.88 L 176.5 311.88 L 180 313.63 L 183.5 311.88 Z\" fill=\"#000000\" stroke=\"#000000\" stroke-miterlimit=\"10\" pointer-events=\"all\"/><path d=\"M 208.28 114.14 L 236.73 145.3\" fill=\"none\" stroke=\"#000000\" stroke-miterlimit=\"10\" pointer-events=\"stroke\"/><path d=\"M 240.27 149.17 L 232.96 146.36 L 236.73 145.3 L 238.13 141.64 Z\" fill=\"#000000\" stroke=\"#000000\" stroke-miterlimit=\"10\" pointer-events=\"all\"/><path d=\"M 121.04 37 L 158.91 77.2\" fill=\"none\" stroke=\"#000000\" stroke-miterlimit=\"10\" pointer-events=\"stroke\"/><path d=\"M 162.51 81.02 L 155.16 78.32 L 158.91 77.2 L 160.26 73.52 Z\" fill=\"#000000\" stroke=\"#000000\" stroke-miterlimit=\"10\" pointer-events=\"all\"/><path d=\"M 71.72 34.14 L 53.44 62.64\" fill=\"none\" stroke=\"#000000\" stroke-miterlimit=\"10\" pointer-events=\"stroke\"/><path d=\"M 50.6 67.06 L 51.44 59.28 L 53.44 62.64 L 57.33 63.06 Z\" fill=\"#000000\" stroke=\"#000000\" stroke-miterlimit=\"10\" pointer-events=\"all\"/><ellipse cx=\"95\" cy=\"255\" rx=\"15\" ry=\"15\" fill=\"#ffffff\" stroke=\"#000000\" pointer-events=\"all\"/><g transform=\"translate(-0.5 -0.5)\"><switch><foreignObject style=\"overflow: visible; text-align: left;\" pointer-events=\"none\" width=\"100%\" height=\"100%\" requiredFeatures=\"http://www.w3.org/TR/SVG11/feature#Extensibility\"><div xmlns=\"http://www.w3.org/1999/xhtml\" style=\"display: flex; align-items: unsafe center; justify-content: unsafe center; width: 28px; height: 1px; padding-top: 255px; margin-left: 81px;\"><div style=\"box-sizing: border-box; font-size: 0; text-align: center; \"><div style=\"display: inline-block; font-size: 12px; font-family: Helvetica; color: #000000; line-height: 1.2; pointer-events: all; white-space: normal; word-wrap: normal; \">net</div></div></div></foreignObject><text x=\"95\" y=\"259\" fill=\"#000000\" font-family=\"Helvetica\" font-size=\"12px\" text-anchor=\"middle\">net</text></switch></g><ellipse cx=\"95\" cy=\"325\" rx=\"15\" ry=\"15\" fill=\"#ffffff\" stroke=\"#000000\" pointer-events=\"all\"/><g transform=\"translate(-0.5 -0.5)\"><switch><foreignObject style=\"overflow: visible; text-align: left;\" pointer-events=\"none\" width=\"100%\" height=\"100%\" requiredFeatures=\"http://www.w3.org/TR/SVG11/feature#Extensibility\"><div xmlns=\"http://www.w3.org/1999/xhtml\" style=\"display: flex; align-items: unsafe center; justify-content: unsafe center; width: 28px; height: 1px; padding-top: 325px; margin-left: 81px;\"><div style=\"box-sizing: border-box; font-size: 0; text-align: center; \"><div style=\"display: inline-block; font-size: 12px; font-family: Helvetica; color: #000000; line-height: 1.2; pointer-events: all; white-space: normal; word-wrap: normal; \">net</div></div></div></foreignObject><text x=\"95\" y=\"329\" fill=\"#000000\" font-family=\"Helvetica\" font-size=\"12px\" text-anchor=\"middle\">net</text></switch></g><path d=\"M 108 197 L 96.84 233.9\" fill=\"none\" stroke=\"#000000\" stroke-miterlimit=\"10\" pointer-events=\"stroke\"/><path d=\"M 95.32 238.93 L 94 231.22 L 96.84 233.9 L 100.7 233.24 Z\" fill=\"#000000\" stroke=\"#000000\" stroke-miterlimit=\"10\" pointer-events=\"all\"/><path d=\"M 95 270 L 95 303.63\" fill=\"none\" stroke=\"#000000\" stroke-miterlimit=\"10\" pointer-events=\"stroke\"/><path d=\"M 95 308.88 L 91.5 301.88 L 95 303.63 L 98.5 301.88 Z\" fill=\"#000000\" stroke=\"#000000\" stroke-miterlimit=\"10\" pointer-events=\"all\"/><g transform=\"translate(-0.5 -0.5)\"><switch><foreignObject style=\"overflow: visible; text-align: left;\" pointer-events=\"none\" width=\"100%\" height=\"100%\" requiredFeatures=\"http://www.w3.org/TR/SVG11/feature#Extensibility\"><div xmlns=\"http://www.w3.org/1999/xhtml\" style=\"display: flex; align-items: unsafe center; justify-content: unsafe center; width: 1px; height: 1px; padding-top: 290px; margin-left: 95px;\"><div style=\"box-sizing: border-box; font-size: 0; text-align: center; \"><div style=\"display: inline-block; font-size: 11px; font-family: Helvetica; color: #000000; line-height: 1.2; pointer-events: all; background-color: #ffffff; white-space: nowrap; \">learned</div></div></div></foreignObject><text x=\"95\" y=\"293\" fill=\"#000000\" font-family=\"Helvetica\" font-size=\"11px\" text-anchor=\"middle\">learned</text></switch></g><ellipse cx=\"95\" cy=\"395\" rx=\"15\" ry=\"15\" fill=\"#ffffff\" stroke=\"#000000\" pointer-events=\"all\"/><g transform=\"translate(-0.5 -0.5)\"><switch><foreignObject style=\"overflow: visible; text-align: left;\" pointer-events=\"none\" width=\"100%\" height=\"100%\" requiredFeatures=\"http://www.w3.org/TR/SVG11/feature#Extensibility\"><div xmlns=\"http://www.w3.org/1999/xhtml\" style=\"display: flex; align-items: unsafe center; justify-content: unsafe center; width: 28px; height: 1px; padding-top: 395px; margin-left: 81px;\"><div style=\"box-sizing: border-box; font-size: 0; text-align: center; \"><div style=\"display: inline-block; font-size: 12px; font-family: Helvetica; color: #000000; line-height: 1.2; pointer-events: all; white-space: normal; word-wrap: normal; \">net</div></div></div></foreignObject><text x=\"95\" y=\"399\" fill=\"#000000\" font-family=\"Helvetica\" font-size=\"12px\" text-anchor=\"middle\">net</text></switch></g><ellipse cx=\"95\" cy=\"465\" rx=\"15\" ry=\"15\" fill=\"#ffffff\" stroke=\"#000000\" pointer-events=\"all\"/><g transform=\"translate(-0.5 -0.5)\"><switch><foreignObject style=\"overflow: visible; text-align: left;\" pointer-events=\"none\" width=\"100%\" height=\"100%\" requiredFeatures=\"http://www.w3.org/TR/SVG11/feature#Extensibility\"><div xmlns=\"http://www.w3.org/1999/xhtml\" style=\"display: flex; align-items: unsafe center; justify-content: unsafe center; width: 28px; height: 1px; padding-top: 465px; margin-left: 81px;\"><div style=\"box-sizing: border-box; font-size: 0; text-align: center; \"><div style=\"display: inline-block; font-size: 12px; font-family: Helvetica; color: #000000; line-height: 1.2; pointer-events: all; white-space: normal; word-wrap: normal; \">net</div></div></div></foreignObject><text x=\"95\" y=\"469\" fill=\"#000000\" font-family=\"Helvetica\" font-size=\"12px\" text-anchor=\"middle\">net</text></switch></g><path d=\"M 95 340 L 95 373.63\" fill=\"none\" stroke=\"#000000\" stroke-miterlimit=\"10\" pointer-events=\"stroke\"/><path d=\"M 95 378.88 L 91.5 371.88 L 95 373.63 L 98.5 371.88 Z\" fill=\"#000000\" stroke=\"#000000\" stroke-miterlimit=\"10\" pointer-events=\"all\"/><g transform=\"translate(-0.5 -0.5)\"><switch><foreignObject style=\"overflow: visible; text-align: left;\" pointer-events=\"none\" width=\"100%\" height=\"100%\" requiredFeatures=\"http://www.w3.org/TR/SVG11/feature#Extensibility\"><div xmlns=\"http://www.w3.org/1999/xhtml\" style=\"display: flex; align-items: unsafe center; justify-content: unsafe center; width: 1px; height: 1px; padding-top: 360px; margin-left: 95px;\"><div style=\"box-sizing: border-box; font-size: 0; text-align: center; \"><div style=\"display: inline-block; font-size: 11px; font-family: Helvetica; color: #000000; line-height: 1.2; pointer-events: all; background-color: #ffffff; white-space: nowrap; \">learned</div></div></div></foreignObject><text x=\"95\" y=\"363\" fill=\"#000000\" font-family=\"Helvetica\" font-size=\"11px\" text-anchor=\"middle\">learned</text></switch></g><path d=\"M 95 410 L 95 443.63\" fill=\"none\" stroke=\"#000000\" stroke-miterlimit=\"10\" pointer-events=\"stroke\"/><path d=\"M 95 448.88 L 91.5 441.88 L 95 443.63 L 98.5 441.88 Z\" fill=\"#000000\" stroke=\"#000000\" stroke-miterlimit=\"10\" pointer-events=\"all\"/><g transform=\"translate(-0.5 -0.5)\"><switch><foreignObject style=\"overflow: visible; text-align: left;\" pointer-events=\"none\" width=\"100%\" height=\"100%\" requiredFeatures=\"http://www.w3.org/TR/SVG11/feature#Extensibility\"><div xmlns=\"http://www.w3.org/1999/xhtml\" style=\"display: flex; align-items: unsafe center; justify-content: unsafe center; width: 1px; height: 1px; padding-top: 430px; margin-left: 95px;\"><div style=\"box-sizing: border-box; font-size: 0; text-align: center; \"><div style=\"display: inline-block; font-size: 11px; font-family: Helvetica; color: #000000; line-height: 1.2; pointer-events: all; background-color: #ffffff; white-space: nowrap; \">learned</div></div></div></foreignObject><text x=\"95\" y=\"433\" fill=\"#000000\" font-family=\"Helvetica\" font-size=\"11px\" text-anchor=\"middle\">learned</text></switch></g></g><switch><g requiredFeatures=\"http://www.w3.org/TR/SVG11/feature#Extensibility\"/><a transform=\"translate(0,-5)\" xlink:href=\"https://www.diagrams.net/doc/faq/svg-export-text-problems\" target=\"_blank\"><text text-anchor=\"middle\" font-size=\"10px\" x=\"50%\" y=\"100%\">Viewer does not support full SVG 1.1</text></a></switch></svg>"
      ],
      "text/plain": [
       "<IPython.core.display.SVG object>"
      ]
     },
     "metadata": {},
     "output_type": "display_data"
    }
   ],
   "source": [
    "from IPython.display import SVG, display\n",
    "display(SVG('ml graphdb structure r2.svg'))"
   ]
  },
  {
   "cell_type": "markdown",
   "id": "invalid-opinion",
   "metadata": {},
   "source": [
    "# Prepare code for later `eval`"
   ]
  },
  {
   "cell_type": "markdown",
   "id": "dying-alexander",
   "metadata": {},
   "source": [
    "## Create the net we will train"
   ]
  },
  {
   "cell_type": "code",
   "execution_count": 9,
   "id": "received-google",
   "metadata": {},
   "outputs": [],
   "source": [
    "mnm = NetMaker(NNMEG)\n",
    "net = mnm('1x8tx8tx3tx3t')\n",
    "\n",
    "def adc(input):\n",
    "    m = max(0, min(7, int(8*input)))\n",
    "    return np.array([(m>>2)&1, (m>>1)&1, m&1]) * 2 - 1\n",
    "\n",
    "vadc = lambda v: np.array([adc(p) for p in v])\n",
    "\n",
    "x = np.arange(0, 1, 1.0/(8*8)).reshape(-1,1) # 8 points in each output region\n",
    "training_batch = (x, vadc(x))"
   ]
  },
  {
   "cell_type": "code",
   "execution_count": 10,
   "id": "extra-composite",
   "metadata": {},
   "outputs": [],
   "source": [
    "code_strings.append(In[-2])"
   ]
  },
  {
   "cell_type": "markdown",
   "id": "intended-adventure",
   "metadata": {},
   "source": [
    "## First net node"
   ]
  },
  {
   "cell_type": "code",
   "execution_count": 11,
   "id": "bizarre-mountain",
   "metadata": {},
   "outputs": [],
   "source": [
    "def add_start(driver, facts):\n",
    "    q = \"\"\"\n",
    "MERGE (:net \n",
    "  {shorthand: $shorthand,\n",
    "         ksv: $ksv,\n",
    "        loss: $loss,\n",
    "          ts: $ts,\n",
    "  experiment: $experiment,\n",
    "        head: $head})\n",
    "\"\"\"\n",
    "    nj.query_write(driver, q, **facts)"
   ]
  },
  {
   "cell_type": "code",
   "execution_count": 12,
   "id": "comfortable-reply",
   "metadata": {},
   "outputs": [],
   "source": [
    "code_strings.append(In[-2])"
   ]
  },
  {
   "cell_type": "markdown",
   "id": "victorian-remedy",
   "metadata": {},
   "source": [
    "## Trained net nodes"
   ]
  },
  {
   "cell_type": "code",
   "execution_count": 13,
   "id": "sapphire-plumbing",
   "metadata": {},
   "outputs": [],
   "source": [
    "def add_subsequent(driver, facts):\n",
    "    q = \"\"\"\n",
    "MATCH (a:net {ksv: $prior_ksv})\n",
    "MERGE (a)-[:LEARNED\n",
    "         {batch_points: $batch_points,\n",
    "                  etas: $etas,\n",
    "    eta_change_batches: $eta_change_batches,\n",
    "  batches_this_segment: $batches_this_segment,\n",
    "                losses: $loss,\n",
    "            loss_steps: $loss_step,\n",
    "           traj_L2_sqs: $traj_L2_sq,\n",
    "   traj_cos_sq_signeds: $traj_cos_sq_signed,\n",
    "                    ts: $ts}]->\n",
    "(b:net\n",
    "  {shorthand: $shorthand,\n",
    "         ksv: $ksv,\n",
    "        loss: $end_loss,\n",
    "          ts: $ts,\n",
    "  experiment: $experiment})\n",
    "\"\"\"\n",
    "    nj.query_write(driver, q, **facts)"
   ]
  },
  {
   "cell_type": "code",
   "execution_count": 14,
   "id": "enormous-trinidad",
   "metadata": {},
   "outputs": [],
   "source": [
    "code_strings.append(In[-2])"
   ]
  },
  {
   "cell_type": "markdown",
   "id": "nominated-forest",
   "metadata": {},
   "source": [
    "## Train, recording trajectory"
   ]
  },
  {
   "cell_type": "code",
   "execution_count": 15,
   "id": "parliamentary-joshua",
   "metadata": {},
   "outputs": [],
   "source": [
    "def trainer(net, nps):\n",
    "    loss = net.losses([training_batch])[0]\n",
    "    batch_ctr = 0\n",
    "    while loss > 1e-3:\n",
    "        batch_ctr_at_seg_start = batch_ctr\n",
    "        losses = []\n",
    "        etas = []\n",
    "        deltas = []\n",
    "        prior_loss = loss\n",
    "        while loss / prior_loss > 0.7071 and len(deltas) < 100:\n",
    "            if not etas or net.eta != etas[-1][1]:\n",
    "                etas.append([batch_ctr, net.eta])\n",
    "            loss = net.learn([training_batch])\n",
    "            if batch_ctr < 100 or batch_ctr % 100 == 0:\n",
    "                losses.append([batch_ctr, loss])\n",
    "                deltas.append([batch_ctr, net.deltas()])\n",
    "            batch_ctr += 1\n",
    "        #if losses[-1][0] < (batch_ctr-1):\n",
    "        #    losses.append([batch_ctr, loss])\n",
    "        if not deltas or deltas[-1][0] < (batch_ctr-1):\n",
    "            deltas.append((batch_ctr, net.deltas()))\n",
    "        properties = dict(zip(deltas[0][1]._fields, map(list, (zip(*(v[1] for v in deltas))))))\n",
    "        #properties = {}\n",
    "        properties['batch_points'] = [v[0] for v in deltas]\n",
    "        #properties['etas'] = etas\n",
    "        properties['etas'], properties['eta_change_batches'] = (list(v) for v in zip(*etas))\n",
    "        properties['batches_this_segment'] = batch_ctr - batch_ctr_at_seg_start\n",
    "        properties['ts'] = time.time()\n",
    "        properties['shorthand'] = net.shorthand\n",
    "        properties['ksv'] = nps.store(net.state_vector())\n",
    "        properties['end_loss'] = net.losses([training_batch])[0]\n",
    "        properties['experiment'] = 'ADC'\n",
    "        yield properties"
   ]
  },
  {
   "cell_type": "code",
   "execution_count": 16,
   "id": "alternative-curtis",
   "metadata": {},
   "outputs": [],
   "source": [
    "code_strings.append(In[-2])"
   ]
  },
  {
   "cell_type": "code",
   "execution_count": 17,
   "id": "supposed-first",
   "metadata": {},
   "outputs": [],
   "source": [
    "def get_starting_facts(net, nps):\n",
    "    rv = {'shorthand': net.shorthand,\n",
    "          'ksv': nps.store(net.state_vector()),\n",
    "          'loss': net.losses([training_batch])[0],\n",
    "          'ts': time.time(),\n",
    "          'experiment': 'ADC',\n",
    "          'head': True,\n",
    "         }\n",
    "    return rv"
   ]
  },
  {
   "cell_type": "code",
   "execution_count": 18,
   "id": "norwegian-blast",
   "metadata": {},
   "outputs": [],
   "source": [
    "code_strings.append(In[-2])"
   ]
  },
  {
   "cell_type": "markdown",
   "id": "innovative-glasgow",
   "metadata": {},
   "source": [
    "## Build the runner"
   ]
  },
  {
   "cell_type": "code",
   "execution_count": 19,
   "id": "sexual-welcome",
   "metadata": {},
   "outputs": [],
   "source": [
    "def create_starting_entry(driver, net, nps, get_starting_facts, q_add_start):\n",
    "    starting_facts = get_starting_facts(net, nps)\n",
    "    tj.query_write(driver, q_add_start, **starting_facts)\n",
    "    return starting_facts['ksv']"
   ]
  },
  {
   "cell_type": "code",
   "execution_count": 20,
   "id": "tropical-complexity",
   "metadata": {},
   "outputs": [],
   "source": [
    "code_strings.append(In[-2])"
   ]
  },
  {
   "cell_type": "code",
   "execution_count": 21,
   "id": "private-connection",
   "metadata": {},
   "outputs": [],
   "source": [
    "def extend_by_one(driver, net, ksv, nps, observations, add_subsequent):\n",
    "    with driver.session() as session:\n",
    "        session.write_transaction(add_subsequent, observations, net)\n",
    "        print(f\"loss {observations['end_loss']}\")\n",
    "        return observations['ksv']"
   ]
  },
  {
   "cell_type": "code",
   "execution_count": 22,
   "id": "piano-updating",
   "metadata": {},
   "outputs": [],
   "source": [
    "code_strings.append(In[-2])"
   ]
  },
  {
   "cell_type": "code",
   "execution_count": 23,
   "id": "heated-amino",
   "metadata": {},
   "outputs": [],
   "source": [
    "def run_it(cx, driver, nps):\n",
    "    net = cx['net']\n",
    "    add_start = cx['add_start']\n",
    "    add_subsequent = cx['add_subsequent']\n",
    "    get_starting_facts = cx['get_starting_facts']\n",
    "    trainer = cx['trainer']\n",
    "\n",
    "    with driver.session() as session:\n",
    "        starting_facts = get_starting_facts(net, nps)\n",
    "        add_start(driver, starting_facts)\n",
    "        prior_ksv = starting_facts['ksv']\n",
    "        for observations in trainer(net, nps):\n",
    "            observations['prior_ksv'] = prior_ksv\n",
    "            prior_ksv = observations['ksv']\n",
    "            add_subsequent(driver, observations)\n",
    "            print(f\"loss {observations['end_loss']}\")"
   ]
  },
  {
   "cell_type": "code",
   "execution_count": 24,
   "id": "quality-language",
   "metadata": {},
   "outputs": [],
   "source": [
    "code_strings.append(In[-2])"
   ]
  },
  {
   "cell_type": "markdown",
   "id": "demographic-knock",
   "metadata": {},
   "source": [
    "* https://neo4j.com/docs/cypher-manual/current/clauses/match/"
   ]
  },
  {
   "cell_type": "markdown",
   "id": "indoor-effectiveness",
   "metadata": {},
   "source": [
    "# Create the Experiment -> Procedure -> Parameters\n",
    "Create an experiment, add a procedure, add parameters."
   ]
  },
  {
   "cell_type": "markdown",
   "id": "theoretical-browser",
   "metadata": {},
   "source": [
    "## Methods to create/merge"
   ]
  },
  {
   "cell_type": "code",
   "execution_count": 25,
   "id": "color-outline",
   "metadata": {},
   "outputs": [],
   "source": [
    "def add_a_procedure(driver, **kwargs):\n",
    "    q = \"\"\"\n",
    "MERGE (e:Experiment {name: $experiment_name})\n",
    "-[:includes]->\n",
    "(:Procedure {name: $procedure_name,  code_strings: $code_strings})\n",
    "\"\"\"\n",
    "    nj.query_write(driver, q, **kwargs)"
   ]
  },
  {
   "cell_type": "code",
   "execution_count": 26,
   "id": "broken-investor",
   "metadata": {},
   "outputs": [],
   "source": [
    "def add_parameters_to_experiment_procedure(driver, **kwargs):\n",
    "    q = \"\"\"\n",
    "MATCH (e:Experiment {name: $experiment_name})\n",
    "-[:includes]->\n",
    "(proc:Procedure {name: $procedure_name})\n",
    "MERGE (proc)-[:incorporates]->\n",
    "(par:Parameters {name: $parameters_name, code_strings: $code_strings})\n",
    "\"\"\"\n",
    "    nj.query_write(driver, q, **kwargs)"
   ]
  },
  {
   "cell_type": "code",
   "execution_count": 27,
   "id": "light-associate",
   "metadata": {},
   "outputs": [],
   "source": [
    "def get_code_strings_of_experiment_procedure_parameters(driver, **kwargs):\n",
    "    q = \"\"\"\n",
    "MATCH (e:Experiment {name: $experiment_name})\n",
    "-[:includes]->\n",
    "(proc:Procedure {name: $procedure_name})\n",
    "-[:incorporates]->\n",
    "(par:Parameters {name: $parameters_name})\n",
    "RETURN proc.code_strings, par.code_strings\n",
    "\"\"\"\n",
    "    records = nj.query_read_return_list(driver, q, **kwargs)\n",
    "    assert len(records) == 1\n",
    "    r = records[0]\n",
    "    return r['proc.code_strings'] + r['par.code_strings']"
   ]
  },
  {
   "cell_type": "markdown",
   "id": "alone-logic",
   "metadata": {},
   "source": [
    "# Experiment setup"
   ]
  },
  {
   "cell_type": "code",
   "execution_count": 28,
   "id": "seventh-driver",
   "metadata": {},
   "outputs": [],
   "source": [
    "add_a_procedure(driver,\n",
    "    experiment_name='t2',\n",
    "    procedure_name='Train ADCs',\n",
    "    code_strings=code_strings)"
   ]
  },
  {
   "cell_type": "code",
   "execution_count": 29,
   "id": "false-creature",
   "metadata": {},
   "outputs": [],
   "source": [
    "add_parameters_to_experiment_procedure(driver,\n",
    "    experiment_name='t2',\n",
    "    procedure_name='Train ADCs',\n",
    "    parameters_name='go easy',\n",
    "    code_strings=['net.eps = 0.02'])"
   ]
  },
  {
   "cell_type": "markdown",
   "id": "approved-peeing",
   "metadata": {},
   "source": [
    "# Here the experiment is set up in the graph\n",
    "Now we go get the code out of the graph, and run the experiment"
   ]
  },
  {
   "cell_type": "code",
   "execution_count": 30,
   "id": "green-thumbnail",
   "metadata": {},
   "outputs": [],
   "source": [
    "code_strings = get_code_strings_of_experiment_procedure_parameters(driver,\n",
    "    experiment_name='t2',\n",
    "    procedure_name='Train ADCs',\n",
    "    parameters_name='go easy')"
   ]
  },
  {
   "cell_type": "code",
   "execution_count": 32,
   "id": "incomplete-guess",
   "metadata": {},
   "outputs": [
    {
     "ename": "AssertionError",
     "evalue": "pause here",
     "output_type": "error",
     "traceback": [
      "\u001b[0;31m\u001b[0m",
      "\u001b[0;31mAssertionError\u001b[0mTraceback (most recent call last)",
      "\u001b[0;32m<ipython-input-32-e15cbbf3344f>\u001b[0m in \u001b[0;36m<module>\u001b[0;34m\u001b[0m\n\u001b[0;32m----> 1\u001b[0;31m \u001b[0;32massert\u001b[0m \u001b[0;32mFalse\u001b[0m\u001b[0;34m,\u001b[0m \u001b[0;34m\"pause here\"\u001b[0m\u001b[0;34m\u001b[0m\u001b[0;34m\u001b[0m\u001b[0m\n\u001b[0m",
      "\u001b[0;31mAssertionError\u001b[0m: pause here"
     ]
    }
   ],
   "source": [
    "assert False, \"pause here\""
   ]
  },
  {
   "cell_type": "code",
   "execution_count": 33,
   "id": "electoral-poland",
   "metadata": {},
   "outputs": [],
   "source": [
    "cx = {}\n",
    "for s in code_strings:\n",
    "    exec(s, cx)"
   ]
  },
  {
   "cell_type": "code",
   "execution_count": null,
   "id": "acoustic-undergraduate",
   "metadata": {},
   "outputs": [
    {
     "name": "stdout",
     "output_type": "stream",
     "text": [
      "loss 1.888340530259108\n",
      "loss 1.3274874044062455\n",
      "loss 0.9401800886163793\n",
      "loss 0.6614851229641336\n",
      "loss 0.4710859877141814\n",
      "loss 0.43463676725049577\n",
      "loss 0.39708268206813285\n",
      "loss 0.38673411737584396\n",
      "loss 0.3821920293085722\n",
      "loss 0.37808100605910033\n",
      "loss 0.3696738474022254\n",
      "loss 0.5480588824100325\n",
      "loss 0.36339391752340966\n",
      "loss 0.36159450310746255\n",
      "loss 0.3595418699222799\n",
      "loss 0.36039378391941146\n",
      "loss 0.35617655610995985\n",
      "loss 0.46178298457058675\n",
      "loss 0.3620653679108005\n",
      "loss 0.3647175528481555\n",
      "loss 0.355627675516816\n",
      "loss 0.3628954085114562\n",
      "loss 0.35200620505241775\n",
      "loss 0.6315403023295119\n",
      "loss 0.3512165845408976\n",
      "loss 0.350671383094424\n",
      "loss 0.3562987150856445\n",
      "loss 0.3591088897755154\n",
      "loss 0.35086226174730933\n",
      "loss 0.34853352534484705\n",
      "loss 0.3630995194963636\n",
      "loss 0.3492993445348237\n",
      "loss 0.347572144253928\n",
      "loss 0.3515510139810899\n",
      "loss 0.3531178860922698\n",
      "loss 0.34626382577022097\n",
      "loss 0.34710499881811113\n",
      "loss 0.36136269257574183\n",
      "loss 0.36557171975930947\n",
      "loss 0.3537860981332007\n",
      "loss 0.35412362874336634\n",
      "loss 0.3458273876675516\n",
      "loss 0.3445989231842905\n",
      "loss 0.3444813120162815\n",
      "loss 0.34429012720535423\n",
      "loss 0.34398978064816765\n",
      "loss 0.3471604194483663\n",
      "loss 0.3439438427878222\n",
      "loss 0.3440249324886135\n",
      "loss 0.48180388704901095\n",
      "loss 0.39802808225936803\n",
      "loss 0.343722319678181\n",
      "loss 0.3479683938810576\n",
      "loss 0.3438245199898816\n",
      "loss 0.3661443770248789\n",
      "loss 0.3476601157605337\n",
      "loss 0.3481494663685264\n",
      "loss 0.3560340469282525\n",
      "loss 0.35544476145140835\n",
      "loss 0.34289398661824044\n",
      "loss 0.5128379611732392\n",
      "loss 0.43128402904251617\n",
      "loss 0.42877804085548393\n",
      "loss 0.427959624624969\n",
      "loss 0.4275294481116171\n",
      "loss 0.42726032539184955\n",
      "loss 0.4270724434009938\n",
      "loss 0.42692998496857404\n",
      "loss 0.4268152388213553\n",
      "loss 0.42671859110787513\n",
      "loss 0.4266343371039263\n",
      "loss 0.42655889679889714\n",
      "loss 0.4264899664485082\n",
      "loss 0.4264260396750915\n",
      "loss 0.4263661048861716\n",
      "loss 0.4263094544588413\n",
      "loss 0.4262555714001144\n",
      "loss 0.4262040639139345\n",
      "loss 0.42615462663524595\n",
      "loss 0.4261070163777418\n",
      "loss 0.42606103609633394\n",
      "loss 0.4260165237964459\n",
      "loss 0.42597334460293523\n",
      "loss 0.4259313849438585\n",
      "loss 0.42589054820042244\n",
      "loss 0.4258507514008205\n",
      "loss 0.4258119226729391\n",
      "loss 0.4257739992582059\n",
      "loss 0.42573692594640333\n"
     ]
    }
   ],
   "source": [
    "nps = nj.NumpyStore(driver)\n",
    "cx['run_it'](cx, driver, nps)"
   ]
  },
  {
   "cell_type": "code",
   "execution_count": null,
   "id": "helpful-sunset",
   "metadata": {},
   "outputs": [],
   "source": []
  },
  {
   "cell_type": "code",
   "execution_count": null,
   "id": "comprehensive-volunteer",
   "metadata": {},
   "outputs": [],
   "source": [
    "assert False, \"pause here\""
   ]
  },
  {
   "cell_type": "code",
   "execution_count": null,
   "id": "scheduled-poison",
   "metadata": {},
   "outputs": [],
   "source": [
    "cx = {}\n",
    "for s in code_strings:\n",
    "    exec(s, cx)"
   ]
  },
  {
   "cell_type": "code",
   "execution_count": null,
   "id": "reported-strip",
   "metadata": {},
   "outputs": [],
   "source": [
    "cx.keys()"
   ]
  },
  {
   "cell_type": "code",
   "execution_count": null,
   "id": "considered-heritage",
   "metadata": {},
   "outputs": [],
   "source": [
    "cx['a'], cx['foo'](3), cx['b'], cx['bar'](3)"
   ]
  },
  {
   "cell_type": "code",
   "execution_count": null,
   "id": "middle-empty",
   "metadata": {},
   "outputs": [],
   "source": []
  },
  {
   "cell_type": "code",
   "execution_count": null,
   "id": "dangerous-samuel",
   "metadata": {},
   "outputs": [],
   "source": []
  },
  {
   "cell_type": "code",
   "execution_count": null,
   "id": "industrial-dollar",
   "metadata": {},
   "outputs": [],
   "source": []
  },
  {
   "cell_type": "code",
   "execution_count": null,
   "id": "international-construction",
   "metadata": {},
   "outputs": [],
   "source": []
  },
  {
   "cell_type": "code",
   "execution_count": null,
   "id": "residential-consortium",
   "metadata": {},
   "outputs": [],
   "source": [
    "assert False, \"wait here\""
   ]
  },
  {
   "cell_type": "code",
   "execution_count": null,
   "id": "russian-damage",
   "metadata": {},
   "outputs": [],
   "source": [
    "def tx_add_start_net(tx, starting_facts, net):\n",
    "    tx.run(\"MATCH (proc:Procedure)\")"
   ]
  },
  {
   "cell_type": "code",
   "execution_count": null,
   "id": "furnished-aircraft",
   "metadata": {},
   "outputs": [],
   "source": []
  },
  {
   "cell_type": "code",
   "execution_count": null,
   "id": "laughing-translator",
   "metadata": {},
   "outputs": [],
   "source": [
    "def add_subsequent(tx, facts, net):\n",
    "    tx.run(\"MATCH (a:net {ksv: $prior_ksv}) \"\n",
    "           \"MERGE (a)-\"\n",
    "           \"[:LEARNED \"\n",
    "               \"{batch_points: $batch_points, \"\n",
    "               \"etas: $etas, \"\n",
    "               \"eta_change_batches: $eta_change_batches, \"\n",
    "               \"batches_this_segment: $batches_this_segment, \"\n",
    "               \"losses: $loss, \"\n",
    "               \"loss_steps: $loss_step, \"\n",
    "               \"traj_L2_sqs: $traj_L2_sq, \"\n",
    "               \"traj_cos_sq_signeds: $traj_cos_sq_signed, \"\n",
    "               \"ts: $ts \"\n",
    "               \"}]->\"\n",
    "           \"(b:net \"\n",
    "               \"{shorthand: $shorthand, \"\n",
    "               \"ksv: $ksv, \"\n",
    "               \"loss: $end_loss, \"\n",
    "               \"ts: $ts, \"\n",
    "               \"experiment: $experiment}) \",\n",
    "           **facts)"
   ]
  },
  {
   "cell_type": "code",
   "execution_count": null,
   "id": "thorough-attempt",
   "metadata": {},
   "outputs": [],
   "source": []
  },
  {
   "cell_type": "code",
   "execution_count": null,
   "id": "amino-preservation",
   "metadata": {},
   "outputs": [],
   "source": [
    "outer_cx = dict(driver=driver, nps=NumpyStore(driver))"
   ]
  },
  {
   "cell_type": "code",
   "execution_count": null,
   "id": "simplified-celtic",
   "metadata": {},
   "outputs": [],
   "source": [
    "cx['make_start'](outer_cx) # make the starting net node"
   ]
  },
  {
   "cell_type": "code",
   "execution_count": null,
   "id": "norman-polls",
   "metadata": {},
   "outputs": [],
   "source": [
    "while cx['wants_more_learning'](net, obs):\n",
    "    net, obs = cx['train_to_checkpoint'](net, obs, outer_cx)\n",
    "    cx['append_to_run'](net, obs, outer_cx)"
   ]
  },
  {
   "cell_type": "code",
   "execution_count": null,
   "id": "toxic-silence",
   "metadata": {},
   "outputs": [],
   "source": []
  },
  {
   "cell_type": "code",
   "execution_count": null,
   "id": "female-tanzania",
   "metadata": {},
   "outputs": [],
   "source": []
  },
  {
   "cell_type": "code",
   "execution_count": null,
   "id": "voluntary-greece",
   "metadata": {},
   "outputs": [],
   "source": [
    "assert False, \"stop\""
   ]
  },
  {
   "cell_type": "code",
   "execution_count": null,
   "id": "closing-customs",
   "metadata": {},
   "outputs": [],
   "source": [
    "def tx_get_tst(tx, cb, **kwargs):\n",
    "    for rec in tx.run(\"\"\"\n",
    "MATCH (n:dot)\n",
    "RETURN n\n",
    "\"\"\", **kwargs):\n",
    "        cb(rec)"
   ]
  },
  {
   "cell_type": "code",
   "execution_count": null,
   "id": "statutory-painting",
   "metadata": {},
   "outputs": [],
   "source": [
    "def tx_get_tst(tx, **kwargs):\n",
    "    for record in tx.run(\"\"\"\n",
    "MATCH (e:Experiment {name: $experiment_name})\n",
    "RETURN e, 'cat'\n",
    "    \"\"\", **kwargs):\n",
    "        print(record)"
   ]
  },
  {
   "cell_type": "code",
   "execution_count": null,
   "id": "retired-houston",
   "metadata": {},
   "outputs": [],
   "source": [
    "with driver.session() as session:\n",
    "    session.read_transaction(tx_get_tst, experiment_name='t1')"
   ]
  },
  {
   "cell_type": "code",
   "execution_count": null,
   "id": "happy-central",
   "metadata": {},
   "outputs": [],
   "source": [
    "def do_a_read_tx(driver, tx_fun, cb, **kwargs):\n",
    "    with driver.session() as session:\n",
    "        return session.read_transaction(tx_fun, cb, **kwargs)"
   ]
  },
  {
   "cell_type": "code",
   "execution_count": null,
   "id": "soviet-paste",
   "metadata": {},
   "outputs": [],
   "source": [
    "def do_a_write_tx(driver, tx_fun, cb, **kwargs):\n",
    "    with driver.session() as session:\n",
    "        session.write_transaction(tx_fun, cb, **kwargs)"
   ]
  },
  {
   "cell_type": "code",
   "execution_count": null,
   "id": "eleven-separation",
   "metadata": {},
   "outputs": [],
   "source": []
  },
  {
   "cell_type": "code",
   "execution_count": null,
   "id": "dated-demographic",
   "metadata": {},
   "outputs": [],
   "source": [
    "net = cx['net']\n",
    "add_start = cx['add_start']\n",
    "add_subsequent = cx['add_subsequent']\n",
    "starting_facts = cx['starting_facts']\n",
    "trainer = cx['trainer']\n",
    "\n",
    "with driver.session() as session:\n",
    "    session.write_transaction(add_start, starting_facts, net)\n",
    "    prior_ksv = starting_facts['ksv']\n",
    "    for observations in trainer(net):\n",
    "        observations['prior_ksv'] = prior_ksv\n",
    "        prior_ksv = observations['ksv']\n",
    "        #pprint(observations)\n",
    "        #observations['etas'] = observations['etas'][0] #DEBUG HACK, FIXME\n",
    "        session.write_transaction(add_subsequent, observations, net)\n",
    "        print(f\"loss {observations['end_loss']}\")"
   ]
  },
  {
   "cell_type": "code",
   "execution_count": null,
   "id": "guided-clark",
   "metadata": {},
   "outputs": [],
   "source": []
  },
  {
   "cell_type": "markdown",
   "id": "according-mercy",
   "metadata": {},
   "source": [
    "## An example experiment's DAG"
   ]
  },
  {
   "cell_type": "code",
   "execution_count": null,
   "id": "structural-priority",
   "metadata": {},
   "outputs": [],
   "source": [
    "randomize_net(net)"
   ]
  },
  {
   "cell_type": "code",
   "execution_count": null,
   "id": "cutting-canon",
   "metadata": {},
   "outputs": [],
   "source": [
    "net.eta = 0.02"
   ]
  },
  {
   "cell_type": "code",
   "execution_count": null,
   "id": "grateful-zambia",
   "metadata": {},
   "outputs": [],
   "source": [
    "nps = nj.NumpyStore(driver)"
   ]
  }
 ],
 "metadata": {
  "kernelspec": {
   "display_name": "Python 3",
   "language": "python",
   "name": "python3"
  },
  "language_info": {
   "codemirror_mode": {
    "name": "ipython",
    "version": 3
   },
   "file_extension": ".py",
   "mimetype": "text/x-python",
   "name": "python",
   "nbconvert_exporter": "python",
   "pygments_lexer": "ipython3",
   "version": "3.8.6"
  }
 },
 "nbformat": 4,
 "nbformat_minor": 5
}
