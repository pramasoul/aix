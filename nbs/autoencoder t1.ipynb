{
 "cells": [
  {
   "cell_type": "markdown",
   "id": "careful-marketplace",
   "metadata": {},
   "source": [
    "# Autoencoder\n"
   ]
  },
  {
   "cell_type": "code",
   "execution_count": null,
   "id": "incorporate-murder",
   "metadata": {},
   "outputs": [],
   "source": [
    "%load_ext autoreload\n",
    "%autoreload 2\n",
    "%matplotlib inline\n",
    "#%matplotlib widget"
   ]
  },
  {
   "cell_type": "code",
   "execution_count": null,
   "id": "delayed-tackle",
   "metadata": {},
   "outputs": [],
   "source": [
    "import numpy as np\n",
    "import matplotlib.pyplot as plt\n",
    "from matplotlib import rcParams\n",
    "rcParams['figure.max_open_warning'] = 0"
   ]
  },
  {
   "cell_type": "markdown",
   "id": "declared-filling",
   "metadata": {},
   "source": [
    "Fetch our tools:"
   ]
  },
  {
   "cell_type": "code",
   "execution_count": null,
   "id": "curious-senator",
   "metadata": {},
   "outputs": [],
   "source": [
    "from lib.nn import Network, Layer, IdentityLayer, AffineLayer, MapLayer\n",
    "from lib.nnbench import NNBench\n",
    "from lib.nnvis import NNVis"
   ]
  },
  {
   "cell_type": "markdown",
   "id": "present-expense",
   "metadata": {},
   "source": [
    "A tool to plot the transfer function"
   ]
  },
  {
   "cell_type": "code",
   "execution_count": null,
   "id": "placed-friday",
   "metadata": {},
   "outputs": [],
   "source": [
    "def plot_ADC(net):\n",
    "    x = np.arange(-0.125, 1.125, 0.001).reshape(-1,1)\n",
    "    outs = net(x)\n",
    "    fig, ax = plt.subplots()\n",
    "    ax.plot(x, outs, label=\"bit\")\n",
    "    ax.set_xlabel('learnings')  # Add an x-label to the axes.\n",
    "    ax.set_ylabel('output')  # Add a y-label to the axes.\n",
    "    ax.set_title(\"ADC output\")  # Add a title to the axes.\n",
    "    #ax.set_yscale('log')\n",
    "    ax.legend()  # Add a legend.        "
   ]
  },
  {
   "cell_type": "markdown",
   "id": "pressing-channels",
   "metadata": {},
   "source": [
    "# Experiment 1: Training to identity\n",
    "First off, let's see how well a randomly-initialized affine layer can learn the identity transform"
   ]
  },
  {
   "cell_type": "code",
   "execution_count": null,
   "id": "treated-publication",
   "metadata": {},
   "outputs": [],
   "source": [
    "net = Network()\n",
    "net.extend(AffineLayer(16,16))"
   ]
  },
  {
   "cell_type": "code",
   "execution_count": null,
   "id": "tender-mirror",
   "metadata": {},
   "outputs": [],
   "source": [
    "bench = NNBench(net)\n",
    "bench.checkpoint_net()"
   ]
  },
  {
   "cell_type": "code",
   "execution_count": null,
   "id": "portuguese-woman",
   "metadata": {},
   "outputs": [],
   "source": [
    "bench.accept_source_of_truth(((v, v) for v in (np.random.randn(16) for i in range(1<<31))))\n",
    "#bench.training_batch_cluster(2)"
   ]
  },
  {
   "cell_type": "code",
   "execution_count": null,
   "id": "restricted-reconstruction",
   "metadata": {},
   "outputs": [],
   "source": [
    "vis = NNVis(bench)"
   ]
  },
  {
   "cell_type": "code",
   "execution_count": null,
   "id": "pressed-pricing",
   "metadata": {},
   "outputs": [],
   "source": [
    "net.eta = 0.032\n",
    "vis.plot_learning(1000, 16)"
   ]
  },
  {
   "cell_type": "code",
   "execution_count": null,
   "id": "attached-banks",
   "metadata": {},
   "outputs": [],
   "source": [
    "bench.rollback_net() if False else bench.randomize_net()\n",
    "rates = np.logspace(-4.5, -4, base=2, num=32)\n",
    "#cube = bench.learn_loss_cube(1000, rates)\n",
    "#vis.plot_loss_cube()"
   ]
  },
  {
   "cell_type": "code",
   "execution_count": null,
   "id": "naughty-transcript",
   "metadata": {},
   "outputs": [],
   "source": [
    "bench.rollback_net()\n",
    "learned_track = bench.learn_track(1000, 16)"
   ]
  },
  {
   "cell_type": "code",
   "execution_count": null,
   "id": "periodic-wednesday",
   "metadata": {},
   "outputs": [],
   "source": [
    "traja = bench.analyze_learning_track(learned_track)\n",
    "vis.plot_trajectory(traja)"
   ]
  },
  {
   "cell_type": "markdown",
   "id": "southern-array",
   "metadata": {},
   "source": [
    "# Adopt a manifold\n",
    "Let us choose a latent space for our input vectors, of\n",
    "$$\n",
    "y = a(x-b)^c \\\\\n",
    "x \\in [1,2) \\\\\n",
    "a, c \\in [1/2, 2] \\\\\n",
    "b \\in [-1,1]\n",
    "$$"
   ]
  },
  {
   "cell_type": "code",
   "execution_count": null,
   "id": "artistic-voltage",
   "metadata": {},
   "outputs": [],
   "source": [
    "def bend_gen():\n",
    "    while True:\n",
    "        a, c = np.exp2(2 * np.random.rand(2) - 1)\n",
    "        b = 2 * np.random.rand() - 1\n",
    "        #print(a, b, c)\n",
    "        yield np.array([a * (x - b) ** c for x in np.arange(1,2,1/16)]) \\\n",
    "            + 0.0 * np.random.randn(16)"
   ]
  },
  {
   "cell_type": "code",
   "execution_count": null,
   "id": "legal-mother",
   "metadata": {},
   "outputs": [],
   "source": [
    "def doublem(g):\n",
    "    for x in g:\n",
    "        yield x, x"
   ]
  },
  {
   "cell_type": "code",
   "execution_count": null,
   "id": "qualified-granny",
   "metadata": {},
   "outputs": [],
   "source": [
    "bench.accept_source_of_truth(doublem(bend_gen()))\n",
    "bench.training_batch_cluster(2)"
   ]
  },
  {
   "cell_type": "code",
   "execution_count": null,
   "id": "continental-situation",
   "metadata": {},
   "outputs": [],
   "source": [
    "it = bend_gen()\n",
    "ins = [next(it) for i in range(16)]\n",
    "fig, ax = plt.subplots()\n",
    "_ = [ax.plot(ins[i], label=f\"{i}\") for i in range(len(ins))]\n",
    "ax.set_xlabel('x')\n",
    "ax.set_ylabel('y')\n",
    "_ = ax.set_title(\"examples\")\n",
    "#ax.set_yscale('log')\n",
    "#ax.legend()       "
   ]
  },
  {
   "cell_type": "code",
   "execution_count": null,
   "id": "talented-wrestling",
   "metadata": {},
   "outputs": [],
   "source": [
    "bench.randomize_net()"
   ]
  },
  {
   "cell_type": "code",
   "execution_count": null,
   "id": "tamil-slovenia",
   "metadata": {},
   "outputs": [],
   "source": [
    "%%prun -l 30\n",
    "net.eta = 0.001\n",
    "vis.plot_learning(10000, 16)"
   ]
  },
  {
   "cell_type": "code",
   "execution_count": null,
   "id": "inside-contamination",
   "metadata": {},
   "outputs": [],
   "source": [
    "net.eta = 0.0005\n",
    "vis.plot_learning(20000, 16)"
   ]
  },
  {
   "cell_type": "code",
   "execution_count": null,
   "id": "administrative-viking",
   "metadata": {},
   "outputs": [],
   "source": [
    "bench.rollback_net()\n",
    "net.eta = 0.001\n",
    "learned_track = bench.learn_track(100000, 16)"
   ]
  },
  {
   "cell_type": "code",
   "execution_count": null,
   "id": "varied-location",
   "metadata": {},
   "outputs": [],
   "source": [
    "traja = bench.analyze_learning_track(learned_track)\n",
    "vis.plot_trajectory(traja)"
   ]
  },
  {
   "cell_type": "code",
   "execution_count": null,
   "id": "musical-master",
   "metadata": {},
   "outputs": [],
   "source": [
    "vis.knobs_plot_learning(1000, 16)"
   ]
  },
  {
   "cell_type": "code",
   "execution_count": null,
   "id": "binary-bowling",
   "metadata": {},
   "outputs": [],
   "source": [
    "bench.rollback_net() if True else bench.randomize_net()\n",
    "rates = np.logspace(-7, -5.5, base=2, num=100)\n",
    "cube = bench.learn_loss_cube(1000, rates)\n",
    "vis.plot_loss_cube()"
   ]
  },
  {
   "cell_type": "code",
   "execution_count": null,
   "id": "ideal-audit",
   "metadata": {},
   "outputs": [],
   "source": [
    "net = Network()\n",
    "net.extend(AffineLayer(8,8))\n",
    "net.extend(MapLayer(np.tanh, lambda d: 1.0 - np.tanh(d)**2))\n",
    "nets.append(net)"
   ]
  },
  {
   "cell_type": "markdown",
   "id": "closed-denmark",
   "metadata": {},
   "source": [
    "# Manifold\n",
    "We adopt the a"
   ]
  },
  {
   "cell_type": "code",
   "execution_count": null,
   "id": "acknowledged-nepal",
   "metadata": {},
   "outputs": [],
   "source": [
    "%whos"
   ]
  },
  {
   "cell_type": "code",
   "execution_count": null,
   "id": "russian-authorization",
   "metadata": {},
   "outputs": [],
   "source": []
  }
 ],
 "metadata": {
  "kernelspec": {
   "display_name": "Python 3",
   "language": "python",
   "name": "python3"
  },
  "language_info": {
   "codemirror_mode": {
    "name": "ipython",
    "version": 3
   },
   "file_extension": ".py",
   "mimetype": "text/x-python",
   "name": "python",
   "nbconvert_exporter": "python",
   "pygments_lexer": "ipython3",
   "version": "3.8.6"
  }
 },
 "nbformat": 4,
 "nbformat_minor": 5
}
