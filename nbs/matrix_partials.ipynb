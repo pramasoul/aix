{
 "cells": [
  {
   "cell_type": "markdown",
   "metadata": {},
   "source": [
    "# Partials etc involving matricies"
   ]
  },
  {
   "cell_type": "markdown",
   "metadata": {},
   "source": [
    "## Preliminaries"
   ]
  },
  {
   "cell_type": "code",
   "execution_count": 1,
   "metadata": {},
   "outputs": [],
   "source": [
    "#%matplotlib widget\n",
    "%matplotlib inline\n",
    "%load_ext autoreload\n",
    "%autoreload 2"
   ]
  },
  {
   "cell_type": "code",
   "execution_count": 2,
   "metadata": {},
   "outputs": [],
   "source": [
    "import numpy as np\n",
    "import matplotlib.pyplot as plt\n",
    "import sympy"
   ]
  },
  {
   "cell_type": "markdown",
   "metadata": {},
   "source": [
    "### A few ways to get test numpy arrays"
   ]
  },
  {
   "cell_type": "code",
   "execution_count": 3,
   "metadata": {},
   "outputs": [
    {
     "data": {
      "text/plain": [
       "(array([0, 1, 2]), array([4, 5, 6, 7]), array([5, 3]))"
      ]
     },
     "execution_count": 3,
     "metadata": {},
     "output_type": "execute_result"
    }
   ],
   "source": [
    "np.arange(3), np.arange(4,8), np.arange(5,1,-2)"
   ]
  },
  {
   "cell_type": "markdown",
   "metadata": {},
   "source": [
    "For experiments with multiplication, arrays of primes may be helpful:"
   ]
  },
  {
   "cell_type": "code",
   "execution_count": 4,
   "metadata": {},
   "outputs": [],
   "source": [
    "def arangep(n, starting_index=0):\n",
    "    sympy.sieve.extend_to_no(starting_index + n)\n",
    "    return np.array(sympy.sieve._list[starting_index:starting_index + n])"
   ]
  },
  {
   "cell_type": "code",
   "execution_count": 5,
   "metadata": {},
   "outputs": [
    {
     "data": {
      "text/plain": [
       "(array([ 2,  3,  5,  7, 11]), array([ 5,  7, 11, 13]))"
      ]
     },
     "execution_count": 5,
     "metadata": {},
     "output_type": "execute_result"
    }
   ],
   "source": [
    "arangep(5), arangep(4,2)"
   ]
  },
  {
   "cell_type": "code",
   "execution_count": 6,
   "metadata": {},
   "outputs": [
    {
     "data": {
      "text/plain": [
       "(array([[2, 3],\n",
       "        [5, 7]]),\n",
       " array([11, 13]))"
      ]
     },
     "execution_count": 6,
     "metadata": {},
     "output_type": "execute_result"
    }
   ],
   "source": [
    "M = arangep(4).reshape(2,2)\n",
    "x = arangep(2,4)\n",
    "# x = np.arange(2)+1\n",
    "M,x"
   ]
  },
  {
   "cell_type": "markdown",
   "metadata": {},
   "source": [
    "## Einstein summation notation"
   ]
  },
  {
   "cell_type": "markdown",
   "metadata": {},
   "source": [
    "Numpy provides [Einstein summation](https://mathworld.wolfram.com/EinsteinSummation.html) operations with [einsum](https://numpy.org/devdocs/reference/generated/numpy.einsum.html)\n",
    "1. Repeated indices are implicitly summed over.\n",
    "1. Each index can appear at most twice in any term.\n",
    "1. Each term must contain identical non-repeated indices."
   ]
  },
  {
   "cell_type": "code",
   "execution_count": 7,
   "metadata": {},
   "outputs": [],
   "source": [
    "es = np.einsum"
   ]
  },
  {
   "cell_type": "markdown",
   "metadata": {},
   "source": [
    " $$a_{ik}a_{ij} \\equiv \\sum_{i} a_{ik}a_{ij}$$"
   ]
  },
  {
   "cell_type": "code",
   "execution_count": 8,
   "metadata": {},
   "outputs": [
    {
     "data": {
      "text/plain": [
       "(array([ 61, 146]), array([ 87, 124]))"
      ]
     },
     "execution_count": 8,
     "metadata": {},
     "output_type": "execute_result"
    }
   ],
   "source": [
    "es('ij,j', M, x), es('ij,i', M, x)"
   ]
  },
  {
   "cell_type": "markdown",
   "metadata": {},
   "source": [
    "___"
   ]
  },
  {
   "cell_type": "markdown",
   "metadata": {},
   "source": [
    "# Partials"
   ]
  },
  {
   "cell_type": "markdown",
   "metadata": {},
   "source": [
    "## Preliminaries"
   ]
  },
  {
   "cell_type": "markdown",
   "metadata": {},
   "source": [
    "A matrix __M__ multiplies a (column) vector __x__ to its right to produce a (column) vector __y__:\n",
    "$$ \\mathbf{M} \\mathbf{x} = \\mathbf{y} $$\n",
    "where\n",
    "$$\n",
    "\\mathbf{x} = \\sum_{j=1}^{n} x_j \\mathbf{\\hat{x}}_j \\\\\n",
    "\\mathbf{y} = \\sum_{i=1}^{m} y_i \\mathbf{\\hat{y}}_i\n",
    "$$\n",
    "and $\\mathbf{M}$ can be written\n",
    "$$\n",
    "\\begin{bmatrix}\n",
    "    m_{1,1} & \\dots & m_{1,n} \\\\\n",
    "    \\vdots & \\ddots & \\vdots \\\\\n",
    "    m_{m,1} & \\dots & m_{m,n}\n",
    "\\end{bmatrix} \\\\\n",
    "$$"
   ]
  },
  {
   "cell_type": "markdown",
   "metadata": {},
   "source": [
    "A `python` example:"
   ]
  },
  {
   "cell_type": "code",
   "execution_count": 9,
   "metadata": {},
   "outputs": [
    {
     "data": {
      "text/plain": [
       "array([ 61, 146])"
      ]
     },
     "execution_count": 9,
     "metadata": {},
     "output_type": "execute_result"
    }
   ],
   "source": [
    "y = M @ x\n",
    "y"
   ]
  },
  {
   "cell_type": "markdown",
   "metadata": {},
   "source": [
    "Using Einstein summation notation, $y_i = m_{ij}x_j$"
   ]
  },
  {
   "cell_type": "code",
   "execution_count": 10,
   "metadata": {},
   "outputs": [
    {
     "data": {
      "text/plain": [
       "array([ 61, 146])"
      ]
     },
     "execution_count": 10,
     "metadata": {},
     "output_type": "execute_result"
    }
   ],
   "source": [
    "np.einsum('ij,j', M, x)"
   ]
  },
  {
   "cell_type": "markdown",
   "metadata": {},
   "source": [
    "## Partial derivative of a matrix multiply of a vector"
   ]
  },
  {
   "cell_type": "markdown",
   "metadata": {},
   "source": [
    "### $\\partial\\mathbf{y} / \\partial\\mathbf{x}$"
   ]
  },
  {
   "cell_type": "markdown",
   "metadata": {},
   "source": [
    "How does vector $\\mathbf{y}$ vary with vector $\\mathbf{x}$, with $M$ held constant? I.e. what is $\\partial\\mathbf{y}/\\partial\\mathbf{x}$?"
   ]
  },
  {
   "cell_type": "markdown",
   "metadata": {},
   "source": [
    "\"In general, the partial derivative of an [n-ary](http://en.wikipedia.org/wiki/Arity) function $f(x_1, \\dots, x_n)$ in the direction $x_i$ at the point $(a_1, \\dots, a_n)$ [is defined](https://en.wikipedia.org/w/index.php?title=Partial_derivative) to be:\"\n",
    "\n",
    "$$\\frac{\\partial f}{\\partial x_i}(a_1, \\ldots, a_n) = \\lim_{h \\to 0}\\frac{f(a_1, \\ldots, a_i+h,\\ldots,a_n) - f(a_1,\\ldots, a_i, \\dots,a_n)}{h} \\tag{2.1} \\label{partial}$$"
   ]
  },
  {
   "cell_type": "markdown",
   "metadata": {},
   "source": [
    "The matrix equation $\\mathbf{M} \\mathbf{x} = \\mathbf{y}$ can be written as\n",
    "$$\\begin{align}\n",
    "  \\mathbf{y} \n",
    "  &= \\mathbf{M}\\mathbf{x} \\\\\n",
    "%\\partial\\mathbf{y}/\\partial\\mathbf{x}  &= \\mathbf{F}(\\mathbf{x}) \\\\\n",
    "  &=\\sum_i y_i \\mathbf{\\hat{y}}_i \\tag{2.2} \\label{mmul} \\\\\n",
    "\\end{align}\n",
    "$$"
   ]
  },
  {
   "cell_type": "markdown",
   "metadata": {},
   "source": [
    "where\n",
    "$$\\begin{align}\n",
    "y_i &= f_i(x_1, x_2, \\dots x_n) \\\\\n",
    "  &= \\sum_j m_{ij}x_j \\tag{2.3}\n",
    "\\end{align}\n",
    "$$"
   ]
  },
  {
   "cell_type": "markdown",
   "metadata": {},
   "source": [
    "Substituting (2.3) into (2.1):\n",
    "$$ \\normalsize\n",
    "\\begin{align}\n",
    "  \\frac{\\partial y_i}{\\partial x_j} &= \\frac{\\partial f_i(x_1, x_2, \\ldots, x_n)}{\\partial x_j} \\\\\n",
    "  &= \\lim_{h \\to 0}\\frac{\n",
    "        \\sum_{k=1}^{n} m_{ik}(x_k + \\delta_{kj}h)\n",
    "      - \\sum_{k=1}^{n} m_{ik}x_k}{h} \\\\\n",
    "  &=\\lim_{h \\to 0}\\frac{\n",
    "        \\sum_{k=1}^{n} m_{ik}x_k\n",
    "      + \\sum_{k=1}^{n} m_{ik}\\delta_{kj}h\n",
    "      - \\sum_{k=1}^{n} m_{ik}x_k}{h} \\\\\n",
    "  &=\\lim_{h \\to 0}\\frac{\\sum_{k=1}^{n} m_{ik}\\delta_{kj}h\n",
    "      }{h} \\\\\n",
    "&= \\lim_{h \\to 0}\\frac{m_{ij}h}{h} \\\\\n",
    "&= m_{ij}\n",
    "\\tag{2.4}\n",
    "\\end{align}\n",
    "$$"
   ]
  },
  {
   "cell_type": "markdown",
   "metadata": {},
   "source": [
    "where $\\delta_{ij}$ is the [Kronecker delta function](https://mathworld.wolfram.com/KroneckerDelta.html):\n",
    "$$ \\delta_{ij} =\n",
    "    \\begin{cases}\n",
    "            1 &         \\text{for } i=j,\\\\\n",
    "            0 &         \\text{for } i\\neq j.\n",
    "    \\end{cases}\n",
    "$$"
   ]
  },
  {
   "cell_type": "markdown",
   "metadata": {},
   "source": [
    "Hence __[FIXME: justify]__\n",
    "$$ \\partial\\mathbf{y} = \\mathbf{M}\\partial\\mathbf{x} \\\\\n",
    "\\frac{\\partial\\mathbf{y}}{\\partial\\mathbf{x}} = \\mathbf{M} \\tag{2.5}$$"
   ]
  },
  {
   "cell_type": "markdown",
   "metadata": {},
   "source": [
    "Approximating ([2.1](#mjx-eqn-partial)) numerically with our example:"
   ]
  },
  {
   "cell_type": "code",
   "execution_count": 11,
   "metadata": {},
   "outputs": [
    {
     "data": {
      "text/plain": [
       "(array([2., 5.]), array([3., 7.]))"
      ]
     },
     "execution_count": 11,
     "metadata": {},
     "output_type": "execute_result"
    }
   ],
   "source": [
    "(M@(x + np.array([0.001, 0])) - M@x) / 0.001, (M@(x + np.array([0, 0.001])) - M@x) / 0.001"
   ]
  },
  {
   "cell_type": "markdown",
   "metadata": {},
   "source": [
    "Test (2.5) numerically:"
   ]
  },
  {
   "cell_type": "code",
   "execution_count": 18,
   "metadata": {},
   "outputs": [
    {
     "data": {
      "text/plain": [
       "1.6722287350616936e-30"
      ]
     },
     "execution_count": 18,
     "metadata": {},
     "output_type": "execute_result"
    }
   ],
   "source": [
    "max(err.dot(err)\n",
    "    for err in (((M@(x + veps) - M@x) - M@veps)\n",
    "              for M,x,veps in ((np.random.randn(2,2), np.random.randn(2), np.random.randn(2) * 0.001)\n",
    "                          for i in range(1000))))"
   ]
  },
  {
   "cell_type": "markdown",
   "metadata": {},
   "source": [
    "### $\\partial\\mathbf{y} / \\partial\\mathbf{M}$"
   ]
  },
  {
   "cell_type": "markdown",
   "metadata": {},
   "source": [
    "How does vector $\\mathbf{y}$ vary with matrix $M$, with vector $\\mathbf{x}$ held constant? I.e. what is $\\partial\\mathbf{y}/\\partial\\mathbf{M}$?"
   ]
  },
  {
   "cell_type": "markdown",
   "metadata": {},
   "source": [
    "From (2.3):\n",
    "$$\\begin{align}\n",
    " y_i &= \\sum_j m_{ij}x_j \\\\\n",
    " \\partial y_i &= \\sum_j \\partial m_{ij}x_j \\\\\n",
    "% \\frac{\\partial y_i}{\\partial M_{ij}} &= 2\n",
    "\\end{align}\n",
    "$$"
   ]
  },
  {
   "cell_type": "markdown",
   "metadata": {},
   "source": [
    "Then _[explain]_\n",
    "$$\n",
    " \\partial\\mathbf{y} = \\partial\\mathbf{M}\\mathbf{x} \\\\\n",
    " \\frac{\\partial\\mathbf{y}}{\\partial\\mathbf{M}} = \\mathbf{x}\n",
    "$$"
   ]
  },
  {
   "cell_type": "markdown",
   "metadata": {},
   "source": [
    "Numeric demonstration"
   ]
  },
  {
   "cell_type": "code",
   "execution_count": 13,
   "metadata": {},
   "outputs": [
    {
     "data": {
      "text/plain": [
       "(array([[2, 3],\n",
       "        [5, 7]]),\n",
       " array([11, 13]),\n",
       " array([ 61, 146]))"
      ]
     },
     "execution_count": 13,
     "metadata": {},
     "output_type": "execute_result"
    }
   ],
   "source": [
    "M, x, M@x"
   ]
  },
  {
   "cell_type": "code",
   "execution_count": 14,
   "metadata": {},
   "outputs": [
    {
     "data": {
      "text/plain": [
       "(array([[1, 0],\n",
       "        [0, 0]]),\n",
       " array([[0, 1],\n",
       "        [0, 0]]),\n",
       " array([[0, 0],\n",
       "        [1, 0]]),\n",
       " array([[0, 0],\n",
       "        [0, 1]]))"
      ]
     },
     "execution_count": 14,
     "metadata": {},
     "output_type": "execute_result"
    }
   ],
   "source": [
    "k11 = np.array([[1, 0], [0, 0]])\n",
    "k12 = np.fliplr(k11)\n",
    "k21 = np.flipud(k11)\n",
    "k22 = np.fliplr(k21)\n",
    "singles = (k11, k12, k21, k22)\n",
    "singles"
   ]
  },
  {
   "cell_type": "code",
   "execution_count": 15,
   "metadata": {},
   "outputs": [
    {
     "data": {
      "text/plain": [
       "[array([11.,  0.]), array([13.,  0.]), array([ 0., 11.]), array([ 0., 13.])]"
      ]
     },
     "execution_count": 15,
     "metadata": {},
     "output_type": "execute_result"
    }
   ],
   "source": [
    "[((M+(e*0.001))@x - M@x) / 0.001 for e in singles]"
   ]
  },
  {
   "cell_type": "code",
   "execution_count": 16,
   "metadata": {},
   "outputs": [
    {
     "data": {
      "text/plain": [
       "[array([11,  0]), array([13,  0]), array([ 0, 11]), array([ 0, 13])]"
      ]
     },
     "execution_count": 16,
     "metadata": {},
     "output_type": "execute_result"
    }
   ],
   "source": [
    "[e@x for e in singles]"
   ]
  },
  {
   "cell_type": "markdown",
   "metadata": {},
   "source": [
    "Test numerically: Create random vector x and random M and dM matricies. Use an approximation of (2.1) to estimate\n",
    "$\\partial\\mathbf{y}/\\partial\\mathbf{M}$ numerically, and compare to $\\partial\\mathbf{M}\\mathbf{x}$. Find the maximum squared error in a number of random trials."
   ]
  },
  {
   "cell_type": "code",
   "execution_count": 23,
   "metadata": {},
   "outputs": [
    {
     "data": {
      "text/plain": [
       "2.103932709864864e-24"
      ]
     },
     "execution_count": 23,
     "metadata": {},
     "output_type": "execute_result"
    }
   ],
   "source": [
    "max(v.dot(v)\n",
    "    for v in (dM@x - (((M+(dM*0.001))@x - M@x) / 0.001)\n",
    "              for M,dM,x in ((np.random.randn(2,2), np.random.randn(2,2), np.random.randn(2))\n",
    "                          for i in range(1000))))"
   ]
  },
  {
   "cell_type": "markdown",
   "metadata": {},
   "source": [
    "# END\n",
    "---"
   ]
  }
 ],
 "metadata": {
  "kernelspec": {
   "display_name": "Python 3",
   "language": "python",
   "name": "python3"
  },
  "language_info": {
   "codemirror_mode": {
    "name": "ipython",
    "version": 3
   },
   "file_extension": ".py",
   "mimetype": "text/x-python",
   "name": "python",
   "nbconvert_exporter": "python",
   "pygments_lexer": "ipython3",
   "version": "3.7.9"
  }
 },
 "nbformat": 4,
 "nbformat_minor": 4
}
