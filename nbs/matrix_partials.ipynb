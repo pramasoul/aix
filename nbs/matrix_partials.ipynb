{
 "cells": [
  {
   "cell_type": "markdown",
   "metadata": {},
   "source": [
    "# Partials etc involving matricies"
   ]
  },
  {
   "cell_type": "markdown",
   "metadata": {},
   "source": [
    "## Preliminaries"
   ]
  },
  {
   "cell_type": "code",
   "execution_count": null,
   "metadata": {},
   "outputs": [],
   "source": [
    "#%matplotlib widget\n",
    "%matplotlib inline\n",
    "%load_ext autoreload\n",
    "%autoreload 2"
   ]
  },
  {
   "cell_type": "code",
   "execution_count": null,
   "metadata": {},
   "outputs": [],
   "source": [
    "import numpy as np\n",
    "import matplotlib.pyplot as plt\n",
    "import sympy"
   ]
  },
  {
   "cell_type": "markdown",
   "metadata": {},
   "source": [
    "### A few ways to get test numpy arrays"
   ]
  },
  {
   "cell_type": "code",
   "execution_count": null,
   "metadata": {},
   "outputs": [],
   "source": [
    "np.arange(3), np.arange(4,8), np.arange(5,1,-2)"
   ]
  },
  {
   "cell_type": "markdown",
   "metadata": {},
   "source": [
    "For experiments with multiplication, arrays of primes may be helpful:"
   ]
  },
  {
   "cell_type": "code",
   "execution_count": null,
   "metadata": {},
   "outputs": [],
   "source": [
    "def arangep(n, starting_index=0):\n",
    "    sympy.sieve.extend_to_no(starting_index + n)\n",
    "    return np.array(sympy.sieve._list[starting_index:starting_index + n])"
   ]
  },
  {
   "cell_type": "code",
   "execution_count": null,
   "metadata": {},
   "outputs": [],
   "source": [
    "arangep(5), arangep(4,2)"
   ]
  },
  {
   "cell_type": "code",
   "execution_count": null,
   "metadata": {},
   "outputs": [],
   "source": [
    "M = arangep(4).reshape(2,2)\n",
    "x = arangep(2,4)\n",
    "# x = np.arange(2)+1\n",
    "M,x"
   ]
  },
  {
   "cell_type": "markdown",
   "metadata": {},
   "source": [
    "## Einstein summation notation"
   ]
  },
  {
   "cell_type": "markdown",
   "metadata": {},
   "source": [
    "Numpy provides [Einstein summation](https://mathworld.wolfram.com/EinsteinSummation.html) operations with [einsum](https://numpy.org/devdocs/reference/generated/numpy.einsum.html)\n",
    "1. Repeated indices are implicitly summed over.\n",
    "1. Each index can appear at most twice in any term.\n",
    "1. Each term must contain identical non-repeated indices."
   ]
  },
  {
   "cell_type": "code",
   "execution_count": null,
   "metadata": {},
   "outputs": [],
   "source": [
    "es = np.einsum"
   ]
  },
  {
   "cell_type": "markdown",
   "metadata": {},
   "source": [
    " $$a_{ik}a_{ij} \\equiv \\sum_{i} a_{ik}a_{ij}$$"
   ]
  },
  {
   "cell_type": "code",
   "execution_count": null,
   "metadata": {},
   "outputs": [],
   "source": [
    "es('ij,j', M, x), es('ij,i', M, x)"
   ]
  },
  {
   "cell_type": "markdown",
   "metadata": {},
   "source": [
    "___"
   ]
  },
  {
   "cell_type": "markdown",
   "metadata": {},
   "source": [
    "# Partials"
   ]
  },
  {
   "cell_type": "markdown",
   "metadata": {},
   "source": [
    "## Preliminaries"
   ]
  },
  {
   "cell_type": "markdown",
   "metadata": {},
   "source": [
    "A matrix __M__ multiplies a (column) vector __x__ to its right to produce a (column) vector __y__:\n",
    "$$ \\normalsize \\mathbf{M} \\mathbf{x} = \\mathbf{y} $$\n",
    "where\n",
    "$$ \\normalsize\n",
    "\\mathbf{x} = \\sum_{j=1}^{n} x_j \\mathbf{\\hat{x}}_j \\\\\n",
    "\\mathbf{y} = \\sum_{i=1}^{m} y_i \\mathbf{\\hat{y}}_i\n",
    "$$\n",
    "and $\\mathbf{M}$ can be written\n",
    "$$ \\normalsize\n",
    "\\begin{bmatrix}\n",
    "    m_{1,1} & \\dots & m_{1,n} \\\\\n",
    "    \\vdots & \\ddots & \\vdots \\\\\n",
    "    m_{m,1} & \\dots & m_{m,n}\n",
    "\\end{bmatrix} \\\\\n",
    "$$"
   ]
  },
  {
   "cell_type": "markdown",
   "metadata": {},
   "source": [
    "A `python` example:"
   ]
  },
  {
   "cell_type": "code",
   "execution_count": null,
   "metadata": {},
   "outputs": [],
   "source": [
    "y = M @ x\n",
    "y"
   ]
  },
  {
   "cell_type": "markdown",
   "metadata": {},
   "source": [
    "Using Einstein summation notation, $y_i = m_{ij}x_j$"
   ]
  },
  {
   "cell_type": "code",
   "execution_count": null,
   "metadata": {},
   "outputs": [],
   "source": [
    "np.einsum('ij,j', M, x)"
   ]
  },
  {
   "cell_type": "markdown",
   "metadata": {},
   "source": [
    "## Partial derivative of a matrix multiply of a vector"
   ]
  },
  {
   "cell_type": "markdown",
   "metadata": {},
   "source": [
    "Wikipedia [defines](https://en.wikipedia.org/wiki/Partial_derivative#Formal_definition) the partial derivative thus: \\\n",
    "Let _U_ be an open subset of $\\mathbb{R}^n$ and ${\\displaystyle f:U\\to \\mathbb {R} }$ a function. The partial derivative of _f_ at the point ${\\displaystyle \\mathbf {a} =(a_{1},\\ldots ,a_{n})\\in U}$ with respect to the _i_-th variable $x_i$ is defined as\n",
    "\n",
    "<math>\\begin{align}\n",
    "\\frac{\\partial }{\\partial x_i }f(\\mathbf{a}) & = \\lim_{h \\to 0} \\frac{f(a_1, \\ldots , a_{i-1}, a_i+h, a_{i+1}, \\ldots ,a_n) -\n",
    "f(a_1, \\ldots, a_i, \\dots ,a_n)}{h} \\\\ \n",
    "& = \\lim_{h \\to 0} \\frac{f(\\mathbf{a}+he_i) -\n",
    "f(\\mathbf{a})}{h} \\tag{2.1}\n",
    "\\end{align}</math>"
   ]
  },
  {
   "cell_type": "markdown",
   "metadata": {},
   "source": [
    "Where $f(\\mathbf{a})$ is linear, $f(\\mathbf{a}+he_i) = f(\\mathbf{a}) + f(he_i) = f(\\mathbf{a}) + h f(e_i)$, and we have\n",
    "$$ \\begin{align} \\\\\n",
    "\\frac{\\partial }{\\partial x_i }f(\\mathbf{a}) &= \\lim_{h \\to 0} \\frac{f(\\mathbf{a}+he_i) - f(\\mathbf{a})}{h} \\\\\n",
    " & = \\lim_{h \\to 0} \\frac{f(\\mathbf{a}) + h f(e_i) - f(\\mathbf{a})}{h} \\\\\n",
    " & = \\lim_{h \\to 0} \\frac{h f(e_i)}{h} \\\\\n",
    " & = \\lim_{h \\to 0} {f(e_i)} \\\\\n",
    " &= f(e_i) \\tag{2.2}\n",
    "\\end{align}\n",
    "$$"
   ]
  },
  {
   "cell_type": "markdown",
   "metadata": {},
   "source": [
    "### $\\partial\\mathbf{y} / \\partial\\mathbf{x}$"
   ]
  },
  {
   "cell_type": "markdown",
   "metadata": {},
   "source": [
    "How does vector $\\mathbf{y}$ vary with vector $\\mathbf{x}$, with $M$ held constant? I.e. what is $\\partial\\mathbf{y}/\\partial\\mathbf{x}$?"
   ]
  },
  {
   "cell_type": "markdown",
   "metadata": {},
   "source": [
    "With\n",
    "$$ %\\normalsize\n",
    "\\mathbf{x} = \\sum_{j=1}^{n} x_j \\mathbf{\\hat{x}}_j, \\;\\;\n",
    "\\mathbf{y} = \\sum_{i=1}^{m} y_i \\mathbf{\\hat{y}}_i\n",
    "$$"
   ]
  },
  {
   "cell_type": "markdown",
   "metadata": {},
   "source": [
    "The matrix equation $\\mathbf{y} = \\mathbf{M} \\mathbf{x}$ can be written as\n",
    "$$ \\normalsize\n",
    "\\begin{align}\n",
    "\\mathbf{y} &= \\sum_i y_i \\mathbf{\\hat{y}}_i \n",
    "  = \\mathbf{M}\\mathbf{x}  \\tag{2.3} \\label{mmul}\n",
    "\\end{align}\n",
    "$$\n",
    "where\n",
    "$$ \\normalsize\n",
    "\\begin{align}\n",
    "y_i &= f_i(x_1, x_2, \\dots x_n) \\\\[6pt]\n",
    "  &= \\sum_j m_{ij}x_j \\tag{2.4}\n",
    "\\end{align}\n",
    "$$"
   ]
  },
  {
   "cell_type": "markdown",
   "metadata": {},
   "source": [
    "We have\n",
    "$$ \\normalsize\n",
    "\\begin{align}\n",
    " \\frac{\\partial\\mathbf{y}}{\\partial\\mathbf{x}}\n",
    " &= \\frac{\\partial\\sum_{i=1}^{m} y_i \\mathbf{\\hat{y}}_i}{\\partial\\mathbf{x}} \\\\[10pt]\n",
    " &= \\frac{\\partial\\sum_{i=1}^{m} f_i(x_1, x_2, \\dots x_n) \\mathbf{\\hat{y}}_i}{\\partial\\mathbf{x}} \\\\[10pt]\n",
    " &= \\sum_{i=1}^{m} \\frac{\\sum_{j=1}^{n} \\partial(m_{ij}x_j) \\mathbf{\\hat{y}}_i}{{\\partial x_j} \\mathbf{\\hat{x}_j}} \\\\[10pt]\n",
    " &= \\sum_{i=1}^{m}\n",
    "     \\sum_{j=1}^{n} \n",
    "      \\frac{\\partial(m_{ij}x_j)}\n",
    "           {\\partial x_j} \n",
    "        \\frac{\\mathbf{\\hat{y}}_i}{\\mathbf{\\hat{x}_j}}  \\\\[10pt]\n",
    " &= \\sum_{i=1}^{m}\n",
    "     \\sum_{j=1}^{n} m_{ij}\n",
    "      \\frac{\\partial x_j}\n",
    "           {\\partial x_j} \n",
    "        \\frac{\\mathbf{\\hat{y}}_i}{\\mathbf{\\hat{x}_j}}  \\\\[10pt]\n",
    " &= \\sum_{i=1}^{m}\n",
    "     \\sum_{j=1}^{n} m_{ij}\n",
    "      \\frac{\\mathbf{\\hat{y}}_i}{\\mathbf{\\hat{x}_j}}  \\\\[10pt]\n",
    "\\end{align}\n",
    "$$"
   ]
  },
  {
   "cell_type": "markdown",
   "metadata": {},
   "source": [
    "The basis vectors for $\\partial\\mathbf{y} / \\partial\\mathbf{x}$ are $\\mathbf{\\hat{y}}_i / \\mathbf{\\hat{x}_j}$. We can array the components in a matrix to say \\\n",
    "\\\n",
    "$$ \\normalsize\n",
    "\\frac{\\partial \\mathbf{y}}{\\partial \\mathbf{x}} =\n",
    "%\\large\n",
    "\\begin{bmatrix}\n",
    "m_{1,1}\\frac{\\mathbf{\\hat{y}}_1}{\\mathbf{\\hat{x}_1}} & \\cdots &\n",
    "m_{1,n}\\frac{\\mathbf{\\hat{y}}_1}{\\mathbf{\\hat{x}_n}} \\\\\n",
    "\\vdots & \\ddots & \\vdots \\\\\n",
    "m_{m,1}\\frac{\\mathbf{\\hat{y}}_n}{\\mathbf{\\hat{x}_1}} & \\cdots &\n",
    "m_{m,n}\\frac{\\mathbf{\\hat{y}}_m}{\\mathbf{\\hat{x}_n}}\n",
    "\\end{bmatrix}\n",
    "$$"
   ]
  },
  {
   "cell_type": "markdown",
   "metadata": {},
   "source": [
    "Then\n",
    "\\\n",
    "$$ \\normalsize\n",
    "\\partial \\mathbf{y} =\n",
    "%\\large\n",
    "\\begin{bmatrix}\n",
    "m_{1,1}\\frac{\\mathbf{\\hat{y}}_1}{\\mathbf{\\hat{x}_1}} & \\cdots &\n",
    "m_{1,n}\\frac{\\mathbf{\\hat{y}}_1}{\\mathbf{\\hat{x}_n}} \\\\\n",
    "\\vdots & \\ddots & \\vdots \\\\\n",
    "m_{m,1}\\frac{\\mathbf{\\hat{y}}_n}{\\mathbf{\\hat{x}_1}} & \\cdots &\n",
    "m_{m,n}\\frac{\\mathbf{\\hat{y}}_m}{\\mathbf{\\hat{x}_n}}\n",
    "\\end{bmatrix}\n",
    "\\partial \\mathbf{x}\n",
    "$$\n",
    "and\n",
    "$$ \\normalsize\n",
    "\\begin{align}\n",
    "\\partial \\mathbf{x} &=\n",
    "%\\large\n",
    "\\begin{bmatrix}\n",
    "m_{1,1}\\frac{\\mathbf{\\hat{y}}_1}{\\mathbf{\\hat{x}_1}} & \\cdots &\n",
    "m_{1,n}\\frac{\\mathbf{\\hat{y}}_1}{\\mathbf{\\hat{x}_n}} \\\\\n",
    "\\vdots & \\ddots & \\vdots \\\\\n",
    "m_{m,1}\\frac{\\mathbf{\\hat{y}}_n}{\\mathbf{\\hat{x}_1}} & \\cdots &\n",
    "m_{m,n}\\frac{\\mathbf{\\hat{y}}_m}{\\mathbf{\\hat{x}_n}}\n",
    "\\end{bmatrix}^\\mathsf{T}\n",
    "\\partial\\mathbf{y} \\\\[10pt]\n",
    "&=\n",
    "%\\large\n",
    "\\begin{bmatrix}\n",
    "m_{1,1}\\frac{\\mathbf{\\hat{x}}_1}{\\mathbf{\\hat{y}_1}} & \\cdots &\n",
    "m_{m,1}\\frac{\\mathbf{\\hat{x}}_1}{\\mathbf{\\hat{y}_m}} \\\\\n",
    "\\vdots & \\ddots & \\vdots \\\\\n",
    "m_{1,n}\\frac{\\mathbf{\\hat{x}}_n}{\\mathbf{\\hat{y}_1}} & \\cdots &\n",
    "m_{m,n}\\frac{\\mathbf{\\hat{x}}_n}{\\mathbf{\\hat{y}_m}}\n",
    "\\end{bmatrix}\n",
    "\\partial\\mathbf{y}\n",
    "\\end{align}\n",
    "$$"
   ]
  },
  {
   "cell_type": "markdown",
   "metadata": {},
   "source": [
    "Approximating ([2.1](#mjx-eqn-partial)) numerically with our example:"
   ]
  },
  {
   "cell_type": "code",
   "execution_count": null,
   "metadata": {},
   "outputs": [],
   "source": [
    "M, (M@(x + np.array([0.001, 0])) - M@x) / 0.001, (M@(x + np.array([0, 0.001])) - M@x) / 0.001"
   ]
  },
  {
   "cell_type": "markdown",
   "metadata": {},
   "source": [
    "Test (2.5) numerically:"
   ]
  },
  {
   "cell_type": "code",
   "execution_count": null,
   "metadata": {},
   "outputs": [],
   "source": [
    "max(err.dot(err)\n",
    "    for err in (((M@(x + veps) - M@x) - M@veps)\n",
    "              for M,x,veps in ((np.random.randn(2,2), np.random.randn(2), np.random.randn(2) * 0.001)\n",
    "                          for i in range(1000))))"
   ]
  },
  {
   "cell_type": "markdown",
   "metadata": {},
   "source": [
    "### $\\partial\\mathbf{y} / \\partial\\mathbf{M}$"
   ]
  },
  {
   "cell_type": "markdown",
   "metadata": {},
   "source": [
    "How does vector $\\mathbf{y}$ vary with matrix $M$, with vector $\\mathbf{x}$ held constant? I.e. what is $\\partial\\mathbf{y}/\\partial\\mathbf{M}$?"
   ]
  },
  {
   "cell_type": "markdown",
   "metadata": {},
   "source": [
    "From (2.3):\n",
    "$$\\begin{align}\n",
    " y_i &= \\sum_j m_{ij}x_j \\\\\n",
    " \\partial y_i &= \\sum_j \\partial m_{ij}x_j \\\\\n",
    "% \\frac{\\partial y_i}{\\partial M_{ij}} &= 2\n",
    "\\end{align}\n",
    "$$"
   ]
  },
  {
   "cell_type": "markdown",
   "metadata": {},
   "source": [
    "Then _[explain]_\n",
    "$$\n",
    " \\partial\\mathbf{y} = \\partial\\mathbf{M}\\mathbf{x} \\\\\n",
    " \\frac{\\partial\\mathbf{y}}{\\partial\\mathbf{M}} = \\mathbf{x}\n",
    "$$"
   ]
  },
  {
   "cell_type": "markdown",
   "metadata": {},
   "source": [
    "Numeric demonstration"
   ]
  },
  {
   "cell_type": "code",
   "execution_count": null,
   "metadata": {},
   "outputs": [],
   "source": [
    "M, x, M@x"
   ]
  },
  {
   "cell_type": "code",
   "execution_count": null,
   "metadata": {},
   "outputs": [],
   "source": [
    "k11 = np.array([[1, 0], [0, 0]])\n",
    "k12 = np.fliplr(k11)\n",
    "k21 = np.flipud(k11)\n",
    "k22 = np.fliplr(k21)\n",
    "singles = (k11, k12, k21, k22)\n",
    "singles"
   ]
  },
  {
   "cell_type": "code",
   "execution_count": null,
   "metadata": {},
   "outputs": [],
   "source": [
    "[((M+(e*0.001))@x - M@x) / 0.001 for e in singles]"
   ]
  },
  {
   "cell_type": "code",
   "execution_count": null,
   "metadata": {},
   "outputs": [],
   "source": [
    "[e@x for e in singles]"
   ]
  },
  {
   "cell_type": "markdown",
   "metadata": {},
   "source": [
    "Test numerically: Create random vector x and random M and dM matricies. Use an approximation of (2.1) to estimate\n",
    "$\\partial\\mathbf{y}/\\partial\\mathbf{M}$ numerically, and compare to $\\partial\\mathbf{M}\\mathbf{x}$. Find the maximum squared error in a number of random trials."
   ]
  },
  {
   "cell_type": "code",
   "execution_count": null,
   "metadata": {},
   "outputs": [],
   "source": [
    "max(v.dot(v)\n",
    "    for v in (dM@x - (((M+(dM*0.001))@x - M@x) / 0.001)\n",
    "              for M,dM,x in ((np.random.randn(2,2), np.random.randn(2,2), np.random.randn(2))\n",
    "                          for i in range(1000))))"
   ]
  },
  {
   "cell_type": "markdown",
   "metadata": {},
   "source": [
    "# END\n",
    "---"
   ]
  }
 ],
 "metadata": {
  "kernelspec": {
   "display_name": "Python 3",
   "language": "python",
   "name": "python3"
  },
  "language_info": {
   "codemirror_mode": {
    "name": "ipython",
    "version": 3
   },
   "file_extension": ".py",
   "mimetype": "text/x-python",
   "name": "python",
   "nbconvert_exporter": "python",
   "pygments_lexer": "ipython3",
   "version": "3.7.9"
  }
 },
 "nbformat": 4,
 "nbformat_minor": 4
}
